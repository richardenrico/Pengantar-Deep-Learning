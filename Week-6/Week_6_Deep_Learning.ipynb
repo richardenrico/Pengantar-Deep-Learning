{
  "nbformat": 4,
  "nbformat_minor": 0,
  "metadata": {
    "colab": {
      "name": "Week_6-Deep_Learning.ipynb",
      "provenance": [],
      "authorship_tag": "ABX9TyNaHZCYtSa2nE6QGOztbJDM",
      "include_colab_link": true
    },
    "kernelspec": {
      "name": "python3",
      "display_name": "Python 3"
    },
    "language_info": {
      "name": "python"
    }
  },
  "cells": [
    {
      "cell_type": "markdown",
      "metadata": {
        "id": "view-in-github",
        "colab_type": "text"
      },
      "source": [
        "<a href=\"https://colab.research.google.com/github/richardenrico/Pengantar-Deep-Learning/blob/main/Week_6_Deep_Learning.ipynb\" target=\"_parent\"><img src=\"https://colab.research.google.com/assets/colab-badge.svg\" alt=\"Open In Colab\"/></a>"
      ]
    },
    {
      "cell_type": "markdown",
      "source": [
        "**Week 6 - Deep Learning**\n",
        "\n",
        "Richard Enrico Sulieanto\n",
        "\n",
        "H071191055"
      ],
      "metadata": {
        "id": "fUlz-dcezVqK"
      }
    },
    {
      "cell_type": "code",
      "source": [
        "!pip install d2l"
      ],
      "metadata": {
        "colab": {
          "base_uri": "https://localhost:8080/"
        },
        "id": "DLcAVGr40623",
        "outputId": "837082b4-9e1f-4be4-ce3a-7c2ca2c5873f"
      },
      "execution_count": 1,
      "outputs": [
        {
          "output_type": "stream",
          "name": "stdout",
          "text": [
            "Requirement already satisfied: d2l in /usr/local/lib/python3.7/dist-packages (0.17.5)\n",
            "Requirement already satisfied: requests==2.25.1 in /usr/local/lib/python3.7/dist-packages (from d2l) (2.25.1)\n",
            "Requirement already satisfied: numpy==1.21.5 in /usr/local/lib/python3.7/dist-packages (from d2l) (1.21.5)\n",
            "Requirement already satisfied: matplotlib==3.5.1 in /usr/local/lib/python3.7/dist-packages (from d2l) (3.5.1)\n",
            "Requirement already satisfied: pandas==1.2.4 in /usr/local/lib/python3.7/dist-packages (from d2l) (1.2.4)\n",
            "Requirement already satisfied: jupyter==1.0.0 in /usr/local/lib/python3.7/dist-packages (from d2l) (1.0.0)\n",
            "Requirement already satisfied: nbconvert in /usr/local/lib/python3.7/dist-packages (from jupyter==1.0.0->d2l) (5.6.1)\n",
            "Requirement already satisfied: jupyter-console in /usr/local/lib/python3.7/dist-packages (from jupyter==1.0.0->d2l) (5.2.0)\n",
            "Requirement already satisfied: ipywidgets in /usr/local/lib/python3.7/dist-packages (from jupyter==1.0.0->d2l) (7.7.0)\n",
            "Requirement already satisfied: notebook in /usr/local/lib/python3.7/dist-packages (from jupyter==1.0.0->d2l) (5.3.1)\n",
            "Requirement already satisfied: ipykernel in /usr/local/lib/python3.7/dist-packages (from jupyter==1.0.0->d2l) (4.10.1)\n",
            "Requirement already satisfied: qtconsole in /usr/local/lib/python3.7/dist-packages (from jupyter==1.0.0->d2l) (5.3.0)\n",
            "Requirement already satisfied: pillow>=6.2.0 in /usr/local/lib/python3.7/dist-packages (from matplotlib==3.5.1->d2l) (7.1.2)\n",
            "Requirement already satisfied: fonttools>=4.22.0 in /usr/local/lib/python3.7/dist-packages (from matplotlib==3.5.1->d2l) (4.33.3)\n",
            "Requirement already satisfied: cycler>=0.10 in /usr/local/lib/python3.7/dist-packages (from matplotlib==3.5.1->d2l) (0.11.0)\n",
            "Requirement already satisfied: kiwisolver>=1.0.1 in /usr/local/lib/python3.7/dist-packages (from matplotlib==3.5.1->d2l) (1.4.2)\n",
            "Requirement already satisfied: python-dateutil>=2.7 in /usr/local/lib/python3.7/dist-packages (from matplotlib==3.5.1->d2l) (2.8.2)\n",
            "Requirement already satisfied: pyparsing>=2.2.1 in /usr/local/lib/python3.7/dist-packages (from matplotlib==3.5.1->d2l) (3.0.8)\n",
            "Requirement already satisfied: packaging>=20.0 in /usr/local/lib/python3.7/dist-packages (from matplotlib==3.5.1->d2l) (21.3)\n",
            "Requirement already satisfied: pytz>=2017.3 in /usr/local/lib/python3.7/dist-packages (from pandas==1.2.4->d2l) (2022.1)\n",
            "Requirement already satisfied: idna<3,>=2.5 in /usr/local/lib/python3.7/dist-packages (from requests==2.25.1->d2l) (2.10)\n",
            "Requirement already satisfied: urllib3<1.27,>=1.21.1 in /usr/local/lib/python3.7/dist-packages (from requests==2.25.1->d2l) (1.24.3)\n",
            "Requirement already satisfied: certifi>=2017.4.17 in /usr/local/lib/python3.7/dist-packages (from requests==2.25.1->d2l) (2021.10.8)\n",
            "Requirement already satisfied: chardet<5,>=3.0.2 in /usr/local/lib/python3.7/dist-packages (from requests==2.25.1->d2l) (3.0.4)\n",
            "Requirement already satisfied: typing-extensions in /usr/local/lib/python3.7/dist-packages (from kiwisolver>=1.0.1->matplotlib==3.5.1->d2l) (4.2.0)\n",
            "Requirement already satisfied: six>=1.5 in /usr/local/lib/python3.7/dist-packages (from python-dateutil>=2.7->matplotlib==3.5.1->d2l) (1.15.0)\n",
            "Requirement already satisfied: tornado>=4.0 in /usr/local/lib/python3.7/dist-packages (from ipykernel->jupyter==1.0.0->d2l) (5.1.1)\n",
            "Requirement already satisfied: jupyter-client in /usr/local/lib/python3.7/dist-packages (from ipykernel->jupyter==1.0.0->d2l) (5.3.5)\n",
            "Requirement already satisfied: ipython>=4.0.0 in /usr/local/lib/python3.7/dist-packages (from ipykernel->jupyter==1.0.0->d2l) (5.5.0)\n",
            "Requirement already satisfied: traitlets>=4.1.0 in /usr/local/lib/python3.7/dist-packages (from ipykernel->jupyter==1.0.0->d2l) (5.1.1)\n",
            "Requirement already satisfied: decorator in /usr/local/lib/python3.7/dist-packages (from ipython>=4.0.0->ipykernel->jupyter==1.0.0->d2l) (4.4.2)\n",
            "Requirement already satisfied: simplegeneric>0.8 in /usr/local/lib/python3.7/dist-packages (from ipython>=4.0.0->ipykernel->jupyter==1.0.0->d2l) (0.8.1)\n",
            "Requirement already satisfied: setuptools>=18.5 in /usr/local/lib/python3.7/dist-packages (from ipython>=4.0.0->ipykernel->jupyter==1.0.0->d2l) (57.4.0)\n",
            "Requirement already satisfied: pygments in /usr/local/lib/python3.7/dist-packages (from ipython>=4.0.0->ipykernel->jupyter==1.0.0->d2l) (2.6.1)\n",
            "Requirement already satisfied: prompt-toolkit<2.0.0,>=1.0.4 in /usr/local/lib/python3.7/dist-packages (from ipython>=4.0.0->ipykernel->jupyter==1.0.0->d2l) (1.0.18)\n",
            "Requirement already satisfied: pexpect in /usr/local/lib/python3.7/dist-packages (from ipython>=4.0.0->ipykernel->jupyter==1.0.0->d2l) (4.8.0)\n",
            "Requirement already satisfied: pickleshare in /usr/local/lib/python3.7/dist-packages (from ipython>=4.0.0->ipykernel->jupyter==1.0.0->d2l) (0.7.5)\n",
            "Requirement already satisfied: wcwidth in /usr/local/lib/python3.7/dist-packages (from prompt-toolkit<2.0.0,>=1.0.4->ipython>=4.0.0->ipykernel->jupyter==1.0.0->d2l) (0.2.5)\n",
            "Requirement already satisfied: widgetsnbextension~=3.6.0 in /usr/local/lib/python3.7/dist-packages (from ipywidgets->jupyter==1.0.0->d2l) (3.6.0)\n",
            "Requirement already satisfied: nbformat>=4.2.0 in /usr/local/lib/python3.7/dist-packages (from ipywidgets->jupyter==1.0.0->d2l) (5.3.0)\n",
            "Requirement already satisfied: ipython-genutils~=0.2.0 in /usr/local/lib/python3.7/dist-packages (from ipywidgets->jupyter==1.0.0->d2l) (0.2.0)\n",
            "Requirement already satisfied: jupyterlab-widgets>=1.0.0 in /usr/local/lib/python3.7/dist-packages (from ipywidgets->jupyter==1.0.0->d2l) (1.1.0)\n",
            "Requirement already satisfied: jupyter-core in /usr/local/lib/python3.7/dist-packages (from nbformat>=4.2.0->ipywidgets->jupyter==1.0.0->d2l) (4.10.0)\n",
            "Requirement already satisfied: jsonschema>=2.6 in /usr/local/lib/python3.7/dist-packages (from nbformat>=4.2.0->ipywidgets->jupyter==1.0.0->d2l) (4.3.3)\n",
            "Requirement already satisfied: fastjsonschema in /usr/local/lib/python3.7/dist-packages (from nbformat>=4.2.0->ipywidgets->jupyter==1.0.0->d2l) (2.15.3)\n",
            "Requirement already satisfied: pyrsistent!=0.17.0,!=0.17.1,!=0.17.2,>=0.14.0 in /usr/local/lib/python3.7/dist-packages (from jsonschema>=2.6->nbformat>=4.2.0->ipywidgets->jupyter==1.0.0->d2l) (0.18.1)\n",
            "Requirement already satisfied: importlib-metadata in /usr/local/lib/python3.7/dist-packages (from jsonschema>=2.6->nbformat>=4.2.0->ipywidgets->jupyter==1.0.0->d2l) (4.11.3)\n",
            "Requirement already satisfied: attrs>=17.4.0 in /usr/local/lib/python3.7/dist-packages (from jsonschema>=2.6->nbformat>=4.2.0->ipywidgets->jupyter==1.0.0->d2l) (21.4.0)\n",
            "Requirement already satisfied: importlib-resources>=1.4.0 in /usr/local/lib/python3.7/dist-packages (from jsonschema>=2.6->nbformat>=4.2.0->ipywidgets->jupyter==1.0.0->d2l) (5.7.1)\n",
            "Requirement already satisfied: zipp>=3.1.0 in /usr/local/lib/python3.7/dist-packages (from importlib-resources>=1.4.0->jsonschema>=2.6->nbformat>=4.2.0->ipywidgets->jupyter==1.0.0->d2l) (3.8.0)\n",
            "Requirement already satisfied: Send2Trash in /usr/local/lib/python3.7/dist-packages (from notebook->jupyter==1.0.0->d2l) (1.8.0)\n",
            "Requirement already satisfied: terminado>=0.8.1 in /usr/local/lib/python3.7/dist-packages (from notebook->jupyter==1.0.0->d2l) (0.13.3)\n",
            "Requirement already satisfied: jinja2 in /usr/local/lib/python3.7/dist-packages (from notebook->jupyter==1.0.0->d2l) (2.11.3)\n",
            "Requirement already satisfied: pyzmq>=13 in /usr/local/lib/python3.7/dist-packages (from jupyter-client->ipykernel->jupyter==1.0.0->d2l) (22.3.0)\n",
            "Requirement already satisfied: ptyprocess in /usr/local/lib/python3.7/dist-packages (from terminado>=0.8.1->notebook->jupyter==1.0.0->d2l) (0.7.0)\n",
            "Requirement already satisfied: MarkupSafe>=0.23 in /usr/local/lib/python3.7/dist-packages (from jinja2->notebook->jupyter==1.0.0->d2l) (2.0.1)\n",
            "Requirement already satisfied: defusedxml in /usr/local/lib/python3.7/dist-packages (from nbconvert->jupyter==1.0.0->d2l) (0.7.1)\n",
            "Requirement already satisfied: bleach in /usr/local/lib/python3.7/dist-packages (from nbconvert->jupyter==1.0.0->d2l) (5.0.0)\n",
            "Requirement already satisfied: testpath in /usr/local/lib/python3.7/dist-packages (from nbconvert->jupyter==1.0.0->d2l) (0.6.0)\n",
            "Requirement already satisfied: entrypoints>=0.2.2 in /usr/local/lib/python3.7/dist-packages (from nbconvert->jupyter==1.0.0->d2l) (0.4)\n",
            "Requirement already satisfied: pandocfilters>=1.4.1 in /usr/local/lib/python3.7/dist-packages (from nbconvert->jupyter==1.0.0->d2l) (1.5.0)\n",
            "Requirement already satisfied: mistune<2,>=0.8.1 in /usr/local/lib/python3.7/dist-packages (from nbconvert->jupyter==1.0.0->d2l) (0.8.4)\n",
            "Requirement already satisfied: webencodings in /usr/local/lib/python3.7/dist-packages (from bleach->nbconvert->jupyter==1.0.0->d2l) (0.5.1)\n",
            "Requirement already satisfied: qtpy>=2.0.1 in /usr/local/lib/python3.7/dist-packages (from qtconsole->jupyter==1.0.0->d2l) (2.0.1)\n"
          ]
        }
      ]
    },
    {
      "cell_type": "code",
      "source": [
        "import matplotlib.pyplot as plt\n",
        "import torch\n",
        "from torch import nn\n",
        "from torch.utils.data import DataLoader, Dataset\n",
        "%matplotlib inline\n",
        "from d2l import torch as d2l"
      ],
      "metadata": {
        "id": "5eWmAaZ41g6G"
      },
      "execution_count": 4,
      "outputs": []
    },
    {
      "cell_type": "markdown",
      "source": [
        "# 8.1. Sequence Models"
      ],
      "metadata": {
        "id": "wpkEWdAszccO"
      }
    },
    {
      "cell_type": "markdown",
      "source": [
        "## 8.1.2. Training"
      ],
      "metadata": {
        "id": "rZ4DsTb02A8G"
      }
    },
    {
      "cell_type": "code",
      "execution_count": 5,
      "metadata": {
        "colab": {
          "base_uri": "https://localhost:8080/",
          "height": 300
        },
        "id": "MgJZxpypzQvY",
        "outputId": "e43085b1-f914-46f7-f943-132b48b4b459"
      },
      "outputs": [
        {
          "output_type": "display_data",
          "data": {
            "text/plain": [
              "<Figure size 432x216 with 1 Axes>"
            ],
            "image/svg+xml": "<?xml version=\"1.0\" encoding=\"utf-8\" standalone=\"no\"?>\n<!DOCTYPE svg PUBLIC \"-//W3C//DTD SVG 1.1//EN\"\n  \"http://www.w3.org/Graphics/SVG/1.1/DTD/svg11.dtd\">\n<svg xmlns:xlink=\"http://www.w3.org/1999/xlink\" width=\"406.885938pt\" height=\"208.643329pt\" viewBox=\"0 0 406.885938 208.643329\" xmlns=\"http://www.w3.org/2000/svg\" version=\"1.1\">\n <metadata>\n  <rdf:RDF xmlns:dc=\"http://purl.org/dc/elements/1.1/\" xmlns:cc=\"http://creativecommons.org/ns#\" xmlns:rdf=\"http://www.w3.org/1999/02/22-rdf-syntax-ns#\">\n   <cc:Work>\n    <dc:type rdf:resource=\"http://purl.org/dc/dcmitype/StillImage\"/>\n    <dc:date>2022-04-30T14:19:29.690442</dc:date>\n    <dc:format>image/svg+xml</dc:format>\n    <dc:creator>\n     <cc:Agent>\n      <dc:title>Matplotlib v3.5.1, https://matplotlib.org/</dc:title>\n     </cc:Agent>\n    </dc:creator>\n   </cc:Work>\n  </rdf:RDF>\n </metadata>\n <defs>\n  <style type=\"text/css\">*{stroke-linejoin: round; stroke-linecap: butt}</style>\n </defs>\n <g id=\"figure_1\">\n  <g id=\"patch_1\">\n   <path d=\"M 0 208.643329 \nL 406.885938 208.643329 \nL 406.885938 0 \nL 0 0 \nL 0 208.643329 \nz\n\" style=\"fill: none\"/>\n  </g>\n  <g id=\"axes_1\">\n   <g id=\"patch_2\">\n    <path d=\"M 52.160938 171.087079 \nL 386.960938 171.087079 \nL 386.960938 8.007079 \nL 52.160938 8.007079 \nz\n\" style=\"fill: #ffffff\"/>\n   </g>\n   <g id=\"matplotlib.axis_1\">\n    <g id=\"xtick_1\">\n     <g id=\"line2d_1\">\n      <path d=\"M 118.852829 171.087079 \nL 118.852829 8.007079 \n\" clip-path=\"url(#pf6e9cc5f36)\" style=\"fill: none; stroke: #b0b0b0; stroke-width: 0.8; stroke-linecap: square\"/>\n     </g>\n     <g id=\"line2d_2\">\n      <defs>\n       <path id=\"mb4ee8e747e\" d=\"M 0 0 \nL 0 3.5 \n\" style=\"stroke: #000000; stroke-width: 0.8\"/>\n      </defs>\n      <g>\n       <use xlink:href=\"#mb4ee8e747e\" x=\"118.852829\" y=\"171.087079\" style=\"stroke: #000000; stroke-width: 0.8\"/>\n      </g>\n     </g>\n     <g id=\"text_1\">\n      <!-- 200 -->\n      <g transform=\"translate(109.309079 185.685516)scale(0.1 -0.1)\">\n       <defs>\n        <path id=\"DejaVuSans-32\" d=\"M 1228 531 \nL 3431 531 \nL 3431 0 \nL 469 0 \nL 469 531 \nQ 828 903 1448 1529 \nQ 2069 2156 2228 2338 \nQ 2531 2678 2651 2914 \nQ 2772 3150 2772 3378 \nQ 2772 3750 2511 3984 \nQ 2250 4219 1831 4219 \nQ 1534 4219 1204 4116 \nQ 875 4013 500 3803 \nL 500 4441 \nQ 881 4594 1212 4672 \nQ 1544 4750 1819 4750 \nQ 2544 4750 2975 4387 \nQ 3406 4025 3406 3419 \nQ 3406 3131 3298 2873 \nQ 3191 2616 2906 2266 \nQ 2828 2175 2409 1742 \nQ 1991 1309 1228 531 \nz\n\" transform=\"scale(0.015625)\"/>\n        <path id=\"DejaVuSans-30\" d=\"M 2034 4250 \nQ 1547 4250 1301 3770 \nQ 1056 3291 1056 2328 \nQ 1056 1369 1301 889 \nQ 1547 409 2034 409 \nQ 2525 409 2770 889 \nQ 3016 1369 3016 2328 \nQ 3016 3291 2770 3770 \nQ 2525 4250 2034 4250 \nz\nM 2034 4750 \nQ 2819 4750 3233 4129 \nQ 3647 3509 3647 2328 \nQ 3647 1150 3233 529 \nQ 2819 -91 2034 -91 \nQ 1250 -91 836 529 \nQ 422 1150 422 2328 \nQ 422 3509 836 4129 \nQ 1250 4750 2034 4750 \nz\n\" transform=\"scale(0.015625)\"/>\n       </defs>\n       <use xlink:href=\"#DejaVuSans-32\"/>\n       <use xlink:href=\"#DejaVuSans-30\" x=\"63.623047\"/>\n       <use xlink:href=\"#DejaVuSans-30\" x=\"127.246094\"/>\n      </g>\n     </g>\n    </g>\n    <g id=\"xtick_2\">\n     <g id=\"line2d_3\">\n      <path d=\"M 185.879856 171.087079 \nL 185.879856 8.007079 \n\" clip-path=\"url(#pf6e9cc5f36)\" style=\"fill: none; stroke: #b0b0b0; stroke-width: 0.8; stroke-linecap: square\"/>\n     </g>\n     <g id=\"line2d_4\">\n      <g>\n       <use xlink:href=\"#mb4ee8e747e\" x=\"185.879856\" y=\"171.087079\" style=\"stroke: #000000; stroke-width: 0.8\"/>\n      </g>\n     </g>\n     <g id=\"text_2\">\n      <!-- 400 -->\n      <g transform=\"translate(176.336106 185.685516)scale(0.1 -0.1)\">\n       <defs>\n        <path id=\"DejaVuSans-34\" d=\"M 2419 4116 \nL 825 1625 \nL 2419 1625 \nL 2419 4116 \nz\nM 2253 4666 \nL 3047 4666 \nL 3047 1625 \nL 3713 1625 \nL 3713 1100 \nL 3047 1100 \nL 3047 0 \nL 2419 0 \nL 2419 1100 \nL 313 1100 \nL 313 1709 \nL 2253 4666 \nz\n\" transform=\"scale(0.015625)\"/>\n       </defs>\n       <use xlink:href=\"#DejaVuSans-34\"/>\n       <use xlink:href=\"#DejaVuSans-30\" x=\"63.623047\"/>\n       <use xlink:href=\"#DejaVuSans-30\" x=\"127.246094\"/>\n      </g>\n     </g>\n    </g>\n    <g id=\"xtick_3\">\n     <g id=\"line2d_5\">\n      <path d=\"M 252.906883 171.087079 \nL 252.906883 8.007079 \n\" clip-path=\"url(#pf6e9cc5f36)\" style=\"fill: none; stroke: #b0b0b0; stroke-width: 0.8; stroke-linecap: square\"/>\n     </g>\n     <g id=\"line2d_6\">\n      <g>\n       <use xlink:href=\"#mb4ee8e747e\" x=\"252.906883\" y=\"171.087079\" style=\"stroke: #000000; stroke-width: 0.8\"/>\n      </g>\n     </g>\n     <g id=\"text_3\">\n      <!-- 600 -->\n      <g transform=\"translate(243.363133 185.685516)scale(0.1 -0.1)\">\n       <defs>\n        <path id=\"DejaVuSans-36\" d=\"M 2113 2584 \nQ 1688 2584 1439 2293 \nQ 1191 2003 1191 1497 \nQ 1191 994 1439 701 \nQ 1688 409 2113 409 \nQ 2538 409 2786 701 \nQ 3034 994 3034 1497 \nQ 3034 2003 2786 2293 \nQ 2538 2584 2113 2584 \nz\nM 3366 4563 \nL 3366 3988 \nQ 3128 4100 2886 4159 \nQ 2644 4219 2406 4219 \nQ 1781 4219 1451 3797 \nQ 1122 3375 1075 2522 \nQ 1259 2794 1537 2939 \nQ 1816 3084 2150 3084 \nQ 2853 3084 3261 2657 \nQ 3669 2231 3669 1497 \nQ 3669 778 3244 343 \nQ 2819 -91 2113 -91 \nQ 1303 -91 875 529 \nQ 447 1150 447 2328 \nQ 447 3434 972 4092 \nQ 1497 4750 2381 4750 \nQ 2619 4750 2861 4703 \nQ 3103 4656 3366 4563 \nz\n\" transform=\"scale(0.015625)\"/>\n       </defs>\n       <use xlink:href=\"#DejaVuSans-36\"/>\n       <use xlink:href=\"#DejaVuSans-30\" x=\"63.623047\"/>\n       <use xlink:href=\"#DejaVuSans-30\" x=\"127.246094\"/>\n      </g>\n     </g>\n    </g>\n    <g id=\"xtick_4\">\n     <g id=\"line2d_7\">\n      <path d=\"M 319.93391 171.087079 \nL 319.93391 8.007079 \n\" clip-path=\"url(#pf6e9cc5f36)\" style=\"fill: none; stroke: #b0b0b0; stroke-width: 0.8; stroke-linecap: square\"/>\n     </g>\n     <g id=\"line2d_8\">\n      <g>\n       <use xlink:href=\"#mb4ee8e747e\" x=\"319.93391\" y=\"171.087079\" style=\"stroke: #000000; stroke-width: 0.8\"/>\n      </g>\n     </g>\n     <g id=\"text_4\">\n      <!-- 800 -->\n      <g transform=\"translate(310.39016 185.685516)scale(0.1 -0.1)\">\n       <defs>\n        <path id=\"DejaVuSans-38\" d=\"M 2034 2216 \nQ 1584 2216 1326 1975 \nQ 1069 1734 1069 1313 \nQ 1069 891 1326 650 \nQ 1584 409 2034 409 \nQ 2484 409 2743 651 \nQ 3003 894 3003 1313 \nQ 3003 1734 2745 1975 \nQ 2488 2216 2034 2216 \nz\nM 1403 2484 \nQ 997 2584 770 2862 \nQ 544 3141 544 3541 \nQ 544 4100 942 4425 \nQ 1341 4750 2034 4750 \nQ 2731 4750 3128 4425 \nQ 3525 4100 3525 3541 \nQ 3525 3141 3298 2862 \nQ 3072 2584 2669 2484 \nQ 3125 2378 3379 2068 \nQ 3634 1759 3634 1313 \nQ 3634 634 3220 271 \nQ 2806 -91 2034 -91 \nQ 1263 -91 848 271 \nQ 434 634 434 1313 \nQ 434 1759 690 2068 \nQ 947 2378 1403 2484 \nz\nM 1172 3481 \nQ 1172 3119 1398 2916 \nQ 1625 2713 2034 2713 \nQ 2441 2713 2670 2916 \nQ 2900 3119 2900 3481 \nQ 2900 3844 2670 4047 \nQ 2441 4250 2034 4250 \nQ 1625 4250 1398 4047 \nQ 1172 3844 1172 3481 \nz\n\" transform=\"scale(0.015625)\"/>\n       </defs>\n       <use xlink:href=\"#DejaVuSans-38\"/>\n       <use xlink:href=\"#DejaVuSans-30\" x=\"63.623047\"/>\n       <use xlink:href=\"#DejaVuSans-30\" x=\"127.246094\"/>\n      </g>\n     </g>\n    </g>\n    <g id=\"xtick_5\">\n     <g id=\"line2d_9\">\n      <path d=\"M 386.960938 171.087079 \nL 386.960938 8.007079 \n\" clip-path=\"url(#pf6e9cc5f36)\" style=\"fill: none; stroke: #b0b0b0; stroke-width: 0.8; stroke-linecap: square\"/>\n     </g>\n     <g id=\"line2d_10\">\n      <g>\n       <use xlink:href=\"#mb4ee8e747e\" x=\"386.960938\" y=\"171.087079\" style=\"stroke: #000000; stroke-width: 0.8\"/>\n      </g>\n     </g>\n     <g id=\"text_5\">\n      <!-- 1000 -->\n      <g transform=\"translate(374.235937 185.685516)scale(0.1 -0.1)\">\n       <defs>\n        <path id=\"DejaVuSans-31\" d=\"M 794 531 \nL 1825 531 \nL 1825 4091 \nL 703 3866 \nL 703 4441 \nL 1819 4666 \nL 2450 4666 \nL 2450 531 \nL 3481 531 \nL 3481 0 \nL 794 0 \nL 794 531 \nz\n\" transform=\"scale(0.015625)\"/>\n       </defs>\n       <use xlink:href=\"#DejaVuSans-31\"/>\n       <use xlink:href=\"#DejaVuSans-30\" x=\"63.623047\"/>\n       <use xlink:href=\"#DejaVuSans-30\" x=\"127.246094\"/>\n       <use xlink:href=\"#DejaVuSans-30\" x=\"190.869141\"/>\n      </g>\n     </g>\n    </g>\n    <g id=\"text_6\">\n     <!-- time -->\n     <g transform=\"translate(208.264844 199.363641)scale(0.1 -0.1)\">\n      <defs>\n       <path id=\"DejaVuSans-74\" d=\"M 1172 4494 \nL 1172 3500 \nL 2356 3500 \nL 2356 3053 \nL 1172 3053 \nL 1172 1153 \nQ 1172 725 1289 603 \nQ 1406 481 1766 481 \nL 2356 481 \nL 2356 0 \nL 1766 0 \nQ 1100 0 847 248 \nQ 594 497 594 1153 \nL 594 3053 \nL 172 3053 \nL 172 3500 \nL 594 3500 \nL 594 4494 \nL 1172 4494 \nz\n\" transform=\"scale(0.015625)\"/>\n       <path id=\"DejaVuSans-69\" d=\"M 603 3500 \nL 1178 3500 \nL 1178 0 \nL 603 0 \nL 603 3500 \nz\nM 603 4863 \nL 1178 4863 \nL 1178 4134 \nL 603 4134 \nL 603 4863 \nz\n\" transform=\"scale(0.015625)\"/>\n       <path id=\"DejaVuSans-6d\" d=\"M 3328 2828 \nQ 3544 3216 3844 3400 \nQ 4144 3584 4550 3584 \nQ 5097 3584 5394 3201 \nQ 5691 2819 5691 2113 \nL 5691 0 \nL 5113 0 \nL 5113 2094 \nQ 5113 2597 4934 2840 \nQ 4756 3084 4391 3084 \nQ 3944 3084 3684 2787 \nQ 3425 2491 3425 1978 \nL 3425 0 \nL 2847 0 \nL 2847 2094 \nQ 2847 2600 2669 2842 \nQ 2491 3084 2119 3084 \nQ 1678 3084 1418 2786 \nQ 1159 2488 1159 1978 \nL 1159 0 \nL 581 0 \nL 581 3500 \nL 1159 3500 \nL 1159 2956 \nQ 1356 3278 1631 3431 \nQ 1906 3584 2284 3584 \nQ 2666 3584 2933 3390 \nQ 3200 3197 3328 2828 \nz\n\" transform=\"scale(0.015625)\"/>\n       <path id=\"DejaVuSans-65\" d=\"M 3597 1894 \nL 3597 1613 \nL 953 1613 \nQ 991 1019 1311 708 \nQ 1631 397 2203 397 \nQ 2534 397 2845 478 \nQ 3156 559 3463 722 \nL 3463 178 \nQ 3153 47 2828 -22 \nQ 2503 -91 2169 -91 \nQ 1331 -91 842 396 \nQ 353 884 353 1716 \nQ 353 2575 817 3079 \nQ 1281 3584 2069 3584 \nQ 2775 3584 3186 3129 \nQ 3597 2675 3597 1894 \nz\nM 3022 2063 \nQ 3016 2534 2758 2815 \nQ 2500 3097 2075 3097 \nQ 1594 3097 1305 2825 \nQ 1016 2553 972 2059 \nL 3022 2063 \nz\n\" transform=\"scale(0.015625)\"/>\n      </defs>\n      <use xlink:href=\"#DejaVuSans-74\"/>\n      <use xlink:href=\"#DejaVuSans-69\" x=\"39.208984\"/>\n      <use xlink:href=\"#DejaVuSans-6d\" x=\"66.992188\"/>\n      <use xlink:href=\"#DejaVuSans-65\" x=\"164.404297\"/>\n     </g>\n    </g>\n   </g>\n   <g id=\"matplotlib.axis_2\">\n    <g id=\"ytick_1\">\n     <g id=\"line2d_11\">\n      <path d=\"M 52.160938 165.358794 \nL 386.960938 165.358794 \n\" clip-path=\"url(#pf6e9cc5f36)\" style=\"fill: none; stroke: #b0b0b0; stroke-width: 0.8; stroke-linecap: square\"/>\n     </g>\n     <g id=\"line2d_12\">\n      <defs>\n       <path id=\"mf85c09f56f\" d=\"M 0 0 \nL -3.5 0 \n\" style=\"stroke: #000000; stroke-width: 0.8\"/>\n      </defs>\n      <g>\n       <use xlink:href=\"#mf85c09f56f\" x=\"52.160938\" y=\"165.358794\" style=\"stroke: #000000; stroke-width: 0.8\"/>\n      </g>\n     </g>\n     <g id=\"text_7\">\n      <!-- −1.5 -->\n      <g transform=\"translate(20.878125 169.158012)scale(0.1 -0.1)\">\n       <defs>\n        <path id=\"DejaVuSans-2212\" d=\"M 678 2272 \nL 4684 2272 \nL 4684 1741 \nL 678 1741 \nL 678 2272 \nz\n\" transform=\"scale(0.015625)\"/>\n        <path id=\"DejaVuSans-2e\" d=\"M 684 794 \nL 1344 794 \nL 1344 0 \nL 684 0 \nL 684 794 \nz\n\" transform=\"scale(0.015625)\"/>\n        <path id=\"DejaVuSans-35\" d=\"M 691 4666 \nL 3169 4666 \nL 3169 4134 \nL 1269 4134 \nL 1269 2991 \nQ 1406 3038 1543 3061 \nQ 1681 3084 1819 3084 \nQ 2600 3084 3056 2656 \nQ 3513 2228 3513 1497 \nQ 3513 744 3044 326 \nQ 2575 -91 1722 -91 \nQ 1428 -91 1123 -41 \nQ 819 9 494 109 \nL 494 744 \nQ 775 591 1075 516 \nQ 1375 441 1709 441 \nQ 2250 441 2565 725 \nQ 2881 1009 2881 1497 \nQ 2881 1984 2565 2268 \nQ 2250 2553 1709 2553 \nQ 1456 2553 1204 2497 \nQ 953 2441 691 2322 \nL 691 4666 \nz\n\" transform=\"scale(0.015625)\"/>\n       </defs>\n       <use xlink:href=\"#DejaVuSans-2212\"/>\n       <use xlink:href=\"#DejaVuSans-31\" x=\"83.789062\"/>\n       <use xlink:href=\"#DejaVuSans-2e\" x=\"147.412109\"/>\n       <use xlink:href=\"#DejaVuSans-35\" x=\"179.199219\"/>\n      </g>\n     </g>\n    </g>\n    <g id=\"ytick_2\">\n     <g id=\"line2d_13\">\n      <path d=\"M 52.160938 139.632198 \nL 386.960938 139.632198 \n\" clip-path=\"url(#pf6e9cc5f36)\" style=\"fill: none; stroke: #b0b0b0; stroke-width: 0.8; stroke-linecap: square\"/>\n     </g>\n     <g id=\"line2d_14\">\n      <g>\n       <use xlink:href=\"#mf85c09f56f\" x=\"52.160938\" y=\"139.632198\" style=\"stroke: #000000; stroke-width: 0.8\"/>\n      </g>\n     </g>\n     <g id=\"text_8\">\n      <!-- −1.0 -->\n      <g transform=\"translate(20.878125 143.431417)scale(0.1 -0.1)\">\n       <use xlink:href=\"#DejaVuSans-2212\"/>\n       <use xlink:href=\"#DejaVuSans-31\" x=\"83.789062\"/>\n       <use xlink:href=\"#DejaVuSans-2e\" x=\"147.412109\"/>\n       <use xlink:href=\"#DejaVuSans-30\" x=\"179.199219\"/>\n      </g>\n     </g>\n    </g>\n    <g id=\"ytick_3\">\n     <g id=\"line2d_15\">\n      <path d=\"M 52.160938 113.905602 \nL 386.960938 113.905602 \n\" clip-path=\"url(#pf6e9cc5f36)\" style=\"fill: none; stroke: #b0b0b0; stroke-width: 0.8; stroke-linecap: square\"/>\n     </g>\n     <g id=\"line2d_16\">\n      <g>\n       <use xlink:href=\"#mf85c09f56f\" x=\"52.160938\" y=\"113.905602\" style=\"stroke: #000000; stroke-width: 0.8\"/>\n      </g>\n     </g>\n     <g id=\"text_9\">\n      <!-- −0.5 -->\n      <g transform=\"translate(20.878125 117.704821)scale(0.1 -0.1)\">\n       <use xlink:href=\"#DejaVuSans-2212\"/>\n       <use xlink:href=\"#DejaVuSans-30\" x=\"83.789062\"/>\n       <use xlink:href=\"#DejaVuSans-2e\" x=\"147.412109\"/>\n       <use xlink:href=\"#DejaVuSans-35\" x=\"179.199219\"/>\n      </g>\n     </g>\n    </g>\n    <g id=\"ytick_4\">\n     <g id=\"line2d_17\">\n      <path d=\"M 52.160938 88.179006 \nL 386.960938 88.179006 \n\" clip-path=\"url(#pf6e9cc5f36)\" style=\"fill: none; stroke: #b0b0b0; stroke-width: 0.8; stroke-linecap: square\"/>\n     </g>\n     <g id=\"line2d_18\">\n      <g>\n       <use xlink:href=\"#mf85c09f56f\" x=\"52.160938\" y=\"88.179006\" style=\"stroke: #000000; stroke-width: 0.8\"/>\n      </g>\n     </g>\n     <g id=\"text_10\">\n      <!-- 0.0 -->\n      <g transform=\"translate(29.257812 91.978225)scale(0.1 -0.1)\">\n       <use xlink:href=\"#DejaVuSans-30\"/>\n       <use xlink:href=\"#DejaVuSans-2e\" x=\"63.623047\"/>\n       <use xlink:href=\"#DejaVuSans-30\" x=\"95.410156\"/>\n      </g>\n     </g>\n    </g>\n    <g id=\"ytick_5\">\n     <g id=\"line2d_19\">\n      <path d=\"M 52.160938 62.45241 \nL 386.960938 62.45241 \n\" clip-path=\"url(#pf6e9cc5f36)\" style=\"fill: none; stroke: #b0b0b0; stroke-width: 0.8; stroke-linecap: square\"/>\n     </g>\n     <g id=\"line2d_20\">\n      <g>\n       <use xlink:href=\"#mf85c09f56f\" x=\"52.160938\" y=\"62.45241\" style=\"stroke: #000000; stroke-width: 0.8\"/>\n      </g>\n     </g>\n     <g id=\"text_11\">\n      <!-- 0.5 -->\n      <g transform=\"translate(29.257812 66.251629)scale(0.1 -0.1)\">\n       <use xlink:href=\"#DejaVuSans-30\"/>\n       <use xlink:href=\"#DejaVuSans-2e\" x=\"63.623047\"/>\n       <use xlink:href=\"#DejaVuSans-35\" x=\"95.410156\"/>\n      </g>\n     </g>\n    </g>\n    <g id=\"ytick_6\">\n     <g id=\"line2d_21\">\n      <path d=\"M 52.160938 36.725815 \nL 386.960938 36.725815 \n\" clip-path=\"url(#pf6e9cc5f36)\" style=\"fill: none; stroke: #b0b0b0; stroke-width: 0.8; stroke-linecap: square\"/>\n     </g>\n     <g id=\"line2d_22\">\n      <g>\n       <use xlink:href=\"#mf85c09f56f\" x=\"52.160938\" y=\"36.725815\" style=\"stroke: #000000; stroke-width: 0.8\"/>\n      </g>\n     </g>\n     <g id=\"text_12\">\n      <!-- 1.0 -->\n      <g transform=\"translate(29.257812 40.525033)scale(0.1 -0.1)\">\n       <use xlink:href=\"#DejaVuSans-31\"/>\n       <use xlink:href=\"#DejaVuSans-2e\" x=\"63.623047\"/>\n       <use xlink:href=\"#DejaVuSans-30\" x=\"95.410156\"/>\n      </g>\n     </g>\n    </g>\n    <g id=\"ytick_7\">\n     <g id=\"line2d_23\">\n      <path d=\"M 52.160938 10.999219 \nL 386.960938 10.999219 \n\" clip-path=\"url(#pf6e9cc5f36)\" style=\"fill: none; stroke: #b0b0b0; stroke-width: 0.8; stroke-linecap: square\"/>\n     </g>\n     <g id=\"line2d_24\">\n      <g>\n       <use xlink:href=\"#mf85c09f56f\" x=\"52.160938\" y=\"10.999219\" style=\"stroke: #000000; stroke-width: 0.8\"/>\n      </g>\n     </g>\n     <g id=\"text_13\">\n      <!-- 1.5 -->\n      <g transform=\"translate(29.257812 14.798437)scale(0.1 -0.1)\">\n       <use xlink:href=\"#DejaVuSans-31\"/>\n       <use xlink:href=\"#DejaVuSans-2e\" x=\"63.623047\"/>\n       <use xlink:href=\"#DejaVuSans-35\" x=\"95.410156\"/>\n      </g>\n     </g>\n    </g>\n    <g id=\"text_14\">\n     <!-- x -->\n     <g transform=\"translate(14.798438 92.506454)rotate(-90)scale(0.1 -0.1)\">\n      <defs>\n       <path id=\"DejaVuSans-78\" d=\"M 3513 3500 \nL 2247 1797 \nL 3578 0 \nL 2900 0 \nL 1881 1375 \nL 863 0 \nL 184 0 \nL 1544 1831 \nL 300 3500 \nL 978 3500 \nL 1906 2253 \nL 2834 3500 \nL 3513 3500 \nz\n\" transform=\"scale(0.015625)\"/>\n      </defs>\n      <use xlink:href=\"#DejaVuSans-78\"/>\n     </g>\n    </g>\n   </g>\n   <g id=\"line2d_25\">\n    <path d=\"M 52.160938 100.299871 \nL 52.496073 83.824188 \nL 52.831208 77.744568 \nL 53.166343 85.015832 \nL 53.501478 54.301532 \nL 54.506883 101.433895 \nL 54.842019 77.162152 \nL 55.177154 80.802634 \nL 55.512289 73.852889 \nL 55.847424 90.729231 \nL 56.182559 79.30472 \nL 56.517694 83.431266 \nL 56.852829 71.20892 \nL 57.187965 89.09453 \nL 57.5231 94.376816 \nL 57.858235 83.002615 \nL 58.19337 79.050757 \nL 58.528505 78.004303 \nL 58.86364 95.605563 \nL 59.198775 87.365648 \nL 59.53391 57.155762 \nL 59.869046 95.163083 \nL 60.204181 65.018911 \nL 60.539316 78.959926 \nL 60.874451 80.609486 \nL 61.209586 68.669443 \nL 61.544721 74.54881 \nL 61.879856 86.349065 \nL 62.550127 53.099471 \nL 62.885262 70.721223 \nL 63.220397 58.416682 \nL 63.555532 67.555629 \nL 63.890667 61.2912 \nL 64.225802 77.672041 \nL 64.560938 79.799913 \nL 64.896073 87.803742 \nL 65.231208 75.507585 \nL 65.566343 69.192339 \nL 65.901478 83.86068 \nL 66.236613 64.474065 \nL 66.571748 66.371258 \nL 66.906883 76.460697 \nL 67.242019 66.401013 \nL 67.577154 63.84524 \nL 67.912289 51.938819 \nL 68.247424 44.770491 \nL 68.582559 74.494421 \nL 68.917694 53.713151 \nL 69.252829 74.233626 \nL 69.587965 70.665365 \nL 69.9231 50.327156 \nL 70.258235 48.27425 \nL 70.59337 57.386206 \nL 70.928505 54.074284 \nL 71.26364 64.309854 \nL 71.93391 56.073432 \nL 72.269046 61.291651 \nL 72.604181 57.09503 \nL 72.939316 50.108217 \nL 73.274451 66.0447 \nL 73.609586 47.303926 \nL 73.944721 50.420719 \nL 74.279856 56.316715 \nL 74.614992 53.109144 \nL 74.950127 61.308101 \nL 75.285262 49.668513 \nL 75.955532 57.598539 \nL 76.290667 60.620321 \nL 76.625802 52.821927 \nL 76.960938 41.503776 \nL 77.296073 49.297477 \nL 77.631208 51.832313 \nL 77.966343 59.491318 \nL 78.301478 52.300821 \nL 78.636613 61.991862 \nL 78.971748 52.444732 \nL 79.306883 49.604336 \nL 79.977154 32.797702 \nL 80.647424 54.205978 \nL 80.982559 42.243368 \nL 81.317694 55.109889 \nL 81.652829 47.366104 \nL 81.987965 34.971479 \nL 82.658235 51.363411 \nL 82.99337 47.770551 \nL 83.328505 40.084202 \nL 83.66364 59.023247 \nL 83.998775 62.165994 \nL 84.33391 29.941196 \nL 84.669046 27.789323 \nL 85.339316 50.543519 \nL 85.674451 50.616056 \nL 86.009586 27.015636 \nL 86.344721 61.388146 \nL 86.679856 29.334849 \nL 87.014992 40.642092 \nL 87.350127 37.801561 \nL 87.685262 44.18388 \nL 88.355532 15.604185 \nL 88.690667 38.263014 \nL 89.025802 39.189568 \nL 89.360938 53.61353 \nL 89.696073 27.446756 \nL 90.031208 47.097767 \nL 90.366343 52.753843 \nL 90.701478 47.746102 \nL 91.036613 51.746515 \nL 91.371748 39.060969 \nL 91.706883 42.393499 \nL 92.042019 47.970212 \nL 92.377154 15.419806 \nL 92.712289 43.602408 \nL 93.047424 40.709897 \nL 93.382559 48.558035 \nL 93.717694 59.154483 \nL 94.052829 37.942069 \nL 94.387965 35.089166 \nL 94.7231 48.049045 \nL 95.058235 16.834574 \nL 95.39337 26.04266 \nL 95.728505 23.008571 \nL 96.06364 44.675922 \nL 96.398775 31.201622 \nL 96.73391 34.839512 \nL 97.069046 34.64535 \nL 97.404181 46.577335 \nL 97.739316 49.820923 \nL 98.074451 35.652687 \nL 98.409586 40.402875 \nL 98.744721 36.936538 \nL 99.079856 49.463556 \nL 99.414992 37.271643 \nL 99.750127 18.238982 \nL 100.085262 29.384189 \nL 100.420397 49.342378 \nL 100.755532 18.734346 \nL 101.090667 49.215662 \nL 101.425802 51.577903 \nL 101.760938 50.675348 \nL 102.096073 43.104981 \nL 102.431208 38.867334 \nL 102.766343 54.031345 \nL 103.101478 48.25902 \nL 103.436613 32.426172 \nL 103.771748 24.048797 \nL 104.442019 36.050586 \nL 104.777154 43.991647 \nL 105.447424 27.569331 \nL 105.782559 36.953169 \nL 106.117694 35.911965 \nL 106.452829 38.1738 \nL 106.787965 32.639091 \nL 107.1231 19.709279 \nL 107.458235 38.56394 \nL 107.79337 21.028515 \nL 108.128505 39.010921 \nL 108.46364 37.719369 \nL 108.798775 54.84092 \nL 109.13391 54.194738 \nL 109.804181 32.540952 \nL 110.139316 40.200319 \nL 110.474451 25.428376 \nL 110.809586 40.970337 \nL 111.144721 35.177964 \nL 111.479856 36.57465 \nL 111.814992 28.198189 \nL 112.150127 42.423082 \nL 112.485262 33.902271 \nL 112.820397 36.332706 \nL 113.155532 51.31262 \nL 113.490667 39.050213 \nL 113.825802 44.878009 \nL 114.160938 43.51534 \nL 114.496073 32.194128 \nL 114.831208 41.180603 \nL 115.166343 40.362359 \nL 115.501478 33.092199 \nL 115.836613 32.578692 \nL 116.171748 53.433966 \nL 116.506883 50.76862 \nL 116.842019 40.67442 \nL 117.177154 45.090588 \nL 117.512289 45.635024 \nL 117.847424 34.718838 \nL 118.182559 53.587741 \nL 118.852829 38.087171 \nL 119.187965 20.208991 \nL 119.5231 52.136428 \nL 119.858235 41.93541 \nL 120.19337 40.694603 \nL 120.528505 37.072396 \nL 120.86364 40.126168 \nL 121.198775 41.2655 \nL 121.53391 39.331661 \nL 121.869046 45.107952 \nL 122.204181 46.513047 \nL 122.539316 24.995932 \nL 122.874451 40.305042 \nL 123.209586 44.45413 \nL 123.544721 42.594795 \nL 123.879856 53.713215 \nL 124.214992 29.315148 \nL 124.550127 40.586027 \nL 124.885262 73.497677 \nL 125.220397 46.658223 \nL 125.555532 40.430897 \nL 125.890667 66.423969 \nL 126.225802 40.227788 \nL 126.560938 31.932642 \nL 126.896073 54.118373 \nL 127.231208 55.691066 \nL 127.566343 43.800499 \nL 127.901478 42.823352 \nL 128.236613 42.512839 \nL 128.571748 37.7855 \nL 128.906883 51.369817 \nL 129.242019 34.664475 \nL 129.912289 57.861141 \nL 130.247424 37.930056 \nL 130.917694 56.428787 \nL 131.252829 45.600344 \nL 131.9231 63.29553 \nL 132.258235 44.247759 \nL 132.59337 63.929203 \nL 132.928505 65.715858 \nL 133.26364 52.474328 \nL 133.598775 69.463551 \nL 133.93391 46.131307 \nL 134.269046 53.938037 \nL 134.604181 56.553939 \nL 134.939316 54.506548 \nL 135.944721 58.448584 \nL 136.279856 63.782159 \nL 136.614992 78.687905 \nL 136.950127 44.7216 \nL 137.285262 52.611388 \nL 137.620397 56.858223 \nL 137.955532 58.343829 \nL 138.290667 68.455768 \nL 138.625802 71.022616 \nL 138.960938 54.613136 \nL 139.296073 60.604303 \nL 139.631208 36.373789 \nL 139.966343 78.95895 \nL 140.301478 66.47967 \nL 140.636613 68.281726 \nL 140.971748 81.927486 \nL 141.306883 61.032453 \nL 141.642019 77.846856 \nL 141.977154 72.232717 \nL 142.312289 77.564784 \nL 142.647424 69.58947 \nL 142.982559 77.787723 \nL 143.317694 89.17417 \nL 143.652829 80.452624 \nL 143.987965 75.831954 \nL 144.3231 69.137146 \nL 144.658235 72.918772 \nL 145.328505 65.43422 \nL 145.66364 75.568562 \nL 145.998775 70.672847 \nL 146.33391 62.421773 \nL 146.669046 70.268286 \nL 147.004181 67.886988 \nL 147.674451 75.887776 \nL 148.009586 81.712717 \nL 148.344721 75.22331 \nL 148.679856 66.128708 \nL 149.350127 81.8517 \nL 149.685262 74.01852 \nL 150.355532 80.882165 \nL 150.690667 76.61753 \nL 151.025802 90.693354 \nL 151.360938 65.269155 \nL 151.696073 91.281138 \nL 152.031208 95.193486 \nL 152.366343 60.082503 \nL 152.701478 82.176127 \nL 153.036613 79.907383 \nL 153.371748 86.809075 \nL 153.706883 77.124589 \nL 154.042019 82.427707 \nL 154.377154 85.38188 \nL 154.712289 92.222129 \nL 155.047424 94.410845 \nL 155.717694 73.363211 \nL 156.387965 105.815846 \nL 156.7231 95.207771 \nL 157.058235 117.145544 \nL 157.39337 82.40511 \nL 157.728505 85.997468 \nL 158.06364 68.622586 \nL 158.398775 89.959716 \nL 158.73391 70.181859 \nL 159.069046 107.73358 \nL 159.404181 87.03171 \nL 159.739316 103.530643 \nL 160.074451 83.389432 \nL 160.409586 94.029129 \nL 160.744721 108.487824 \nL 161.750127 73.244637 \nL 162.085262 82.282778 \nL 162.420397 79.455499 \nL 162.755532 109.795086 \nL 163.090667 95.139263 \nL 163.425802 108.862969 \nL 164.096073 78.582706 \nL 164.431208 109.474235 \nL 164.766343 92.155031 \nL 165.101478 98.885036 \nL 165.436613 100.389442 \nL 165.771748 96.442337 \nL 166.106883 111.012404 \nL 166.442019 115.700525 \nL 166.777154 86.063491 \nL 167.447424 115.744117 \nL 167.782559 104.111282 \nL 168.117694 96.969291 \nL 168.452829 95.600163 \nL 168.787965 91.508162 \nL 169.1231 94.60021 \nL 169.458235 106.037784 \nL 169.79337 95.521339 \nL 170.128505 96.203364 \nL 170.46364 107.717366 \nL 170.798775 105.468536 \nL 171.13391 110.599822 \nL 171.469046 129.330805 \nL 171.804181 117.999048 \nL 172.474451 106.282752 \nL 172.809586 109.8858 \nL 173.144721 110.399283 \nL 173.479856 110.385328 \nL 173.814992 128.496453 \nL 174.150127 115.176192 \nL 174.485262 107.254575 \nL 174.820397 122.858244 \nL 175.155532 113.178644 \nL 175.490667 108.279786 \nL 175.825802 116.104975 \nL 176.160938 114.197379 \nL 176.496073 120.969577 \nL 176.831208 105.982109 \nL 177.166343 118.604521 \nL 177.501478 109.418213 \nL 177.836613 117.356267 \nL 178.171748 112.720191 \nL 178.506883 120.894062 \nL 178.842019 111.843284 \nL 179.177154 113.046805 \nL 179.512289 109.440267 \nL 179.847424 129.403274 \nL 180.517694 110.784132 \nL 180.852829 143.18356 \nL 181.187965 117.6166 \nL 181.5231 121.917289 \nL 181.858235 116.855598 \nL 182.528505 147.095645 \nL 182.86364 111.653633 \nL 183.198775 125.504567 \nL 183.53391 132.64559 \nL 183.869046 110.595458 \nL 184.204181 126.177339 \nL 184.539316 100.151262 \nL 184.874451 128.193237 \nL 185.209586 130.393624 \nL 185.544721 122.488072 \nL 185.879856 129.995646 \nL 186.214992 122.526469 \nL 186.550127 128.217235 \nL 186.885262 128.844179 \nL 187.220397 123.091269 \nL 187.890667 144.107357 \nL 188.225802 137.386074 \nL 188.560938 135.597371 \nL 188.896073 145.661059 \nL 189.231208 116.697195 \nL 189.566343 156.233672 \nL 189.901478 145.921668 \nL 190.236613 142.485367 \nL 190.571748 122.589379 \nL 190.906883 150.332711 \nL 191.242019 114.425175 \nL 191.577154 135.888372 \nL 191.912289 138.334464 \nL 192.247424 138.590966 \nL 192.582559 121.417435 \nL 192.917694 137.176802 \nL 193.252829 123.971851 \nL 193.587965 126.203367 \nL 193.9231 130.277271 \nL 194.258235 139.201263 \nL 194.59337 131.078556 \nL 194.928505 144.203827 \nL 195.26364 125.381099 \nL 195.598775 128.704177 \nL 195.93391 147.128626 \nL 196.269046 144.783609 \nL 196.604181 145.276869 \nL 196.939316 124.806116 \nL 197.274451 137.67134 \nL 197.609586 129.148649 \nL 197.944721 127.484902 \nL 198.279856 145.508453 \nL 198.614992 149.76059 \nL 198.950127 135.369351 \nL 199.285262 134.450716 \nL 199.620397 140.478158 \nL 199.955532 133.402887 \nL 200.290667 129.761587 \nL 200.625802 115.698433 \nL 200.960938 143.29128 \nL 201.296073 129.600301 \nL 201.631208 125.439954 \nL 201.966343 151.789421 \nL 202.301478 154.135181 \nL 202.971748 140.821669 \nL 203.306883 150.655362 \nL 203.642019 133.461602 \nL 203.977154 163.674351 \nL 204.312289 138.03809 \nL 204.647424 150.597036 \nL 204.982559 141.196555 \nL 205.317694 145.167223 \nL 205.652829 138.378378 \nL 206.3231 145.651638 \nL 206.658235 145.56476 \nL 206.99337 129.287188 \nL 207.66364 158.432143 \nL 207.998775 142.227169 \nL 208.33391 138.926056 \nL 208.669046 119.735345 \nL 209.339316 152.315644 \nL 209.674451 151.584973 \nL 210.009586 124.126156 \nL 210.344721 130.407907 \nL 210.679856 129.293647 \nL 211.014992 149.362004 \nL 211.350127 155.059198 \nL 211.685262 145.433382 \nL 212.020397 125.023854 \nL 212.355532 130.163187 \nL 212.690667 109.538163 \nL 213.025802 146.521304 \nL 213.360938 125.176653 \nL 213.696073 151.555856 \nL 214.031208 131.65214 \nL 214.366343 152.470495 \nL 214.701478 138.373379 \nL 215.036613 130.506156 \nL 215.371748 146.336741 \nL 215.706883 149.078369 \nL 216.042019 133.089508 \nL 216.377154 133.079157 \nL 216.712289 128.837097 \nL 217.047424 136.091809 \nL 217.382559 128.688533 \nL 217.717694 131.72813 \nL 218.052829 143.210015 \nL 218.387965 128.430862 \nL 218.7231 150.002123 \nL 219.058235 132.89755 \nL 219.39337 151.376764 \nL 219.728505 119.86595 \nL 220.06364 122.50885 \nL 220.398775 147.124523 \nL 221.069046 132.111508 \nL 221.404181 130.056811 \nL 221.739316 132.798227 \nL 222.074451 141.42682 \nL 222.409586 131.158941 \nL 222.744721 144.560257 \nL 223.079856 117.538309 \nL 223.414992 124.758249 \nL 223.750127 126.395855 \nL 224.085262 123.043515 \nL 224.420397 117.180592 \nL 224.755532 147.087659 \nL 225.090667 144.876381 \nL 225.425802 140.85151 \nL 225.760938 133.198577 \nL 226.096073 145.963923 \nL 226.431208 145.494591 \nL 226.766343 128.405794 \nL 227.101478 138.102861 \nL 227.436613 133.430394 \nL 227.771748 139.066125 \nL 228.106883 151.772762 \nL 229.112289 122.732638 \nL 229.447424 126.816694 \nL 229.782559 110.988504 \nL 230.117694 126.324139 \nL 230.452829 131.358434 \nL 230.787965 122.42024 \nL 231.1231 132.781314 \nL 231.458235 116.488886 \nL 231.79337 126.051297 \nL 232.128505 141.734934 \nL 232.46364 117.335772 \nL 232.798775 117.911428 \nL 233.13391 140.176104 \nL 233.469046 138.576128 \nL 233.804181 135.602772 \nL 234.139316 140.451249 \nL 234.474451 118.766871 \nL 234.809586 117.152911 \nL 235.144721 109.219207 \nL 235.479856 119.286107 \nL 235.814992 117.037941 \nL 236.150127 115.937181 \nL 236.485262 133.150461 \nL 236.820397 136.508952 \nL 237.155532 113.856686 \nL 237.490667 146.332687 \nL 237.825802 109.957009 \nL 238.496073 104.437295 \nL 238.831208 119.547261 \nL 239.166343 126.005506 \nL 239.501478 103.441215 \nL 240.171748 119.388257 \nL 240.506883 116.919496 \nL 241.177154 116.670621 \nL 241.512289 114.296076 \nL 241.847424 119.405693 \nL 242.182559 121.370267 \nL 242.517694 122.209697 \nL 243.187965 126.205201 \nL 243.5231 118.370508 \nL 243.858235 118.307598 \nL 244.528505 108.353682 \nL 244.86364 129.36216 \nL 245.198775 117.534991 \nL 245.53391 93.394577 \nL 245.869046 129.470702 \nL 246.204181 132.521855 \nL 246.539316 116.955541 \nL 246.874451 111.730467 \nL 247.209586 110.513073 \nL 247.544721 97.565769 \nL 248.214992 117.074001 \nL 248.550127 110.73266 \nL 248.885262 114.963294 \nL 249.220397 111.134182 \nL 249.555532 128.366563 \nL 249.890667 98.601798 \nL 250.225802 112.828031 \nL 250.560938 93.516228 \nL 250.896073 102.445167 \nL 251.231208 99.979733 \nL 251.566343 122.933768 \nL 251.901478 98.863214 \nL 252.236613 111.831351 \nL 252.571748 112.050335 \nL 252.906883 104.548289 \nL 253.242019 92.876751 \nL 253.577154 109.888836 \nL 254.247424 89.612466 \nL 254.917694 102.558993 \nL 255.252829 89.617753 \nL 255.587965 93.584311 \nL 255.9231 95.512829 \nL 256.258235 110.373782 \nL 256.59337 86.816321 \nL 256.928505 116.307169 \nL 257.26364 113.232291 \nL 257.598775 102.764674 \nL 257.93391 86.747744 \nL 258.269046 86.697419 \nL 258.604181 97.514778 \nL 258.939316 94.29395 \nL 259.274451 87.446219 \nL 259.609586 98.317005 \nL 259.944721 102.247959 \nL 260.279856 108.104384 \nL 260.614992 84.03255 \nL 260.950127 84.253461 \nL 261.285262 80.021954 \nL 261.620397 95.789655 \nL 262.290667 78.857021 \nL 262.625802 91.749856 \nL 262.960938 81.787459 \nL 263.296073 98.107937 \nL 263.631208 82.540398 \nL 263.966343 85.282705 \nL 264.301478 96.921502 \nL 264.636613 73.018421 \nL 264.971748 101.854456 \nL 265.306883 71.000435 \nL 265.642019 63.392878 \nL 265.977154 77.894326 \nL 266.312289 99.200028 \nL 266.647424 74.90253 \nL 266.982559 81.464174 \nL 267.317694 71.937644 \nL 267.652829 89.712425 \nL 267.987965 87.346821 \nL 268.3231 70.495233 \nL 268.658235 75.364232 \nL 268.99337 66.967187 \nL 269.328505 95.823118 \nL 269.66364 81.136708 \nL 269.998775 59.071473 \nL 270.33391 87.888984 \nL 270.669046 87.653069 \nL 271.004181 67.779291 \nL 271.339316 56.387952 \nL 271.674451 70.046998 \nL 272.009586 69.942932 \nL 272.344721 66.173185 \nL 273.014992 82.425837 \nL 273.350127 81.811233 \nL 273.685262 75.988649 \nL 274.020397 91.198566 \nL 274.355532 72.706085 \nL 274.690667 80.381538 \nL 275.360937 57.333575 \nL 275.696073 51.92216 \nL 276.031208 77.552756 \nL 276.366343 78.782106 \nL 276.701478 65.744998 \nL 277.036613 64.370128 \nL 277.371748 61.055375 \nL 277.706883 77.547642 \nL 278.042019 53.418991 \nL 278.377154 63.199522 \nL 278.712289 61.115295 \nL 279.047424 75.521899 \nL 279.382559 52.009387 \nL 279.717694 48.53354 \nL 280.052829 74.129302 \nL 280.387965 72.070942 \nL 280.7231 51.480126 \nL 281.39337 61.545147 \nL 281.728505 53.021978 \nL 282.06364 17.310341 \nL 282.398775 57.665304 \nL 282.73391 61.531822 \nL 283.069046 58.593465 \nL 283.404181 73.927507 \nL 283.739316 82.901281 \nL 284.074451 42.232502 \nL 284.409586 72.862037 \nL 284.744721 65.222597 \nL 285.079856 60.58691 \nL 285.750127 65.584274 \nL 286.085262 35.69255 \nL 286.755532 60.716059 \nL 287.090667 47.015885 \nL 287.425802 51.2514 \nL 287.760938 72.385818 \nL 288.096073 43.813128 \nL 288.431208 43.386128 \nL 289.101478 63.939547 \nL 289.436613 50.467489 \nL 289.771748 28.076085 \nL 290.106883 44.99676 \nL 290.442019 48.612263 \nL 290.777154 56.272777 \nL 291.112289 56.896647 \nL 291.447424 51.93474 \nL 291.782559 51.647928 \nL 292.117694 52.65947 \nL 292.452829 56.172485 \nL 292.787965 47.205168 \nL 293.1231 48.165665 \nL 293.79337 33.54713 \nL 294.128505 43.356493 \nL 294.46364 45.267999 \nL 294.798775 49.200681 \nL 295.13391 42.149964 \nL 295.469046 53.669028 \nL 295.804181 49.106341 \nL 296.139316 38.66679 \nL 296.474451 48.146399 \nL 296.809586 37.438744 \nL 297.144721 45.550919 \nL 297.479856 34.600868 \nL 297.814992 58.924552 \nL 298.150127 38.4167 \nL 298.485262 40.730899 \nL 298.820397 57.549414 \nL 299.155532 57.221056 \nL 299.490667 40.217079 \nL 299.825802 29.093126 \nL 300.160938 32.620058 \nL 300.496073 54.80548 \nL 300.831208 46.359598 \nL 301.166343 50.613636 \nL 301.501478 33.370951 \nL 301.836613 25.220468 \nL 302.171748 41.38729 \nL 302.506883 27.090112 \nL 302.842019 49.472836 \nL 303.177154 40.237044 \nL 303.847424 46.559479 \nL 304.182559 47.779138 \nL 304.517694 39.86134 \nL 304.852829 38.060621 \nL 305.187965 38.201251 \nL 305.5231 44.733901 \nL 305.858235 39.133089 \nL 306.19337 45.707493 \nL 306.86364 53.453809 \nL 307.198775 38.353211 \nL 307.53391 35.460022 \nL 307.869046 22.90823 \nL 308.204181 50.99852 \nL 308.539316 30.958421 \nL 308.874451 33.491111 \nL 309.544721 39.555084 \nL 309.879856 23.716486 \nL 310.214992 50.41009 \nL 310.550127 32.230182 \nL 310.885262 27.594424 \nL 311.220397 34.674092 \nL 311.555532 36.340999 \nL 311.890667 39.431518 \nL 312.225802 46.39552 \nL 312.896073 20.307811 \nL 313.231208 39.512964 \nL 313.566343 37.211619 \nL 313.901478 27.281514 \nL 314.236613 37.495213 \nL 314.571748 18.340716 \nL 314.906883 51.63272 \nL 315.242019 47.237045 \nL 315.577154 46.540671 \nL 315.912289 20.46738 \nL 316.247424 35.797522 \nL 316.582559 39.372499 \nL 316.917694 37.4969 \nL 317.252829 34.447894 \nL 317.587965 20.98361 \nL 317.9231 23.237579 \nL 318.258235 51.319095 \nL 318.59337 36.728121 \nL 318.928505 47.680778 \nL 319.26364 37.396246 \nL 319.598775 42.085373 \nL 319.93391 62.359049 \nL 320.269046 29.516689 \nL 320.604181 59.423517 \nL 320.939316 53.743884 \nL 321.274451 33.713034 \nL 321.609586 34.366475 \nL 321.944721 42.809812 \nL 322.279856 20.21948 \nL 322.614992 28.761655 \nL 322.950127 41.974301 \nL 323.285262 49.724578 \nL 323.620397 25.132916 \nL 323.955532 59.690308 \nL 324.290667 34.157451 \nL 324.625802 41.593438 \nL 324.960938 37.916568 \nL 325.296073 52.580174 \nL 325.631208 36.00213 \nL 325.966343 31.58518 \nL 326.301478 39.088687 \nL 326.636613 42.765186 \nL 326.971748 24.042424 \nL 327.306883 67.782665 \nL 327.642019 61.832827 \nL 327.977154 42.991759 \nL 328.312289 56.381969 \nL 328.647424 54.017483 \nL 328.982559 39.202584 \nL 329.317694 52.300707 \nL 329.987965 21.333599 \nL 330.3231 24.301027 \nL 330.658235 47.078415 \nL 330.99337 25.019774 \nL 331.328505 57.792953 \nL 331.66364 43.626921 \nL 331.998775 57.373904 \nL 332.33391 50.273005 \nL 332.669046 16.978201 \nL 333.004181 57.738878 \nL 333.339316 37.98847 \nL 333.674451 75.310887 \nL 334.009586 22.747373 \nL 334.679856 42.254626 \nL 335.014992 44.896051 \nL 335.350127 52.121223 \nL 335.685262 48.581459 \nL 336.355532 30.871586 \nL 336.690667 57.067471 \nL 337.025802 55.147151 \nL 337.360937 74.58781 \nL 338.031208 35.346806 \nL 338.701478 47.448409 \nL 339.036613 56.617328 \nL 339.371748 57.511851 \nL 339.706883 61.659992 \nL 340.042019 42.201352 \nL 340.377154 49.950501 \nL 340.712289 63.043357 \nL 341.047424 54.195045 \nL 341.382559 53.34089 \nL 341.717694 61.940467 \nL 342.052829 61.006228 \nL 342.387965 61.071028 \nL 342.7231 63.111078 \nL 343.058235 59.438317 \nL 343.39337 50.719111 \nL 343.728505 47.29287 \nL 344.06364 46.647044 \nL 344.398775 49.336478 \nL 344.73391 60.782818 \nL 345.069046 42.923782 \nL 345.404181 60.686954 \nL 345.739316 65.968361 \nL 346.074451 50.601489 \nL 346.409586 57.798531 \nL 346.744721 33.333609 \nL 347.079856 63.166183 \nL 347.414992 57.430874 \nL 347.750127 71.810037 \nL 348.085262 67.60276 \nL 348.420397 82.79992 \nL 348.755532 63.833488 \nL 349.090667 77.963505 \nL 349.425802 56.646577 \nL 349.760938 50.101466 \nL 350.096073 84.411414 \nL 350.431208 62.701222 \nL 350.766343 67.517211 \nL 351.101478 63.505504 \nL 351.436613 41.21532 \nL 351.771748 62.848683 \nL 352.106883 54.880909 \nL 352.442019 70.992799 \nL 352.777154 78.118357 \nL 353.112289 66.706535 \nL 353.447424 59.379774 \nL 353.782559 79.648919 \nL 354.117694 68.632007 \nL 354.787965 76.60985 \nL 355.1231 90.635548 \nL 355.458235 74.914367 \nL 355.79337 88.016475 \nL 356.128505 69.768447 \nL 356.46364 102.058291 \nL 357.13391 53.557615 \nL 357.469046 76.817156 \nL 357.804181 62.967104 \nL 358.139316 73.673478 \nL 358.474451 54.416094 \nL 358.809586 84.024733 \nL 359.144721 85.37414 \nL 359.479856 97.733914 \nL 359.814992 76.178396 \nL 360.150127 75.066559 \nL 360.485262 93.13585 \nL 360.820397 56.953176 \nL 361.825802 74.273075 \nL 362.160938 72.575454 \nL 362.496073 98.711066 \nL 362.831208 65.410764 \nL 363.501478 98.649967 \nL 363.836613 71.9916 \nL 364.171748 67.943725 \nL 364.506883 94.461762 \nL 364.842019 77.465185 \nL 365.177154 70.937456 \nL 365.512289 91.153137 \nL 365.847424 81.018141 \nL 366.182559 93.342429 \nL 366.517694 109.980576 \nL 366.852829 77.531873 \nL 367.187965 95.121476 \nL 367.5231 86.846474 \nL 368.19337 108.517798 \nL 368.528505 93.476365 \nL 368.86364 105.819287 \nL 369.198775 101.596062 \nL 369.53391 83.910265 \nL 369.869046 79.346474 \nL 370.204181 89.786729 \nL 370.539316 74.000873 \nL 370.874451 109.112788 \nL 371.209586 80.861286 \nL 371.879856 101.598882 \nL 372.214992 93.840738 \nL 372.550127 82.043915 \nL 372.885262 107.899514 \nL 373.220397 94.241001 \nL 373.555532 119.851671 \nL 373.890667 108.443367 \nL 374.225802 90.278611 \nL 374.560938 114.723982 \nL 374.896073 103.78933 \nL 375.231208 76.686903 \nL 375.566343 105.605402 \nL 375.901478 101.980481 \nL 376.236613 121.057286 \nL 376.571748 124.321892 \nL 376.906883 104.070879 \nL 377.242019 98.551036 \nL 377.577154 135.66767 \nL 377.912289 104.460587 \nL 378.247424 112.157875 \nL 378.582559 105.307546 \nL 378.917694 107.454434 \nL 379.252829 95.137364 \nL 379.587965 124.096399 \nL 379.9231 94.095904 \nL 380.258235 122.924752 \nL 380.59337 115.652274 \nL 380.928505 118.661776 \nL 381.26364 112.778345 \nL 381.598775 94.33699 \nL 381.93391 113.218778 \nL 382.269046 112.706964 \nL 382.604181 105.623383 \nL 382.939316 106.219718 \nL 383.274451 98.513983 \nL 383.609586 102.983341 \nL 383.944721 118.464381 \nL 384.614992 124.740627 \nL 385.285262 109.308492 \nL 385.620397 122.023015 \nL 385.955532 126.615116 \nL 386.290667 129.502113 \nL 386.625802 127.894722 \nL 386.960938 121.145556 \nL 386.960938 121.145556 \n\" clip-path=\"url(#pf6e9cc5f36)\" style=\"fill: none; stroke: #1f77b4; stroke-width: 1.5; stroke-linecap: square\"/>\n   </g>\n   <g id=\"patch_3\">\n    <path d=\"M 52.160938 171.087079 \nL 52.160938 8.007079 \n\" style=\"fill: none; stroke: #000000; stroke-width: 0.8; stroke-linejoin: miter; stroke-linecap: square\"/>\n   </g>\n   <g id=\"patch_4\">\n    <path d=\"M 386.960938 171.087079 \nL 386.960938 8.007079 \n\" style=\"fill: none; stroke: #000000; stroke-width: 0.8; stroke-linejoin: miter; stroke-linecap: square\"/>\n   </g>\n   <g id=\"patch_5\">\n    <path d=\"M 52.160938 171.087079 \nL 386.960938 171.087079 \n\" style=\"fill: none; stroke: #000000; stroke-width: 0.8; stroke-linejoin: miter; stroke-linecap: square\"/>\n   </g>\n   <g id=\"patch_6\">\n    <path d=\"M 52.160938 8.007079 \nL 386.960938 8.007079 \n\" style=\"fill: none; stroke: #000000; stroke-width: 0.8; stroke-linejoin: miter; stroke-linecap: square\"/>\n   </g>\n  </g>\n </g>\n <defs>\n  <clipPath id=\"pf6e9cc5f36\">\n   <rect x=\"52.160938\" y=\"8.007079\" width=\"334.8\" height=\"163.08\"/>\n  </clipPath>\n </defs>\n</svg>\n"
          },
          "metadata": {
            "needs_background": "light"
          }
        }
      ],
      "source": [
        "T = 1000  # Generate a total of 1000 points\n",
        "time = torch.arange(1, T + 1, dtype=torch.float32)\n",
        "x = torch.sin(0.01 * time) + torch.normal(0, 0.2, (T,))\n",
        "d2l.plot(time, [x], 'time', 'x', xlim=[1, 1000], figsize=(6, 3))"
      ]
    },
    {
      "cell_type": "code",
      "source": [
        "tau = 4\n",
        "features = torch.zeros((T - tau, tau))\n",
        "for i in range(tau):\n",
        "    features[:, i] = x[i: T - tau + i]\n",
        "labels = x[tau:].reshape((-1, 1))\n",
        "\n",
        "batch_size, n_train = 16, 600\n",
        "# Only the first `n_train` examples are used for training\n",
        "train_iter = d2l.load_array((features[:n_train], labels[:n_train]),\n",
        "                            batch_size, is_train=True)"
      ],
      "metadata": {
        "id": "L9Qefr8C1M0y"
      },
      "execution_count": 6,
      "outputs": []
    },
    {
      "cell_type": "code",
      "source": [
        "# Function for initializing the weights of the network\n",
        "def init_weights(m):\n",
        "    if type(m) == nn.Linear:\n",
        "        nn.init.xavier_uniform_(m.weight)\n",
        "\n",
        "# A simple MLP\n",
        "def get_net():\n",
        "    net = nn.Sequential(nn.Linear(4, 10),\n",
        "                        nn.ReLU(),\n",
        "                        nn.Linear(10, 1))\n",
        "    net.apply(init_weights)\n",
        "    return net\n",
        "\n",
        "# Note: `MSELoss` computes squared error without the 1/2 factor\n",
        "loss = nn.MSELoss(reduction='none')"
      ],
      "metadata": {
        "id": "sfx9J4k713GL"
      },
      "execution_count": 7,
      "outputs": []
    },
    {
      "cell_type": "code",
      "source": [
        "def train(net, train_iter, loss, epochs, lr):\n",
        "    trainer = torch.optim.Adam(net.parameters(), lr)\n",
        "    for epoch in range(epochs):\n",
        "        for X, y in train_iter:\n",
        "            trainer.zero_grad()\n",
        "            l = loss(net(X), y)\n",
        "            l.sum().backward()\n",
        "            trainer.step()\n",
        "        print(f'epoch {epoch + 1}, '\n",
        "              f'loss: {d2l.evaluate_loss(net, train_iter, loss):f}')\n",
        "\n",
        "net = get_net()\n",
        "train(net, train_iter, loss, 5, 0.01)"
      ],
      "metadata": {
        "colab": {
          "base_uri": "https://localhost:8080/"
        },
        "id": "E4s2K7TB15Me",
        "outputId": "d33219fa-8185-483f-e57b-e93a9b0a18ca"
      },
      "execution_count": 8,
      "outputs": [
        {
          "output_type": "stream",
          "name": "stdout",
          "text": [
            "epoch 1, loss: 0.052594\n",
            "epoch 2, loss: 0.050360\n",
            "epoch 3, loss: 0.050444\n",
            "epoch 4, loss: 0.050032\n",
            "epoch 5, loss: 0.051961\n"
          ]
        }
      ]
    },
    {
      "cell_type": "markdown",
      "source": [
        "## 8.1.3. Prediction"
      ],
      "metadata": {
        "id": "xSgc9XuU2CP5"
      }
    },
    {
      "cell_type": "code",
      "source": [
        "onestep_preds = net(features)\n",
        "d2l.plot([time, time[tau:]], [x.detach().numpy(), onestep_preds.detach().numpy()], 'time',\n",
        "         'x', legend=['data', '1-step preds'], xlim=[1, 1000], figsize=(6, 3))"
      ],
      "metadata": {
        "colab": {
          "base_uri": "https://localhost:8080/",
          "height": 300
        },
        "id": "Jj4uLkat16pQ",
        "outputId": "61aec4ed-23b6-4412-fed0-781df62a23fe"
      },
      "execution_count": 9,
      "outputs": [
        {
          "output_type": "display_data",
          "data": {
            "text/plain": [
              "<Figure size 432x216 with 1 Axes>"
            ],
            "image/svg+xml": "<?xml version=\"1.0\" encoding=\"utf-8\" standalone=\"no\"?>\n<!DOCTYPE svg PUBLIC \"-//W3C//DTD SVG 1.1//EN\"\n  \"http://www.w3.org/Graphics/SVG/1.1/DTD/svg11.dtd\">\n<svg xmlns:xlink=\"http://www.w3.org/1999/xlink\" width=\"406.885938pt\" height=\"208.643329pt\" viewBox=\"0 0 406.885938 208.643329\" xmlns=\"http://www.w3.org/2000/svg\" version=\"1.1\">\n <metadata>\n  <rdf:RDF xmlns:dc=\"http://purl.org/dc/elements/1.1/\" xmlns:cc=\"http://creativecommons.org/ns#\" xmlns:rdf=\"http://www.w3.org/1999/02/22-rdf-syntax-ns#\">\n   <cc:Work>\n    <dc:type rdf:resource=\"http://purl.org/dc/dcmitype/StillImage\"/>\n    <dc:date>2022-04-30T14:20:04.649010</dc:date>\n    <dc:format>image/svg+xml</dc:format>\n    <dc:creator>\n     <cc:Agent>\n      <dc:title>Matplotlib v3.5.1, https://matplotlib.org/</dc:title>\n     </cc:Agent>\n    </dc:creator>\n   </cc:Work>\n  </rdf:RDF>\n </metadata>\n <defs>\n  <style type=\"text/css\">*{stroke-linejoin: round; stroke-linecap: butt}</style>\n </defs>\n <g id=\"figure_1\">\n  <g id=\"patch_1\">\n   <path d=\"M 0 208.643329 \nL 406.885938 208.643329 \nL 406.885938 0 \nL 0 0 \nL 0 208.643329 \nz\n\" style=\"fill: none\"/>\n  </g>\n  <g id=\"axes_1\">\n   <g id=\"patch_2\">\n    <path d=\"M 52.160938 171.087079 \nL 386.960938 171.087079 \nL 386.960938 8.007079 \nL 52.160938 8.007079 \nz\n\" style=\"fill: #ffffff\"/>\n   </g>\n   <g id=\"matplotlib.axis_1\">\n    <g id=\"xtick_1\">\n     <g id=\"line2d_1\">\n      <path d=\"M 118.852829 171.087079 \nL 118.852829 8.007079 \n\" clip-path=\"url(#pccbf90fa80)\" style=\"fill: none; stroke: #b0b0b0; stroke-width: 0.8; stroke-linecap: square\"/>\n     </g>\n     <g id=\"line2d_2\">\n      <defs>\n       <path id=\"mbeb821a039\" d=\"M 0 0 \nL 0 3.5 \n\" style=\"stroke: #000000; stroke-width: 0.8\"/>\n      </defs>\n      <g>\n       <use xlink:href=\"#mbeb821a039\" x=\"118.852829\" y=\"171.087079\" style=\"stroke: #000000; stroke-width: 0.8\"/>\n      </g>\n     </g>\n     <g id=\"text_1\">\n      <!-- 200 -->\n      <g transform=\"translate(109.309079 185.685516)scale(0.1 -0.1)\">\n       <defs>\n        <path id=\"DejaVuSans-32\" d=\"M 1228 531 \nL 3431 531 \nL 3431 0 \nL 469 0 \nL 469 531 \nQ 828 903 1448 1529 \nQ 2069 2156 2228 2338 \nQ 2531 2678 2651 2914 \nQ 2772 3150 2772 3378 \nQ 2772 3750 2511 3984 \nQ 2250 4219 1831 4219 \nQ 1534 4219 1204 4116 \nQ 875 4013 500 3803 \nL 500 4441 \nQ 881 4594 1212 4672 \nQ 1544 4750 1819 4750 \nQ 2544 4750 2975 4387 \nQ 3406 4025 3406 3419 \nQ 3406 3131 3298 2873 \nQ 3191 2616 2906 2266 \nQ 2828 2175 2409 1742 \nQ 1991 1309 1228 531 \nz\n\" transform=\"scale(0.015625)\"/>\n        <path id=\"DejaVuSans-30\" d=\"M 2034 4250 \nQ 1547 4250 1301 3770 \nQ 1056 3291 1056 2328 \nQ 1056 1369 1301 889 \nQ 1547 409 2034 409 \nQ 2525 409 2770 889 \nQ 3016 1369 3016 2328 \nQ 3016 3291 2770 3770 \nQ 2525 4250 2034 4250 \nz\nM 2034 4750 \nQ 2819 4750 3233 4129 \nQ 3647 3509 3647 2328 \nQ 3647 1150 3233 529 \nQ 2819 -91 2034 -91 \nQ 1250 -91 836 529 \nQ 422 1150 422 2328 \nQ 422 3509 836 4129 \nQ 1250 4750 2034 4750 \nz\n\" transform=\"scale(0.015625)\"/>\n       </defs>\n       <use xlink:href=\"#DejaVuSans-32\"/>\n       <use xlink:href=\"#DejaVuSans-30\" x=\"63.623047\"/>\n       <use xlink:href=\"#DejaVuSans-30\" x=\"127.246094\"/>\n      </g>\n     </g>\n    </g>\n    <g id=\"xtick_2\">\n     <g id=\"line2d_3\">\n      <path d=\"M 185.879856 171.087079 \nL 185.879856 8.007079 \n\" clip-path=\"url(#pccbf90fa80)\" style=\"fill: none; stroke: #b0b0b0; stroke-width: 0.8; stroke-linecap: square\"/>\n     </g>\n     <g id=\"line2d_4\">\n      <g>\n       <use xlink:href=\"#mbeb821a039\" x=\"185.879856\" y=\"171.087079\" style=\"stroke: #000000; stroke-width: 0.8\"/>\n      </g>\n     </g>\n     <g id=\"text_2\">\n      <!-- 400 -->\n      <g transform=\"translate(176.336106 185.685516)scale(0.1 -0.1)\">\n       <defs>\n        <path id=\"DejaVuSans-34\" d=\"M 2419 4116 \nL 825 1625 \nL 2419 1625 \nL 2419 4116 \nz\nM 2253 4666 \nL 3047 4666 \nL 3047 1625 \nL 3713 1625 \nL 3713 1100 \nL 3047 1100 \nL 3047 0 \nL 2419 0 \nL 2419 1100 \nL 313 1100 \nL 313 1709 \nL 2253 4666 \nz\n\" transform=\"scale(0.015625)\"/>\n       </defs>\n       <use xlink:href=\"#DejaVuSans-34\"/>\n       <use xlink:href=\"#DejaVuSans-30\" x=\"63.623047\"/>\n       <use xlink:href=\"#DejaVuSans-30\" x=\"127.246094\"/>\n      </g>\n     </g>\n    </g>\n    <g id=\"xtick_3\">\n     <g id=\"line2d_5\">\n      <path d=\"M 252.906883 171.087079 \nL 252.906883 8.007079 \n\" clip-path=\"url(#pccbf90fa80)\" style=\"fill: none; stroke: #b0b0b0; stroke-width: 0.8; stroke-linecap: square\"/>\n     </g>\n     <g id=\"line2d_6\">\n      <g>\n       <use xlink:href=\"#mbeb821a039\" x=\"252.906883\" y=\"171.087079\" style=\"stroke: #000000; stroke-width: 0.8\"/>\n      </g>\n     </g>\n     <g id=\"text_3\">\n      <!-- 600 -->\n      <g transform=\"translate(243.363133 185.685516)scale(0.1 -0.1)\">\n       <defs>\n        <path id=\"DejaVuSans-36\" d=\"M 2113 2584 \nQ 1688 2584 1439 2293 \nQ 1191 2003 1191 1497 \nQ 1191 994 1439 701 \nQ 1688 409 2113 409 \nQ 2538 409 2786 701 \nQ 3034 994 3034 1497 \nQ 3034 2003 2786 2293 \nQ 2538 2584 2113 2584 \nz\nM 3366 4563 \nL 3366 3988 \nQ 3128 4100 2886 4159 \nQ 2644 4219 2406 4219 \nQ 1781 4219 1451 3797 \nQ 1122 3375 1075 2522 \nQ 1259 2794 1537 2939 \nQ 1816 3084 2150 3084 \nQ 2853 3084 3261 2657 \nQ 3669 2231 3669 1497 \nQ 3669 778 3244 343 \nQ 2819 -91 2113 -91 \nQ 1303 -91 875 529 \nQ 447 1150 447 2328 \nQ 447 3434 972 4092 \nQ 1497 4750 2381 4750 \nQ 2619 4750 2861 4703 \nQ 3103 4656 3366 4563 \nz\n\" transform=\"scale(0.015625)\"/>\n       </defs>\n       <use xlink:href=\"#DejaVuSans-36\"/>\n       <use xlink:href=\"#DejaVuSans-30\" x=\"63.623047\"/>\n       <use xlink:href=\"#DejaVuSans-30\" x=\"127.246094\"/>\n      </g>\n     </g>\n    </g>\n    <g id=\"xtick_4\">\n     <g id=\"line2d_7\">\n      <path d=\"M 319.93391 171.087079 \nL 319.93391 8.007079 \n\" clip-path=\"url(#pccbf90fa80)\" style=\"fill: none; stroke: #b0b0b0; stroke-width: 0.8; stroke-linecap: square\"/>\n     </g>\n     <g id=\"line2d_8\">\n      <g>\n       <use xlink:href=\"#mbeb821a039\" x=\"319.93391\" y=\"171.087079\" style=\"stroke: #000000; stroke-width: 0.8\"/>\n      </g>\n     </g>\n     <g id=\"text_4\">\n      <!-- 800 -->\n      <g transform=\"translate(310.39016 185.685516)scale(0.1 -0.1)\">\n       <defs>\n        <path id=\"DejaVuSans-38\" d=\"M 2034 2216 \nQ 1584 2216 1326 1975 \nQ 1069 1734 1069 1313 \nQ 1069 891 1326 650 \nQ 1584 409 2034 409 \nQ 2484 409 2743 651 \nQ 3003 894 3003 1313 \nQ 3003 1734 2745 1975 \nQ 2488 2216 2034 2216 \nz\nM 1403 2484 \nQ 997 2584 770 2862 \nQ 544 3141 544 3541 \nQ 544 4100 942 4425 \nQ 1341 4750 2034 4750 \nQ 2731 4750 3128 4425 \nQ 3525 4100 3525 3541 \nQ 3525 3141 3298 2862 \nQ 3072 2584 2669 2484 \nQ 3125 2378 3379 2068 \nQ 3634 1759 3634 1313 \nQ 3634 634 3220 271 \nQ 2806 -91 2034 -91 \nQ 1263 -91 848 271 \nQ 434 634 434 1313 \nQ 434 1759 690 2068 \nQ 947 2378 1403 2484 \nz\nM 1172 3481 \nQ 1172 3119 1398 2916 \nQ 1625 2713 2034 2713 \nQ 2441 2713 2670 2916 \nQ 2900 3119 2900 3481 \nQ 2900 3844 2670 4047 \nQ 2441 4250 2034 4250 \nQ 1625 4250 1398 4047 \nQ 1172 3844 1172 3481 \nz\n\" transform=\"scale(0.015625)\"/>\n       </defs>\n       <use xlink:href=\"#DejaVuSans-38\"/>\n       <use xlink:href=\"#DejaVuSans-30\" x=\"63.623047\"/>\n       <use xlink:href=\"#DejaVuSans-30\" x=\"127.246094\"/>\n      </g>\n     </g>\n    </g>\n    <g id=\"xtick_5\">\n     <g id=\"line2d_9\">\n      <path d=\"M 386.960938 171.087079 \nL 386.960938 8.007079 \n\" clip-path=\"url(#pccbf90fa80)\" style=\"fill: none; stroke: #b0b0b0; stroke-width: 0.8; stroke-linecap: square\"/>\n     </g>\n     <g id=\"line2d_10\">\n      <g>\n       <use xlink:href=\"#mbeb821a039\" x=\"386.960938\" y=\"171.087079\" style=\"stroke: #000000; stroke-width: 0.8\"/>\n      </g>\n     </g>\n     <g id=\"text_5\">\n      <!-- 1000 -->\n      <g transform=\"translate(374.235937 185.685516)scale(0.1 -0.1)\">\n       <defs>\n        <path id=\"DejaVuSans-31\" d=\"M 794 531 \nL 1825 531 \nL 1825 4091 \nL 703 3866 \nL 703 4441 \nL 1819 4666 \nL 2450 4666 \nL 2450 531 \nL 3481 531 \nL 3481 0 \nL 794 0 \nL 794 531 \nz\n\" transform=\"scale(0.015625)\"/>\n       </defs>\n       <use xlink:href=\"#DejaVuSans-31\"/>\n       <use xlink:href=\"#DejaVuSans-30\" x=\"63.623047\"/>\n       <use xlink:href=\"#DejaVuSans-30\" x=\"127.246094\"/>\n       <use xlink:href=\"#DejaVuSans-30\" x=\"190.869141\"/>\n      </g>\n     </g>\n    </g>\n    <g id=\"text_6\">\n     <!-- time -->\n     <g transform=\"translate(208.264844 199.363641)scale(0.1 -0.1)\">\n      <defs>\n       <path id=\"DejaVuSans-74\" d=\"M 1172 4494 \nL 1172 3500 \nL 2356 3500 \nL 2356 3053 \nL 1172 3053 \nL 1172 1153 \nQ 1172 725 1289 603 \nQ 1406 481 1766 481 \nL 2356 481 \nL 2356 0 \nL 1766 0 \nQ 1100 0 847 248 \nQ 594 497 594 1153 \nL 594 3053 \nL 172 3053 \nL 172 3500 \nL 594 3500 \nL 594 4494 \nL 1172 4494 \nz\n\" transform=\"scale(0.015625)\"/>\n       <path id=\"DejaVuSans-69\" d=\"M 603 3500 \nL 1178 3500 \nL 1178 0 \nL 603 0 \nL 603 3500 \nz\nM 603 4863 \nL 1178 4863 \nL 1178 4134 \nL 603 4134 \nL 603 4863 \nz\n\" transform=\"scale(0.015625)\"/>\n       <path id=\"DejaVuSans-6d\" d=\"M 3328 2828 \nQ 3544 3216 3844 3400 \nQ 4144 3584 4550 3584 \nQ 5097 3584 5394 3201 \nQ 5691 2819 5691 2113 \nL 5691 0 \nL 5113 0 \nL 5113 2094 \nQ 5113 2597 4934 2840 \nQ 4756 3084 4391 3084 \nQ 3944 3084 3684 2787 \nQ 3425 2491 3425 1978 \nL 3425 0 \nL 2847 0 \nL 2847 2094 \nQ 2847 2600 2669 2842 \nQ 2491 3084 2119 3084 \nQ 1678 3084 1418 2786 \nQ 1159 2488 1159 1978 \nL 1159 0 \nL 581 0 \nL 581 3500 \nL 1159 3500 \nL 1159 2956 \nQ 1356 3278 1631 3431 \nQ 1906 3584 2284 3584 \nQ 2666 3584 2933 3390 \nQ 3200 3197 3328 2828 \nz\n\" transform=\"scale(0.015625)\"/>\n       <path id=\"DejaVuSans-65\" d=\"M 3597 1894 \nL 3597 1613 \nL 953 1613 \nQ 991 1019 1311 708 \nQ 1631 397 2203 397 \nQ 2534 397 2845 478 \nQ 3156 559 3463 722 \nL 3463 178 \nQ 3153 47 2828 -22 \nQ 2503 -91 2169 -91 \nQ 1331 -91 842 396 \nQ 353 884 353 1716 \nQ 353 2575 817 3079 \nQ 1281 3584 2069 3584 \nQ 2775 3584 3186 3129 \nQ 3597 2675 3597 1894 \nz\nM 3022 2063 \nQ 3016 2534 2758 2815 \nQ 2500 3097 2075 3097 \nQ 1594 3097 1305 2825 \nQ 1016 2553 972 2059 \nL 3022 2063 \nz\n\" transform=\"scale(0.015625)\"/>\n      </defs>\n      <use xlink:href=\"#DejaVuSans-74\"/>\n      <use xlink:href=\"#DejaVuSans-69\" x=\"39.208984\"/>\n      <use xlink:href=\"#DejaVuSans-6d\" x=\"66.992188\"/>\n      <use xlink:href=\"#DejaVuSans-65\" x=\"164.404297\"/>\n     </g>\n    </g>\n   </g>\n   <g id=\"matplotlib.axis_2\">\n    <g id=\"ytick_1\">\n     <g id=\"line2d_11\">\n      <path d=\"M 52.160938 165.358794 \nL 386.960938 165.358794 \n\" clip-path=\"url(#pccbf90fa80)\" style=\"fill: none; stroke: #b0b0b0; stroke-width: 0.8; stroke-linecap: square\"/>\n     </g>\n     <g id=\"line2d_12\">\n      <defs>\n       <path id=\"mb73b2b7895\" d=\"M 0 0 \nL -3.5 0 \n\" style=\"stroke: #000000; stroke-width: 0.8\"/>\n      </defs>\n      <g>\n       <use xlink:href=\"#mb73b2b7895\" x=\"52.160938\" y=\"165.358794\" style=\"stroke: #000000; stroke-width: 0.8\"/>\n      </g>\n     </g>\n     <g id=\"text_7\">\n      <!-- −1.5 -->\n      <g transform=\"translate(20.878125 169.158012)scale(0.1 -0.1)\">\n       <defs>\n        <path id=\"DejaVuSans-2212\" d=\"M 678 2272 \nL 4684 2272 \nL 4684 1741 \nL 678 1741 \nL 678 2272 \nz\n\" transform=\"scale(0.015625)\"/>\n        <path id=\"DejaVuSans-2e\" d=\"M 684 794 \nL 1344 794 \nL 1344 0 \nL 684 0 \nL 684 794 \nz\n\" transform=\"scale(0.015625)\"/>\n        <path id=\"DejaVuSans-35\" d=\"M 691 4666 \nL 3169 4666 \nL 3169 4134 \nL 1269 4134 \nL 1269 2991 \nQ 1406 3038 1543 3061 \nQ 1681 3084 1819 3084 \nQ 2600 3084 3056 2656 \nQ 3513 2228 3513 1497 \nQ 3513 744 3044 326 \nQ 2575 -91 1722 -91 \nQ 1428 -91 1123 -41 \nQ 819 9 494 109 \nL 494 744 \nQ 775 591 1075 516 \nQ 1375 441 1709 441 \nQ 2250 441 2565 725 \nQ 2881 1009 2881 1497 \nQ 2881 1984 2565 2268 \nQ 2250 2553 1709 2553 \nQ 1456 2553 1204 2497 \nQ 953 2441 691 2322 \nL 691 4666 \nz\n\" transform=\"scale(0.015625)\"/>\n       </defs>\n       <use xlink:href=\"#DejaVuSans-2212\"/>\n       <use xlink:href=\"#DejaVuSans-31\" x=\"83.789062\"/>\n       <use xlink:href=\"#DejaVuSans-2e\" x=\"147.412109\"/>\n       <use xlink:href=\"#DejaVuSans-35\" x=\"179.199219\"/>\n      </g>\n     </g>\n    </g>\n    <g id=\"ytick_2\">\n     <g id=\"line2d_13\">\n      <path d=\"M 52.160938 139.632198 \nL 386.960938 139.632198 \n\" clip-path=\"url(#pccbf90fa80)\" style=\"fill: none; stroke: #b0b0b0; stroke-width: 0.8; stroke-linecap: square\"/>\n     </g>\n     <g id=\"line2d_14\">\n      <g>\n       <use xlink:href=\"#mb73b2b7895\" x=\"52.160938\" y=\"139.632198\" style=\"stroke: #000000; stroke-width: 0.8\"/>\n      </g>\n     </g>\n     <g id=\"text_8\">\n      <!-- −1.0 -->\n      <g transform=\"translate(20.878125 143.431417)scale(0.1 -0.1)\">\n       <use xlink:href=\"#DejaVuSans-2212\"/>\n       <use xlink:href=\"#DejaVuSans-31\" x=\"83.789062\"/>\n       <use xlink:href=\"#DejaVuSans-2e\" x=\"147.412109\"/>\n       <use xlink:href=\"#DejaVuSans-30\" x=\"179.199219\"/>\n      </g>\n     </g>\n    </g>\n    <g id=\"ytick_3\">\n     <g id=\"line2d_15\">\n      <path d=\"M 52.160938 113.905602 \nL 386.960938 113.905602 \n\" clip-path=\"url(#pccbf90fa80)\" style=\"fill: none; stroke: #b0b0b0; stroke-width: 0.8; stroke-linecap: square\"/>\n     </g>\n     <g id=\"line2d_16\">\n      <g>\n       <use xlink:href=\"#mb73b2b7895\" x=\"52.160938\" y=\"113.905602\" style=\"stroke: #000000; stroke-width: 0.8\"/>\n      </g>\n     </g>\n     <g id=\"text_9\">\n      <!-- −0.5 -->\n      <g transform=\"translate(20.878125 117.704821)scale(0.1 -0.1)\">\n       <use xlink:href=\"#DejaVuSans-2212\"/>\n       <use xlink:href=\"#DejaVuSans-30\" x=\"83.789062\"/>\n       <use xlink:href=\"#DejaVuSans-2e\" x=\"147.412109\"/>\n       <use xlink:href=\"#DejaVuSans-35\" x=\"179.199219\"/>\n      </g>\n     </g>\n    </g>\n    <g id=\"ytick_4\">\n     <g id=\"line2d_17\">\n      <path d=\"M 52.160938 88.179006 \nL 386.960938 88.179006 \n\" clip-path=\"url(#pccbf90fa80)\" style=\"fill: none; stroke: #b0b0b0; stroke-width: 0.8; stroke-linecap: square\"/>\n     </g>\n     <g id=\"line2d_18\">\n      <g>\n       <use xlink:href=\"#mb73b2b7895\" x=\"52.160938\" y=\"88.179006\" style=\"stroke: #000000; stroke-width: 0.8\"/>\n      </g>\n     </g>\n     <g id=\"text_10\">\n      <!-- 0.0 -->\n      <g transform=\"translate(29.257812 91.978225)scale(0.1 -0.1)\">\n       <use xlink:href=\"#DejaVuSans-30\"/>\n       <use xlink:href=\"#DejaVuSans-2e\" x=\"63.623047\"/>\n       <use xlink:href=\"#DejaVuSans-30\" x=\"95.410156\"/>\n      </g>\n     </g>\n    </g>\n    <g id=\"ytick_5\">\n     <g id=\"line2d_19\">\n      <path d=\"M 52.160938 62.45241 \nL 386.960938 62.45241 \n\" clip-path=\"url(#pccbf90fa80)\" style=\"fill: none; stroke: #b0b0b0; stroke-width: 0.8; stroke-linecap: square\"/>\n     </g>\n     <g id=\"line2d_20\">\n      <g>\n       <use xlink:href=\"#mb73b2b7895\" x=\"52.160938\" y=\"62.45241\" style=\"stroke: #000000; stroke-width: 0.8\"/>\n      </g>\n     </g>\n     <g id=\"text_11\">\n      <!-- 0.5 -->\n      <g transform=\"translate(29.257812 66.251629)scale(0.1 -0.1)\">\n       <use xlink:href=\"#DejaVuSans-30\"/>\n       <use xlink:href=\"#DejaVuSans-2e\" x=\"63.623047\"/>\n       <use xlink:href=\"#DejaVuSans-35\" x=\"95.410156\"/>\n      </g>\n     </g>\n    </g>\n    <g id=\"ytick_6\">\n     <g id=\"line2d_21\">\n      <path d=\"M 52.160938 36.725815 \nL 386.960938 36.725815 \n\" clip-path=\"url(#pccbf90fa80)\" style=\"fill: none; stroke: #b0b0b0; stroke-width: 0.8; stroke-linecap: square\"/>\n     </g>\n     <g id=\"line2d_22\">\n      <g>\n       <use xlink:href=\"#mb73b2b7895\" x=\"52.160938\" y=\"36.725815\" style=\"stroke: #000000; stroke-width: 0.8\"/>\n      </g>\n     </g>\n     <g id=\"text_12\">\n      <!-- 1.0 -->\n      <g transform=\"translate(29.257812 40.525033)scale(0.1 -0.1)\">\n       <use xlink:href=\"#DejaVuSans-31\"/>\n       <use xlink:href=\"#DejaVuSans-2e\" x=\"63.623047\"/>\n       <use xlink:href=\"#DejaVuSans-30\" x=\"95.410156\"/>\n      </g>\n     </g>\n    </g>\n    <g id=\"ytick_7\">\n     <g id=\"line2d_23\">\n      <path d=\"M 52.160938 10.999219 \nL 386.960938 10.999219 \n\" clip-path=\"url(#pccbf90fa80)\" style=\"fill: none; stroke: #b0b0b0; stroke-width: 0.8; stroke-linecap: square\"/>\n     </g>\n     <g id=\"line2d_24\">\n      <g>\n       <use xlink:href=\"#mb73b2b7895\" x=\"52.160938\" y=\"10.999219\" style=\"stroke: #000000; stroke-width: 0.8\"/>\n      </g>\n     </g>\n     <g id=\"text_13\">\n      <!-- 1.5 -->\n      <g transform=\"translate(29.257812 14.798437)scale(0.1 -0.1)\">\n       <use xlink:href=\"#DejaVuSans-31\"/>\n       <use xlink:href=\"#DejaVuSans-2e\" x=\"63.623047\"/>\n       <use xlink:href=\"#DejaVuSans-35\" x=\"95.410156\"/>\n      </g>\n     </g>\n    </g>\n    <g id=\"text_14\">\n     <!-- x -->\n     <g transform=\"translate(14.798438 92.506454)rotate(-90)scale(0.1 -0.1)\">\n      <defs>\n       <path id=\"DejaVuSans-78\" d=\"M 3513 3500 \nL 2247 1797 \nL 3578 0 \nL 2900 0 \nL 1881 1375 \nL 863 0 \nL 184 0 \nL 1544 1831 \nL 300 3500 \nL 978 3500 \nL 1906 2253 \nL 2834 3500 \nL 3513 3500 \nz\n\" transform=\"scale(0.015625)\"/>\n      </defs>\n      <use xlink:href=\"#DejaVuSans-78\"/>\n     </g>\n    </g>\n   </g>\n   <g id=\"line2d_25\">\n    <path d=\"M 52.160938 100.299871 \nL 52.496073 83.824188 \nL 52.831208 77.744568 \nL 53.166343 85.015832 \nL 53.501478 54.301532 \nL 54.506883 101.433895 \nL 54.842019 77.162152 \nL 55.177154 80.802634 \nL 55.512289 73.852889 \nL 55.847424 90.729231 \nL 56.182559 79.30472 \nL 56.517694 83.431266 \nL 56.852829 71.20892 \nL 57.187965 89.09453 \nL 57.5231 94.376816 \nL 57.858235 83.002615 \nL 58.19337 79.050757 \nL 58.528505 78.004303 \nL 58.86364 95.605563 \nL 59.198775 87.365648 \nL 59.53391 57.155762 \nL 59.869046 95.163083 \nL 60.204181 65.018911 \nL 60.539316 78.959926 \nL 60.874451 80.609486 \nL 61.209586 68.669443 \nL 61.544721 74.54881 \nL 61.879856 86.349065 \nL 62.550127 53.099471 \nL 62.885262 70.721223 \nL 63.220397 58.416682 \nL 63.555532 67.555629 \nL 63.890667 61.2912 \nL 64.225802 77.672041 \nL 64.560938 79.799913 \nL 64.896073 87.803742 \nL 65.231208 75.507585 \nL 65.566343 69.192339 \nL 65.901478 83.86068 \nL 66.236613 64.474065 \nL 66.571748 66.371258 \nL 66.906883 76.460697 \nL 67.242019 66.401013 \nL 67.577154 63.84524 \nL 67.912289 51.938819 \nL 68.247424 44.770491 \nL 68.582559 74.494421 \nL 68.917694 53.713151 \nL 69.252829 74.233626 \nL 69.587965 70.665365 \nL 69.9231 50.327156 \nL 70.258235 48.27425 \nL 70.59337 57.386206 \nL 70.928505 54.074284 \nL 71.26364 64.309854 \nL 71.93391 56.073432 \nL 72.269046 61.291651 \nL 72.604181 57.09503 \nL 72.939316 50.108217 \nL 73.274451 66.0447 \nL 73.609586 47.303926 \nL 73.944721 50.420719 \nL 74.279856 56.316715 \nL 74.614992 53.109144 \nL 74.950127 61.308101 \nL 75.285262 49.668513 \nL 75.955532 57.598539 \nL 76.290667 60.620321 \nL 76.625802 52.821927 \nL 76.960938 41.503776 \nL 77.296073 49.297477 \nL 77.631208 51.832313 \nL 77.966343 59.491318 \nL 78.301478 52.300821 \nL 78.636613 61.991862 \nL 78.971748 52.444732 \nL 79.306883 49.604336 \nL 79.977154 32.797702 \nL 80.647424 54.205978 \nL 80.982559 42.243368 \nL 81.317694 55.109889 \nL 81.652829 47.366104 \nL 81.987965 34.971479 \nL 82.658235 51.363411 \nL 82.99337 47.770551 \nL 83.328505 40.084202 \nL 83.66364 59.023247 \nL 83.998775 62.165994 \nL 84.33391 29.941196 \nL 84.669046 27.789323 \nL 85.339316 50.543519 \nL 85.674451 50.616056 \nL 86.009586 27.015636 \nL 86.344721 61.388146 \nL 86.679856 29.334849 \nL 87.014992 40.642092 \nL 87.350127 37.801561 \nL 87.685262 44.18388 \nL 88.355532 15.604185 \nL 88.690667 38.263014 \nL 89.025802 39.189568 \nL 89.360938 53.61353 \nL 89.696073 27.446756 \nL 90.031208 47.097767 \nL 90.366343 52.753843 \nL 90.701478 47.746102 \nL 91.036613 51.746515 \nL 91.371748 39.060969 \nL 91.706883 42.393499 \nL 92.042019 47.970212 \nL 92.377154 15.419806 \nL 92.712289 43.602408 \nL 93.047424 40.709897 \nL 93.382559 48.558035 \nL 93.717694 59.154483 \nL 94.052829 37.942069 \nL 94.387965 35.089166 \nL 94.7231 48.049045 \nL 95.058235 16.834574 \nL 95.39337 26.04266 \nL 95.728505 23.008571 \nL 96.06364 44.675922 \nL 96.398775 31.201622 \nL 96.73391 34.839512 \nL 97.069046 34.64535 \nL 97.404181 46.577335 \nL 97.739316 49.820923 \nL 98.074451 35.652687 \nL 98.409586 40.402875 \nL 98.744721 36.936538 \nL 99.079856 49.463556 \nL 99.414992 37.271643 \nL 99.750127 18.238982 \nL 100.085262 29.384189 \nL 100.420397 49.342378 \nL 100.755532 18.734346 \nL 101.090667 49.215662 \nL 101.425802 51.577903 \nL 101.760938 50.675348 \nL 102.096073 43.104981 \nL 102.431208 38.867334 \nL 102.766343 54.031345 \nL 103.101478 48.25902 \nL 103.436613 32.426172 \nL 103.771748 24.048797 \nL 104.442019 36.050586 \nL 104.777154 43.991647 \nL 105.447424 27.569331 \nL 105.782559 36.953169 \nL 106.117694 35.911965 \nL 106.452829 38.1738 \nL 106.787965 32.639091 \nL 107.1231 19.709279 \nL 107.458235 38.56394 \nL 107.79337 21.028515 \nL 108.128505 39.010921 \nL 108.46364 37.719369 \nL 108.798775 54.84092 \nL 109.13391 54.194738 \nL 109.804181 32.540952 \nL 110.139316 40.200319 \nL 110.474451 25.428376 \nL 110.809586 40.970337 \nL 111.144721 35.177964 \nL 111.479856 36.57465 \nL 111.814992 28.198189 \nL 112.150127 42.423082 \nL 112.485262 33.902271 \nL 112.820397 36.332706 \nL 113.155532 51.31262 \nL 113.490667 39.050213 \nL 113.825802 44.878009 \nL 114.160938 43.51534 \nL 114.496073 32.194128 \nL 114.831208 41.180603 \nL 115.166343 40.362359 \nL 115.501478 33.092199 \nL 115.836613 32.578692 \nL 116.171748 53.433966 \nL 116.506883 50.76862 \nL 116.842019 40.67442 \nL 117.177154 45.090588 \nL 117.512289 45.635024 \nL 117.847424 34.718838 \nL 118.182559 53.587741 \nL 118.852829 38.087171 \nL 119.187965 20.208991 \nL 119.5231 52.136428 \nL 119.858235 41.93541 \nL 120.19337 40.694603 \nL 120.528505 37.072396 \nL 120.86364 40.126168 \nL 121.198775 41.2655 \nL 121.53391 39.331661 \nL 121.869046 45.107952 \nL 122.204181 46.513047 \nL 122.539316 24.995932 \nL 122.874451 40.305042 \nL 123.209586 44.45413 \nL 123.544721 42.594795 \nL 123.879856 53.713215 \nL 124.214992 29.315148 \nL 124.550127 40.586027 \nL 124.885262 73.497677 \nL 125.220397 46.658223 \nL 125.555532 40.430897 \nL 125.890667 66.423969 \nL 126.225802 40.227788 \nL 126.560938 31.932642 \nL 126.896073 54.118373 \nL 127.231208 55.691066 \nL 127.566343 43.800499 \nL 127.901478 42.823352 \nL 128.236613 42.512839 \nL 128.571748 37.7855 \nL 128.906883 51.369817 \nL 129.242019 34.664475 \nL 129.912289 57.861141 \nL 130.247424 37.930056 \nL 130.917694 56.428787 \nL 131.252829 45.600344 \nL 131.9231 63.29553 \nL 132.258235 44.247759 \nL 132.59337 63.929203 \nL 132.928505 65.715858 \nL 133.26364 52.474328 \nL 133.598775 69.463551 \nL 133.93391 46.131307 \nL 134.269046 53.938037 \nL 134.604181 56.553939 \nL 134.939316 54.506548 \nL 135.944721 58.448584 \nL 136.279856 63.782159 \nL 136.614992 78.687905 \nL 136.950127 44.7216 \nL 137.285262 52.611388 \nL 137.620397 56.858223 \nL 137.955532 58.343829 \nL 138.290667 68.455768 \nL 138.625802 71.022616 \nL 138.960938 54.613136 \nL 139.296073 60.604303 \nL 139.631208 36.373789 \nL 139.966343 78.95895 \nL 140.301478 66.47967 \nL 140.636613 68.281726 \nL 140.971748 81.927486 \nL 141.306883 61.032453 \nL 141.642019 77.846856 \nL 141.977154 72.232717 \nL 142.312289 77.564784 \nL 142.647424 69.58947 \nL 142.982559 77.787723 \nL 143.317694 89.17417 \nL 143.652829 80.452624 \nL 143.987965 75.831954 \nL 144.3231 69.137146 \nL 144.658235 72.918772 \nL 145.328505 65.43422 \nL 145.66364 75.568562 \nL 145.998775 70.672847 \nL 146.33391 62.421773 \nL 146.669046 70.268286 \nL 147.004181 67.886988 \nL 147.674451 75.887776 \nL 148.009586 81.712717 \nL 148.344721 75.22331 \nL 148.679856 66.128708 \nL 149.350127 81.8517 \nL 149.685262 74.01852 \nL 150.355532 80.882165 \nL 150.690667 76.61753 \nL 151.025802 90.693354 \nL 151.360938 65.269155 \nL 151.696073 91.281138 \nL 152.031208 95.193486 \nL 152.366343 60.082503 \nL 152.701478 82.176127 \nL 153.036613 79.907383 \nL 153.371748 86.809075 \nL 153.706883 77.124589 \nL 154.042019 82.427707 \nL 154.377154 85.38188 \nL 154.712289 92.222129 \nL 155.047424 94.410845 \nL 155.717694 73.363211 \nL 156.387965 105.815846 \nL 156.7231 95.207771 \nL 157.058235 117.145544 \nL 157.39337 82.40511 \nL 157.728505 85.997468 \nL 158.06364 68.622586 \nL 158.398775 89.959716 \nL 158.73391 70.181859 \nL 159.069046 107.73358 \nL 159.404181 87.03171 \nL 159.739316 103.530643 \nL 160.074451 83.389432 \nL 160.409586 94.029129 \nL 160.744721 108.487824 \nL 161.750127 73.244637 \nL 162.085262 82.282778 \nL 162.420397 79.455499 \nL 162.755532 109.795086 \nL 163.090667 95.139263 \nL 163.425802 108.862969 \nL 164.096073 78.582706 \nL 164.431208 109.474235 \nL 164.766343 92.155031 \nL 165.101478 98.885036 \nL 165.436613 100.389442 \nL 165.771748 96.442337 \nL 166.106883 111.012404 \nL 166.442019 115.700525 \nL 166.777154 86.063491 \nL 167.447424 115.744117 \nL 167.782559 104.111282 \nL 168.117694 96.969291 \nL 168.452829 95.600163 \nL 168.787965 91.508162 \nL 169.1231 94.60021 \nL 169.458235 106.037784 \nL 169.79337 95.521339 \nL 170.128505 96.203364 \nL 170.46364 107.717366 \nL 170.798775 105.468536 \nL 171.13391 110.599822 \nL 171.469046 129.330805 \nL 171.804181 117.999048 \nL 172.474451 106.282752 \nL 172.809586 109.8858 \nL 173.144721 110.399283 \nL 173.479856 110.385328 \nL 173.814992 128.496453 \nL 174.150127 115.176192 \nL 174.485262 107.254575 \nL 174.820397 122.858244 \nL 175.155532 113.178644 \nL 175.490667 108.279786 \nL 175.825802 116.104975 \nL 176.160938 114.197379 \nL 176.496073 120.969577 \nL 176.831208 105.982109 \nL 177.166343 118.604521 \nL 177.501478 109.418213 \nL 177.836613 117.356267 \nL 178.171748 112.720191 \nL 178.506883 120.894062 \nL 178.842019 111.843284 \nL 179.177154 113.046805 \nL 179.512289 109.440267 \nL 179.847424 129.403274 \nL 180.517694 110.784132 \nL 180.852829 143.18356 \nL 181.187965 117.6166 \nL 181.5231 121.917289 \nL 181.858235 116.855598 \nL 182.528505 147.095645 \nL 182.86364 111.653633 \nL 183.198775 125.504567 \nL 183.53391 132.64559 \nL 183.869046 110.595458 \nL 184.204181 126.177339 \nL 184.539316 100.151262 \nL 184.874451 128.193237 \nL 185.209586 130.393624 \nL 185.544721 122.488072 \nL 185.879856 129.995646 \nL 186.214992 122.526469 \nL 186.550127 128.217235 \nL 186.885262 128.844179 \nL 187.220397 123.091269 \nL 187.890667 144.107357 \nL 188.225802 137.386074 \nL 188.560938 135.597371 \nL 188.896073 145.661059 \nL 189.231208 116.697195 \nL 189.566343 156.233672 \nL 189.901478 145.921668 \nL 190.236613 142.485367 \nL 190.571748 122.589379 \nL 190.906883 150.332711 \nL 191.242019 114.425175 \nL 191.577154 135.888372 \nL 191.912289 138.334464 \nL 192.247424 138.590966 \nL 192.582559 121.417435 \nL 192.917694 137.176802 \nL 193.252829 123.971851 \nL 193.587965 126.203367 \nL 193.9231 130.277271 \nL 194.258235 139.201263 \nL 194.59337 131.078556 \nL 194.928505 144.203827 \nL 195.26364 125.381099 \nL 195.598775 128.704177 \nL 195.93391 147.128626 \nL 196.269046 144.783609 \nL 196.604181 145.276869 \nL 196.939316 124.806116 \nL 197.274451 137.67134 \nL 197.609586 129.148649 \nL 197.944721 127.484902 \nL 198.279856 145.508453 \nL 198.614992 149.76059 \nL 198.950127 135.369351 \nL 199.285262 134.450716 \nL 199.620397 140.478158 \nL 199.955532 133.402887 \nL 200.290667 129.761587 \nL 200.625802 115.698433 \nL 200.960938 143.29128 \nL 201.296073 129.600301 \nL 201.631208 125.439954 \nL 201.966343 151.789421 \nL 202.301478 154.135181 \nL 202.971748 140.821669 \nL 203.306883 150.655362 \nL 203.642019 133.461602 \nL 203.977154 163.674351 \nL 204.312289 138.03809 \nL 204.647424 150.597036 \nL 204.982559 141.196555 \nL 205.317694 145.167223 \nL 205.652829 138.378378 \nL 206.3231 145.651638 \nL 206.658235 145.56476 \nL 206.99337 129.287188 \nL 207.66364 158.432143 \nL 207.998775 142.227169 \nL 208.33391 138.926056 \nL 208.669046 119.735345 \nL 209.339316 152.315644 \nL 209.674451 151.584973 \nL 210.009586 124.126156 \nL 210.344721 130.407907 \nL 210.679856 129.293647 \nL 211.014992 149.362004 \nL 211.350127 155.059198 \nL 211.685262 145.433382 \nL 212.020397 125.023854 \nL 212.355532 130.163187 \nL 212.690667 109.538163 \nL 213.025802 146.521304 \nL 213.360938 125.176653 \nL 213.696073 151.555856 \nL 214.031208 131.65214 \nL 214.366343 152.470495 \nL 214.701478 138.373379 \nL 215.036613 130.506156 \nL 215.371748 146.336741 \nL 215.706883 149.078369 \nL 216.042019 133.089508 \nL 216.377154 133.079157 \nL 216.712289 128.837097 \nL 217.047424 136.091809 \nL 217.382559 128.688533 \nL 217.717694 131.72813 \nL 218.052829 143.210015 \nL 218.387965 128.430862 \nL 218.7231 150.002123 \nL 219.058235 132.89755 \nL 219.39337 151.376764 \nL 219.728505 119.86595 \nL 220.06364 122.50885 \nL 220.398775 147.124523 \nL 221.069046 132.111508 \nL 221.404181 130.056811 \nL 221.739316 132.798227 \nL 222.074451 141.42682 \nL 222.409586 131.158941 \nL 222.744721 144.560257 \nL 223.079856 117.538309 \nL 223.414992 124.758249 \nL 223.750127 126.395855 \nL 224.085262 123.043515 \nL 224.420397 117.180592 \nL 224.755532 147.087659 \nL 225.090667 144.876381 \nL 225.425802 140.85151 \nL 225.760938 133.198577 \nL 226.096073 145.963923 \nL 226.431208 145.494591 \nL 226.766343 128.405794 \nL 227.101478 138.102861 \nL 227.436613 133.430394 \nL 227.771748 139.066125 \nL 228.106883 151.772762 \nL 229.112289 122.732638 \nL 229.447424 126.816694 \nL 229.782559 110.988504 \nL 230.117694 126.324139 \nL 230.452829 131.358434 \nL 230.787965 122.42024 \nL 231.1231 132.781314 \nL 231.458235 116.488886 \nL 231.79337 126.051297 \nL 232.128505 141.734934 \nL 232.46364 117.335772 \nL 232.798775 117.911428 \nL 233.13391 140.176104 \nL 233.469046 138.576128 \nL 233.804181 135.602772 \nL 234.139316 140.451249 \nL 234.474451 118.766871 \nL 234.809586 117.152911 \nL 235.144721 109.219207 \nL 235.479856 119.286107 \nL 235.814992 117.037941 \nL 236.150127 115.937181 \nL 236.485262 133.150461 \nL 236.820397 136.508952 \nL 237.155532 113.856686 \nL 237.490667 146.332687 \nL 237.825802 109.957009 \nL 238.496073 104.437295 \nL 238.831208 119.547261 \nL 239.166343 126.005506 \nL 239.501478 103.441215 \nL 240.171748 119.388257 \nL 240.506883 116.919496 \nL 241.177154 116.670621 \nL 241.512289 114.296076 \nL 241.847424 119.405693 \nL 242.182559 121.370267 \nL 242.517694 122.209697 \nL 243.187965 126.205201 \nL 243.5231 118.370508 \nL 243.858235 118.307598 \nL 244.528505 108.353682 \nL 244.86364 129.36216 \nL 245.198775 117.534991 \nL 245.53391 93.394577 \nL 245.869046 129.470702 \nL 246.204181 132.521855 \nL 246.539316 116.955541 \nL 246.874451 111.730467 \nL 247.209586 110.513073 \nL 247.544721 97.565769 \nL 248.214992 117.074001 \nL 248.550127 110.73266 \nL 248.885262 114.963294 \nL 249.220397 111.134182 \nL 249.555532 128.366563 \nL 249.890667 98.601798 \nL 250.225802 112.828031 \nL 250.560938 93.516228 \nL 250.896073 102.445167 \nL 251.231208 99.979733 \nL 251.566343 122.933768 \nL 251.901478 98.863214 \nL 252.236613 111.831351 \nL 252.571748 112.050335 \nL 252.906883 104.548289 \nL 253.242019 92.876751 \nL 253.577154 109.888836 \nL 254.247424 89.612466 \nL 254.917694 102.558993 \nL 255.252829 89.617753 \nL 255.587965 93.584311 \nL 255.9231 95.512829 \nL 256.258235 110.373782 \nL 256.59337 86.816321 \nL 256.928505 116.307169 \nL 257.26364 113.232291 \nL 257.598775 102.764674 \nL 257.93391 86.747744 \nL 258.269046 86.697419 \nL 258.604181 97.514778 \nL 258.939316 94.29395 \nL 259.274451 87.446219 \nL 259.609586 98.317005 \nL 259.944721 102.247959 \nL 260.279856 108.104384 \nL 260.614992 84.03255 \nL 260.950127 84.253461 \nL 261.285262 80.021954 \nL 261.620397 95.789655 \nL 262.290667 78.857021 \nL 262.625802 91.749856 \nL 262.960938 81.787459 \nL 263.296073 98.107937 \nL 263.631208 82.540398 \nL 263.966343 85.282705 \nL 264.301478 96.921502 \nL 264.636613 73.018421 \nL 264.971748 101.854456 \nL 265.306883 71.000435 \nL 265.642019 63.392878 \nL 265.977154 77.894326 \nL 266.312289 99.200028 \nL 266.647424 74.90253 \nL 266.982559 81.464174 \nL 267.317694 71.937644 \nL 267.652829 89.712425 \nL 267.987965 87.346821 \nL 268.3231 70.495233 \nL 268.658235 75.364232 \nL 268.99337 66.967187 \nL 269.328505 95.823118 \nL 269.66364 81.136708 \nL 269.998775 59.071473 \nL 270.33391 87.888984 \nL 270.669046 87.653069 \nL 271.004181 67.779291 \nL 271.339316 56.387952 \nL 271.674451 70.046998 \nL 272.009586 69.942932 \nL 272.344721 66.173185 \nL 273.014992 82.425837 \nL 273.350127 81.811233 \nL 273.685262 75.988649 \nL 274.020397 91.198566 \nL 274.355532 72.706085 \nL 274.690667 80.381538 \nL 275.360937 57.333575 \nL 275.696073 51.92216 \nL 276.031208 77.552756 \nL 276.366343 78.782106 \nL 276.701478 65.744998 \nL 277.036613 64.370128 \nL 277.371748 61.055375 \nL 277.706883 77.547642 \nL 278.042019 53.418991 \nL 278.377154 63.199522 \nL 278.712289 61.115295 \nL 279.047424 75.521899 \nL 279.382559 52.009387 \nL 279.717694 48.53354 \nL 280.052829 74.129302 \nL 280.387965 72.070942 \nL 280.7231 51.480126 \nL 281.39337 61.545147 \nL 281.728505 53.021978 \nL 282.06364 17.310341 \nL 282.398775 57.665304 \nL 282.73391 61.531822 \nL 283.069046 58.593465 \nL 283.404181 73.927507 \nL 283.739316 82.901281 \nL 284.074451 42.232502 \nL 284.409586 72.862037 \nL 284.744721 65.222597 \nL 285.079856 60.58691 \nL 285.750127 65.584274 \nL 286.085262 35.69255 \nL 286.755532 60.716059 \nL 287.090667 47.015885 \nL 287.425802 51.2514 \nL 287.760938 72.385818 \nL 288.096073 43.813128 \nL 288.431208 43.386128 \nL 289.101478 63.939547 \nL 289.436613 50.467489 \nL 289.771748 28.076085 \nL 290.106883 44.99676 \nL 290.442019 48.612263 \nL 290.777154 56.272777 \nL 291.112289 56.896647 \nL 291.447424 51.93474 \nL 291.782559 51.647928 \nL 292.117694 52.65947 \nL 292.452829 56.172485 \nL 292.787965 47.205168 \nL 293.1231 48.165665 \nL 293.79337 33.54713 \nL 294.128505 43.356493 \nL 294.46364 45.267999 \nL 294.798775 49.200681 \nL 295.13391 42.149964 \nL 295.469046 53.669028 \nL 295.804181 49.106341 \nL 296.139316 38.66679 \nL 296.474451 48.146399 \nL 296.809586 37.438744 \nL 297.144721 45.550919 \nL 297.479856 34.600868 \nL 297.814992 58.924552 \nL 298.150127 38.4167 \nL 298.485262 40.730899 \nL 298.820397 57.549414 \nL 299.155532 57.221056 \nL 299.490667 40.217079 \nL 299.825802 29.093126 \nL 300.160938 32.620058 \nL 300.496073 54.80548 \nL 300.831208 46.359598 \nL 301.166343 50.613636 \nL 301.501478 33.370951 \nL 301.836613 25.220468 \nL 302.171748 41.38729 \nL 302.506883 27.090112 \nL 302.842019 49.472836 \nL 303.177154 40.237044 \nL 303.847424 46.559479 \nL 304.182559 47.779138 \nL 304.517694 39.86134 \nL 304.852829 38.060621 \nL 305.187965 38.201251 \nL 305.5231 44.733901 \nL 305.858235 39.133089 \nL 306.19337 45.707493 \nL 306.86364 53.453809 \nL 307.198775 38.353211 \nL 307.53391 35.460022 \nL 307.869046 22.90823 \nL 308.204181 50.99852 \nL 308.539316 30.958421 \nL 308.874451 33.491111 \nL 309.544721 39.555084 \nL 309.879856 23.716486 \nL 310.214992 50.41009 \nL 310.550127 32.230182 \nL 310.885262 27.594424 \nL 311.220397 34.674092 \nL 311.555532 36.340999 \nL 311.890667 39.431518 \nL 312.225802 46.39552 \nL 312.896073 20.307811 \nL 313.231208 39.512964 \nL 313.566343 37.211619 \nL 313.901478 27.281514 \nL 314.236613 37.495213 \nL 314.571748 18.340716 \nL 314.906883 51.63272 \nL 315.242019 47.237045 \nL 315.577154 46.540671 \nL 315.912289 20.46738 \nL 316.247424 35.797522 \nL 316.582559 39.372499 \nL 316.917694 37.4969 \nL 317.252829 34.447894 \nL 317.587965 20.98361 \nL 317.9231 23.237579 \nL 318.258235 51.319095 \nL 318.59337 36.728121 \nL 318.928505 47.680778 \nL 319.26364 37.396246 \nL 319.598775 42.085373 \nL 319.93391 62.359049 \nL 320.269046 29.516689 \nL 320.604181 59.423517 \nL 320.939316 53.743884 \nL 321.274451 33.713034 \nL 321.609586 34.366475 \nL 321.944721 42.809812 \nL 322.279856 20.21948 \nL 322.614992 28.761655 \nL 322.950127 41.974301 \nL 323.285262 49.724578 \nL 323.620397 25.132916 \nL 323.955532 59.690308 \nL 324.290667 34.157451 \nL 324.625802 41.593438 \nL 324.960938 37.916568 \nL 325.296073 52.580174 \nL 325.631208 36.00213 \nL 325.966343 31.58518 \nL 326.301478 39.088687 \nL 326.636613 42.765186 \nL 326.971748 24.042424 \nL 327.306883 67.782665 \nL 327.642019 61.832827 \nL 327.977154 42.991759 \nL 328.312289 56.381969 \nL 328.647424 54.017483 \nL 328.982559 39.202584 \nL 329.317694 52.300707 \nL 329.987965 21.333599 \nL 330.3231 24.301027 \nL 330.658235 47.078415 \nL 330.99337 25.019774 \nL 331.328505 57.792953 \nL 331.66364 43.626921 \nL 331.998775 57.373904 \nL 332.33391 50.273005 \nL 332.669046 16.978201 \nL 333.004181 57.738878 \nL 333.339316 37.98847 \nL 333.674451 75.310887 \nL 334.009586 22.747373 \nL 334.679856 42.254626 \nL 335.014992 44.896051 \nL 335.350127 52.121223 \nL 335.685262 48.581459 \nL 336.355532 30.871586 \nL 336.690667 57.067471 \nL 337.025802 55.147151 \nL 337.360937 74.58781 \nL 338.031208 35.346806 \nL 338.701478 47.448409 \nL 339.036613 56.617328 \nL 339.371748 57.511851 \nL 339.706883 61.659992 \nL 340.042019 42.201352 \nL 340.377154 49.950501 \nL 340.712289 63.043357 \nL 341.047424 54.195045 \nL 341.382559 53.34089 \nL 341.717694 61.940467 \nL 342.052829 61.006228 \nL 342.387965 61.071028 \nL 342.7231 63.111078 \nL 343.058235 59.438317 \nL 343.39337 50.719111 \nL 343.728505 47.29287 \nL 344.06364 46.647044 \nL 344.398775 49.336478 \nL 344.73391 60.782818 \nL 345.069046 42.923782 \nL 345.404181 60.686954 \nL 345.739316 65.968361 \nL 346.074451 50.601489 \nL 346.409586 57.798531 \nL 346.744721 33.333609 \nL 347.079856 63.166183 \nL 347.414992 57.430874 \nL 347.750127 71.810037 \nL 348.085262 67.60276 \nL 348.420397 82.79992 \nL 348.755532 63.833488 \nL 349.090667 77.963505 \nL 349.425802 56.646577 \nL 349.760938 50.101466 \nL 350.096073 84.411414 \nL 350.431208 62.701222 \nL 350.766343 67.517211 \nL 351.101478 63.505504 \nL 351.436613 41.21532 \nL 351.771748 62.848683 \nL 352.106883 54.880909 \nL 352.442019 70.992799 \nL 352.777154 78.118357 \nL 353.112289 66.706535 \nL 353.447424 59.379774 \nL 353.782559 79.648919 \nL 354.117694 68.632007 \nL 354.787965 76.60985 \nL 355.1231 90.635548 \nL 355.458235 74.914367 \nL 355.79337 88.016475 \nL 356.128505 69.768447 \nL 356.46364 102.058291 \nL 357.13391 53.557615 \nL 357.469046 76.817156 \nL 357.804181 62.967104 \nL 358.139316 73.673478 \nL 358.474451 54.416094 \nL 358.809586 84.024733 \nL 359.144721 85.37414 \nL 359.479856 97.733914 \nL 359.814992 76.178396 \nL 360.150127 75.066559 \nL 360.485262 93.13585 \nL 360.820397 56.953176 \nL 361.825802 74.273075 \nL 362.160938 72.575454 \nL 362.496073 98.711066 \nL 362.831208 65.410764 \nL 363.501478 98.649967 \nL 363.836613 71.9916 \nL 364.171748 67.943725 \nL 364.506883 94.461762 \nL 364.842019 77.465185 \nL 365.177154 70.937456 \nL 365.512289 91.153137 \nL 365.847424 81.018141 \nL 366.182559 93.342429 \nL 366.517694 109.980576 \nL 366.852829 77.531873 \nL 367.187965 95.121476 \nL 367.5231 86.846474 \nL 368.19337 108.517798 \nL 368.528505 93.476365 \nL 368.86364 105.819287 \nL 369.198775 101.596062 \nL 369.53391 83.910265 \nL 369.869046 79.346474 \nL 370.204181 89.786729 \nL 370.539316 74.000873 \nL 370.874451 109.112788 \nL 371.209586 80.861286 \nL 371.879856 101.598882 \nL 372.214992 93.840738 \nL 372.550127 82.043915 \nL 372.885262 107.899514 \nL 373.220397 94.241001 \nL 373.555532 119.851671 \nL 373.890667 108.443367 \nL 374.225802 90.278611 \nL 374.560938 114.723982 \nL 374.896073 103.78933 \nL 375.231208 76.686903 \nL 375.566343 105.605402 \nL 375.901478 101.980481 \nL 376.236613 121.057286 \nL 376.571748 124.321892 \nL 376.906883 104.070879 \nL 377.242019 98.551036 \nL 377.577154 135.66767 \nL 377.912289 104.460587 \nL 378.247424 112.157875 \nL 378.582559 105.307546 \nL 378.917694 107.454434 \nL 379.252829 95.137364 \nL 379.587965 124.096399 \nL 379.9231 94.095904 \nL 380.258235 122.924752 \nL 380.59337 115.652274 \nL 380.928505 118.661776 \nL 381.26364 112.778345 \nL 381.598775 94.33699 \nL 381.93391 113.218778 \nL 382.269046 112.706964 \nL 382.604181 105.623383 \nL 382.939316 106.219718 \nL 383.274451 98.513983 \nL 383.609586 102.983341 \nL 383.944721 118.464381 \nL 384.614992 124.740627 \nL 385.285262 109.308492 \nL 385.620397 122.023015 \nL 385.955532 126.615116 \nL 386.290667 129.502113 \nL 386.625802 127.894722 \nL 386.960938 121.145556 \nL 386.960938 121.145556 \n\" clip-path=\"url(#pccbf90fa80)\" style=\"fill: none; stroke: #1f77b4; stroke-width: 1.5; stroke-linecap: square\"/>\n   </g>\n   <g id=\"line2d_26\">\n    <path d=\"M 53.501478 89.042114 \nL 53.836613 72.363075 \nL 54.171748 67.313584 \nL 54.506883 71.94015 \nL 54.842019 81.316072 \nL 55.177154 86.634541 \nL 55.512289 87.60119 \nL 55.847424 85.625029 \nL 56.182559 80.210378 \nL 56.517694 82.795971 \nL 56.852829 81.318282 \nL 57.187965 81.023474 \nL 57.5231 79.558641 \nL 57.858235 87.813745 \nL 58.19337 86.4462 \nL 58.528505 86.866829 \nL 58.86364 84.918593 \nL 59.198775 85.187494 \nL 59.53391 88.443598 \nL 59.869046 82.133513 \nL 60.204181 85.085871 \nL 60.539316 78.32594 \nL 60.874451 76.474582 \nL 61.209586 80.289951 \nL 61.544721 72.474949 \nL 61.879856 72.590934 \nL 62.214992 76.66284 \nL 62.550127 73.983636 \nL 62.885262 66.914849 \nL 63.220397 62.537022 \nL 63.555532 60.988447 \nL 63.890667 58.05772 \nL 64.225802 60.298519 \nL 64.560938 60.861982 \nL 65.231208 76.666012 \nL 65.566343 80.456061 \nL 65.901478 76.995571 \nL 66.236613 77.135518 \nL 66.906883 67.04567 \nL 67.242019 69.278887 \nL 67.577154 64.546918 \nL 67.912289 63.005609 \nL 68.247424 60.217447 \nL 68.582559 53.185275 \nL 68.917694 52.094667 \nL 69.252829 54.27922 \nL 69.587965 57.690955 \nL 69.9231 68.258168 \nL 70.258235 58.54714 \nL 70.59337 55.565951 \nL 70.928505 51.203094 \nL 71.26364 49.795922 \nL 71.93391 55.80875 \nL 72.269046 55.231416 \nL 72.604181 55.156772 \nL 72.939316 55.222203 \nL 73.274451 52.797699 \nL 73.609586 52.789354 \nL 73.944721 52.453899 \nL 74.279856 49.649345 \nL 74.614992 50.267595 \nL 74.950127 48.882747 \nL 75.285262 51.804617 \nL 75.620397 52.219764 \nL 75.955532 50.899829 \nL 76.290667 51.483971 \nL 76.625802 52.616553 \nL 76.960938 53.201254 \nL 77.631208 46.734069 \nL 77.966343 46.27184 \nL 78.971748 52.479679 \nL 79.306883 53.834248 \nL 79.977154 48.322896 \nL 80.312289 40.658469 \nL 80.647424 38.938899 \nL 80.982559 41.272038 \nL 81.317694 40.252912 \nL 81.652829 46.17237 \nL 81.987965 47.145104 \nL 82.3231 41.130914 \nL 82.658235 41.666821 \nL 83.328505 41.549502 \nL 83.66364 41.967443 \nL 83.998775 45.223974 \nL 84.33391 50.021866 \nL 84.669046 43.998943 \nL 85.339316 36.145346 \nL 85.674451 35.316622 \nL 86.009586 40.120206 \nL 86.344721 38.157202 \nL 86.679856 41.839872 \nL 87.014992 39.887371 \nL 87.350127 36.206168 \nL 87.685262 39.881618 \nL 88.020397 35.452434 \nL 88.355532 35.378413 \nL 88.690667 28.155112 \nL 89.025802 29.154942 \nL 89.360938 28.945549 \nL 89.696073 35.600158 \nL 90.031208 36.485778 \nL 90.366343 38.751548 \nL 90.701478 42.680768 \nL 91.036613 41.294429 \nL 91.371748 46.706201 \nL 91.706883 44.705391 \nL 92.042019 41.668836 \nL 92.377154 42.566712 \nL 92.712289 32.538474 \nL 93.382559 35.110898 \nL 93.717694 35.389588 \nL 94.052829 45.831152 \nL 94.7231 41.094692 \nL 95.058235 40.902912 \nL 95.39337 31.164967 \nL 95.728505 27.097172 \nL 96.06364 25.832194 \nL 96.398775 26.272533 \nL 97.404181 33.423615 \nL 97.739316 34.619092 \nL 98.074451 39.324534 \nL 98.409586 38.244393 \nL 98.744721 39.502347 \nL 99.079856 37.817855 \nL 99.414992 38.269397 \nL 99.750127 38.145094 \nL 100.085262 31.284856 \nL 100.420397 29.984696 \nL 100.755532 31.933446 \nL 101.090667 25.681072 \nL 101.760938 41.26012 \nL 102.096073 40.646294 \nL 102.431208 45.364678 \nL 102.766343 42.595663 \nL 103.101478 42.912934 \nL 103.436613 43.484135 \nL 104.106883 35.815009 \nL 104.442019 30.409111 \nL 104.777154 27.861418 \nL 105.112289 31.55496 \nL 105.447424 33.007787 \nL 105.782559 31.769283 \nL 106.117694 32.601172 \nL 106.452829 30.958948 \nL 107.1231 32.703642 \nL 107.458235 27.86332 \nL 107.79337 29.25881 \nL 108.128505 25.211047 \nL 108.46364 27.190269 \nL 109.13391 36.938096 \nL 109.469046 44.332748 \nL 109.804181 43.630418 \nL 110.139316 42.125567 \nL 110.474451 39.003941 \nL 110.809586 31.910518 \nL 111.144721 31.928275 \nL 111.479856 32.877299 \nL 111.814992 31.522132 \nL 112.150127 31.968506 \nL 112.485262 32.852378 \nL 112.820397 32.531322 \nL 113.155532 32.017367 \nL 113.490667 38.738692 \nL 113.825802 37.295516 \nL 114.496073 41.909118 \nL 114.831208 36.406905 \nL 115.166343 37.046294 \nL 115.501478 36.597669 \nL 115.836613 33.238157 \nL 116.171748 33.328703 \nL 116.842019 40.504268 \nL 117.177154 40.868861 \nL 117.512289 44.1416 \nL 117.847424 42.73173 \nL 118.182559 38.141227 \nL 118.517694 41.556166 \nL 118.852829 42.449399 \nL 119.5231 35.635899 \nL 119.858235 34.795638 \nL 120.19337 36.128613 \nL 120.528505 35.884394 \nL 120.86364 39.822139 \nL 121.198775 36.732203 \nL 121.53391 36.807022 \nL 121.869046 36.255286 \nL 122.539316 40.199015 \nL 122.874451 35.377922 \nL 123.209586 35.564497 \nL 123.544721 36.801716 \nL 123.879856 35.568643 \nL 124.214992 42.912168 \nL 124.550127 39.346361 \nL 124.885262 37.747103 \nL 125.220397 45.620275 \nL 125.555532 45.041119 \nL 125.890667 45.779816 \nL 126.225802 49.635235 \nL 126.560938 45.908605 \nL 126.896073 40.190787 \nL 127.231208 42.371513 \nL 127.566343 43.659942 \nL 127.901478 43.131224 \nL 128.236613 45.552584 \nL 128.571748 43.198765 \nL 128.906883 38.493494 \nL 129.242019 41.055779 \nL 129.577154 38.679747 \nL 129.912289 39.754187 \nL 130.247424 44.442274 \nL 130.582559 41.168409 \nL 131.252829 46.199002 \nL 131.587965 43.905054 \nL 131.9231 47.792307 \nL 132.258235 50.365176 \nL 132.59337 48.558685 \nL 132.928505 51.099333 \nL 133.26364 57.449048 \nL 133.598775 53.200364 \nL 133.93391 56.439816 \nL 134.269046 55.814117 \nL 134.604181 51.452941 \nL 134.939316 51.906273 \nL 135.274451 49.833706 \nL 135.609586 51.930327 \nL 136.279856 53.062243 \nL 136.614992 54.628185 \nL 136.950127 59.803128 \nL 137.285262 58.315731 \nL 137.620397 54.189368 \nL 137.955532 54.242161 \nL 138.290667 50.61732 \nL 138.960938 59.48156 \nL 139.296073 59.857601 \nL 139.631208 57.571305 \nL 139.966343 52.585182 \nL 140.301478 51.022214 \nL 140.636613 65.197658 \nL 140.971748 60.695584 \nL 141.306883 71.109649 \nL 141.642019 66.665412 \nL 142.312289 71.594387 \nL 142.647424 70.975519 \nL 142.982559 71.832039 \nL 143.317694 71.100606 \nL 143.652829 78.57651 \nL 143.987965 79.905119 \nL 144.3231 79.855035 \nL 144.658235 77.224055 \nL 144.99337 70.837843 \nL 145.66364 63.778521 \nL 145.998775 65.643202 \nL 146.33391 66.757144 \nL 146.669046 64.0966 \nL 147.004181 62.971168 \nL 147.339316 63.679441 \nL 147.674451 63.067246 \nL 148.344721 72.60583 \nL 148.679856 74.811118 \nL 149.350127 70.356444 \nL 149.685262 72.779018 \nL 150.020397 72.582923 \nL 150.355532 74.644093 \nL 150.690667 77.832675 \nL 151.025802 76.083124 \nL 151.360938 81.602788 \nL 151.696073 78.388213 \nL 152.031208 80.064129 \nL 152.366343 90.011058 \nL 152.701478 79.801443 \nL 153.036613 84.607656 \nL 153.706883 77.088047 \nL 154.042019 82.033739 \nL 154.377154 80.432765 \nL 155.047424 86.244505 \nL 155.382559 92.181336 \nL 155.717694 90.045782 \nL 156.052829 86.414673 \nL 156.387965 86.082531 \nL 156.7231 92.44561 \nL 157.058235 96.418147 \nL 157.39337 103.750004 \nL 157.728505 103.022799 \nL 158.398775 92.279147 \nL 158.73391 80.333969 \nL 159.069046 79.477383 \nL 159.404181 86.034934 \nL 159.739316 95.502562 \nL 160.074451 93.996609 \nL 160.409586 98.756256 \nL 160.744721 92.302595 \nL 161.079856 101.062867 \nL 161.414992 99.187218 \nL 162.085262 92.548779 \nL 162.755532 79.822696 \nL 163.425802 98.643537 \nL 163.760938 99.764184 \nL 164.096073 105.41173 \nL 164.431208 94.523176 \nL 164.766343 100.869208 \nL 165.101478 99.245124 \nL 165.436613 94.825733 \nL 165.771748 103.799653 \nL 166.106883 98.342201 \nL 166.777154 109.075124 \nL 167.112289 103.325883 \nL 167.447424 105.370938 \nL 167.782559 108.528449 \nL 168.117694 105.151956 \nL 168.787965 106.327451 \nL 169.1231 99.455914 \nL 169.458235 96.479458 \nL 169.79337 99.284072 \nL 170.128505 99.326776 \nL 170.46364 99.125737 \nL 170.798775 104.551347 \nL 171.13391 103.821541 \nL 171.469046 106.851042 \nL 171.804181 116.55386 \nL 172.139316 119.006711 \nL 172.809586 120.382791 \nL 173.144721 115.151703 \nL 173.814992 111.891501 \nL 174.150127 117.852496 \nL 174.485262 119.661728 \nL 174.820397 117.178268 \nL 175.155532 121.450526 \nL 175.825802 114.793912 \nL 176.160938 118.370413 \nL 176.496073 116.487199 \nL 176.831208 117.724176 \nL 177.166343 117.733263 \nL 177.501478 117.590636 \nL 177.836613 117.786 \nL 178.171748 115.11932 \nL 178.506883 118.230678 \nL 178.842019 117.882382 \nL 179.177154 119.400197 \nL 179.512289 117.296626 \nL 179.847424 117.480588 \nL 180.182559 118.880694 \nL 180.517694 121.84392 \nL 180.852829 119.61103 \nL 181.187965 128.542223 \nL 181.5231 127.399625 \nL 181.858235 124.934225 \nL 182.19337 128.745285 \nL 182.528505 124.335996 \nL 182.86364 132.043786 \nL 183.198775 129.723978 \nL 183.53391 130.659796 \nL 183.869046 132.835217 \nL 184.204181 122.738996 \nL 184.539316 126.009444 \nL 185.209586 118.937934 \nL 185.544721 125.009906 \nL 185.879856 122.19413 \nL 186.214992 130.358509 \nL 186.550127 129.777096 \nL 186.885262 128.373111 \nL 187.220397 130.510355 \nL 187.555532 128.68212 \nL 187.890667 131.330749 \nL 188.225802 135.515306 \nL 188.560938 137.610025 \nL 189.231208 143.076294 \nL 189.566343 137.59731 \nL 189.901478 140.475312 \nL 190.236613 144.855324 \nL 190.571748 142.412898 \nL 190.906883 145.241367 \nL 191.242019 142.02293 \nL 191.912289 132.643839 \nL 192.247424 138.380963 \nL 192.582559 134.352099 \nL 192.917694 136.806007 \nL 193.252829 136.056592 \nL 193.587965 134.056037 \nL 193.9231 129.60077 \nL 194.258235 132.496256 \nL 194.59337 132.42129 \nL 194.928505 134.669235 \nL 195.26364 138.193916 \nL 195.598775 138.537452 \nL 195.93391 134.625367 \nL 196.269046 138.924808 \nL 196.604181 139.19144 \nL 196.939316 143.483204 \nL 197.274451 143.785227 \nL 198.279856 132.327524 \nL 198.614992 137.291944 \nL 198.950127 140.540476 \nL 199.620397 143.685886 \nL 199.955532 142.761145 \nL 200.290667 138.875671 \nL 200.625802 137.187757 \nL 200.960938 133.332703 \nL 201.296073 132.619047 \nL 201.631208 133.333279 \nL 201.966343 130.755856 \nL 202.301478 139.653641 \nL 202.971748 146.434874 \nL 203.306883 150.716711 \nL 203.642019 150.207761 \nL 203.977154 146.051383 \nL 204.312289 148.947752 \nL 204.647424 150.202621 \nL 204.982559 147.910176 \nL 205.317694 151.719853 \nL 205.652829 145.721243 \nL 205.987965 146.771234 \nL 206.3231 143.869001 \nL 206.658235 145.228793 \nL 206.99337 145.199351 \nL 207.328505 143.490711 \nL 207.66364 143.074712 \nL 207.998775 146.663968 \nL 208.33391 146.055431 \nL 208.669046 147.896093 \nL 209.004181 143.454535 \nL 209.339316 136.93257 \nL 210.009586 143.061831 \nL 210.344721 144.611816 \nL 210.679856 141.93761 \nL 211.014992 137.373982 \nL 211.350127 135.850966 \nL 211.685262 143.514081 \nL 212.020397 147.008584 \nL 212.355532 146.676125 \nL 212.690667 141.558106 \nL 213.025802 131.692417 \nL 213.360938 130.265976 \nL 213.696073 132.091493 \nL 214.031208 135.968666 \nL 214.366343 142.606404 \nL 214.701478 142.310428 \nL 215.036613 147.014828 \nL 215.371748 140.538525 \nL 215.706883 144.268452 \nL 216.042019 143.76014 \nL 216.377154 142.433851 \nL 216.712289 142.841508 \nL 217.382559 135.297253 \nL 217.717694 134.847935 \nL 218.052829 133.838733 \nL 218.387965 137.464362 \nL 218.7231 136.207647 \nL 219.058235 140.331942 \nL 219.39337 142.240443 \nL 219.728505 142.663975 \nL 220.06364 142.672868 \nL 220.398775 133.817719 \nL 220.73391 137.954604 \nL 221.069046 135.142634 \nL 221.739316 139.96868 \nL 222.074451 136.30367 \nL 222.744721 136.882728 \nL 223.079856 139.429157 \nL 223.414992 137.606749 \nL 223.750127 131.715357 \nL 224.085262 131.892136 \nL 224.420397 125.906971 \nL 224.755532 126.040612 \nL 226.096073 144.326391 \nL 226.431208 143.422406 \nL 226.766343 144.148281 \nL 227.101478 141.100274 \nL 227.436613 141.72704 \nL 228.106883 137.011499 \nL 228.442019 142.858536 \nL 228.777154 144.422727 \nL 229.112289 144.369462 \nL 229.447424 141.089785 \nL 230.117694 127.570682 \nL 230.452829 124.154638 \nL 230.787965 127.185424 \nL 231.1231 125.616338 \nL 231.458235 130.62741 \nL 231.79337 129.529012 \nL 232.128505 126.818611 \nL 232.46364 132.073227 \nL 232.798775 128.867953 \nL 233.13391 128.240187 \nL 233.469046 132.078073 \nL 233.804181 131.477381 \nL 234.139316 135.330043 \nL 234.474451 141.179264 \nL 234.809586 136.90595 \nL 235.814992 119.047653 \nL 236.150127 119.239758 \nL 236.485262 118.00244 \nL 237.155532 128.588048 \nL 237.490667 127.599191 \nL 237.825802 134.464934 \nL 238.160938 131.478087 \nL 238.496073 120.173828 \nL 238.831208 121.180809 \nL 239.166343 113.210145 \nL 239.501478 117.483631 \nL 239.836613 115.332141 \nL 240.171748 118.122492 \nL 240.506883 118.995937 \nL 240.842019 115.655224 \nL 241.177154 119.379971 \nL 241.512289 120.734399 \nL 241.847424 119.506294 \nL 242.182559 119.861708 \nL 242.852829 122.315691 \nL 243.5231 126.465684 \nL 243.858235 126.026063 \nL 244.19337 124.804862 \nL 244.528505 122.433906 \nL 244.86364 117.670414 \nL 245.198775 119.871513 \nL 245.53391 120.731059 \nL 245.869046 113.399127 \nL 246.204181 119.725562 \nL 246.539316 122.036292 \nL 246.874451 119.109303 \nL 247.209586 125.785861 \nL 247.544721 121.568008 \nL 247.879856 112.381712 \nL 248.214992 109.265235 \nL 248.550127 111.347062 \nL 248.885262 110.108033 \nL 249.220397 114.588301 \nL 249.890667 119.220032 \nL 250.560938 114.474622 \nL 250.896073 113.255267 \nL 251.231208 102.970678 \nL 251.566343 106.066242 \nL 251.901478 107.915414 \nL 252.571748 109.767616 \nL 252.906883 115.461721 \nL 253.242019 108.494147 \nL 253.577154 107.734154 \nL 253.912289 108.011084 \nL 254.247424 105.404207 \nL 254.582559 98.906836 \nL 254.917694 102.009407 \nL 255.252829 100.395297 \nL 255.587965 95.930087 \nL 255.9231 96.829231 \nL 256.258235 98.13007 \nL 256.59337 100.534044 \nL 256.928505 98.441314 \nL 257.598775 110.989939 \nL 257.93391 105.03375 \nL 258.269046 107.307865 \nL 258.604181 99.94467 \nL 258.939316 96.361391 \nL 259.274451 94.777611 \nL 259.609586 92.026789 \nL 259.944721 96.363873 \nL 260.614992 102.007828 \nL 260.950127 99.725809 \nL 261.955532 87.692146 \nL 262.290667 90.436873 \nL 262.625802 85.209094 \nL 262.960938 90.218271 \nL 263.296073 87.248234 \nL 263.631208 89.980053 \nL 263.966343 91.718489 \nL 264.301478 86.639331 \nL 264.636613 93.418134 \nL 264.971748 86.553245 \nL 265.306883 90.640346 \nL 265.642019 89.722466 \nL 265.977154 79.928325 \nL 266.312289 78.485081 \nL 266.982559 81.388708 \nL 267.317694 84.998942 \nL 267.652829 83.235686 \nL 267.987965 78.522777 \nL 268.3231 85.055838 \nL 268.658235 80.537929 \nL 268.99337 80.19961 \nL 269.328505 72.424258 \nL 269.66364 76.368564 \nL 269.998775 82.499893 \nL 270.33391 77.206295 \nL 270.669046 80.899925 \nL 271.004181 81.210377 \nL 271.674451 73.608996 \nL 272.009586 63.706154 \nL 272.344721 63.329124 \nL 272.679856 61.824559 \nL 273.014992 64.916909 \nL 273.350127 71.59113 \nL 273.685262 75.778568 \nL 274.020397 77.608141 \nL 274.355532 82.942578 \nL 275.025802 79.339239 \nL 275.360937 76.878624 \nL 275.696073 64.728442 \nL 276.031208 58.972733 \nL 276.366343 56.847118 \nL 276.701478 66.223293 \nL 277.036613 66.830623 \nL 277.371748 66.323933 \nL 277.706883 61.838734 \nL 278.042019 60.693278 \nL 278.377154 61.383788 \nL 278.712289 57.910802 \nL 279.047424 60.522178 \nL 279.382559 58.543818 \nL 279.717694 60.153939 \nL 280.052829 55.212723 \nL 280.387965 56.32395 \nL 280.7231 61.552118 \nL 281.058235 57.856455 \nL 281.39337 57.159069 \nL 282.06364 52.483267 \nL 282.398775 42.745853 \nL 282.73391 40.106179 \nL 283.069046 50.058644 \nL 283.404181 47.260021 \nL 284.074451 67.349316 \nL 284.409586 60.881227 \nL 284.744721 62.01279 \nL 285.079856 69.131631 \nL 285.414992 57.269625 \nL 285.750127 59.665197 \nL 286.085262 58.578566 \nL 286.755532 47.513196 \nL 287.090667 47.832522 \nL 287.425802 44.595727 \nL 288.096073 52.403183 \nL 288.431208 50.79781 \nL 288.766343 48.349842 \nL 289.101478 47.849421 \nL 289.436613 48.461938 \nL 289.771748 49.577376 \nL 290.106883 44.535641 \nL 290.442019 41.420845 \nL 290.777154 40.876087 \nL 291.112289 42.823747 \nL 291.447424 49.181491 \nL 292.117694 50.977003 \nL 292.452829 50.017775 \nL 292.787965 49.958659 \nL 293.458235 47.645776 \nL 293.79337 44.738207 \nL 294.128505 38.597467 \nL 294.798775 37.832266 \nL 295.13391 40.413041 \nL 295.469046 41.876983 \nL 295.804181 44.841909 \nL 296.139316 45.890971 \nL 296.474451 42.292594 \nL 296.809586 43.823473 \nL 297.144721 40.479009 \nL 297.814992 38.498788 \nL 298.150127 41.696972 \nL 298.485262 41.903867 \nL 298.820397 39.484798 \nL 299.155532 43.997483 \nL 299.490667 46.536168 \nL 299.825802 45.330722 \nL 300.160938 42.052708 \nL 300.496073 36.453129 \nL 300.831208 36.888811 \nL 301.166343 38.539908 \nL 301.501478 43.436114 \nL 301.836613 43.105416 \nL 302.171748 34.847946 \nL 302.506883 34.512543 \nL 302.842019 28.943157 \nL 303.177154 33.928658 \nL 303.512289 37.212708 \nL 303.847424 37.431708 \nL 304.182559 42.260487 \nL 304.852829 41.302553 \nL 305.5231 37.845702 \nL 306.19337 37.010366 \nL 306.528505 39.007179 \nL 307.198775 44.494926 \nL 307.53391 43.44153 \nL 307.869046 40.352275 \nL 308.204181 34.159426 \nL 308.539316 34.319019 \nL 309.209586 31.105728 \nL 309.544721 35.292259 \nL 310.214992 29.936068 \nL 310.550127 35.302876 \nL 310.885262 34.114613 \nL 311.220397 29.476317 \nL 311.555532 33.187431 \nL 311.890667 29.837058 \nL 312.225802 31.851475 \nL 312.560938 36.766782 \nL 312.896073 35.9256 \nL 313.231208 31.062178 \nL 313.566343 31.883505 \nL 313.901478 30.426175 \nL 314.236613 27.523697 \nL 314.571748 32.013503 \nL 314.906883 26.933641 \nL 315.577154 36.901573 \nL 315.912289 38.642335 \nL 316.247424 37.825265 \nL 316.582559 33.636209 \nL 316.917694 33.280197 \nL 317.252829 30.708595 \nL 317.587965 33.412685 \nL 318.258235 25.325085 \nL 318.59337 30.872604 \nL 318.928505 30.751997 \nL 319.26364 37.411025 \nL 319.598775 40.529937 \nL 319.93391 37.700616 \nL 320.269046 43.761881 \nL 320.604181 39.781884 \nL 320.939316 44.270521 \nL 321.274451 51.588192 \nL 321.609586 40.040671 \nL 321.944721 41.513734 \nL 322.279856 38.421902 \nL 322.614992 29.406018 \nL 322.950127 27.503695 \nL 323.620397 33.874246 \nL 323.955532 32.863192 \nL 324.290667 39.973197 \nL 324.625802 40.124107 \nL 324.960938 36.94345 \nL 325.296073 40.70446 \nL 325.631208 39.502114 \nL 325.966343 39.15701 \nL 326.301478 35.471854 \nL 326.636613 36.812199 \nL 326.971748 34.711569 \nL 327.306883 30.836102 \nL 327.642019 39.067516 \nL 327.977154 51.501548 \nL 328.312289 45.676626 \nL 328.647424 51.068024 \nL 328.982559 50.646547 \nL 329.317694 44.54386 \nL 329.652829 45.844097 \nL 329.987965 42.189137 \nL 330.3231 32.533469 \nL 330.658235 29.608111 \nL 330.99337 30.017303 \nL 331.328505 26.562571 \nL 331.66364 37.256968 \nL 331.998775 41.471322 \nL 332.33391 44.112781 \nL 332.669046 49.778175 \nL 333.004181 37.83809 \nL 333.339316 38.8548 \nL 333.674451 39.452443 \nL 334.009586 46.459724 \nL 334.344721 45.974929 \nL 334.679856 37.387699 \nL 335.014992 39.294736 \nL 335.350127 33.806763 \nL 335.685262 40.995074 \nL 336.020397 44.056397 \nL 336.355532 42.595739 \nL 336.690667 38.965955 \nL 337.025802 39.563165 \nL 337.360937 43.671093 \nL 337.696073 53.110659 \nL 338.031208 57.330147 \nL 338.366343 50.112381 \nL 339.036613 41.624125 \nL 339.371748 43.333234 \nL 340.042019 53.153076 \nL 340.377154 51.253939 \nL 340.712289 48.500583 \nL 341.382559 49.634529 \nL 341.717694 51.635698 \nL 342.387965 54.463029 \nL 343.058235 57.076426 \nL 343.39337 57.349419 \nL 343.728505 55.286619 \nL 344.73391 45.496172 \nL 345.069046 48.004487 \nL 345.404181 46.922803 \nL 345.739316 49.21469 \nL 346.074451 54.963376 \nL 346.409586 51.749778 \nL 346.744721 53.659809 \nL 347.079856 48.847653 \nL 347.414992 45.824301 \nL 347.750127 53.19097 \nL 348.085262 55.025259 \nL 348.755532 67.832555 \nL 349.425802 71.154313 \nL 349.760938 68.459108 \nL 350.096073 58.110405 \nL 350.766343 64.805447 \nL 351.101478 64.222369 \nL 351.436613 65.804743 \nL 351.771748 55.123843 \nL 352.106883 51.668357 \nL 352.442019 53.963654 \nL 352.777154 54.633239 \nL 353.112289 64.9572 \nL 353.447424 64.754933 \nL 353.782559 63.696843 \nL 354.452829 67.71478 \nL 354.787965 67.953384 \nL 355.1231 71.853357 \nL 355.458235 77.140755 \nL 356.128505 81.785382 \nL 356.46364 81.359324 \nL 357.13391 88.480704 \nL 357.469046 77.096773 \nL 357.804181 76.949595 \nL 358.139316 68.055139 \nL 358.474451 63.70397 \nL 358.809586 63.588336 \nL 359.144721 64.782875 \nL 359.814992 83.175104 \nL 360.150127 88.532786 \nL 360.485262 85.27988 \nL 360.820397 87.517663 \nL 361.155532 74.685219 \nL 361.490667 70.104745 \nL 361.825802 68.783284 \nL 362.160938 61.38795 \nL 362.496073 65.863142 \nL 362.831208 79.435289 \nL 363.166343 79.62186 \nL 363.501478 82.152776 \nL 363.836613 90.213183 \nL 364.171748 82.057988 \nL 364.506883 84.048949 \nL 364.842019 84.240833 \nL 365.177154 79.72446 \nL 365.512289 79.521573 \nL 365.847424 84.176978 \nL 366.182559 81.893216 \nL 366.517694 85.401413 \nL 366.852829 99.119683 \nL 367.187965 93.59581 \nL 367.5231 94.355913 \nL 367.858235 96.46287 \nL 368.19337 91.466244 \nL 368.528505 100.520216 \nL 368.86364 99.000641 \nL 369.53391 105.931273 \nL 369.869046 96.907259 \nL 370.539316 91.276039 \nL 370.874451 82.665828 \nL 371.209586 91.003012 \nL 371.544721 94.638242 \nL 371.879856 90.675037 \nL 372.214992 99.588481 \nL 372.885262 92.392075 \nL 373.220397 99.037816 \nL 373.555532 99.44057 \nL 373.890667 103.845732 \nL 374.225802 111.580167 \nL 374.560938 103.406658 \nL 374.896073 111.254053 \nL 375.231208 108.343334 \nL 375.566343 96.02119 \nL 375.901478 103.184219 \nL 376.236613 102.342915 \nL 376.571748 106.356166 \nL 376.906883 116.599765 \nL 377.242019 114.478511 \nL 377.577154 114.661053 \nL 377.912289 118.485215 \nL 378.247424 115.143784 \nL 378.582559 113.347267 \nL 378.917694 118.76661 \nL 379.252829 109.478795 \nL 379.587965 108.020616 \nL 379.9231 111.191996 \nL 380.258235 108.732481 \nL 380.59337 111.229788 \nL 380.928505 118.593523 \nL 381.26364 114.490527 \nL 381.598775 121.104518 \nL 381.93391 112.923947 \nL 382.269046 112.673204 \nL 382.604181 112.279427 \nL 382.939316 107.659602 \nL 383.274451 112.358705 \nL 383.944721 105.690258 \nL 384.614992 114.222748 \nL 385.285262 123.784764 \nL 385.620397 121.525483 \nL 385.955532 121.13342 \nL 386.290667 121.874807 \nL 386.625802 124.703368 \nL 386.960938 129.394856 \nL 386.960938 129.394856 \n\" clip-path=\"url(#pccbf90fa80)\" style=\"fill: none; stroke-dasharray: 5.55,2.4; stroke-dashoffset: 0; stroke: #bf00bf; stroke-width: 1.5\"/>\n   </g>\n   <g id=\"patch_3\">\n    <path d=\"M 52.160938 171.087079 \nL 52.160938 8.007079 \n\" style=\"fill: none; stroke: #000000; stroke-width: 0.8; stroke-linejoin: miter; stroke-linecap: square\"/>\n   </g>\n   <g id=\"patch_4\">\n    <path d=\"M 386.960938 171.087079 \nL 386.960938 8.007079 \n\" style=\"fill: none; stroke: #000000; stroke-width: 0.8; stroke-linejoin: miter; stroke-linecap: square\"/>\n   </g>\n   <g id=\"patch_5\">\n    <path d=\"M 52.160938 171.087079 \nL 386.960938 171.087079 \n\" style=\"fill: none; stroke: #000000; stroke-width: 0.8; stroke-linejoin: miter; stroke-linecap: square\"/>\n   </g>\n   <g id=\"patch_6\">\n    <path d=\"M 52.160938 8.007079 \nL 386.960938 8.007079 \n\" style=\"fill: none; stroke: #000000; stroke-width: 0.8; stroke-linejoin: miter; stroke-linecap: square\"/>\n   </g>\n   <g id=\"legend_1\">\n    <g id=\"patch_7\">\n     <path d=\"M 59.160938 166.087079 \nL 153.885938 166.087079 \nQ 155.885938 166.087079 155.885938 164.087079 \nL 155.885938 135.730829 \nQ 155.885938 133.730829 153.885938 133.730829 \nL 59.160938 133.730829 \nQ 57.160938 133.730829 57.160938 135.730829 \nL 57.160938 164.087079 \nQ 57.160938 166.087079 59.160938 166.087079 \nz\n\" style=\"fill: #ffffff; opacity: 0.8; stroke: #cccccc; stroke-linejoin: miter\"/>\n    </g>\n    <g id=\"line2d_27\">\n     <path d=\"M 61.160938 141.829266 \nL 71.160938 141.829266 \nL 81.160938 141.829266 \n\" style=\"fill: none; stroke: #1f77b4; stroke-width: 1.5; stroke-linecap: square\"/>\n    </g>\n    <g id=\"text_15\">\n     <!-- data -->\n     <g transform=\"translate(89.160938 145.329266)scale(0.1 -0.1)\">\n      <defs>\n       <path id=\"DejaVuSans-64\" d=\"M 2906 2969 \nL 2906 4863 \nL 3481 4863 \nL 3481 0 \nL 2906 0 \nL 2906 525 \nQ 2725 213 2448 61 \nQ 2172 -91 1784 -91 \nQ 1150 -91 751 415 \nQ 353 922 353 1747 \nQ 353 2572 751 3078 \nQ 1150 3584 1784 3584 \nQ 2172 3584 2448 3432 \nQ 2725 3281 2906 2969 \nz\nM 947 1747 \nQ 947 1113 1208 752 \nQ 1469 391 1925 391 \nQ 2381 391 2643 752 \nQ 2906 1113 2906 1747 \nQ 2906 2381 2643 2742 \nQ 2381 3103 1925 3103 \nQ 1469 3103 1208 2742 \nQ 947 2381 947 1747 \nz\n\" transform=\"scale(0.015625)\"/>\n       <path id=\"DejaVuSans-61\" d=\"M 2194 1759 \nQ 1497 1759 1228 1600 \nQ 959 1441 959 1056 \nQ 959 750 1161 570 \nQ 1363 391 1709 391 \nQ 2188 391 2477 730 \nQ 2766 1069 2766 1631 \nL 2766 1759 \nL 2194 1759 \nz\nM 3341 1997 \nL 3341 0 \nL 2766 0 \nL 2766 531 \nQ 2569 213 2275 61 \nQ 1981 -91 1556 -91 \nQ 1019 -91 701 211 \nQ 384 513 384 1019 \nQ 384 1609 779 1909 \nQ 1175 2209 1959 2209 \nL 2766 2209 \nL 2766 2266 \nQ 2766 2663 2505 2880 \nQ 2244 3097 1772 3097 \nQ 1472 3097 1187 3025 \nQ 903 2953 641 2809 \nL 641 3341 \nQ 956 3463 1253 3523 \nQ 1550 3584 1831 3584 \nQ 2591 3584 2966 3190 \nQ 3341 2797 3341 1997 \nz\n\" transform=\"scale(0.015625)\"/>\n      </defs>\n      <use xlink:href=\"#DejaVuSans-64\"/>\n      <use xlink:href=\"#DejaVuSans-61\" x=\"63.476562\"/>\n      <use xlink:href=\"#DejaVuSans-74\" x=\"124.755859\"/>\n      <use xlink:href=\"#DejaVuSans-61\" x=\"163.964844\"/>\n     </g>\n    </g>\n    <g id=\"line2d_28\">\n     <path d=\"M 61.160938 156.507391 \nL 71.160938 156.507391 \nL 81.160938 156.507391 \n\" style=\"fill: none; stroke-dasharray: 5.55,2.4; stroke-dashoffset: 0; stroke: #bf00bf; stroke-width: 1.5\"/>\n    </g>\n    <g id=\"text_16\">\n     <!-- 1-step preds -->\n     <g transform=\"translate(89.160938 160.007391)scale(0.1 -0.1)\">\n      <defs>\n       <path id=\"DejaVuSans-2d\" d=\"M 313 2009 \nL 1997 2009 \nL 1997 1497 \nL 313 1497 \nL 313 2009 \nz\n\" transform=\"scale(0.015625)\"/>\n       <path id=\"DejaVuSans-73\" d=\"M 2834 3397 \nL 2834 2853 \nQ 2591 2978 2328 3040 \nQ 2066 3103 1784 3103 \nQ 1356 3103 1142 2972 \nQ 928 2841 928 2578 \nQ 928 2378 1081 2264 \nQ 1234 2150 1697 2047 \nL 1894 2003 \nQ 2506 1872 2764 1633 \nQ 3022 1394 3022 966 \nQ 3022 478 2636 193 \nQ 2250 -91 1575 -91 \nQ 1294 -91 989 -36 \nQ 684 19 347 128 \nL 347 722 \nQ 666 556 975 473 \nQ 1284 391 1588 391 \nQ 1994 391 2212 530 \nQ 2431 669 2431 922 \nQ 2431 1156 2273 1281 \nQ 2116 1406 1581 1522 \nL 1381 1569 \nQ 847 1681 609 1914 \nQ 372 2147 372 2553 \nQ 372 3047 722 3315 \nQ 1072 3584 1716 3584 \nQ 2034 3584 2315 3537 \nQ 2597 3491 2834 3397 \nz\n\" transform=\"scale(0.015625)\"/>\n       <path id=\"DejaVuSans-70\" d=\"M 1159 525 \nL 1159 -1331 \nL 581 -1331 \nL 581 3500 \nL 1159 3500 \nL 1159 2969 \nQ 1341 3281 1617 3432 \nQ 1894 3584 2278 3584 \nQ 2916 3584 3314 3078 \nQ 3713 2572 3713 1747 \nQ 3713 922 3314 415 \nQ 2916 -91 2278 -91 \nQ 1894 -91 1617 61 \nQ 1341 213 1159 525 \nz\nM 3116 1747 \nQ 3116 2381 2855 2742 \nQ 2594 3103 2138 3103 \nQ 1681 3103 1420 2742 \nQ 1159 2381 1159 1747 \nQ 1159 1113 1420 752 \nQ 1681 391 2138 391 \nQ 2594 391 2855 752 \nQ 3116 1113 3116 1747 \nz\n\" transform=\"scale(0.015625)\"/>\n       <path id=\"DejaVuSans-20\" transform=\"scale(0.015625)\"/>\n       <path id=\"DejaVuSans-72\" d=\"M 2631 2963 \nQ 2534 3019 2420 3045 \nQ 2306 3072 2169 3072 \nQ 1681 3072 1420 2755 \nQ 1159 2438 1159 1844 \nL 1159 0 \nL 581 0 \nL 581 3500 \nL 1159 3500 \nL 1159 2956 \nQ 1341 3275 1631 3429 \nQ 1922 3584 2338 3584 \nQ 2397 3584 2469 3576 \nQ 2541 3569 2628 3553 \nL 2631 2963 \nz\n\" transform=\"scale(0.015625)\"/>\n      </defs>\n      <use xlink:href=\"#DejaVuSans-31\"/>\n      <use xlink:href=\"#DejaVuSans-2d\" x=\"63.623047\"/>\n      <use xlink:href=\"#DejaVuSans-73\" x=\"99.707031\"/>\n      <use xlink:href=\"#DejaVuSans-74\" x=\"151.806641\"/>\n      <use xlink:href=\"#DejaVuSans-65\" x=\"191.015625\"/>\n      <use xlink:href=\"#DejaVuSans-70\" x=\"252.539062\"/>\n      <use xlink:href=\"#DejaVuSans-20\" x=\"316.015625\"/>\n      <use xlink:href=\"#DejaVuSans-70\" x=\"347.802734\"/>\n      <use xlink:href=\"#DejaVuSans-72\" x=\"411.279297\"/>\n      <use xlink:href=\"#DejaVuSans-65\" x=\"450.142578\"/>\n      <use xlink:href=\"#DejaVuSans-64\" x=\"511.666016\"/>\n      <use xlink:href=\"#DejaVuSans-73\" x=\"575.142578\"/>\n     </g>\n    </g>\n   </g>\n  </g>\n </g>\n <defs>\n  <clipPath id=\"pccbf90fa80\">\n   <rect x=\"52.160938\" y=\"8.007079\" width=\"334.8\" height=\"163.08\"/>\n  </clipPath>\n </defs>\n</svg>\n"
          },
          "metadata": {
            "needs_background": "light"
          }
        }
      ]
    },
    {
      "cell_type": "markdown",
      "source": [
        "# 8.2. Text Preprocessing"
      ],
      "metadata": {
        "id": "iaTPiVwA2FDH"
      }
    },
    {
      "cell_type": "code",
      "source": [
        "import collections\n",
        "import re"
      ],
      "metadata": {
        "id": "xw5RdwPE18ls"
      },
      "execution_count": 10,
      "outputs": []
    },
    {
      "cell_type": "markdown",
      "source": [
        "## 8.2.1. Reading the Dataset"
      ],
      "metadata": {
        "id": "aQXzyxeI2PWi"
      }
    },
    {
      "cell_type": "code",
      "source": [
        "d2l.DATA_HUB['time_machine'] = (d2l.DATA_URL + 'timemachine.txt',\n",
        "                                '090b5e7e70c295757f55df93cb0a180b9691891a')\n",
        "\n",
        "def read_time_machine(): \n",
        "    \"\"\"Load the time machine dataset into a list of text lines.\"\"\"\n",
        "    with open(d2l.download('time_machine'), 'r') as f:\n",
        "        lines = f.readlines()\n",
        "    return [re.sub('[^A-Za-z]+', ' ', line).strip().lower() for line in lines]\n",
        "\n",
        "lines = read_time_machine()\n",
        "print(f'# text lines: {len(lines)}')\n",
        "print(lines[0])\n",
        "print(lines[10])"
      ],
      "metadata": {
        "colab": {
          "base_uri": "https://localhost:8080/"
        },
        "id": "rvHgAoyW2NAW",
        "outputId": "75929415-3678-41c1-b3d7-365d1af94fe0"
      },
      "execution_count": 12,
      "outputs": [
        {
          "output_type": "stream",
          "name": "stdout",
          "text": [
            "# text lines: 3221\n",
            "the time machine by h g wells\n",
            "twinkled and his usually pale face was flushed and animated the\n"
          ]
        }
      ]
    },
    {
      "cell_type": "markdown",
      "source": [
        "## 8.2.2. Tokenization"
      ],
      "metadata": {
        "id": "t1rqQA6g2YwX"
      }
    },
    {
      "cell_type": "code",
      "source": [
        "def tokenize(lines, token='word'):\n",
        "    \"\"\"Split text lines into word or character tokens.\"\"\"\n",
        "    if token == 'word':\n",
        "        return [line.split() for line in lines]\n",
        "    elif token == 'char':\n",
        "        return [list(line) for line in lines]\n",
        "    else:\n",
        "        print('ERROR: unknown token type: ' + token)\n",
        "\n",
        "tokens = tokenize(lines)\n",
        "for i in range(11):\n",
        "    print(tokens[i])"
      ],
      "metadata": {
        "colab": {
          "base_uri": "https://localhost:8080/"
        },
        "id": "Rmhvjo5f2SSh",
        "outputId": "dc4171ad-e89f-462e-e44a-d69c8392e146"
      },
      "execution_count": 14,
      "outputs": [
        {
          "output_type": "stream",
          "name": "stdout",
          "text": [
            "['the', 'time', 'machine', 'by', 'h', 'g', 'wells']\n",
            "[]\n",
            "[]\n",
            "[]\n",
            "[]\n",
            "['i']\n",
            "[]\n",
            "[]\n",
            "['the', 'time', 'traveller', 'for', 'so', 'it', 'will', 'be', 'convenient', 'to', 'speak', 'of', 'him']\n",
            "['was', 'expounding', 'a', 'recondite', 'matter', 'to', 'us', 'his', 'grey', 'eyes', 'shone', 'and']\n",
            "['twinkled', 'and', 'his', 'usually', 'pale', 'face', 'was', 'flushed', 'and', 'animated', 'the']\n"
          ]
        }
      ]
    },
    {
      "cell_type": "markdown",
      "source": [
        "## 8.2.3. Vocabulary"
      ],
      "metadata": {
        "id": "5kUocYL82eVN"
      }
    },
    {
      "cell_type": "code",
      "source": [
        "class Vocab:\n",
        "    \"\"\"Vocabulary for text.\"\"\"\n",
        "    def __init__(self, tokens=None, min_freq=0, reserved_tokens=None):\n",
        "        if tokens is None:\n",
        "            tokens = []\n",
        "        if reserved_tokens is None:\n",
        "            reserved_tokens = []\n",
        "        # Sort according to frequencies\n",
        "        counter = count_corpus(tokens)\n",
        "        self._token_freqs = sorted(counter.items(), key=lambda x: x[1],\n",
        "                                   reverse=True)\n",
        "        # The index for the unknown token is 0\n",
        "        self.idx_to_token = ['<unk>'] + reserved_tokens\n",
        "        self.token_to_idx = {token: idx\n",
        "                             for idx, token in enumerate(self.idx_to_token)}\n",
        "        for token, freq in self._token_freqs:\n",
        "            if freq < min_freq:\n",
        "                break\n",
        "            if token not in self.token_to_idx:\n",
        "                self.idx_to_token.append(token)\n",
        "                self.token_to_idx[token] = len(self.idx_to_token) - 1\n",
        "\n",
        "    def __len__(self):\n",
        "        return len(self.idx_to_token)\n",
        "\n",
        "    def __getitem__(self, tokens):\n",
        "        if not isinstance(tokens, (list, tuple)):\n",
        "            return self.token_to_idx.get(tokens, self.unk)\n",
        "        return [self.__getitem__(token) for token in tokens]\n",
        "\n",
        "    def to_tokens(self, indices):\n",
        "        if not isinstance(indices, (list, tuple)):\n",
        "            return self.idx_to_token[indices]\n",
        "        return [self.idx_to_token[index] for index in indices]\n",
        "\n",
        "    @property\n",
        "    def unk(self):  # Index for the unknown token\n",
        "        return 0\n",
        "\n",
        "    @property\n",
        "    def token_freqs(self):  # Index for the unknown token\n",
        "        return self._token_freqs\n",
        "\n",
        "def count_corpus(tokens):\n",
        "    \"\"\"Count token frequencies.\"\"\"\n",
        "    # Here `tokens` is a 1D list or 2D list\n",
        "    if len(tokens) == 0 or isinstance(tokens[0], list):\n",
        "        # Flatten a list of token lists into a list of tokens\n",
        "        tokens = [token for line in tokens for token in line]\n",
        "    return collections.Counter(tokens)"
      ],
      "metadata": {
        "id": "hgWx8VNN2bD5"
      },
      "execution_count": 15,
      "outputs": []
    },
    {
      "cell_type": "code",
      "source": [
        "vocab = Vocab(tokens)\n",
        "print(list(vocab.token_to_idx.items())[:10])"
      ],
      "metadata": {
        "colab": {
          "base_uri": "https://localhost:8080/"
        },
        "id": "9C8RzTmT2jyW",
        "outputId": "61ec83b4-0f0a-40ee-958c-3fd739503e56"
      },
      "execution_count": 16,
      "outputs": [
        {
          "output_type": "stream",
          "name": "stdout",
          "text": [
            "[('<unk>', 0), ('the', 1), ('i', 2), ('and', 3), ('of', 4), ('a', 5), ('to', 6), ('was', 7), ('in', 8), ('that', 9)]\n"
          ]
        }
      ]
    },
    {
      "cell_type": "code",
      "source": [
        "for i in [0, 10]:\n",
        "    print('words:', tokens[i])\n",
        "    print('indices:', vocab[tokens[i]])"
      ],
      "metadata": {
        "colab": {
          "base_uri": "https://localhost:8080/"
        },
        "id": "vGQXjoQy2lvw",
        "outputId": "1d1a92e9-9566-4128-dad6-8474ee93b36b"
      },
      "execution_count": 17,
      "outputs": [
        {
          "output_type": "stream",
          "name": "stdout",
          "text": [
            "words: ['the', 'time', 'machine', 'by', 'h', 'g', 'wells']\n",
            "indices: [1, 19, 50, 40, 2183, 2184, 400]\n",
            "words: ['twinkled', 'and', 'his', 'usually', 'pale', 'face', 'was', 'flushed', 'and', 'animated', 'the']\n",
            "indices: [2186, 3, 25, 1044, 362, 113, 7, 1421, 3, 1045, 1]\n"
          ]
        }
      ]
    },
    {
      "cell_type": "markdown",
      "source": [
        "## 8.2.4. Putting All Things Together"
      ],
      "metadata": {
        "id": "JjB8MV2P2p_h"
      }
    },
    {
      "cell_type": "code",
      "source": [
        "def load_corpus_time_machine(max_tokens=-1):\n",
        "    \"\"\"Return token indices and the vocabulary of the time machine dataset.\"\"\"\n",
        "    lines = read_time_machine()\n",
        "    tokens = tokenize(lines, 'char')\n",
        "    vocab = Vocab(tokens)\n",
        "    # Since each text line in the time machine dataset is not necessarily a\n",
        "    # sentence or a paragraph, flatten all the text lines into a single list\n",
        "    corpus = [vocab[token] for line in tokens for token in line]\n",
        "    if max_tokens > 0:\n",
        "        corpus = corpus[:max_tokens]\n",
        "    return corpus, vocab\n",
        "\n",
        "corpus, vocab = load_corpus_time_machine()\n",
        "len(corpus), len(vocab)"
      ],
      "metadata": {
        "colab": {
          "base_uri": "https://localhost:8080/"
        },
        "id": "YjrRPDk72nDh",
        "outputId": "086ed2f9-1af3-42df-c9b4-c9897e60d187"
      },
      "execution_count": 19,
      "outputs": [
        {
          "output_type": "execute_result",
          "data": {
            "text/plain": [
              "(170580, 28)"
            ]
          },
          "metadata": {},
          "execution_count": 19
        }
      ]
    },
    {
      "cell_type": "markdown",
      "source": [
        "# 8.3. Language Models and the Dataset"
      ],
      "metadata": {
        "id": "a6mbAS6H3Lpz"
      }
    },
    {
      "cell_type": "markdown",
      "source": [
        "## 8.3.3. Natural Language Statistics"
      ],
      "metadata": {
        "id": "tyKp-ev53M3w"
      }
    },
    {
      "cell_type": "code",
      "source": [
        "import random\n",
        "\n",
        "tokens = d2l.tokenize(d2l.read_time_machine())\n",
        "# Since each text line is not necessarily a sentence or a paragraph, we\n",
        "# concatenate all text lines\n",
        "corpus = [token for line in tokens for token in line]\n",
        "vocab = d2l.Vocab(corpus)\n",
        "vocab.token_freqs[:10]"
      ],
      "metadata": {
        "colab": {
          "base_uri": "https://localhost:8080/"
        },
        "id": "lY2p5vZP2tPa",
        "outputId": "ca9e6aae-14a9-498e-8c51-91bc0cef3d74"
      },
      "execution_count": 20,
      "outputs": [
        {
          "output_type": "execute_result",
          "data": {
            "text/plain": [
              "[('the', 2261),\n",
              " ('i', 1267),\n",
              " ('and', 1245),\n",
              " ('of', 1155),\n",
              " ('a', 816),\n",
              " ('to', 695),\n",
              " ('was', 552),\n",
              " ('in', 541),\n",
              " ('that', 443),\n",
              " ('my', 440)]"
            ]
          },
          "metadata": {},
          "execution_count": 20
        }
      ]
    },
    {
      "cell_type": "code",
      "source": [
        "freqs = [freq for token, freq in vocab.token_freqs]\n",
        "d2l.plot(freqs, xlabel='token: x', ylabel='frequency: n(x)',\n",
        "         xscale='log', yscale='log')"
      ],
      "metadata": {
        "colab": {
          "base_uri": "https://localhost:8080/",
          "height": 262
        },
        "id": "z_t3n0c53XOf",
        "outputId": "b9c59fe3-a56c-49f2-ea54-472ba54252ee"
      },
      "execution_count": 21,
      "outputs": [
        {
          "output_type": "display_data",
          "data": {
            "text/plain": [
              "<Figure size 252x180 with 1 Axes>"
            ],
            "image/svg+xml": "<?xml version=\"1.0\" encoding=\"utf-8\" standalone=\"no\"?>\n<!DOCTYPE svg PUBLIC \"-//W3C//DTD SVG 1.1//EN\"\n  \"http://www.w3.org/Graphics/SVG/1.1/DTD/svg11.dtd\">\n<svg xmlns:xlink=\"http://www.w3.org/1999/xlink\" width=\"247.978125pt\" height=\"180.65625pt\" viewBox=\"0 0 247.978125 180.65625\" xmlns=\"http://www.w3.org/2000/svg\" version=\"1.1\">\n <metadata>\n  <rdf:RDF xmlns:dc=\"http://purl.org/dc/elements/1.1/\" xmlns:cc=\"http://creativecommons.org/ns#\" xmlns:rdf=\"http://www.w3.org/1999/02/22-rdf-syntax-ns#\">\n   <cc:Work>\n    <dc:type rdf:resource=\"http://purl.org/dc/dcmitype/StillImage\"/>\n    <dc:date>2022-04-30T14:26:23.872358</dc:date>\n    <dc:format>image/svg+xml</dc:format>\n    <dc:creator>\n     <cc:Agent>\n      <dc:title>Matplotlib v3.5.1, https://matplotlib.org/</dc:title>\n     </cc:Agent>\n    </dc:creator>\n   </cc:Work>\n  </rdf:RDF>\n </metadata>\n <defs>\n  <style type=\"text/css\">*{stroke-linejoin: round; stroke-linecap: butt}</style>\n </defs>\n <g id=\"figure_1\">\n  <g id=\"patch_1\">\n   <path d=\"M 0 180.65625 \nL 247.978125 180.65625 \nL 247.978125 0 \nL 0 0 \nL 0 180.65625 \nz\n\" style=\"fill: none\"/>\n  </g>\n  <g id=\"axes_1\">\n   <g id=\"patch_2\">\n    <path d=\"M 45.478125 143.1 \nL 240.778125 143.1 \nL 240.778125 7.2 \nL 45.478125 7.2 \nz\n\" style=\"fill: #ffffff\"/>\n   </g>\n   <g id=\"matplotlib.axis_1\">\n    <g id=\"xtick_1\">\n     <g id=\"line2d_1\">\n      <path d=\"M 54.355398 143.1 \nL 54.355398 7.2 \n\" clip-path=\"url(#p53e04f270d)\" style=\"fill: none; stroke: #b0b0b0; stroke-width: 0.8; stroke-linecap: square\"/>\n     </g>\n     <g id=\"line2d_2\">\n      <defs>\n       <path id=\"m64549e91d0\" d=\"M 0 0 \nL 0 3.5 \n\" style=\"stroke: #000000; stroke-width: 0.8\"/>\n      </defs>\n      <g>\n       <use xlink:href=\"#m64549e91d0\" x=\"54.355398\" y=\"143.1\" style=\"stroke: #000000; stroke-width: 0.8\"/>\n      </g>\n     </g>\n     <g id=\"text_1\">\n      <!-- $\\mathdefault{10^{0}}$ -->\n      <g transform=\"translate(45.555398 157.698438)scale(0.1 -0.1)\">\n       <defs>\n        <path id=\"DejaVuSans-31\" d=\"M 794 531 \nL 1825 531 \nL 1825 4091 \nL 703 3866 \nL 703 4441 \nL 1819 4666 \nL 2450 4666 \nL 2450 531 \nL 3481 531 \nL 3481 0 \nL 794 0 \nL 794 531 \nz\n\" transform=\"scale(0.015625)\"/>\n        <path id=\"DejaVuSans-30\" d=\"M 2034 4250 \nQ 1547 4250 1301 3770 \nQ 1056 3291 1056 2328 \nQ 1056 1369 1301 889 \nQ 1547 409 2034 409 \nQ 2525 409 2770 889 \nQ 3016 1369 3016 2328 \nQ 3016 3291 2770 3770 \nQ 2525 4250 2034 4250 \nz\nM 2034 4750 \nQ 2819 4750 3233 4129 \nQ 3647 3509 3647 2328 \nQ 3647 1150 3233 529 \nQ 2819 -91 2034 -91 \nQ 1250 -91 836 529 \nQ 422 1150 422 2328 \nQ 422 3509 836 4129 \nQ 1250 4750 2034 4750 \nz\n\" transform=\"scale(0.015625)\"/>\n       </defs>\n       <use xlink:href=\"#DejaVuSans-31\" transform=\"translate(0 0.765625)\"/>\n       <use xlink:href=\"#DejaVuSans-30\" transform=\"translate(63.623047 0.765625)\"/>\n       <use xlink:href=\"#DejaVuSans-30\" transform=\"translate(128.203125 39.046875)scale(0.7)\"/>\n      </g>\n     </g>\n    </g>\n    <g id=\"xtick_2\">\n     <g id=\"line2d_3\">\n      <path d=\"M 102.85613 143.1 \nL 102.85613 7.2 \n\" clip-path=\"url(#p53e04f270d)\" style=\"fill: none; stroke: #b0b0b0; stroke-width: 0.8; stroke-linecap: square\"/>\n     </g>\n     <g id=\"line2d_4\">\n      <g>\n       <use xlink:href=\"#m64549e91d0\" x=\"102.85613\" y=\"143.1\" style=\"stroke: #000000; stroke-width: 0.8\"/>\n      </g>\n     </g>\n     <g id=\"text_2\">\n      <!-- $\\mathdefault{10^{1}}$ -->\n      <g transform=\"translate(94.05613 157.698438)scale(0.1 -0.1)\">\n       <use xlink:href=\"#DejaVuSans-31\" transform=\"translate(0 0.684375)\"/>\n       <use xlink:href=\"#DejaVuSans-30\" transform=\"translate(63.623047 0.684375)\"/>\n       <use xlink:href=\"#DejaVuSans-31\" transform=\"translate(128.203125 38.965625)scale(0.7)\"/>\n      </g>\n     </g>\n    </g>\n    <g id=\"xtick_3\">\n     <g id=\"line2d_5\">\n      <path d=\"M 151.356861 143.1 \nL 151.356861 7.2 \n\" clip-path=\"url(#p53e04f270d)\" style=\"fill: none; stroke: #b0b0b0; stroke-width: 0.8; stroke-linecap: square\"/>\n     </g>\n     <g id=\"line2d_6\">\n      <g>\n       <use xlink:href=\"#m64549e91d0\" x=\"151.356861\" y=\"143.1\" style=\"stroke: #000000; stroke-width: 0.8\"/>\n      </g>\n     </g>\n     <g id=\"text_3\">\n      <!-- $\\mathdefault{10^{2}}$ -->\n      <g transform=\"translate(142.556861 157.698438)scale(0.1 -0.1)\">\n       <defs>\n        <path id=\"DejaVuSans-32\" d=\"M 1228 531 \nL 3431 531 \nL 3431 0 \nL 469 0 \nL 469 531 \nQ 828 903 1448 1529 \nQ 2069 2156 2228 2338 \nQ 2531 2678 2651 2914 \nQ 2772 3150 2772 3378 \nQ 2772 3750 2511 3984 \nQ 2250 4219 1831 4219 \nQ 1534 4219 1204 4116 \nQ 875 4013 500 3803 \nL 500 4441 \nQ 881 4594 1212 4672 \nQ 1544 4750 1819 4750 \nQ 2544 4750 2975 4387 \nQ 3406 4025 3406 3419 \nQ 3406 3131 3298 2873 \nQ 3191 2616 2906 2266 \nQ 2828 2175 2409 1742 \nQ 1991 1309 1228 531 \nz\n\" transform=\"scale(0.015625)\"/>\n       </defs>\n       <use xlink:href=\"#DejaVuSans-31\" transform=\"translate(0 0.765625)\"/>\n       <use xlink:href=\"#DejaVuSans-30\" transform=\"translate(63.623047 0.765625)\"/>\n       <use xlink:href=\"#DejaVuSans-32\" transform=\"translate(128.203125 39.046875)scale(0.7)\"/>\n      </g>\n     </g>\n    </g>\n    <g id=\"xtick_4\">\n     <g id=\"line2d_7\">\n      <path d=\"M 199.857593 143.1 \nL 199.857593 7.2 \n\" clip-path=\"url(#p53e04f270d)\" style=\"fill: none; stroke: #b0b0b0; stroke-width: 0.8; stroke-linecap: square\"/>\n     </g>\n     <g id=\"line2d_8\">\n      <g>\n       <use xlink:href=\"#m64549e91d0\" x=\"199.857593\" y=\"143.1\" style=\"stroke: #000000; stroke-width: 0.8\"/>\n      </g>\n     </g>\n     <g id=\"text_4\">\n      <!-- $\\mathdefault{10^{3}}$ -->\n      <g transform=\"translate(191.057593 157.698438)scale(0.1 -0.1)\">\n       <defs>\n        <path id=\"DejaVuSans-33\" d=\"M 2597 2516 \nQ 3050 2419 3304 2112 \nQ 3559 1806 3559 1356 \nQ 3559 666 3084 287 \nQ 2609 -91 1734 -91 \nQ 1441 -91 1130 -33 \nQ 819 25 488 141 \nL 488 750 \nQ 750 597 1062 519 \nQ 1375 441 1716 441 \nQ 2309 441 2620 675 \nQ 2931 909 2931 1356 \nQ 2931 1769 2642 2001 \nQ 2353 2234 1838 2234 \nL 1294 2234 \nL 1294 2753 \nL 1863 2753 \nQ 2328 2753 2575 2939 \nQ 2822 3125 2822 3475 \nQ 2822 3834 2567 4026 \nQ 2313 4219 1838 4219 \nQ 1578 4219 1281 4162 \nQ 984 4106 628 3988 \nL 628 4550 \nQ 988 4650 1302 4700 \nQ 1616 4750 1894 4750 \nQ 2613 4750 3031 4423 \nQ 3450 4097 3450 3541 \nQ 3450 3153 3228 2886 \nQ 3006 2619 2597 2516 \nz\n\" transform=\"scale(0.015625)\"/>\n       </defs>\n       <use xlink:href=\"#DejaVuSans-31\" transform=\"translate(0 0.765625)\"/>\n       <use xlink:href=\"#DejaVuSans-30\" transform=\"translate(63.623047 0.765625)\"/>\n       <use xlink:href=\"#DejaVuSans-33\" transform=\"translate(128.203125 39.046875)scale(0.7)\"/>\n      </g>\n     </g>\n    </g>\n    <g id=\"xtick_5\">\n     <g id=\"line2d_9\">\n      <defs>\n       <path id=\"mc010c36d4c\" d=\"M 0 0 \nL 0 2 \n\" style=\"stroke: #000000; stroke-width: 0.6\"/>\n      </defs>\n      <g>\n       <use xlink:href=\"#mc010c36d4c\" x=\"46.842539\" y=\"143.1\" style=\"stroke: #000000; stroke-width: 0.6\"/>\n      </g>\n     </g>\n    </g>\n    <g id=\"xtick_6\">\n     <g id=\"line2d_10\">\n      <g>\n       <use xlink:href=\"#mc010c36d4c\" x=\"49.655191\" y=\"143.1\" style=\"stroke: #000000; stroke-width: 0.6\"/>\n      </g>\n     </g>\n    </g>\n    <g id=\"xtick_7\">\n     <g id=\"line2d_11\">\n      <g>\n       <use xlink:href=\"#mc010c36d4c\" x=\"52.136126\" y=\"143.1\" style=\"stroke: #000000; stroke-width: 0.6\"/>\n      </g>\n     </g>\n    </g>\n    <g id=\"xtick_8\">\n     <g id=\"line2d_12\">\n      <g>\n       <use xlink:href=\"#mc010c36d4c\" x=\"68.955573\" y=\"143.1\" style=\"stroke: #000000; stroke-width: 0.6\"/>\n      </g>\n     </g>\n    </g>\n    <g id=\"xtick_9\">\n     <g id=\"line2d_13\">\n      <g>\n       <use xlink:href=\"#mc010c36d4c\" x=\"77.496128\" y=\"143.1\" style=\"stroke: #000000; stroke-width: 0.6\"/>\n      </g>\n     </g>\n    </g>\n    <g id=\"xtick_10\">\n     <g id=\"line2d_14\">\n      <g>\n       <use xlink:href=\"#mc010c36d4c\" x=\"83.555748\" y=\"143.1\" style=\"stroke: #000000; stroke-width: 0.6\"/>\n      </g>\n     </g>\n    </g>\n    <g id=\"xtick_11\">\n     <g id=\"line2d_15\">\n      <g>\n       <use xlink:href=\"#mc010c36d4c\" x=\"88.255954\" y=\"143.1\" style=\"stroke: #000000; stroke-width: 0.6\"/>\n      </g>\n     </g>\n    </g>\n    <g id=\"xtick_12\">\n     <g id=\"line2d_16\">\n      <g>\n       <use xlink:href=\"#mc010c36d4c\" x=\"92.096303\" y=\"143.1\" style=\"stroke: #000000; stroke-width: 0.6\"/>\n      </g>\n     </g>\n    </g>\n    <g id=\"xtick_13\">\n     <g id=\"line2d_17\">\n      <g>\n       <use xlink:href=\"#mc010c36d4c\" x=\"95.343271\" y=\"143.1\" style=\"stroke: #000000; stroke-width: 0.6\"/>\n      </g>\n     </g>\n    </g>\n    <g id=\"xtick_14\">\n     <g id=\"line2d_18\">\n      <g>\n       <use xlink:href=\"#mc010c36d4c\" x=\"98.155923\" y=\"143.1\" style=\"stroke: #000000; stroke-width: 0.6\"/>\n      </g>\n     </g>\n    </g>\n    <g id=\"xtick_15\">\n     <g id=\"line2d_19\">\n      <g>\n       <use xlink:href=\"#mc010c36d4c\" x=\"100.636858\" y=\"143.1\" style=\"stroke: #000000; stroke-width: 0.6\"/>\n      </g>\n     </g>\n    </g>\n    <g id=\"xtick_16\">\n     <g id=\"line2d_20\">\n      <g>\n       <use xlink:href=\"#mc010c36d4c\" x=\"117.456305\" y=\"143.1\" style=\"stroke: #000000; stroke-width: 0.6\"/>\n      </g>\n     </g>\n    </g>\n    <g id=\"xtick_17\">\n     <g id=\"line2d_21\">\n      <g>\n       <use xlink:href=\"#mc010c36d4c\" x=\"125.99686\" y=\"143.1\" style=\"stroke: #000000; stroke-width: 0.6\"/>\n      </g>\n     </g>\n    </g>\n    <g id=\"xtick_18\">\n     <g id=\"line2d_22\">\n      <g>\n       <use xlink:href=\"#mc010c36d4c\" x=\"132.05648\" y=\"143.1\" style=\"stroke: #000000; stroke-width: 0.6\"/>\n      </g>\n     </g>\n    </g>\n    <g id=\"xtick_19\">\n     <g id=\"line2d_23\">\n      <g>\n       <use xlink:href=\"#mc010c36d4c\" x=\"136.756686\" y=\"143.1\" style=\"stroke: #000000; stroke-width: 0.6\"/>\n      </g>\n     </g>\n    </g>\n    <g id=\"xtick_20\">\n     <g id=\"line2d_24\">\n      <g>\n       <use xlink:href=\"#mc010c36d4c\" x=\"140.597035\" y=\"143.1\" style=\"stroke: #000000; stroke-width: 0.6\"/>\n      </g>\n     </g>\n    </g>\n    <g id=\"xtick_21\">\n     <g id=\"line2d_25\">\n      <g>\n       <use xlink:href=\"#mc010c36d4c\" x=\"143.844003\" y=\"143.1\" style=\"stroke: #000000; stroke-width: 0.6\"/>\n      </g>\n     </g>\n    </g>\n    <g id=\"xtick_22\">\n     <g id=\"line2d_26\">\n      <g>\n       <use xlink:href=\"#mc010c36d4c\" x=\"146.656655\" y=\"143.1\" style=\"stroke: #000000; stroke-width: 0.6\"/>\n      </g>\n     </g>\n    </g>\n    <g id=\"xtick_23\">\n     <g id=\"line2d_27\">\n      <g>\n       <use xlink:href=\"#mc010c36d4c\" x=\"149.13759\" y=\"143.1\" style=\"stroke: #000000; stroke-width: 0.6\"/>\n      </g>\n     </g>\n    </g>\n    <g id=\"xtick_24\">\n     <g id=\"line2d_28\">\n      <g>\n       <use xlink:href=\"#mc010c36d4c\" x=\"165.957036\" y=\"143.1\" style=\"stroke: #000000; stroke-width: 0.6\"/>\n      </g>\n     </g>\n    </g>\n    <g id=\"xtick_25\">\n     <g id=\"line2d_29\">\n      <g>\n       <use xlink:href=\"#mc010c36d4c\" x=\"174.497591\" y=\"143.1\" style=\"stroke: #000000; stroke-width: 0.6\"/>\n      </g>\n     </g>\n    </g>\n    <g id=\"xtick_26\">\n     <g id=\"line2d_30\">\n      <g>\n       <use xlink:href=\"#mc010c36d4c\" x=\"180.557211\" y=\"143.1\" style=\"stroke: #000000; stroke-width: 0.6\"/>\n      </g>\n     </g>\n    </g>\n    <g id=\"xtick_27\">\n     <g id=\"line2d_31\">\n      <g>\n       <use xlink:href=\"#mc010c36d4c\" x=\"185.257418\" y=\"143.1\" style=\"stroke: #000000; stroke-width: 0.6\"/>\n      </g>\n     </g>\n    </g>\n    <g id=\"xtick_28\">\n     <g id=\"line2d_32\">\n      <g>\n       <use xlink:href=\"#mc010c36d4c\" x=\"189.097766\" y=\"143.1\" style=\"stroke: #000000; stroke-width: 0.6\"/>\n      </g>\n     </g>\n    </g>\n    <g id=\"xtick_29\">\n     <g id=\"line2d_33\">\n      <g>\n       <use xlink:href=\"#mc010c36d4c\" x=\"192.344735\" y=\"143.1\" style=\"stroke: #000000; stroke-width: 0.6\"/>\n      </g>\n     </g>\n    </g>\n    <g id=\"xtick_30\">\n     <g id=\"line2d_34\">\n      <g>\n       <use xlink:href=\"#mc010c36d4c\" x=\"195.157387\" y=\"143.1\" style=\"stroke: #000000; stroke-width: 0.6\"/>\n      </g>\n     </g>\n    </g>\n    <g id=\"xtick_31\">\n     <g id=\"line2d_35\">\n      <g>\n       <use xlink:href=\"#mc010c36d4c\" x=\"197.638321\" y=\"143.1\" style=\"stroke: #000000; stroke-width: 0.6\"/>\n      </g>\n     </g>\n    </g>\n    <g id=\"xtick_32\">\n     <g id=\"line2d_36\">\n      <g>\n       <use xlink:href=\"#mc010c36d4c\" x=\"214.457768\" y=\"143.1\" style=\"stroke: #000000; stroke-width: 0.6\"/>\n      </g>\n     </g>\n    </g>\n    <g id=\"xtick_33\">\n     <g id=\"line2d_37\">\n      <g>\n       <use xlink:href=\"#mc010c36d4c\" x=\"222.998323\" y=\"143.1\" style=\"stroke: #000000; stroke-width: 0.6\"/>\n      </g>\n     </g>\n    </g>\n    <g id=\"xtick_34\">\n     <g id=\"line2d_38\">\n      <g>\n       <use xlink:href=\"#mc010c36d4c\" x=\"229.057943\" y=\"143.1\" style=\"stroke: #000000; stroke-width: 0.6\"/>\n      </g>\n     </g>\n    </g>\n    <g id=\"xtick_35\">\n     <g id=\"line2d_39\">\n      <g>\n       <use xlink:href=\"#mc010c36d4c\" x=\"233.75815\" y=\"143.1\" style=\"stroke: #000000; stroke-width: 0.6\"/>\n      </g>\n     </g>\n    </g>\n    <g id=\"xtick_36\">\n     <g id=\"line2d_40\">\n      <g>\n       <use xlink:href=\"#mc010c36d4c\" x=\"237.598498\" y=\"143.1\" style=\"stroke: #000000; stroke-width: 0.6\"/>\n      </g>\n     </g>\n    </g>\n    <g id=\"text_5\">\n     <!-- token: x -->\n     <g transform=\"translate(122.916406 171.376563)scale(0.1 -0.1)\">\n      <defs>\n       <path id=\"DejaVuSans-74\" d=\"M 1172 4494 \nL 1172 3500 \nL 2356 3500 \nL 2356 3053 \nL 1172 3053 \nL 1172 1153 \nQ 1172 725 1289 603 \nQ 1406 481 1766 481 \nL 2356 481 \nL 2356 0 \nL 1766 0 \nQ 1100 0 847 248 \nQ 594 497 594 1153 \nL 594 3053 \nL 172 3053 \nL 172 3500 \nL 594 3500 \nL 594 4494 \nL 1172 4494 \nz\n\" transform=\"scale(0.015625)\"/>\n       <path id=\"DejaVuSans-6f\" d=\"M 1959 3097 \nQ 1497 3097 1228 2736 \nQ 959 2375 959 1747 \nQ 959 1119 1226 758 \nQ 1494 397 1959 397 \nQ 2419 397 2687 759 \nQ 2956 1122 2956 1747 \nQ 2956 2369 2687 2733 \nQ 2419 3097 1959 3097 \nz\nM 1959 3584 \nQ 2709 3584 3137 3096 \nQ 3566 2609 3566 1747 \nQ 3566 888 3137 398 \nQ 2709 -91 1959 -91 \nQ 1206 -91 779 398 \nQ 353 888 353 1747 \nQ 353 2609 779 3096 \nQ 1206 3584 1959 3584 \nz\n\" transform=\"scale(0.015625)\"/>\n       <path id=\"DejaVuSans-6b\" d=\"M 581 4863 \nL 1159 4863 \nL 1159 1991 \nL 2875 3500 \nL 3609 3500 \nL 1753 1863 \nL 3688 0 \nL 2938 0 \nL 1159 1709 \nL 1159 0 \nL 581 0 \nL 581 4863 \nz\n\" transform=\"scale(0.015625)\"/>\n       <path id=\"DejaVuSans-65\" d=\"M 3597 1894 \nL 3597 1613 \nL 953 1613 \nQ 991 1019 1311 708 \nQ 1631 397 2203 397 \nQ 2534 397 2845 478 \nQ 3156 559 3463 722 \nL 3463 178 \nQ 3153 47 2828 -22 \nQ 2503 -91 2169 -91 \nQ 1331 -91 842 396 \nQ 353 884 353 1716 \nQ 353 2575 817 3079 \nQ 1281 3584 2069 3584 \nQ 2775 3584 3186 3129 \nQ 3597 2675 3597 1894 \nz\nM 3022 2063 \nQ 3016 2534 2758 2815 \nQ 2500 3097 2075 3097 \nQ 1594 3097 1305 2825 \nQ 1016 2553 972 2059 \nL 3022 2063 \nz\n\" transform=\"scale(0.015625)\"/>\n       <path id=\"DejaVuSans-6e\" d=\"M 3513 2113 \nL 3513 0 \nL 2938 0 \nL 2938 2094 \nQ 2938 2591 2744 2837 \nQ 2550 3084 2163 3084 \nQ 1697 3084 1428 2787 \nQ 1159 2491 1159 1978 \nL 1159 0 \nL 581 0 \nL 581 3500 \nL 1159 3500 \nL 1159 2956 \nQ 1366 3272 1645 3428 \nQ 1925 3584 2291 3584 \nQ 2894 3584 3203 3211 \nQ 3513 2838 3513 2113 \nz\n\" transform=\"scale(0.015625)\"/>\n       <path id=\"DejaVuSans-3a\" d=\"M 750 794 \nL 1409 794 \nL 1409 0 \nL 750 0 \nL 750 794 \nz\nM 750 3309 \nL 1409 3309 \nL 1409 2516 \nL 750 2516 \nL 750 3309 \nz\n\" transform=\"scale(0.015625)\"/>\n       <path id=\"DejaVuSans-20\" transform=\"scale(0.015625)\"/>\n       <path id=\"DejaVuSans-78\" d=\"M 3513 3500 \nL 2247 1797 \nL 3578 0 \nL 2900 0 \nL 1881 1375 \nL 863 0 \nL 184 0 \nL 1544 1831 \nL 300 3500 \nL 978 3500 \nL 1906 2253 \nL 2834 3500 \nL 3513 3500 \nz\n\" transform=\"scale(0.015625)\"/>\n      </defs>\n      <use xlink:href=\"#DejaVuSans-74\"/>\n      <use xlink:href=\"#DejaVuSans-6f\" x=\"39.208984\"/>\n      <use xlink:href=\"#DejaVuSans-6b\" x=\"100.390625\"/>\n      <use xlink:href=\"#DejaVuSans-65\" x=\"154.675781\"/>\n      <use xlink:href=\"#DejaVuSans-6e\" x=\"216.199219\"/>\n      <use xlink:href=\"#DejaVuSans-3a\" x=\"279.578125\"/>\n      <use xlink:href=\"#DejaVuSans-20\" x=\"313.269531\"/>\n      <use xlink:href=\"#DejaVuSans-78\" x=\"345.056641\"/>\n     </g>\n    </g>\n   </g>\n   <g id=\"matplotlib.axis_2\">\n    <g id=\"ytick_1\">\n     <g id=\"line2d_41\">\n      <path d=\"M 45.478125 136.922727 \nL 240.778125 136.922727 \n\" clip-path=\"url(#p53e04f270d)\" style=\"fill: none; stroke: #b0b0b0; stroke-width: 0.8; stroke-linecap: square\"/>\n     </g>\n     <g id=\"line2d_42\">\n      <defs>\n       <path id=\"mee2c73353d\" d=\"M 0 0 \nL -3.5 0 \n\" style=\"stroke: #000000; stroke-width: 0.8\"/>\n      </defs>\n      <g>\n       <use xlink:href=\"#mee2c73353d\" x=\"45.478125\" y=\"136.922727\" style=\"stroke: #000000; stroke-width: 0.8\"/>\n      </g>\n     </g>\n     <g id=\"text_6\">\n      <!-- $\\mathdefault{10^{0}}$ -->\n      <g transform=\"translate(20.878125 140.721946)scale(0.1 -0.1)\">\n       <use xlink:href=\"#DejaVuSans-31\" transform=\"translate(0 0.765625)\"/>\n       <use xlink:href=\"#DejaVuSans-30\" transform=\"translate(63.623047 0.765625)\"/>\n       <use xlink:href=\"#DejaVuSans-30\" transform=\"translate(128.203125 39.046875)scale(0.7)\"/>\n      </g>\n     </g>\n    </g>\n    <g id=\"ytick_2\">\n     <g id=\"line2d_43\">\n      <path d=\"M 45.478125 100.09077 \nL 240.778125 100.09077 \n\" clip-path=\"url(#p53e04f270d)\" style=\"fill: none; stroke: #b0b0b0; stroke-width: 0.8; stroke-linecap: square\"/>\n     </g>\n     <g id=\"line2d_44\">\n      <g>\n       <use xlink:href=\"#mee2c73353d\" x=\"45.478125\" y=\"100.09077\" style=\"stroke: #000000; stroke-width: 0.8\"/>\n      </g>\n     </g>\n     <g id=\"text_7\">\n      <!-- $\\mathdefault{10^{1}}$ -->\n      <g transform=\"translate(20.878125 103.889989)scale(0.1 -0.1)\">\n       <use xlink:href=\"#DejaVuSans-31\" transform=\"translate(0 0.684375)\"/>\n       <use xlink:href=\"#DejaVuSans-30\" transform=\"translate(63.623047 0.684375)\"/>\n       <use xlink:href=\"#DejaVuSans-31\" transform=\"translate(128.203125 38.965625)scale(0.7)\"/>\n      </g>\n     </g>\n    </g>\n    <g id=\"ytick_3\">\n     <g id=\"line2d_45\">\n      <path d=\"M 45.478125 63.258813 \nL 240.778125 63.258813 \n\" clip-path=\"url(#p53e04f270d)\" style=\"fill: none; stroke: #b0b0b0; stroke-width: 0.8; stroke-linecap: square\"/>\n     </g>\n     <g id=\"line2d_46\">\n      <g>\n       <use xlink:href=\"#mee2c73353d\" x=\"45.478125\" y=\"63.258813\" style=\"stroke: #000000; stroke-width: 0.8\"/>\n      </g>\n     </g>\n     <g id=\"text_8\">\n      <!-- $\\mathdefault{10^{2}}$ -->\n      <g transform=\"translate(20.878125 67.058032)scale(0.1 -0.1)\">\n       <use xlink:href=\"#DejaVuSans-31\" transform=\"translate(0 0.765625)\"/>\n       <use xlink:href=\"#DejaVuSans-30\" transform=\"translate(63.623047 0.765625)\"/>\n       <use xlink:href=\"#DejaVuSans-32\" transform=\"translate(128.203125 39.046875)scale(0.7)\"/>\n      </g>\n     </g>\n    </g>\n    <g id=\"ytick_4\">\n     <g id=\"line2d_47\">\n      <path d=\"M 45.478125 26.426856 \nL 240.778125 26.426856 \n\" clip-path=\"url(#p53e04f270d)\" style=\"fill: none; stroke: #b0b0b0; stroke-width: 0.8; stroke-linecap: square\"/>\n     </g>\n     <g id=\"line2d_48\">\n      <g>\n       <use xlink:href=\"#mee2c73353d\" x=\"45.478125\" y=\"26.426856\" style=\"stroke: #000000; stroke-width: 0.8\"/>\n      </g>\n     </g>\n     <g id=\"text_9\">\n      <!-- $\\mathdefault{10^{3}}$ -->\n      <g transform=\"translate(20.878125 30.226075)scale(0.1 -0.1)\">\n       <use xlink:href=\"#DejaVuSans-31\" transform=\"translate(0 0.765625)\"/>\n       <use xlink:href=\"#DejaVuSans-30\" transform=\"translate(63.623047 0.765625)\"/>\n       <use xlink:href=\"#DejaVuSans-33\" transform=\"translate(128.203125 39.046875)scale(0.7)\"/>\n      </g>\n     </g>\n    </g>\n    <g id=\"ytick_5\">\n     <g id=\"line2d_49\">\n      <defs>\n       <path id=\"maf9bb18d18\" d=\"M 0 0 \nL -2 0 \n\" style=\"stroke: #000000; stroke-width: 0.6\"/>\n      </defs>\n      <g>\n       <use xlink:href=\"#maf9bb18d18\" x=\"45.478125\" y=\"142.62807\" style=\"stroke: #000000; stroke-width: 0.6\"/>\n      </g>\n     </g>\n    </g>\n    <g id=\"ytick_6\">\n     <g id=\"line2d_50\">\n      <g>\n       <use xlink:href=\"#maf9bb18d18\" x=\"45.478125\" y=\"140.492113\" style=\"stroke: #000000; stroke-width: 0.6\"/>\n      </g>\n     </g>\n    </g>\n    <g id=\"ytick_7\">\n     <g id=\"line2d_51\">\n      <g>\n       <use xlink:href=\"#maf9bb18d18\" x=\"45.478125\" y=\"138.608065\" style=\"stroke: #000000; stroke-width: 0.6\"/>\n      </g>\n     </g>\n    </g>\n    <g id=\"ytick_8\">\n     <g id=\"line2d_52\">\n      <g>\n       <use xlink:href=\"#maf9bb18d18\" x=\"45.478125\" y=\"125.835203\" style=\"stroke: #000000; stroke-width: 0.6\"/>\n      </g>\n     </g>\n    </g>\n    <g id=\"ytick_9\">\n     <g id=\"line2d_53\">\n      <g>\n       <use xlink:href=\"#maf9bb18d18\" x=\"45.478125\" y=\"119.349418\" style=\"stroke: #000000; stroke-width: 0.6\"/>\n      </g>\n     </g>\n    </g>\n    <g id=\"ytick_10\">\n     <g id=\"line2d_54\">\n      <g>\n       <use xlink:href=\"#maf9bb18d18\" x=\"45.478125\" y=\"114.747679\" style=\"stroke: #000000; stroke-width: 0.6\"/>\n      </g>\n     </g>\n    </g>\n    <g id=\"ytick_11\">\n     <g id=\"line2d_55\">\n      <g>\n       <use xlink:href=\"#maf9bb18d18\" x=\"45.478125\" y=\"111.178294\" style=\"stroke: #000000; stroke-width: 0.6\"/>\n      </g>\n     </g>\n    </g>\n    <g id=\"ytick_12\">\n     <g id=\"line2d_56\">\n      <g>\n       <use xlink:href=\"#maf9bb18d18\" x=\"45.478125\" y=\"108.261894\" style=\"stroke: #000000; stroke-width: 0.6\"/>\n      </g>\n     </g>\n    </g>\n    <g id=\"ytick_13\">\n     <g id=\"line2d_57\">\n      <g>\n       <use xlink:href=\"#maf9bb18d18\" x=\"45.478125\" y=\"105.796112\" style=\"stroke: #000000; stroke-width: 0.6\"/>\n      </g>\n     </g>\n    </g>\n    <g id=\"ytick_14\">\n     <g id=\"line2d_58\">\n      <g>\n       <use xlink:href=\"#maf9bb18d18\" x=\"45.478125\" y=\"103.660156\" style=\"stroke: #000000; stroke-width: 0.6\"/>\n      </g>\n     </g>\n    </g>\n    <g id=\"ytick_15\">\n     <g id=\"line2d_59\">\n      <g>\n       <use xlink:href=\"#maf9bb18d18\" x=\"45.478125\" y=\"101.776108\" style=\"stroke: #000000; stroke-width: 0.6\"/>\n      </g>\n     </g>\n    </g>\n    <g id=\"ytick_16\">\n     <g id=\"line2d_60\">\n      <g>\n       <use xlink:href=\"#maf9bb18d18\" x=\"45.478125\" y=\"89.003246\" style=\"stroke: #000000; stroke-width: 0.6\"/>\n      </g>\n     </g>\n    </g>\n    <g id=\"ytick_17\">\n     <g id=\"line2d_61\">\n      <g>\n       <use xlink:href=\"#maf9bb18d18\" x=\"45.478125\" y=\"82.517461\" style=\"stroke: #000000; stroke-width: 0.6\"/>\n      </g>\n     </g>\n    </g>\n    <g id=\"ytick_18\">\n     <g id=\"line2d_62\">\n      <g>\n       <use xlink:href=\"#maf9bb18d18\" x=\"45.478125\" y=\"77.915722\" style=\"stroke: #000000; stroke-width: 0.6\"/>\n      </g>\n     </g>\n    </g>\n    <g id=\"ytick_19\">\n     <g id=\"line2d_63\">\n      <g>\n       <use xlink:href=\"#maf9bb18d18\" x=\"45.478125\" y=\"74.346337\" style=\"stroke: #000000; stroke-width: 0.6\"/>\n      </g>\n     </g>\n    </g>\n    <g id=\"ytick_20\">\n     <g id=\"line2d_64\">\n      <g>\n       <use xlink:href=\"#maf9bb18d18\" x=\"45.478125\" y=\"71.429937\" style=\"stroke: #000000; stroke-width: 0.6\"/>\n      </g>\n     </g>\n    </g>\n    <g id=\"ytick_21\">\n     <g id=\"line2d_65\">\n      <g>\n       <use xlink:href=\"#maf9bb18d18\" x=\"45.478125\" y=\"68.964155\" style=\"stroke: #000000; stroke-width: 0.6\"/>\n      </g>\n     </g>\n    </g>\n    <g id=\"ytick_22\">\n     <g id=\"line2d_66\">\n      <g>\n       <use xlink:href=\"#maf9bb18d18\" x=\"45.478125\" y=\"66.828198\" style=\"stroke: #000000; stroke-width: 0.6\"/>\n      </g>\n     </g>\n    </g>\n    <g id=\"ytick_23\">\n     <g id=\"line2d_67\">\n      <g>\n       <use xlink:href=\"#maf9bb18d18\" x=\"45.478125\" y=\"64.944151\" style=\"stroke: #000000; stroke-width: 0.6\"/>\n      </g>\n     </g>\n    </g>\n    <g id=\"ytick_24\">\n     <g id=\"line2d_68\">\n      <g>\n       <use xlink:href=\"#maf9bb18d18\" x=\"45.478125\" y=\"52.171289\" style=\"stroke: #000000; stroke-width: 0.6\"/>\n      </g>\n     </g>\n    </g>\n    <g id=\"ytick_25\">\n     <g id=\"line2d_69\">\n      <g>\n       <use xlink:href=\"#maf9bb18d18\" x=\"45.478125\" y=\"45.685503\" style=\"stroke: #000000; stroke-width: 0.6\"/>\n      </g>\n     </g>\n    </g>\n    <g id=\"ytick_26\">\n     <g id=\"line2d_70\">\n      <g>\n       <use xlink:href=\"#maf9bb18d18\" x=\"45.478125\" y=\"41.083765\" style=\"stroke: #000000; stroke-width: 0.6\"/>\n      </g>\n     </g>\n    </g>\n    <g id=\"ytick_27\">\n     <g id=\"line2d_71\">\n      <g>\n       <use xlink:href=\"#maf9bb18d18\" x=\"45.478125\" y=\"37.51438\" style=\"stroke: #000000; stroke-width: 0.6\"/>\n      </g>\n     </g>\n    </g>\n    <g id=\"ytick_28\">\n     <g id=\"line2d_72\">\n      <g>\n       <use xlink:href=\"#maf9bb18d18\" x=\"45.478125\" y=\"34.597979\" style=\"stroke: #000000; stroke-width: 0.6\"/>\n      </g>\n     </g>\n    </g>\n    <g id=\"ytick_29\">\n     <g id=\"line2d_73\">\n      <g>\n       <use xlink:href=\"#maf9bb18d18\" x=\"45.478125\" y=\"32.132198\" style=\"stroke: #000000; stroke-width: 0.6\"/>\n      </g>\n     </g>\n    </g>\n    <g id=\"ytick_30\">\n     <g id=\"line2d_74\">\n      <g>\n       <use xlink:href=\"#maf9bb18d18\" x=\"45.478125\" y=\"29.996241\" style=\"stroke: #000000; stroke-width: 0.6\"/>\n      </g>\n     </g>\n    </g>\n    <g id=\"ytick_31\">\n     <g id=\"line2d_75\">\n      <g>\n       <use xlink:href=\"#maf9bb18d18\" x=\"45.478125\" y=\"28.112194\" style=\"stroke: #000000; stroke-width: 0.6\"/>\n      </g>\n     </g>\n    </g>\n    <g id=\"ytick_32\">\n     <g id=\"line2d_76\">\n      <g>\n       <use xlink:href=\"#maf9bb18d18\" x=\"45.478125\" y=\"15.339332\" style=\"stroke: #000000; stroke-width: 0.6\"/>\n      </g>\n     </g>\n    </g>\n    <g id=\"ytick_33\">\n     <g id=\"line2d_77\">\n      <g>\n       <use xlink:href=\"#maf9bb18d18\" x=\"45.478125\" y=\"8.853546\" style=\"stroke: #000000; stroke-width: 0.6\"/>\n      </g>\n     </g>\n    </g>\n    <g id=\"text_10\">\n     <!-- frequency: n(x) -->\n     <g transform=\"translate(14.798438 113.167187)rotate(-90)scale(0.1 -0.1)\">\n      <defs>\n       <path id=\"DejaVuSans-66\" d=\"M 2375 4863 \nL 2375 4384 \nL 1825 4384 \nQ 1516 4384 1395 4259 \nQ 1275 4134 1275 3809 \nL 1275 3500 \nL 2222 3500 \nL 2222 3053 \nL 1275 3053 \nL 1275 0 \nL 697 0 \nL 697 3053 \nL 147 3053 \nL 147 3500 \nL 697 3500 \nL 697 3744 \nQ 697 4328 969 4595 \nQ 1241 4863 1831 4863 \nL 2375 4863 \nz\n\" transform=\"scale(0.015625)\"/>\n       <path id=\"DejaVuSans-72\" d=\"M 2631 2963 \nQ 2534 3019 2420 3045 \nQ 2306 3072 2169 3072 \nQ 1681 3072 1420 2755 \nQ 1159 2438 1159 1844 \nL 1159 0 \nL 581 0 \nL 581 3500 \nL 1159 3500 \nL 1159 2956 \nQ 1341 3275 1631 3429 \nQ 1922 3584 2338 3584 \nQ 2397 3584 2469 3576 \nQ 2541 3569 2628 3553 \nL 2631 2963 \nz\n\" transform=\"scale(0.015625)\"/>\n       <path id=\"DejaVuSans-71\" d=\"M 947 1747 \nQ 947 1113 1208 752 \nQ 1469 391 1925 391 \nQ 2381 391 2643 752 \nQ 2906 1113 2906 1747 \nQ 2906 2381 2643 2742 \nQ 2381 3103 1925 3103 \nQ 1469 3103 1208 2742 \nQ 947 2381 947 1747 \nz\nM 2906 525 \nQ 2725 213 2448 61 \nQ 2172 -91 1784 -91 \nQ 1150 -91 751 415 \nQ 353 922 353 1747 \nQ 353 2572 751 3078 \nQ 1150 3584 1784 3584 \nQ 2172 3584 2448 3432 \nQ 2725 3281 2906 2969 \nL 2906 3500 \nL 3481 3500 \nL 3481 -1331 \nL 2906 -1331 \nL 2906 525 \nz\n\" transform=\"scale(0.015625)\"/>\n       <path id=\"DejaVuSans-75\" d=\"M 544 1381 \nL 544 3500 \nL 1119 3500 \nL 1119 1403 \nQ 1119 906 1312 657 \nQ 1506 409 1894 409 \nQ 2359 409 2629 706 \nQ 2900 1003 2900 1516 \nL 2900 3500 \nL 3475 3500 \nL 3475 0 \nL 2900 0 \nL 2900 538 \nQ 2691 219 2414 64 \nQ 2138 -91 1772 -91 \nQ 1169 -91 856 284 \nQ 544 659 544 1381 \nz\nM 1991 3584 \nL 1991 3584 \nz\n\" transform=\"scale(0.015625)\"/>\n       <path id=\"DejaVuSans-63\" d=\"M 3122 3366 \nL 3122 2828 \nQ 2878 2963 2633 3030 \nQ 2388 3097 2138 3097 \nQ 1578 3097 1268 2742 \nQ 959 2388 959 1747 \nQ 959 1106 1268 751 \nQ 1578 397 2138 397 \nQ 2388 397 2633 464 \nQ 2878 531 3122 666 \nL 3122 134 \nQ 2881 22 2623 -34 \nQ 2366 -91 2075 -91 \nQ 1284 -91 818 406 \nQ 353 903 353 1747 \nQ 353 2603 823 3093 \nQ 1294 3584 2113 3584 \nQ 2378 3584 2631 3529 \nQ 2884 3475 3122 3366 \nz\n\" transform=\"scale(0.015625)\"/>\n       <path id=\"DejaVuSans-79\" d=\"M 2059 -325 \nQ 1816 -950 1584 -1140 \nQ 1353 -1331 966 -1331 \nL 506 -1331 \nL 506 -850 \nL 844 -850 \nQ 1081 -850 1212 -737 \nQ 1344 -625 1503 -206 \nL 1606 56 \nL 191 3500 \nL 800 3500 \nL 1894 763 \nL 2988 3500 \nL 3597 3500 \nL 2059 -325 \nz\n\" transform=\"scale(0.015625)\"/>\n       <path id=\"DejaVuSans-28\" d=\"M 1984 4856 \nQ 1566 4138 1362 3434 \nQ 1159 2731 1159 2009 \nQ 1159 1288 1364 580 \nQ 1569 -128 1984 -844 \nL 1484 -844 \nQ 1016 -109 783 600 \nQ 550 1309 550 2009 \nQ 550 2706 781 3412 \nQ 1013 4119 1484 4856 \nL 1984 4856 \nz\n\" transform=\"scale(0.015625)\"/>\n       <path id=\"DejaVuSans-29\" d=\"M 513 4856 \nL 1013 4856 \nQ 1481 4119 1714 3412 \nQ 1947 2706 1947 2009 \nQ 1947 1309 1714 600 \nQ 1481 -109 1013 -844 \nL 513 -844 \nQ 928 -128 1133 580 \nQ 1338 1288 1338 2009 \nQ 1338 2731 1133 3434 \nQ 928 4138 513 4856 \nz\n\" transform=\"scale(0.015625)\"/>\n      </defs>\n      <use xlink:href=\"#DejaVuSans-66\"/>\n      <use xlink:href=\"#DejaVuSans-72\" x=\"35.205078\"/>\n      <use xlink:href=\"#DejaVuSans-65\" x=\"74.068359\"/>\n      <use xlink:href=\"#DejaVuSans-71\" x=\"135.591797\"/>\n      <use xlink:href=\"#DejaVuSans-75\" x=\"199.068359\"/>\n      <use xlink:href=\"#DejaVuSans-65\" x=\"262.447266\"/>\n      <use xlink:href=\"#DejaVuSans-6e\" x=\"323.970703\"/>\n      <use xlink:href=\"#DejaVuSans-63\" x=\"387.349609\"/>\n      <use xlink:href=\"#DejaVuSans-79\" x=\"442.330078\"/>\n      <use xlink:href=\"#DejaVuSans-3a\" x=\"494.259766\"/>\n      <use xlink:href=\"#DejaVuSans-20\" x=\"527.951172\"/>\n      <use xlink:href=\"#DejaVuSans-6e\" x=\"559.738281\"/>\n      <use xlink:href=\"#DejaVuSans-28\" x=\"623.117188\"/>\n      <use xlink:href=\"#DejaVuSans-78\" x=\"662.130859\"/>\n      <use xlink:href=\"#DejaVuSans-29\" x=\"721.310547\"/>\n     </g>\n    </g>\n   </g>\n   <g id=\"line2d_78\">\n    <path d=\"M -1 22.630819 \nL 54.355398 22.641392 \nL 68.955573 22.921582 \nL 77.496128 24.121839 \nL 83.555748 29.67948 \nL 88.255954 32.246865 \nL 92.096303 35.931745 \nL 95.343271 36.253723 \nL 98.155923 39.450499 \nL 102.85613 39.668628 \nL 104.863705 43.037948 \nL 106.696478 46.732081 \nL 108.382465 47.370841 \nL 111.396684 50.574172 \nL 112.756098 50.940227 \nL 114.033071 51.854528 \nL 115.237033 52.171289 \nL 116.375883 55.941884 \nL 117.456305 56.561158 \nL 118.484001 58.223127 \nL 119.46388 58.223127 \nL 120.400194 58.577295 \nL 121.296653 59.185578 \nL 122.156511 59.435519 \nL 122.982641 59.947432 \nL 123.777588 60.078011 \nL 125.282771 60.078011 \nL 126.687531 60.611258 \nL 127.356273 61.162896 \nL 128.004435 61.162896 \nL 128.633246 61.30383 \nL 129.243828 61.30383 \nL 129.837208 61.446017 \nL 130.414329 62.326748 \nL 130.976058 62.47837 \nL 131.523195 62.785993 \nL 132.05648 64.248567 \nL 133.084176 64.592578 \nL 133.579813 64.592578 \nL 134.064055 64.767399 \nL 134.537414 65.122878 \nL 136.331144 65.858452 \nL 137.173801 65.858452 \nL 137.582816 66.047755 \nL 137.984039 66.047755 \nL 138.377763 66.433217 \nL 139.143796 67.439582 \nL 139.516613 67.860551 \nL 139.882946 68.075265 \nL 140.597035 68.075265 \nL 141.956448 68.964155 \nL 142.60461 68.964155 \nL 142.921362 69.194316 \nL 143.233421 69.905363 \nL 143.540924 70.905433 \nL 144.437383 71.698782 \nL 144.72792 71.698782 \nL 145.014504 72.25042 \nL 145.576233 72.25042 \nL 145.851578 72.821763 \nL 146.123371 73.115275 \nL 146.3917 73.115275 \nL 147.684351 74.669498 \nL 148.90224 74.669498 \nL 149.13759 74.999322 \nL 149.370339 74.999322 \nL 149.600544 75.336091 \nL 149.828261 75.336091 \nL 150.053543 75.680102 \nL 150.715281 75.680102 \nL 150.93132 76.031675 \nL 151.145165 76.031675 \nL 151.566451 76.758887 \nL 151.979476 76.758887 \nL 152.182991 77.135279 \nL 152.384558 77.135279 \nL 152.781996 77.915722 \nL 153.364437 77.915722 \nL 153.743971 78.736206 \nL 153.931205 78.736206 \nL 154.116788 79.162789 \nL 154.843191 79.162789 \nL 155.020944 79.60106 \nL 155.887881 79.60106 \nL 156.057068 80.051679 \nL 156.720543 80.051679 \nL 156.883197 80.515361 \nL 157.678144 80.515361 \nL 157.833596 80.992887 \nL 158.141099 80.992887 \nL 158.293184 81.485108 \nL 158.890773 81.485108 \nL 159.037558 81.992957 \nL 159.328095 81.992957 \nL 159.471874 82.517461 \nL 159.756522 82.517461 \nL 159.897416 83.059747 \nL 160.037374 83.059747 \nL 160.176408 83.621065 \nL 160.858138 83.621065 \nL 160.991875 84.202798 \nL 161.518493 84.202798 \nL 161.648115 84.80649 \nL 162.409533 84.80649 \nL 162.533803 85.433861 \nL 162.902271 85.433861 \nL 163.023676 86.086846 \nL 163.502415 86.086846 \nL 163.620418 86.767626 \nL 164.200719 86.767626 \nL 164.314886 87.478673 \nL 165.423752 87.478673 \nL 165.638689 88.222803 \nL 166.374151 88.222803 \nL 166.579651 89.003246 \nL 167.675405 89.003246 \nL 167.86865 89.823729 \nL 168.716963 89.823729 \nL 168.900926 90.688584 \nL 169.173892 90.688584 \nL 169.353924 91.602885 \nL 169.972187 91.602885 \nL 170.145551 92.572632 \nL 171.483372 92.572632 \nL 171.64478 93.604984 \nL 172.433771 93.604984 \nL 172.588084 94.708589 \nL 173.490948 94.708589 \nL 173.637733 95.894013 \nL 175.256101 95.894013 \nL 175.391124 97.17437 \nL 176.37712 97.17437 \nL 176.505167 98.566197 \nL 178.33794 98.566197 \nL 178.454636 100.09077 \nL 180.451629 100.09077 \nL 180.609805 101.776108 \nL 182.42068 101.776108 \nL 182.564787 103.660156 \nL 185.257418 103.660156 \nL 185.383422 105.796112 \nL 188.528445 105.796112 \nL 188.672225 108.261894 \nL 191.67211 108.261894 \nL 191.796014 111.178294 \nL 195.754423 111.178294 \nL 195.882004 114.747679 \nL 200.724191 114.747679 \nL 200.84513 119.349418 \nL 207.214001 119.349418 \nL 207.332503 125.835203 \nL 216.282641 125.835203 \nL 216.398216 136.922727 \nL 231.900852 136.922727 \nL 231.900852 136.922727 \n\" clip-path=\"url(#p53e04f270d)\" style=\"fill: none; stroke: #1f77b4; stroke-width: 1.5; stroke-linecap: square\"/>\n   </g>\n   <g id=\"patch_3\">\n    <path d=\"M 45.478125 143.1 \nL 45.478125 7.2 \n\" style=\"fill: none; stroke: #000000; stroke-width: 0.8; stroke-linejoin: miter; stroke-linecap: square\"/>\n   </g>\n   <g id=\"patch_4\">\n    <path d=\"M 240.778125 143.1 \nL 240.778125 7.2 \n\" style=\"fill: none; stroke: #000000; stroke-width: 0.8; stroke-linejoin: miter; stroke-linecap: square\"/>\n   </g>\n   <g id=\"patch_5\">\n    <path d=\"M 45.478125 143.1 \nL 240.778125 143.1 \n\" style=\"fill: none; stroke: #000000; stroke-width: 0.8; stroke-linejoin: miter; stroke-linecap: square\"/>\n   </g>\n   <g id=\"patch_6\">\n    <path d=\"M 45.478125 7.2 \nL 240.778125 7.2 \n\" style=\"fill: none; stroke: #000000; stroke-width: 0.8; stroke-linejoin: miter; stroke-linecap: square\"/>\n   </g>\n  </g>\n </g>\n <defs>\n  <clipPath id=\"p53e04f270d\">\n   <rect x=\"45.478125\" y=\"7.2\" width=\"195.3\" height=\"135.9\"/>\n  </clipPath>\n </defs>\n</svg>\n"
          },
          "metadata": {
            "needs_background": "light"
          }
        }
      ]
    },
    {
      "cell_type": "code",
      "source": [
        "bigram_tokens = [pair for pair in zip(corpus[:-1], corpus[1:])]\n",
        "bigram_vocab = d2l.Vocab(bigram_tokens)\n",
        "bigram_vocab.token_freqs[:10]"
      ],
      "metadata": {
        "colab": {
          "base_uri": "https://localhost:8080/"
        },
        "id": "9VbZ2SoR3ZCV",
        "outputId": "6b94e174-c95d-46d1-db37-ce43325e1745"
      },
      "execution_count": 22,
      "outputs": [
        {
          "output_type": "execute_result",
          "data": {
            "text/plain": [
              "[(('of', 'the'), 309),\n",
              " (('in', 'the'), 169),\n",
              " (('i', 'had'), 130),\n",
              " (('i', 'was'), 112),\n",
              " (('and', 'the'), 109),\n",
              " (('the', 'time'), 102),\n",
              " (('it', 'was'), 99),\n",
              " (('to', 'the'), 85),\n",
              " (('as', 'i'), 78),\n",
              " (('of', 'a'), 73)]"
            ]
          },
          "metadata": {},
          "execution_count": 22
        }
      ]
    },
    {
      "cell_type": "code",
      "source": [
        "trigram_tokens = [triple for triple in zip(\n",
        "    corpus[:-2], corpus[1:-1], corpus[2:])]\n",
        "trigram_vocab = d2l.Vocab(trigram_tokens)\n",
        "trigram_vocab.token_freqs[:10]"
      ],
      "metadata": {
        "colab": {
          "base_uri": "https://localhost:8080/"
        },
        "id": "IHNArgWX3btO",
        "outputId": "bbae23b8-42e8-411e-f40d-2988065410ff"
      },
      "execution_count": 38,
      "outputs": [
        {
          "output_type": "execute_result",
          "data": {
            "text/plain": [
              "[(('the', 'time', 'traveller'), 59),\n",
              " (('the', 'time', 'machine'), 30),\n",
              " (('the', 'medical', 'man'), 24),\n",
              " (('it', 'seemed', 'to'), 16),\n",
              " (('it', 'was', 'a'), 15),\n",
              " (('here', 'and', 'there'), 15),\n",
              " (('seemed', 'to', 'me'), 14),\n",
              " (('i', 'did', 'not'), 14),\n",
              " (('i', 'saw', 'the'), 13),\n",
              " (('i', 'began', 'to'), 13)]"
            ]
          },
          "metadata": {},
          "execution_count": 38
        }
      ]
    },
    {
      "cell_type": "code",
      "source": [
        "bigram_freqs = [freq for token, freq in bigram_vocab.token_freqs]\n",
        "trigram_freqs = [freq for token, freq in trigram_vocab.token_freqs]\n",
        "d2l.plot([freqs, bigram_freqs, trigram_freqs], xlabel='token: x',\n",
        "         ylabel='frequency: n(x)', xscale='log', yscale='log',\n",
        "         legend=['unigram', 'bigram', 'trigram'])"
      ],
      "metadata": {
        "colab": {
          "base_uri": "https://localhost:8080/",
          "height": 262
        },
        "id": "3WNt9Ch03djC",
        "outputId": "d2875e09-731e-402e-9283-51e4b85a9975"
      },
      "execution_count": 39,
      "outputs": [
        {
          "output_type": "display_data",
          "data": {
            "text/plain": [
              "<Figure size 252x180 with 1 Axes>"
            ],
            "image/svg+xml": "<?xml version=\"1.0\" encoding=\"utf-8\" standalone=\"no\"?>\n<!DOCTYPE svg PUBLIC \"-//W3C//DTD SVG 1.1//EN\"\n  \"http://www.w3.org/Graphics/SVG/1.1/DTD/svg11.dtd\">\n<svg xmlns:xlink=\"http://www.w3.org/1999/xlink\" width=\"247.978125pt\" height=\"180.65625pt\" viewBox=\"0 0 247.978125 180.65625\" xmlns=\"http://www.w3.org/2000/svg\" version=\"1.1\">\n <metadata>\n  <rdf:RDF xmlns:dc=\"http://purl.org/dc/elements/1.1/\" xmlns:cc=\"http://creativecommons.org/ns#\" xmlns:rdf=\"http://www.w3.org/1999/02/22-rdf-syntax-ns#\">\n   <cc:Work>\n    <dc:type rdf:resource=\"http://purl.org/dc/dcmitype/StillImage\"/>\n    <dc:date>2022-04-30T14:36:07.994417</dc:date>\n    <dc:format>image/svg+xml</dc:format>\n    <dc:creator>\n     <cc:Agent>\n      <dc:title>Matplotlib v3.5.1, https://matplotlib.org/</dc:title>\n     </cc:Agent>\n    </dc:creator>\n   </cc:Work>\n  </rdf:RDF>\n </metadata>\n <defs>\n  <style type=\"text/css\">*{stroke-linejoin: round; stroke-linecap: butt}</style>\n </defs>\n <g id=\"figure_1\">\n  <g id=\"patch_1\">\n   <path d=\"M 0 180.65625 \nL 247.978125 180.65625 \nL 247.978125 0 \nL 0 0 \nL 0 180.65625 \nz\n\" style=\"fill: none\"/>\n  </g>\n  <g id=\"axes_1\">\n   <g id=\"patch_2\">\n    <path d=\"M 45.478125 143.1 \nL 240.778125 143.1 \nL 240.778125 7.2 \nL 45.478125 7.2 \nz\n\" style=\"fill: #ffffff\"/>\n   </g>\n   <g id=\"matplotlib.axis_1\">\n    <g id=\"xtick_1\">\n     <g id=\"line2d_1\">\n      <path d=\"M 54.355398 143.1 \nL 54.355398 7.2 \n\" clip-path=\"url(#p9e1b1bba5a)\" style=\"fill: none; stroke: #b0b0b0; stroke-width: 0.8; stroke-linecap: square\"/>\n     </g>\n     <g id=\"line2d_2\">\n      <defs>\n       <path id=\"me55b54f1aa\" d=\"M 0 0 \nL 0 3.5 \n\" style=\"stroke: #000000; stroke-width: 0.8\"/>\n      </defs>\n      <g>\n       <use xlink:href=\"#me55b54f1aa\" x=\"54.355398\" y=\"143.1\" style=\"stroke: #000000; stroke-width: 0.8\"/>\n      </g>\n     </g>\n     <g id=\"text_1\">\n      <!-- $\\mathdefault{10^{0}}$ -->\n      <g transform=\"translate(45.555398 157.698438)scale(0.1 -0.1)\">\n       <defs>\n        <path id=\"DejaVuSans-31\" d=\"M 794 531 \nL 1825 531 \nL 1825 4091 \nL 703 3866 \nL 703 4441 \nL 1819 4666 \nL 2450 4666 \nL 2450 531 \nL 3481 531 \nL 3481 0 \nL 794 0 \nL 794 531 \nz\n\" transform=\"scale(0.015625)\"/>\n        <path id=\"DejaVuSans-30\" d=\"M 2034 4250 \nQ 1547 4250 1301 3770 \nQ 1056 3291 1056 2328 \nQ 1056 1369 1301 889 \nQ 1547 409 2034 409 \nQ 2525 409 2770 889 \nQ 3016 1369 3016 2328 \nQ 3016 3291 2770 3770 \nQ 2525 4250 2034 4250 \nz\nM 2034 4750 \nQ 2819 4750 3233 4129 \nQ 3647 3509 3647 2328 \nQ 3647 1150 3233 529 \nQ 2819 -91 2034 -91 \nQ 1250 -91 836 529 \nQ 422 1150 422 2328 \nQ 422 3509 836 4129 \nQ 1250 4750 2034 4750 \nz\n\" transform=\"scale(0.015625)\"/>\n       </defs>\n       <use xlink:href=\"#DejaVuSans-31\" transform=\"translate(0 0.765625)\"/>\n       <use xlink:href=\"#DejaVuSans-30\" transform=\"translate(63.623047 0.765625)\"/>\n       <use xlink:href=\"#DejaVuSans-30\" transform=\"translate(128.203125 39.046875)scale(0.7)\"/>\n      </g>\n     </g>\n    </g>\n    <g id=\"xtick_2\">\n     <g id=\"line2d_3\">\n      <path d=\"M 94.026857 143.1 \nL 94.026857 7.2 \n\" clip-path=\"url(#p9e1b1bba5a)\" style=\"fill: none; stroke: #b0b0b0; stroke-width: 0.8; stroke-linecap: square\"/>\n     </g>\n     <g id=\"line2d_4\">\n      <g>\n       <use xlink:href=\"#me55b54f1aa\" x=\"94.026857\" y=\"143.1\" style=\"stroke: #000000; stroke-width: 0.8\"/>\n      </g>\n     </g>\n     <g id=\"text_2\">\n      <!-- $\\mathdefault{10^{1}}$ -->\n      <g transform=\"translate(85.226857 157.698438)scale(0.1 -0.1)\">\n       <use xlink:href=\"#DejaVuSans-31\" transform=\"translate(0 0.684375)\"/>\n       <use xlink:href=\"#DejaVuSans-30\" transform=\"translate(63.623047 0.684375)\"/>\n       <use xlink:href=\"#DejaVuSans-31\" transform=\"translate(128.203125 38.965625)scale(0.7)\"/>\n      </g>\n     </g>\n    </g>\n    <g id=\"xtick_3\">\n     <g id=\"line2d_5\">\n      <path d=\"M 133.698316 143.1 \nL 133.698316 7.2 \n\" clip-path=\"url(#p9e1b1bba5a)\" style=\"fill: none; stroke: #b0b0b0; stroke-width: 0.8; stroke-linecap: square\"/>\n     </g>\n     <g id=\"line2d_6\">\n      <g>\n       <use xlink:href=\"#me55b54f1aa\" x=\"133.698316\" y=\"143.1\" style=\"stroke: #000000; stroke-width: 0.8\"/>\n      </g>\n     </g>\n     <g id=\"text_3\">\n      <!-- $\\mathdefault{10^{2}}$ -->\n      <g transform=\"translate(124.898316 157.698438)scale(0.1 -0.1)\">\n       <defs>\n        <path id=\"DejaVuSans-32\" d=\"M 1228 531 \nL 3431 531 \nL 3431 0 \nL 469 0 \nL 469 531 \nQ 828 903 1448 1529 \nQ 2069 2156 2228 2338 \nQ 2531 2678 2651 2914 \nQ 2772 3150 2772 3378 \nQ 2772 3750 2511 3984 \nQ 2250 4219 1831 4219 \nQ 1534 4219 1204 4116 \nQ 875 4013 500 3803 \nL 500 4441 \nQ 881 4594 1212 4672 \nQ 1544 4750 1819 4750 \nQ 2544 4750 2975 4387 \nQ 3406 4025 3406 3419 \nQ 3406 3131 3298 2873 \nQ 3191 2616 2906 2266 \nQ 2828 2175 2409 1742 \nQ 1991 1309 1228 531 \nz\n\" transform=\"scale(0.015625)\"/>\n       </defs>\n       <use xlink:href=\"#DejaVuSans-31\" transform=\"translate(0 0.765625)\"/>\n       <use xlink:href=\"#DejaVuSans-30\" transform=\"translate(63.623047 0.765625)\"/>\n       <use xlink:href=\"#DejaVuSans-32\" transform=\"translate(128.203125 39.046875)scale(0.7)\"/>\n      </g>\n     </g>\n    </g>\n    <g id=\"xtick_4\">\n     <g id=\"line2d_7\">\n      <path d=\"M 173.369775 143.1 \nL 173.369775 7.2 \n\" clip-path=\"url(#p9e1b1bba5a)\" style=\"fill: none; stroke: #b0b0b0; stroke-width: 0.8; stroke-linecap: square\"/>\n     </g>\n     <g id=\"line2d_8\">\n      <g>\n       <use xlink:href=\"#me55b54f1aa\" x=\"173.369775\" y=\"143.1\" style=\"stroke: #000000; stroke-width: 0.8\"/>\n      </g>\n     </g>\n     <g id=\"text_4\">\n      <!-- $\\mathdefault{10^{3}}$ -->\n      <g transform=\"translate(164.569775 157.698438)scale(0.1 -0.1)\">\n       <defs>\n        <path id=\"DejaVuSans-33\" d=\"M 2597 2516 \nQ 3050 2419 3304 2112 \nQ 3559 1806 3559 1356 \nQ 3559 666 3084 287 \nQ 2609 -91 1734 -91 \nQ 1441 -91 1130 -33 \nQ 819 25 488 141 \nL 488 750 \nQ 750 597 1062 519 \nQ 1375 441 1716 441 \nQ 2309 441 2620 675 \nQ 2931 909 2931 1356 \nQ 2931 1769 2642 2001 \nQ 2353 2234 1838 2234 \nL 1294 2234 \nL 1294 2753 \nL 1863 2753 \nQ 2328 2753 2575 2939 \nQ 2822 3125 2822 3475 \nQ 2822 3834 2567 4026 \nQ 2313 4219 1838 4219 \nQ 1578 4219 1281 4162 \nQ 984 4106 628 3988 \nL 628 4550 \nQ 988 4650 1302 4700 \nQ 1616 4750 1894 4750 \nQ 2613 4750 3031 4423 \nQ 3450 4097 3450 3541 \nQ 3450 3153 3228 2886 \nQ 3006 2619 2597 2516 \nz\n\" transform=\"scale(0.015625)\"/>\n       </defs>\n       <use xlink:href=\"#DejaVuSans-31\" transform=\"translate(0 0.765625)\"/>\n       <use xlink:href=\"#DejaVuSans-30\" transform=\"translate(63.623047 0.765625)\"/>\n       <use xlink:href=\"#DejaVuSans-33\" transform=\"translate(128.203125 39.046875)scale(0.7)\"/>\n      </g>\n     </g>\n    </g>\n    <g id=\"xtick_5\">\n     <g id=\"line2d_9\">\n      <path d=\"M 213.041234 143.1 \nL 213.041234 7.2 \n\" clip-path=\"url(#p9e1b1bba5a)\" style=\"fill: none; stroke: #b0b0b0; stroke-width: 0.8; stroke-linecap: square\"/>\n     </g>\n     <g id=\"line2d_10\">\n      <g>\n       <use xlink:href=\"#me55b54f1aa\" x=\"213.041234\" y=\"143.1\" style=\"stroke: #000000; stroke-width: 0.8\"/>\n      </g>\n     </g>\n     <g id=\"text_5\">\n      <!-- $\\mathdefault{10^{4}}$ -->\n      <g transform=\"translate(204.241234 157.698438)scale(0.1 -0.1)\">\n       <defs>\n        <path id=\"DejaVuSans-34\" d=\"M 2419 4116 \nL 825 1625 \nL 2419 1625 \nL 2419 4116 \nz\nM 2253 4666 \nL 3047 4666 \nL 3047 1625 \nL 3713 1625 \nL 3713 1100 \nL 3047 1100 \nL 3047 0 \nL 2419 0 \nL 2419 1100 \nL 313 1100 \nL 313 1709 \nL 2253 4666 \nz\n\" transform=\"scale(0.015625)\"/>\n       </defs>\n       <use xlink:href=\"#DejaVuSans-31\" transform=\"translate(0 0.684375)\"/>\n       <use xlink:href=\"#DejaVuSans-30\" transform=\"translate(63.623047 0.684375)\"/>\n       <use xlink:href=\"#DejaVuSans-34\" transform=\"translate(128.203125 38.965625)scale(0.7)\"/>\n      </g>\n     </g>\n    </g>\n    <g id=\"xtick_6\">\n     <g id=\"line2d_11\">\n      <defs>\n       <path id=\"m46cf94daf9\" d=\"M 0 0 \nL 0 2 \n\" style=\"stroke: #000000; stroke-width: 0.6\"/>\n      </defs>\n      <g>\n       <use xlink:href=\"#m46cf94daf9\" x=\"45.554334\" y=\"143.1\" style=\"stroke: #000000; stroke-width: 0.6\"/>\n      </g>\n     </g>\n    </g>\n    <g id=\"xtick_7\">\n     <g id=\"line2d_12\">\n      <g>\n       <use xlink:href=\"#m46cf94daf9\" x=\"48.210211\" y=\"143.1\" style=\"stroke: #000000; stroke-width: 0.6\"/>\n      </g>\n     </g>\n    </g>\n    <g id=\"xtick_8\">\n     <g id=\"line2d_13\">\n      <g>\n       <use xlink:href=\"#m46cf94daf9\" x=\"50.510836\" y=\"143.1\" style=\"stroke: #000000; stroke-width: 0.6\"/>\n      </g>\n     </g>\n    </g>\n    <g id=\"xtick_9\">\n     <g id=\"line2d_14\">\n      <g>\n       <use xlink:href=\"#m46cf94daf9\" x=\"52.540131\" y=\"143.1\" style=\"stroke: #000000; stroke-width: 0.6\"/>\n      </g>\n     </g>\n    </g>\n    <g id=\"xtick_10\">\n     <g id=\"line2d_15\">\n      <g>\n       <use xlink:href=\"#m46cf94daf9\" x=\"66.297697\" y=\"143.1\" style=\"stroke: #000000; stroke-width: 0.6\"/>\n      </g>\n     </g>\n    </g>\n    <g id=\"xtick_11\">\n     <g id=\"line2d_16\">\n      <g>\n       <use xlink:href=\"#m46cf94daf9\" x=\"73.283494\" y=\"143.1\" style=\"stroke: #000000; stroke-width: 0.6\"/>\n      </g>\n     </g>\n    </g>\n    <g id=\"xtick_12\">\n     <g id=\"line2d_17\">\n      <g>\n       <use xlink:href=\"#m46cf94daf9\" x=\"78.239996\" y=\"143.1\" style=\"stroke: #000000; stroke-width: 0.6\"/>\n      </g>\n     </g>\n    </g>\n    <g id=\"xtick_13\">\n     <g id=\"line2d_18\">\n      <g>\n       <use xlink:href=\"#m46cf94daf9\" x=\"82.084558\" y=\"143.1\" style=\"stroke: #000000; stroke-width: 0.6\"/>\n      </g>\n     </g>\n    </g>\n    <g id=\"xtick_14\">\n     <g id=\"line2d_19\">\n      <g>\n       <use xlink:href=\"#m46cf94daf9\" x=\"85.225793\" y=\"143.1\" style=\"stroke: #000000; stroke-width: 0.6\"/>\n      </g>\n     </g>\n    </g>\n    <g id=\"xtick_15\">\n     <g id=\"line2d_20\">\n      <g>\n       <use xlink:href=\"#m46cf94daf9\" x=\"87.88167\" y=\"143.1\" style=\"stroke: #000000; stroke-width: 0.6\"/>\n      </g>\n     </g>\n    </g>\n    <g id=\"xtick_16\">\n     <g id=\"line2d_21\">\n      <g>\n       <use xlink:href=\"#m46cf94daf9\" x=\"90.182295\" y=\"143.1\" style=\"stroke: #000000; stroke-width: 0.6\"/>\n      </g>\n     </g>\n    </g>\n    <g id=\"xtick_17\">\n     <g id=\"line2d_22\">\n      <g>\n       <use xlink:href=\"#m46cf94daf9\" x=\"92.21159\" y=\"143.1\" style=\"stroke: #000000; stroke-width: 0.6\"/>\n      </g>\n     </g>\n    </g>\n    <g id=\"xtick_18\">\n     <g id=\"line2d_23\">\n      <g>\n       <use xlink:href=\"#m46cf94daf9\" x=\"105.969156\" y=\"143.1\" style=\"stroke: #000000; stroke-width: 0.6\"/>\n      </g>\n     </g>\n    </g>\n    <g id=\"xtick_19\">\n     <g id=\"line2d_24\">\n      <g>\n       <use xlink:href=\"#m46cf94daf9\" x=\"112.954953\" y=\"143.1\" style=\"stroke: #000000; stroke-width: 0.6\"/>\n      </g>\n     </g>\n    </g>\n    <g id=\"xtick_20\">\n     <g id=\"line2d_25\">\n      <g>\n       <use xlink:href=\"#m46cf94daf9\" x=\"117.911455\" y=\"143.1\" style=\"stroke: #000000; stroke-width: 0.6\"/>\n      </g>\n     </g>\n    </g>\n    <g id=\"xtick_21\">\n     <g id=\"line2d_26\">\n      <g>\n       <use xlink:href=\"#m46cf94daf9\" x=\"121.756017\" y=\"143.1\" style=\"stroke: #000000; stroke-width: 0.6\"/>\n      </g>\n     </g>\n    </g>\n    <g id=\"xtick_22\">\n     <g id=\"line2d_27\">\n      <g>\n       <use xlink:href=\"#m46cf94daf9\" x=\"124.897252\" y=\"143.1\" style=\"stroke: #000000; stroke-width: 0.6\"/>\n      </g>\n     </g>\n    </g>\n    <g id=\"xtick_23\">\n     <g id=\"line2d_28\">\n      <g>\n       <use xlink:href=\"#m46cf94daf9\" x=\"127.553129\" y=\"143.1\" style=\"stroke: #000000; stroke-width: 0.6\"/>\n      </g>\n     </g>\n    </g>\n    <g id=\"xtick_24\">\n     <g id=\"line2d_29\">\n      <g>\n       <use xlink:href=\"#m46cf94daf9\" x=\"129.853754\" y=\"143.1\" style=\"stroke: #000000; stroke-width: 0.6\"/>\n      </g>\n     </g>\n    </g>\n    <g id=\"xtick_25\">\n     <g id=\"line2d_30\">\n      <g>\n       <use xlink:href=\"#m46cf94daf9\" x=\"131.883049\" y=\"143.1\" style=\"stroke: #000000; stroke-width: 0.6\"/>\n      </g>\n     </g>\n    </g>\n    <g id=\"xtick_26\">\n     <g id=\"line2d_31\">\n      <g>\n       <use xlink:href=\"#m46cf94daf9\" x=\"145.640615\" y=\"143.1\" style=\"stroke: #000000; stroke-width: 0.6\"/>\n      </g>\n     </g>\n    </g>\n    <g id=\"xtick_27\">\n     <g id=\"line2d_32\">\n      <g>\n       <use xlink:href=\"#m46cf94daf9\" x=\"152.626412\" y=\"143.1\" style=\"stroke: #000000; stroke-width: 0.6\"/>\n      </g>\n     </g>\n    </g>\n    <g id=\"xtick_28\">\n     <g id=\"line2d_33\">\n      <g>\n       <use xlink:href=\"#m46cf94daf9\" x=\"157.582914\" y=\"143.1\" style=\"stroke: #000000; stroke-width: 0.6\"/>\n      </g>\n     </g>\n    </g>\n    <g id=\"xtick_29\">\n     <g id=\"line2d_34\">\n      <g>\n       <use xlink:href=\"#m46cf94daf9\" x=\"161.427476\" y=\"143.1\" style=\"stroke: #000000; stroke-width: 0.6\"/>\n      </g>\n     </g>\n    </g>\n    <g id=\"xtick_30\">\n     <g id=\"line2d_35\">\n      <g>\n       <use xlink:href=\"#m46cf94daf9\" x=\"164.568711\" y=\"143.1\" style=\"stroke: #000000; stroke-width: 0.6\"/>\n      </g>\n     </g>\n    </g>\n    <g id=\"xtick_31\">\n     <g id=\"line2d_36\">\n      <g>\n       <use xlink:href=\"#m46cf94daf9\" x=\"167.224588\" y=\"143.1\" style=\"stroke: #000000; stroke-width: 0.6\"/>\n      </g>\n     </g>\n    </g>\n    <g id=\"xtick_32\">\n     <g id=\"line2d_37\">\n      <g>\n       <use xlink:href=\"#m46cf94daf9\" x=\"169.525213\" y=\"143.1\" style=\"stroke: #000000; stroke-width: 0.6\"/>\n      </g>\n     </g>\n    </g>\n    <g id=\"xtick_33\">\n     <g id=\"line2d_38\">\n      <g>\n       <use xlink:href=\"#m46cf94daf9\" x=\"171.554508\" y=\"143.1\" style=\"stroke: #000000; stroke-width: 0.6\"/>\n      </g>\n     </g>\n    </g>\n    <g id=\"xtick_34\">\n     <g id=\"line2d_39\">\n      <g>\n       <use xlink:href=\"#m46cf94daf9\" x=\"185.312074\" y=\"143.1\" style=\"stroke: #000000; stroke-width: 0.6\"/>\n      </g>\n     </g>\n    </g>\n    <g id=\"xtick_35\">\n     <g id=\"line2d_40\">\n      <g>\n       <use xlink:href=\"#m46cf94daf9\" x=\"192.297871\" y=\"143.1\" style=\"stroke: #000000; stroke-width: 0.6\"/>\n      </g>\n     </g>\n    </g>\n    <g id=\"xtick_36\">\n     <g id=\"line2d_41\">\n      <g>\n       <use xlink:href=\"#m46cf94daf9\" x=\"197.254373\" y=\"143.1\" style=\"stroke: #000000; stroke-width: 0.6\"/>\n      </g>\n     </g>\n    </g>\n    <g id=\"xtick_37\">\n     <g id=\"line2d_42\">\n      <g>\n       <use xlink:href=\"#m46cf94daf9\" x=\"201.098935\" y=\"143.1\" style=\"stroke: #000000; stroke-width: 0.6\"/>\n      </g>\n     </g>\n    </g>\n    <g id=\"xtick_38\">\n     <g id=\"line2d_43\">\n      <g>\n       <use xlink:href=\"#m46cf94daf9\" x=\"204.24017\" y=\"143.1\" style=\"stroke: #000000; stroke-width: 0.6\"/>\n      </g>\n     </g>\n    </g>\n    <g id=\"xtick_39\">\n     <g id=\"line2d_44\">\n      <g>\n       <use xlink:href=\"#m46cf94daf9\" x=\"206.896047\" y=\"143.1\" style=\"stroke: #000000; stroke-width: 0.6\"/>\n      </g>\n     </g>\n    </g>\n    <g id=\"xtick_40\">\n     <g id=\"line2d_45\">\n      <g>\n       <use xlink:href=\"#m46cf94daf9\" x=\"209.196672\" y=\"143.1\" style=\"stroke: #000000; stroke-width: 0.6\"/>\n      </g>\n     </g>\n    </g>\n    <g id=\"xtick_41\">\n     <g id=\"line2d_46\">\n      <g>\n       <use xlink:href=\"#m46cf94daf9\" x=\"211.225968\" y=\"143.1\" style=\"stroke: #000000; stroke-width: 0.6\"/>\n      </g>\n     </g>\n    </g>\n    <g id=\"xtick_42\">\n     <g id=\"line2d_47\">\n      <g>\n       <use xlink:href=\"#m46cf94daf9\" x=\"224.983533\" y=\"143.1\" style=\"stroke: #000000; stroke-width: 0.6\"/>\n      </g>\n     </g>\n    </g>\n    <g id=\"xtick_43\">\n     <g id=\"line2d_48\">\n      <g>\n       <use xlink:href=\"#m46cf94daf9\" x=\"231.96933\" y=\"143.1\" style=\"stroke: #000000; stroke-width: 0.6\"/>\n      </g>\n     </g>\n    </g>\n    <g id=\"xtick_44\">\n     <g id=\"line2d_49\">\n      <g>\n       <use xlink:href=\"#m46cf94daf9\" x=\"236.925832\" y=\"143.1\" style=\"stroke: #000000; stroke-width: 0.6\"/>\n      </g>\n     </g>\n    </g>\n    <g id=\"xtick_45\">\n     <g id=\"line2d_50\">\n      <g>\n       <use xlink:href=\"#m46cf94daf9\" x=\"240.770394\" y=\"143.1\" style=\"stroke: #000000; stroke-width: 0.6\"/>\n      </g>\n     </g>\n    </g>\n    <g id=\"text_6\">\n     <!-- token: x -->\n     <g transform=\"translate(122.916406 171.376563)scale(0.1 -0.1)\">\n      <defs>\n       <path id=\"DejaVuSans-74\" d=\"M 1172 4494 \nL 1172 3500 \nL 2356 3500 \nL 2356 3053 \nL 1172 3053 \nL 1172 1153 \nQ 1172 725 1289 603 \nQ 1406 481 1766 481 \nL 2356 481 \nL 2356 0 \nL 1766 0 \nQ 1100 0 847 248 \nQ 594 497 594 1153 \nL 594 3053 \nL 172 3053 \nL 172 3500 \nL 594 3500 \nL 594 4494 \nL 1172 4494 \nz\n\" transform=\"scale(0.015625)\"/>\n       <path id=\"DejaVuSans-6f\" d=\"M 1959 3097 \nQ 1497 3097 1228 2736 \nQ 959 2375 959 1747 \nQ 959 1119 1226 758 \nQ 1494 397 1959 397 \nQ 2419 397 2687 759 \nQ 2956 1122 2956 1747 \nQ 2956 2369 2687 2733 \nQ 2419 3097 1959 3097 \nz\nM 1959 3584 \nQ 2709 3584 3137 3096 \nQ 3566 2609 3566 1747 \nQ 3566 888 3137 398 \nQ 2709 -91 1959 -91 \nQ 1206 -91 779 398 \nQ 353 888 353 1747 \nQ 353 2609 779 3096 \nQ 1206 3584 1959 3584 \nz\n\" transform=\"scale(0.015625)\"/>\n       <path id=\"DejaVuSans-6b\" d=\"M 581 4863 \nL 1159 4863 \nL 1159 1991 \nL 2875 3500 \nL 3609 3500 \nL 1753 1863 \nL 3688 0 \nL 2938 0 \nL 1159 1709 \nL 1159 0 \nL 581 0 \nL 581 4863 \nz\n\" transform=\"scale(0.015625)\"/>\n       <path id=\"DejaVuSans-65\" d=\"M 3597 1894 \nL 3597 1613 \nL 953 1613 \nQ 991 1019 1311 708 \nQ 1631 397 2203 397 \nQ 2534 397 2845 478 \nQ 3156 559 3463 722 \nL 3463 178 \nQ 3153 47 2828 -22 \nQ 2503 -91 2169 -91 \nQ 1331 -91 842 396 \nQ 353 884 353 1716 \nQ 353 2575 817 3079 \nQ 1281 3584 2069 3584 \nQ 2775 3584 3186 3129 \nQ 3597 2675 3597 1894 \nz\nM 3022 2063 \nQ 3016 2534 2758 2815 \nQ 2500 3097 2075 3097 \nQ 1594 3097 1305 2825 \nQ 1016 2553 972 2059 \nL 3022 2063 \nz\n\" transform=\"scale(0.015625)\"/>\n       <path id=\"DejaVuSans-6e\" d=\"M 3513 2113 \nL 3513 0 \nL 2938 0 \nL 2938 2094 \nQ 2938 2591 2744 2837 \nQ 2550 3084 2163 3084 \nQ 1697 3084 1428 2787 \nQ 1159 2491 1159 1978 \nL 1159 0 \nL 581 0 \nL 581 3500 \nL 1159 3500 \nL 1159 2956 \nQ 1366 3272 1645 3428 \nQ 1925 3584 2291 3584 \nQ 2894 3584 3203 3211 \nQ 3513 2838 3513 2113 \nz\n\" transform=\"scale(0.015625)\"/>\n       <path id=\"DejaVuSans-3a\" d=\"M 750 794 \nL 1409 794 \nL 1409 0 \nL 750 0 \nL 750 794 \nz\nM 750 3309 \nL 1409 3309 \nL 1409 2516 \nL 750 2516 \nL 750 3309 \nz\n\" transform=\"scale(0.015625)\"/>\n       <path id=\"DejaVuSans-20\" transform=\"scale(0.015625)\"/>\n       <path id=\"DejaVuSans-78\" d=\"M 3513 3500 \nL 2247 1797 \nL 3578 0 \nL 2900 0 \nL 1881 1375 \nL 863 0 \nL 184 0 \nL 1544 1831 \nL 300 3500 \nL 978 3500 \nL 1906 2253 \nL 2834 3500 \nL 3513 3500 \nz\n\" transform=\"scale(0.015625)\"/>\n      </defs>\n      <use xlink:href=\"#DejaVuSans-74\"/>\n      <use xlink:href=\"#DejaVuSans-6f\" x=\"39.208984\"/>\n      <use xlink:href=\"#DejaVuSans-6b\" x=\"100.390625\"/>\n      <use xlink:href=\"#DejaVuSans-65\" x=\"154.675781\"/>\n      <use xlink:href=\"#DejaVuSans-6e\" x=\"216.199219\"/>\n      <use xlink:href=\"#DejaVuSans-3a\" x=\"279.578125\"/>\n      <use xlink:href=\"#DejaVuSans-20\" x=\"313.269531\"/>\n      <use xlink:href=\"#DejaVuSans-78\" x=\"345.056641\"/>\n     </g>\n    </g>\n   </g>\n   <g id=\"matplotlib.axis_2\">\n    <g id=\"ytick_1\">\n     <g id=\"line2d_51\">\n      <path d=\"M 45.478125 136.922727 \nL 240.778125 136.922727 \n\" clip-path=\"url(#p9e1b1bba5a)\" style=\"fill: none; stroke: #b0b0b0; stroke-width: 0.8; stroke-linecap: square\"/>\n     </g>\n     <g id=\"line2d_52\">\n      <defs>\n       <path id=\"m73297d307d\" d=\"M 0 0 \nL -3.5 0 \n\" style=\"stroke: #000000; stroke-width: 0.8\"/>\n      </defs>\n      <g>\n       <use xlink:href=\"#m73297d307d\" x=\"45.478125\" y=\"136.922727\" style=\"stroke: #000000; stroke-width: 0.8\"/>\n      </g>\n     </g>\n     <g id=\"text_7\">\n      <!-- $\\mathdefault{10^{0}}$ -->\n      <g transform=\"translate(20.878125 140.721946)scale(0.1 -0.1)\">\n       <use xlink:href=\"#DejaVuSans-31\" transform=\"translate(0 0.765625)\"/>\n       <use xlink:href=\"#DejaVuSans-30\" transform=\"translate(63.623047 0.765625)\"/>\n       <use xlink:href=\"#DejaVuSans-30\" transform=\"translate(128.203125 39.046875)scale(0.7)\"/>\n      </g>\n     </g>\n    </g>\n    <g id=\"ytick_2\">\n     <g id=\"line2d_53\">\n      <path d=\"M 45.478125 100.09077 \nL 240.778125 100.09077 \n\" clip-path=\"url(#p9e1b1bba5a)\" style=\"fill: none; stroke: #b0b0b0; stroke-width: 0.8; stroke-linecap: square\"/>\n     </g>\n     <g id=\"line2d_54\">\n      <g>\n       <use xlink:href=\"#m73297d307d\" x=\"45.478125\" y=\"100.09077\" style=\"stroke: #000000; stroke-width: 0.8\"/>\n      </g>\n     </g>\n     <g id=\"text_8\">\n      <!-- $\\mathdefault{10^{1}}$ -->\n      <g transform=\"translate(20.878125 103.889989)scale(0.1 -0.1)\">\n       <use xlink:href=\"#DejaVuSans-31\" transform=\"translate(0 0.684375)\"/>\n       <use xlink:href=\"#DejaVuSans-30\" transform=\"translate(63.623047 0.684375)\"/>\n       <use xlink:href=\"#DejaVuSans-31\" transform=\"translate(128.203125 38.965625)scale(0.7)\"/>\n      </g>\n     </g>\n    </g>\n    <g id=\"ytick_3\">\n     <g id=\"line2d_55\">\n      <path d=\"M 45.478125 63.258813 \nL 240.778125 63.258813 \n\" clip-path=\"url(#p9e1b1bba5a)\" style=\"fill: none; stroke: #b0b0b0; stroke-width: 0.8; stroke-linecap: square\"/>\n     </g>\n     <g id=\"line2d_56\">\n      <g>\n       <use xlink:href=\"#m73297d307d\" x=\"45.478125\" y=\"63.258813\" style=\"stroke: #000000; stroke-width: 0.8\"/>\n      </g>\n     </g>\n     <g id=\"text_9\">\n      <!-- $\\mathdefault{10^{2}}$ -->\n      <g transform=\"translate(20.878125 67.058032)scale(0.1 -0.1)\">\n       <use xlink:href=\"#DejaVuSans-31\" transform=\"translate(0 0.765625)\"/>\n       <use xlink:href=\"#DejaVuSans-30\" transform=\"translate(63.623047 0.765625)\"/>\n       <use xlink:href=\"#DejaVuSans-32\" transform=\"translate(128.203125 39.046875)scale(0.7)\"/>\n      </g>\n     </g>\n    </g>\n    <g id=\"ytick_4\">\n     <g id=\"line2d_57\">\n      <path d=\"M 45.478125 26.426856 \nL 240.778125 26.426856 \n\" clip-path=\"url(#p9e1b1bba5a)\" style=\"fill: none; stroke: #b0b0b0; stroke-width: 0.8; stroke-linecap: square\"/>\n     </g>\n     <g id=\"line2d_58\">\n      <g>\n       <use xlink:href=\"#m73297d307d\" x=\"45.478125\" y=\"26.426856\" style=\"stroke: #000000; stroke-width: 0.8\"/>\n      </g>\n     </g>\n     <g id=\"text_10\">\n      <!-- $\\mathdefault{10^{3}}$ -->\n      <g transform=\"translate(20.878125 30.226075)scale(0.1 -0.1)\">\n       <use xlink:href=\"#DejaVuSans-31\" transform=\"translate(0 0.765625)\"/>\n       <use xlink:href=\"#DejaVuSans-30\" transform=\"translate(63.623047 0.765625)\"/>\n       <use xlink:href=\"#DejaVuSans-33\" transform=\"translate(128.203125 39.046875)scale(0.7)\"/>\n      </g>\n     </g>\n    </g>\n    <g id=\"ytick_5\">\n     <g id=\"line2d_59\">\n      <defs>\n       <path id=\"m9f95c3cb83\" d=\"M 0 0 \nL -2 0 \n\" style=\"stroke: #000000; stroke-width: 0.6\"/>\n      </defs>\n      <g>\n       <use xlink:href=\"#m9f95c3cb83\" x=\"45.478125\" y=\"142.62807\" style=\"stroke: #000000; stroke-width: 0.6\"/>\n      </g>\n     </g>\n    </g>\n    <g id=\"ytick_6\">\n     <g id=\"line2d_60\">\n      <g>\n       <use xlink:href=\"#m9f95c3cb83\" x=\"45.478125\" y=\"140.492113\" style=\"stroke: #000000; stroke-width: 0.6\"/>\n      </g>\n     </g>\n    </g>\n    <g id=\"ytick_7\">\n     <g id=\"line2d_61\">\n      <g>\n       <use xlink:href=\"#m9f95c3cb83\" x=\"45.478125\" y=\"138.608065\" style=\"stroke: #000000; stroke-width: 0.6\"/>\n      </g>\n     </g>\n    </g>\n    <g id=\"ytick_8\">\n     <g id=\"line2d_62\">\n      <g>\n       <use xlink:href=\"#m9f95c3cb83\" x=\"45.478125\" y=\"125.835203\" style=\"stroke: #000000; stroke-width: 0.6\"/>\n      </g>\n     </g>\n    </g>\n    <g id=\"ytick_9\">\n     <g id=\"line2d_63\">\n      <g>\n       <use xlink:href=\"#m9f95c3cb83\" x=\"45.478125\" y=\"119.349418\" style=\"stroke: #000000; stroke-width: 0.6\"/>\n      </g>\n     </g>\n    </g>\n    <g id=\"ytick_10\">\n     <g id=\"line2d_64\">\n      <g>\n       <use xlink:href=\"#m9f95c3cb83\" x=\"45.478125\" y=\"114.747679\" style=\"stroke: #000000; stroke-width: 0.6\"/>\n      </g>\n     </g>\n    </g>\n    <g id=\"ytick_11\">\n     <g id=\"line2d_65\">\n      <g>\n       <use xlink:href=\"#m9f95c3cb83\" x=\"45.478125\" y=\"111.178294\" style=\"stroke: #000000; stroke-width: 0.6\"/>\n      </g>\n     </g>\n    </g>\n    <g id=\"ytick_12\">\n     <g id=\"line2d_66\">\n      <g>\n       <use xlink:href=\"#m9f95c3cb83\" x=\"45.478125\" y=\"108.261894\" style=\"stroke: #000000; stroke-width: 0.6\"/>\n      </g>\n     </g>\n    </g>\n    <g id=\"ytick_13\">\n     <g id=\"line2d_67\">\n      <g>\n       <use xlink:href=\"#m9f95c3cb83\" x=\"45.478125\" y=\"105.796112\" style=\"stroke: #000000; stroke-width: 0.6\"/>\n      </g>\n     </g>\n    </g>\n    <g id=\"ytick_14\">\n     <g id=\"line2d_68\">\n      <g>\n       <use xlink:href=\"#m9f95c3cb83\" x=\"45.478125\" y=\"103.660156\" style=\"stroke: #000000; stroke-width: 0.6\"/>\n      </g>\n     </g>\n    </g>\n    <g id=\"ytick_15\">\n     <g id=\"line2d_69\">\n      <g>\n       <use xlink:href=\"#m9f95c3cb83\" x=\"45.478125\" y=\"101.776108\" style=\"stroke: #000000; stroke-width: 0.6\"/>\n      </g>\n     </g>\n    </g>\n    <g id=\"ytick_16\">\n     <g id=\"line2d_70\">\n      <g>\n       <use xlink:href=\"#m9f95c3cb83\" x=\"45.478125\" y=\"89.003246\" style=\"stroke: #000000; stroke-width: 0.6\"/>\n      </g>\n     </g>\n    </g>\n    <g id=\"ytick_17\">\n     <g id=\"line2d_71\">\n      <g>\n       <use xlink:href=\"#m9f95c3cb83\" x=\"45.478125\" y=\"82.517461\" style=\"stroke: #000000; stroke-width: 0.6\"/>\n      </g>\n     </g>\n    </g>\n    <g id=\"ytick_18\">\n     <g id=\"line2d_72\">\n      <g>\n       <use xlink:href=\"#m9f95c3cb83\" x=\"45.478125\" y=\"77.915722\" style=\"stroke: #000000; stroke-width: 0.6\"/>\n      </g>\n     </g>\n    </g>\n    <g id=\"ytick_19\">\n     <g id=\"line2d_73\">\n      <g>\n       <use xlink:href=\"#m9f95c3cb83\" x=\"45.478125\" y=\"74.346337\" style=\"stroke: #000000; stroke-width: 0.6\"/>\n      </g>\n     </g>\n    </g>\n    <g id=\"ytick_20\">\n     <g id=\"line2d_74\">\n      <g>\n       <use xlink:href=\"#m9f95c3cb83\" x=\"45.478125\" y=\"71.429937\" style=\"stroke: #000000; stroke-width: 0.6\"/>\n      </g>\n     </g>\n    </g>\n    <g id=\"ytick_21\">\n     <g id=\"line2d_75\">\n      <g>\n       <use xlink:href=\"#m9f95c3cb83\" x=\"45.478125\" y=\"68.964155\" style=\"stroke: #000000; stroke-width: 0.6\"/>\n      </g>\n     </g>\n    </g>\n    <g id=\"ytick_22\">\n     <g id=\"line2d_76\">\n      <g>\n       <use xlink:href=\"#m9f95c3cb83\" x=\"45.478125\" y=\"66.828198\" style=\"stroke: #000000; stroke-width: 0.6\"/>\n      </g>\n     </g>\n    </g>\n    <g id=\"ytick_23\">\n     <g id=\"line2d_77\">\n      <g>\n       <use xlink:href=\"#m9f95c3cb83\" x=\"45.478125\" y=\"64.944151\" style=\"stroke: #000000; stroke-width: 0.6\"/>\n      </g>\n     </g>\n    </g>\n    <g id=\"ytick_24\">\n     <g id=\"line2d_78\">\n      <g>\n       <use xlink:href=\"#m9f95c3cb83\" x=\"45.478125\" y=\"52.171289\" style=\"stroke: #000000; stroke-width: 0.6\"/>\n      </g>\n     </g>\n    </g>\n    <g id=\"ytick_25\">\n     <g id=\"line2d_79\">\n      <g>\n       <use xlink:href=\"#m9f95c3cb83\" x=\"45.478125\" y=\"45.685503\" style=\"stroke: #000000; stroke-width: 0.6\"/>\n      </g>\n     </g>\n    </g>\n    <g id=\"ytick_26\">\n     <g id=\"line2d_80\">\n      <g>\n       <use xlink:href=\"#m9f95c3cb83\" x=\"45.478125\" y=\"41.083765\" style=\"stroke: #000000; stroke-width: 0.6\"/>\n      </g>\n     </g>\n    </g>\n    <g id=\"ytick_27\">\n     <g id=\"line2d_81\">\n      <g>\n       <use xlink:href=\"#m9f95c3cb83\" x=\"45.478125\" y=\"37.51438\" style=\"stroke: #000000; stroke-width: 0.6\"/>\n      </g>\n     </g>\n    </g>\n    <g id=\"ytick_28\">\n     <g id=\"line2d_82\">\n      <g>\n       <use xlink:href=\"#m9f95c3cb83\" x=\"45.478125\" y=\"34.597979\" style=\"stroke: #000000; stroke-width: 0.6\"/>\n      </g>\n     </g>\n    </g>\n    <g id=\"ytick_29\">\n     <g id=\"line2d_83\">\n      <g>\n       <use xlink:href=\"#m9f95c3cb83\" x=\"45.478125\" y=\"32.132198\" style=\"stroke: #000000; stroke-width: 0.6\"/>\n      </g>\n     </g>\n    </g>\n    <g id=\"ytick_30\">\n     <g id=\"line2d_84\">\n      <g>\n       <use xlink:href=\"#m9f95c3cb83\" x=\"45.478125\" y=\"29.996241\" style=\"stroke: #000000; stroke-width: 0.6\"/>\n      </g>\n     </g>\n    </g>\n    <g id=\"ytick_31\">\n     <g id=\"line2d_85\">\n      <g>\n       <use xlink:href=\"#m9f95c3cb83\" x=\"45.478125\" y=\"28.112194\" style=\"stroke: #000000; stroke-width: 0.6\"/>\n      </g>\n     </g>\n    </g>\n    <g id=\"ytick_32\">\n     <g id=\"line2d_86\">\n      <g>\n       <use xlink:href=\"#m9f95c3cb83\" x=\"45.478125\" y=\"15.339332\" style=\"stroke: #000000; stroke-width: 0.6\"/>\n      </g>\n     </g>\n    </g>\n    <g id=\"ytick_33\">\n     <g id=\"line2d_87\">\n      <g>\n       <use xlink:href=\"#m9f95c3cb83\" x=\"45.478125\" y=\"8.853546\" style=\"stroke: #000000; stroke-width: 0.6\"/>\n      </g>\n     </g>\n    </g>\n    <g id=\"text_11\">\n     <!-- frequency: n(x) -->\n     <g transform=\"translate(14.798438 113.167187)rotate(-90)scale(0.1 -0.1)\">\n      <defs>\n       <path id=\"DejaVuSans-66\" d=\"M 2375 4863 \nL 2375 4384 \nL 1825 4384 \nQ 1516 4384 1395 4259 \nQ 1275 4134 1275 3809 \nL 1275 3500 \nL 2222 3500 \nL 2222 3053 \nL 1275 3053 \nL 1275 0 \nL 697 0 \nL 697 3053 \nL 147 3053 \nL 147 3500 \nL 697 3500 \nL 697 3744 \nQ 697 4328 969 4595 \nQ 1241 4863 1831 4863 \nL 2375 4863 \nz\n\" transform=\"scale(0.015625)\"/>\n       <path id=\"DejaVuSans-72\" d=\"M 2631 2963 \nQ 2534 3019 2420 3045 \nQ 2306 3072 2169 3072 \nQ 1681 3072 1420 2755 \nQ 1159 2438 1159 1844 \nL 1159 0 \nL 581 0 \nL 581 3500 \nL 1159 3500 \nL 1159 2956 \nQ 1341 3275 1631 3429 \nQ 1922 3584 2338 3584 \nQ 2397 3584 2469 3576 \nQ 2541 3569 2628 3553 \nL 2631 2963 \nz\n\" transform=\"scale(0.015625)\"/>\n       <path id=\"DejaVuSans-71\" d=\"M 947 1747 \nQ 947 1113 1208 752 \nQ 1469 391 1925 391 \nQ 2381 391 2643 752 \nQ 2906 1113 2906 1747 \nQ 2906 2381 2643 2742 \nQ 2381 3103 1925 3103 \nQ 1469 3103 1208 2742 \nQ 947 2381 947 1747 \nz\nM 2906 525 \nQ 2725 213 2448 61 \nQ 2172 -91 1784 -91 \nQ 1150 -91 751 415 \nQ 353 922 353 1747 \nQ 353 2572 751 3078 \nQ 1150 3584 1784 3584 \nQ 2172 3584 2448 3432 \nQ 2725 3281 2906 2969 \nL 2906 3500 \nL 3481 3500 \nL 3481 -1331 \nL 2906 -1331 \nL 2906 525 \nz\n\" transform=\"scale(0.015625)\"/>\n       <path id=\"DejaVuSans-75\" d=\"M 544 1381 \nL 544 3500 \nL 1119 3500 \nL 1119 1403 \nQ 1119 906 1312 657 \nQ 1506 409 1894 409 \nQ 2359 409 2629 706 \nQ 2900 1003 2900 1516 \nL 2900 3500 \nL 3475 3500 \nL 3475 0 \nL 2900 0 \nL 2900 538 \nQ 2691 219 2414 64 \nQ 2138 -91 1772 -91 \nQ 1169 -91 856 284 \nQ 544 659 544 1381 \nz\nM 1991 3584 \nL 1991 3584 \nz\n\" transform=\"scale(0.015625)\"/>\n       <path id=\"DejaVuSans-63\" d=\"M 3122 3366 \nL 3122 2828 \nQ 2878 2963 2633 3030 \nQ 2388 3097 2138 3097 \nQ 1578 3097 1268 2742 \nQ 959 2388 959 1747 \nQ 959 1106 1268 751 \nQ 1578 397 2138 397 \nQ 2388 397 2633 464 \nQ 2878 531 3122 666 \nL 3122 134 \nQ 2881 22 2623 -34 \nQ 2366 -91 2075 -91 \nQ 1284 -91 818 406 \nQ 353 903 353 1747 \nQ 353 2603 823 3093 \nQ 1294 3584 2113 3584 \nQ 2378 3584 2631 3529 \nQ 2884 3475 3122 3366 \nz\n\" transform=\"scale(0.015625)\"/>\n       <path id=\"DejaVuSans-79\" d=\"M 2059 -325 \nQ 1816 -950 1584 -1140 \nQ 1353 -1331 966 -1331 \nL 506 -1331 \nL 506 -850 \nL 844 -850 \nQ 1081 -850 1212 -737 \nQ 1344 -625 1503 -206 \nL 1606 56 \nL 191 3500 \nL 800 3500 \nL 1894 763 \nL 2988 3500 \nL 3597 3500 \nL 2059 -325 \nz\n\" transform=\"scale(0.015625)\"/>\n       <path id=\"DejaVuSans-28\" d=\"M 1984 4856 \nQ 1566 4138 1362 3434 \nQ 1159 2731 1159 2009 \nQ 1159 1288 1364 580 \nQ 1569 -128 1984 -844 \nL 1484 -844 \nQ 1016 -109 783 600 \nQ 550 1309 550 2009 \nQ 550 2706 781 3412 \nQ 1013 4119 1484 4856 \nL 1984 4856 \nz\n\" transform=\"scale(0.015625)\"/>\n       <path id=\"DejaVuSans-29\" d=\"M 513 4856 \nL 1013 4856 \nQ 1481 4119 1714 3412 \nQ 1947 2706 1947 2009 \nQ 1947 1309 1714 600 \nQ 1481 -109 1013 -844 \nL 513 -844 \nQ 928 -128 1133 580 \nQ 1338 1288 1338 2009 \nQ 1338 2731 1133 3434 \nQ 928 4138 513 4856 \nz\n\" transform=\"scale(0.015625)\"/>\n      </defs>\n      <use xlink:href=\"#DejaVuSans-66\"/>\n      <use xlink:href=\"#DejaVuSans-72\" x=\"35.205078\"/>\n      <use xlink:href=\"#DejaVuSans-65\" x=\"74.068359\"/>\n      <use xlink:href=\"#DejaVuSans-71\" x=\"135.591797\"/>\n      <use xlink:href=\"#DejaVuSans-75\" x=\"199.068359\"/>\n      <use xlink:href=\"#DejaVuSans-65\" x=\"262.447266\"/>\n      <use xlink:href=\"#DejaVuSans-6e\" x=\"323.970703\"/>\n      <use xlink:href=\"#DejaVuSans-63\" x=\"387.349609\"/>\n      <use xlink:href=\"#DejaVuSans-79\" x=\"442.330078\"/>\n      <use xlink:href=\"#DejaVuSans-3a\" x=\"494.259766\"/>\n      <use xlink:href=\"#DejaVuSans-20\" x=\"527.951172\"/>\n      <use xlink:href=\"#DejaVuSans-6e\" x=\"559.738281\"/>\n      <use xlink:href=\"#DejaVuSans-28\" x=\"623.117188\"/>\n      <use xlink:href=\"#DejaVuSans-78\" x=\"662.130859\"/>\n      <use xlink:href=\"#DejaVuSans-29\" x=\"721.310547\"/>\n     </g>\n    </g>\n   </g>\n   <g id=\"line2d_88\">\n    <path d=\"M -1 22.628465 \nL 54.355398 22.641392 \nL 66.297697 22.921582 \nL 73.283494 24.121839 \nL 78.239996 29.67948 \nL 82.084558 32.246865 \nL 85.225793 35.931745 \nL 87.88167 36.253723 \nL 90.182295 39.450499 \nL 94.026857 39.668628 \nL 95.668965 43.037948 \nL 97.168092 46.732081 \nL 98.547156 47.370841 \nL 101.012654 50.574172 \nL 102.124594 50.940227 \nL 103.169102 51.854528 \nL 104.15389 52.171289 \nL 105.085419 55.941884 \nL 105.969156 56.561158 \nL 106.809766 58.223127 \nL 107.611264 58.223127 \nL 108.377128 58.577295 \nL 109.110391 59.185578 \nL 109.813718 59.435519 \nL 110.489455 59.947432 \nL 111.139687 60.078011 \nL 112.37086 60.078011 \nL 113.519892 60.611258 \nL 114.066893 61.162896 \nL 114.597061 61.162896 \nL 115.111401 61.30383 \nL 115.61083 61.30383 \nL 116.096189 61.446017 \nL 116.568248 62.326748 \nL 117.027718 62.47837 \nL 117.475252 62.785993 \nL 117.911455 64.248567 \nL 118.752065 64.592578 \nL 119.157475 64.592578 \nL 119.553563 64.767399 \nL 119.94075 65.122878 \nL 121.407942 65.858452 \nL 122.097198 65.858452 \nL 122.431754 66.047755 \nL 122.759937 66.047755 \nL 123.081986 66.433217 \nL 123.708567 67.439582 \nL 124.013515 67.860551 \nL 124.313159 68.075265 \nL 124.897252 68.075265 \nL 126.009193 68.964155 \nL 126.53936 68.964155 \nL 126.798449 69.194316 \nL 127.553129 71.165535 \nL 128.038488 71.698782 \nL 128.276134 71.698782 \nL 128.510547 72.25042 \nL 128.970017 72.25042 \nL 129.417551 73.115275 \nL 129.637033 73.115275 \nL 130.898262 74.669498 \nL 131.690544 74.669498 \nL 131.883049 74.999322 \nL 132.073428 74.999322 \nL 132.261726 75.336091 \nL 132.447988 75.336091 \nL 132.632259 75.680102 \nL 133.173531 75.680102 \nL 133.350241 76.031675 \nL 133.525158 76.031675 \nL 133.869751 76.758887 \nL 134.207587 76.758887 \nL 134.374053 77.135279 \nL 134.538926 77.135279 \nL 134.864013 77.915722 \nL 135.340424 77.915722 \nL 135.650867 78.736206 \nL 135.804015 78.736206 \nL 135.955814 79.162789 \nL 136.54998 79.162789 \nL 136.695374 79.60106 \nL 137.40449 79.60106 \nL 137.542877 80.051679 \nL 138.085571 80.051679 \nL 138.218615 80.515361 \nL 138.868847 80.515361 \nL 138.995999 80.992887 \nL 139.247523 80.992887 \nL 139.371922 81.485108 \nL 139.860723 81.485108 \nL 139.980787 81.992957 \nL 140.218433 81.992957 \nL 140.336039 82.517461 \nL 140.568868 82.517461 \nL 140.684113 83.059747 \nL 140.798592 83.059747 \nL 141.025294 83.621065 \nL 141.469941 83.621065 \nL 141.688034 84.202798 \nL 142.010082 84.202798 \nL 142.221485 84.80649 \nL 142.738914 84.80649 \nL 142.941611 85.433861 \nL 143.141952 85.433861 \nL 143.33999 86.086846 \nL 143.632843 86.086846 \nL 143.825349 86.767626 \nL 144.204025 86.767626 \nL 144.390288 87.478673 \nL 145.204412 87.478673 \nL 145.380221 88.222803 \nL 145.981796 88.222803 \nL 146.149886 89.003246 \nL 147.046164 89.003246 \nL 147.204231 89.823729 \nL 147.898113 89.823729 \nL 148.048587 90.688584 \nL 148.271861 90.688584 \nL 148.419119 91.602885 \nL 148.924831 91.602885 \nL 149.066635 92.572632 \nL 150.160914 92.572632 \nL 150.292938 93.604984 \nL 150.938298 93.604984 \nL 151.064519 94.708589 \nL 151.803022 94.708589 \nL 151.923086 95.894013 \nL 153.246839 95.894013 \nL 153.41224 97.17437 \nL 154.163784 97.17437 \nL 154.320651 98.566197 \nL 155.767648 98.566197 \nL 155.910629 100.09077 \nL 157.496553 100.09077 \nL 157.625933 101.776108 \nL 159.107149 101.776108 \nL 159.225022 103.660156 \nL 161.427476 103.660156 \nL 161.56476 105.796112 \nL 164.103032 105.796112 \nL 164.220637 108.261894 \nL 166.674411 108.261894 \nL 166.801003 111.178294 \nL 170.013563 111.178294 \nL 170.138714 114.747679 \nL 174.078613 114.747679 \nL 174.193969 119.349418 \nL 179.386992 119.349418 \nL 179.508069 125.835203 \nL 186.804739 125.835203 \nL 186.922828 136.922727 \nL 199.579747 136.922727 \nL 199.579747 136.922727 \n\" clip-path=\"url(#p9e1b1bba5a)\" style=\"fill: none; stroke: #1f77b4; stroke-width: 1.5; stroke-linecap: square\"/>\n   </g>\n   <g id=\"line2d_89\">\n    <path d=\"M -1 54.851831 \nL 54.355398 54.8653 \nL 73.283494 61.446017 \nL 78.239996 61.880322 \nL 82.084558 62.942052 \nL 85.225793 63.419577 \nL 87.88167 65.858452 \nL 90.182295 67.23318 \nL 92.21159 68.2929 \nL 94.026857 69.427838 \nL 95.668965 69.664818 \nL 97.168092 70.905433 \nL 98.547156 71.165535 \nL 99.823969 71.165535 \nL 101.012654 71.429937 \nL 102.124594 74.029576 \nL 103.169102 74.029576 \nL 104.15389 74.669498 \nL 105.085419 74.669498 \nL 105.969156 75.336091 \nL 106.809766 75.336091 \nL 108.377128 76.031675 \nL 109.813718 76.031675 \nL 110.489455 76.391149 \nL 111.139687 76.391149 \nL 111.766268 77.520741 \nL 112.37086 77.915722 \nL 112.954953 77.915722 \nL 113.519892 78.320704 \nL 115.111401 78.320704 \nL 115.61083 79.162789 \nL 116.096189 79.60106 \nL 117.027718 79.60106 \nL 117.475252 80.515361 \nL 118.336886 80.515361 \nL 118.752065 81.485108 \nL 119.157475 81.485108 \nL 119.94075 82.517461 \nL 121.052691 82.517461 \nL 121.756017 83.621065 \nL 122.431754 83.621065 \nL 122.759937 84.202798 \nL 123.708567 84.202798 \nL 124.013515 84.80649 \nL 124.607681 84.80649 \nL 124.897252 85.433861 \nL 125.462191 85.433861 \nL 125.737863 86.086846 \nL 126.53936 86.086846 \nL 126.798449 86.767626 \nL 127.553129 86.767626 \nL 127.797518 87.478673 \nL 129.637033 87.478673 \nL 129.853754 88.222803 \nL 130.898262 88.222803 \nL 131.099774 89.003246 \nL 131.495862 89.003246 \nL 131.690544 89.823729 \nL 133.173531 89.823729 \nL 133.350241 90.688584 \nL 134.538926 90.688584 \nL 134.702236 91.602885 \nL 135.18308 91.602885 \nL 135.340424 92.572632 \nL 137.542877 92.572632 \nL 137.680162 93.604984 \nL 139.980787 93.604984 \nL 140.10002 94.708589 \nL 141.796053 94.708589 \nL 142.010082 95.894013 \nL 143.535777 95.894013 \nL 143.729364 97.17437 \nL 145.292541 97.17437 \nL 145.467457 98.566197 \nL 147.438644 98.566197 \nL 147.593166 100.09077 \nL 150.489097 100.09077 \nL 150.61864 101.776108 \nL 152.854615 101.776108 \nL 152.967594 103.660156 \nL 156.099442 103.660156 \nL 156.239707 105.796112 \nL 159.458377 105.796112 \nL 159.57388 108.261894 \nL 163.225504 108.261894 \nL 163.349233 111.178294 \nL 167.82918 111.178294 \nL 167.947593 114.747679 \nL 174.128146 114.747679 \nL 174.243171 119.349418 \nL 182.205262 119.349418 \nL 182.318375 125.835203 \nL 195.477351 125.835203 \nL 195.591578 136.922727 \nL 225.183092 136.922727 \nL 225.183092 136.922727 \n\" clip-path=\"url(#p9e1b1bba5a)\" style=\"fill: none; stroke-dasharray: 5.55,2.4; stroke-dashoffset: 0; stroke: #bf00bf; stroke-width: 1.5\"/>\n   </g>\n   <g id=\"line2d_90\">\n    <path d=\"M -1 82.502365 \nL 54.355398 82.517461 \nL 66.297697 86.086846 \nL 73.283494 92.572632 \nL 78.239996 93.604984 \nL 82.084558 93.604984 \nL 85.225793 94.708589 \nL 87.88167 94.708589 \nL 90.182295 95.894013 \nL 92.21159 95.894013 \nL 94.026857 97.17437 \nL 98.547156 97.17437 \nL 99.823969 98.566197 \nL 105.969156 98.566197 \nL 106.809766 100.09077 \nL 109.813718 100.09077 \nL 110.489455 101.776108 \nL 114.066893 101.776108 \nL 114.597061 103.660156 \nL 121.052691 103.660156 \nL 121.407942 105.796112 \nL 126.276316 105.796112 \nL 126.53936 108.261894 \nL 132.632259 108.261894 \nL 132.814579 111.178294 \nL 140.568868 111.178294 \nL 140.684113 114.747679 \nL 148.271861 114.747679 \nL 148.419119 119.349418 \nL 160.652212 119.349418 \nL 160.795788 125.835203 \nL 181.787567 125.835203 \nL 181.903446 136.922727 \nL 231.900852 136.922727 \nL 231.900852 136.922727 \n\" clip-path=\"url(#p9e1b1bba5a)\" style=\"fill: none; stroke-dasharray: 9.6,2.4,1.5,2.4; stroke-dashoffset: 0; stroke: #008000; stroke-width: 1.5\"/>\n   </g>\n   <g id=\"patch_3\">\n    <path d=\"M 45.478125 143.1 \nL 45.478125 7.2 \n\" style=\"fill: none; stroke: #000000; stroke-width: 0.8; stroke-linejoin: miter; stroke-linecap: square\"/>\n   </g>\n   <g id=\"patch_4\">\n    <path d=\"M 240.778125 143.1 \nL 240.778125 7.2 \n\" style=\"fill: none; stroke: #000000; stroke-width: 0.8; stroke-linejoin: miter; stroke-linecap: square\"/>\n   </g>\n   <g id=\"patch_5\">\n    <path d=\"M 45.478125 143.1 \nL 240.778125 143.1 \n\" style=\"fill: none; stroke: #000000; stroke-width: 0.8; stroke-linejoin: miter; stroke-linecap: square\"/>\n   </g>\n   <g id=\"patch_6\">\n    <path d=\"M 45.478125 7.2 \nL 240.778125 7.2 \n\" style=\"fill: none; stroke: #000000; stroke-width: 0.8; stroke-linejoin: miter; stroke-linecap: square\"/>\n   </g>\n   <g id=\"legend_1\">\n    <g id=\"patch_7\">\n     <path d=\"M 159.996875 59.234375 \nL 233.778125 59.234375 \nQ 235.778125 59.234375 235.778125 57.234375 \nL 235.778125 14.2 \nQ 235.778125 12.2 233.778125 12.2 \nL 159.996875 12.2 \nQ 157.996875 12.2 157.996875 14.2 \nL 157.996875 57.234375 \nQ 157.996875 59.234375 159.996875 59.234375 \nz\n\" style=\"fill: #ffffff; opacity: 0.8; stroke: #cccccc; stroke-linejoin: miter\"/>\n    </g>\n    <g id=\"line2d_91\">\n     <path d=\"M 161.996875 20.298438 \nL 171.996875 20.298438 \nL 181.996875 20.298438 \n\" style=\"fill: none; stroke: #1f77b4; stroke-width: 1.5; stroke-linecap: square\"/>\n    </g>\n    <g id=\"text_12\">\n     <!-- unigram -->\n     <g transform=\"translate(189.996875 23.798438)scale(0.1 -0.1)\">\n      <defs>\n       <path id=\"DejaVuSans-69\" d=\"M 603 3500 \nL 1178 3500 \nL 1178 0 \nL 603 0 \nL 603 3500 \nz\nM 603 4863 \nL 1178 4863 \nL 1178 4134 \nL 603 4134 \nL 603 4863 \nz\n\" transform=\"scale(0.015625)\"/>\n       <path id=\"DejaVuSans-67\" d=\"M 2906 1791 \nQ 2906 2416 2648 2759 \nQ 2391 3103 1925 3103 \nQ 1463 3103 1205 2759 \nQ 947 2416 947 1791 \nQ 947 1169 1205 825 \nQ 1463 481 1925 481 \nQ 2391 481 2648 825 \nQ 2906 1169 2906 1791 \nz\nM 3481 434 \nQ 3481 -459 3084 -895 \nQ 2688 -1331 1869 -1331 \nQ 1566 -1331 1297 -1286 \nQ 1028 -1241 775 -1147 \nL 775 -588 \nQ 1028 -725 1275 -790 \nQ 1522 -856 1778 -856 \nQ 2344 -856 2625 -561 \nQ 2906 -266 2906 331 \nL 2906 616 \nQ 2728 306 2450 153 \nQ 2172 0 1784 0 \nQ 1141 0 747 490 \nQ 353 981 353 1791 \nQ 353 2603 747 3093 \nQ 1141 3584 1784 3584 \nQ 2172 3584 2450 3431 \nQ 2728 3278 2906 2969 \nL 2906 3500 \nL 3481 3500 \nL 3481 434 \nz\n\" transform=\"scale(0.015625)\"/>\n       <path id=\"DejaVuSans-61\" d=\"M 2194 1759 \nQ 1497 1759 1228 1600 \nQ 959 1441 959 1056 \nQ 959 750 1161 570 \nQ 1363 391 1709 391 \nQ 2188 391 2477 730 \nQ 2766 1069 2766 1631 \nL 2766 1759 \nL 2194 1759 \nz\nM 3341 1997 \nL 3341 0 \nL 2766 0 \nL 2766 531 \nQ 2569 213 2275 61 \nQ 1981 -91 1556 -91 \nQ 1019 -91 701 211 \nQ 384 513 384 1019 \nQ 384 1609 779 1909 \nQ 1175 2209 1959 2209 \nL 2766 2209 \nL 2766 2266 \nQ 2766 2663 2505 2880 \nQ 2244 3097 1772 3097 \nQ 1472 3097 1187 3025 \nQ 903 2953 641 2809 \nL 641 3341 \nQ 956 3463 1253 3523 \nQ 1550 3584 1831 3584 \nQ 2591 3584 2966 3190 \nQ 3341 2797 3341 1997 \nz\n\" transform=\"scale(0.015625)\"/>\n       <path id=\"DejaVuSans-6d\" d=\"M 3328 2828 \nQ 3544 3216 3844 3400 \nQ 4144 3584 4550 3584 \nQ 5097 3584 5394 3201 \nQ 5691 2819 5691 2113 \nL 5691 0 \nL 5113 0 \nL 5113 2094 \nQ 5113 2597 4934 2840 \nQ 4756 3084 4391 3084 \nQ 3944 3084 3684 2787 \nQ 3425 2491 3425 1978 \nL 3425 0 \nL 2847 0 \nL 2847 2094 \nQ 2847 2600 2669 2842 \nQ 2491 3084 2119 3084 \nQ 1678 3084 1418 2786 \nQ 1159 2488 1159 1978 \nL 1159 0 \nL 581 0 \nL 581 3500 \nL 1159 3500 \nL 1159 2956 \nQ 1356 3278 1631 3431 \nQ 1906 3584 2284 3584 \nQ 2666 3584 2933 3390 \nQ 3200 3197 3328 2828 \nz\n\" transform=\"scale(0.015625)\"/>\n      </defs>\n      <use xlink:href=\"#DejaVuSans-75\"/>\n      <use xlink:href=\"#DejaVuSans-6e\" x=\"63.378906\"/>\n      <use xlink:href=\"#DejaVuSans-69\" x=\"126.757812\"/>\n      <use xlink:href=\"#DejaVuSans-67\" x=\"154.541016\"/>\n      <use xlink:href=\"#DejaVuSans-72\" x=\"218.017578\"/>\n      <use xlink:href=\"#DejaVuSans-61\" x=\"259.130859\"/>\n      <use xlink:href=\"#DejaVuSans-6d\" x=\"320.410156\"/>\n     </g>\n    </g>\n    <g id=\"line2d_92\">\n     <path d=\"M 161.996875 34.976562 \nL 171.996875 34.976562 \nL 181.996875 34.976562 \n\" style=\"fill: none; stroke-dasharray: 5.55,2.4; stroke-dashoffset: 0; stroke: #bf00bf; stroke-width: 1.5\"/>\n    </g>\n    <g id=\"text_13\">\n     <!-- bigram -->\n     <g transform=\"translate(189.996875 38.476562)scale(0.1 -0.1)\">\n      <defs>\n       <path id=\"DejaVuSans-62\" d=\"M 3116 1747 \nQ 3116 2381 2855 2742 \nQ 2594 3103 2138 3103 \nQ 1681 3103 1420 2742 \nQ 1159 2381 1159 1747 \nQ 1159 1113 1420 752 \nQ 1681 391 2138 391 \nQ 2594 391 2855 752 \nQ 3116 1113 3116 1747 \nz\nM 1159 2969 \nQ 1341 3281 1617 3432 \nQ 1894 3584 2278 3584 \nQ 2916 3584 3314 3078 \nQ 3713 2572 3713 1747 \nQ 3713 922 3314 415 \nQ 2916 -91 2278 -91 \nQ 1894 -91 1617 61 \nQ 1341 213 1159 525 \nL 1159 0 \nL 581 0 \nL 581 4863 \nL 1159 4863 \nL 1159 2969 \nz\n\" transform=\"scale(0.015625)\"/>\n      </defs>\n      <use xlink:href=\"#DejaVuSans-62\"/>\n      <use xlink:href=\"#DejaVuSans-69\" x=\"63.476562\"/>\n      <use xlink:href=\"#DejaVuSans-67\" x=\"91.259766\"/>\n      <use xlink:href=\"#DejaVuSans-72\" x=\"154.736328\"/>\n      <use xlink:href=\"#DejaVuSans-61\" x=\"195.849609\"/>\n      <use xlink:href=\"#DejaVuSans-6d\" x=\"257.128906\"/>\n     </g>\n    </g>\n    <g id=\"line2d_93\">\n     <path d=\"M 161.996875 49.654688 \nL 171.996875 49.654688 \nL 181.996875 49.654688 \n\" style=\"fill: none; stroke-dasharray: 9.6,2.4,1.5,2.4; stroke-dashoffset: 0; stroke: #008000; stroke-width: 1.5\"/>\n    </g>\n    <g id=\"text_14\">\n     <!-- trigram -->\n     <g transform=\"translate(189.996875 53.154688)scale(0.1 -0.1)\">\n      <use xlink:href=\"#DejaVuSans-74\"/>\n      <use xlink:href=\"#DejaVuSans-72\" x=\"39.208984\"/>\n      <use xlink:href=\"#DejaVuSans-69\" x=\"80.322266\"/>\n      <use xlink:href=\"#DejaVuSans-67\" x=\"108.105469\"/>\n      <use xlink:href=\"#DejaVuSans-72\" x=\"171.582031\"/>\n      <use xlink:href=\"#DejaVuSans-61\" x=\"212.695312\"/>\n      <use xlink:href=\"#DejaVuSans-6d\" x=\"273.974609\"/>\n     </g>\n    </g>\n   </g>\n  </g>\n </g>\n <defs>\n  <clipPath id=\"p9e1b1bba5a\">\n   <rect x=\"45.478125\" y=\"7.2\" width=\"195.3\" height=\"135.9\"/>\n  </clipPath>\n </defs>\n</svg>\n"
          },
          "metadata": {
            "needs_background": "light"
          }
        }
      ]
    },
    {
      "cell_type": "markdown",
      "source": [
        "## 8.3.4. Reading Long Sequence Data"
      ],
      "metadata": {
        "id": "cw5ZlH-13j-M"
      }
    },
    {
      "cell_type": "markdown",
      "source": [
        "### 8.3.4.1. Random Sampling"
      ],
      "metadata": {
        "id": "s3AVaN823ixx"
      }
    },
    {
      "cell_type": "code",
      "source": [
        "def seq_data_iter_random(corpus, batch_size, num_steps):  #@save\n",
        "    \"\"\"Generate a minibatch of subsequences using random sampling.\"\"\"\n",
        "    # Start with a random offset (inclusive of `num_steps - 1`) to partition a\n",
        "    # sequence\n",
        "    corpus = corpus[random.randint(0, num_steps - 1):]\n",
        "    # Subtract 1 since we need to account for labels\n",
        "    num_subseqs = (len(corpus) - 1) // num_steps\n",
        "    # The starting indices for subsequences of length `num_steps`\n",
        "    initial_indices = list(range(0, num_subseqs * num_steps, num_steps))\n",
        "    # In random sampling, the subsequences from two adjacent random\n",
        "    # minibatches during iteration are not necessarily adjacent on the\n",
        "    # original sequence\n",
        "    random.shuffle(initial_indices)\n",
        "\n",
        "    def data(pos):\n",
        "        # Return a sequence of length `num_steps` starting from `pos`\n",
        "        return corpus[pos: pos + num_steps]\n",
        "\n",
        "    num_batches = num_subseqs // batch_size\n",
        "    for i in range(0, batch_size * num_batches, batch_size):\n",
        "        # Here, `initial_indices` contains randomized starting indices for\n",
        "        # subsequences\n",
        "        initial_indices_per_batch = initial_indices[i: i + batch_size]\n",
        "        X = [data(j) for j in initial_indices_per_batch]\n",
        "        Y = [data(j + 1) for j in initial_indices_per_batch]\n",
        "        yield torch.tensor(X), torch.tensor(Y)"
      ],
      "metadata": {
        "id": "uVZwL_xV3fNT"
      },
      "execution_count": 40,
      "outputs": []
    },
    {
      "cell_type": "code",
      "source": [
        "my_seq = list(range(35))\n",
        "for X, Y in seq_data_iter_random(my_seq, batch_size=2, num_steps=5):\n",
        "    print('X: ', X, '\\nY:', Y)"
      ],
      "metadata": {
        "colab": {
          "base_uri": "https://localhost:8080/"
        },
        "id": "somgoQsD3u64",
        "outputId": "c19c77e7-825e-4e36-ca47-7de0ffd82a0b"
      },
      "execution_count": 41,
      "outputs": [
        {
          "output_type": "stream",
          "name": "stdout",
          "text": [
            "X:  tensor([[21, 22, 23, 24, 25],\n",
            "        [ 6,  7,  8,  9, 10]]) \n",
            "Y: tensor([[22, 23, 24, 25, 26],\n",
            "        [ 7,  8,  9, 10, 11]])\n",
            "X:  tensor([[ 1,  2,  3,  4,  5],\n",
            "        [16, 17, 18, 19, 20]]) \n",
            "Y: tensor([[ 2,  3,  4,  5,  6],\n",
            "        [17, 18, 19, 20, 21]])\n",
            "X:  tensor([[11, 12, 13, 14, 15],\n",
            "        [26, 27, 28, 29, 30]]) \n",
            "Y: tensor([[12, 13, 14, 15, 16],\n",
            "        [27, 28, 29, 30, 31]])\n"
          ]
        }
      ]
    },
    {
      "cell_type": "markdown",
      "source": [
        "### 8.3.4.2. Sequential Partitioning"
      ],
      "metadata": {
        "id": "yq3fo8EZ3ymm"
      }
    },
    {
      "cell_type": "code",
      "source": [
        "def seq_data_iter_sequential(corpus, batch_size, num_steps): \n",
        "    \"\"\"Generate a minibatch of subsequences using sequential partitioning.\"\"\"\n",
        "    # Start with a random offset to partition a sequence\n",
        "    offset = random.randint(0, num_steps)\n",
        "    num_tokens = ((len(corpus) - offset - 1) // batch_size) * batch_size\n",
        "    Xs = torch.tensor(corpus[offset: offset + num_tokens])\n",
        "    Ys = torch.tensor(corpus[offset + 1: offset + 1 + num_tokens])\n",
        "    Xs, Ys = Xs.reshape(batch_size, -1), Ys.reshape(batch_size, -1)\n",
        "    num_batches = Xs.shape[1] // num_steps\n",
        "    for i in range(0, num_steps * num_batches, num_steps):\n",
        "        X = Xs[:, i: i + num_steps]\n",
        "        Y = Ys[:, i: i + num_steps]\n",
        "        yield X, Y"
      ],
      "metadata": {
        "id": "0rW-iFx_3wdt"
      },
      "execution_count": 42,
      "outputs": []
    },
    {
      "cell_type": "code",
      "source": [
        "for X, Y in seq_data_iter_sequential(my_seq, batch_size=2, num_steps=5):\n",
        "    print('X: ', X, '\\nY:', Y)"
      ],
      "metadata": {
        "colab": {
          "base_uri": "https://localhost:8080/"
        },
        "id": "R8dMljfA31BU",
        "outputId": "7f9eaebf-0c2e-4b77-83cd-607efdc66a09"
      },
      "execution_count": 43,
      "outputs": [
        {
          "output_type": "stream",
          "name": "stdout",
          "text": [
            "X:  tensor([[ 1,  2,  3,  4,  5],\n",
            "        [17, 18, 19, 20, 21]]) \n",
            "Y: tensor([[ 2,  3,  4,  5,  6],\n",
            "        [18, 19, 20, 21, 22]])\n",
            "X:  tensor([[ 6,  7,  8,  9, 10],\n",
            "        [22, 23, 24, 25, 26]]) \n",
            "Y: tensor([[ 7,  8,  9, 10, 11],\n",
            "        [23, 24, 25, 26, 27]])\n",
            "X:  tensor([[11, 12, 13, 14, 15],\n",
            "        [27, 28, 29, 30, 31]]) \n",
            "Y: tensor([[12, 13, 14, 15, 16],\n",
            "        [28, 29, 30, 31, 32]])\n"
          ]
        }
      ]
    },
    {
      "cell_type": "code",
      "source": [
        "class SeqDataLoader:\n",
        "    \"\"\"An iterator to load sequence data.\"\"\"\n",
        "    def __init__(self, batch_size, num_steps, use_random_iter, max_tokens):\n",
        "        if use_random_iter:\n",
        "            self.data_iter_fn = d2l.seq_data_iter_random\n",
        "        else:\n",
        "            self.data_iter_fn = d2l.seq_data_iter_sequential\n",
        "        self.corpus, self.vocab = d2l.load_corpus_time_machine(max_tokens)\n",
        "        self.batch_size, self.num_steps = batch_size, num_steps\n",
        "\n",
        "    def __iter__(self):\n",
        "        return self.data_iter_fn(self.corpus, self.batch_size, self.num_steps)"
      ],
      "metadata": {
        "id": "C2QIcgnP3354"
      },
      "execution_count": 44,
      "outputs": []
    },
    {
      "cell_type": "code",
      "source": [
        "def load_data_time_machine(batch_size, num_steps,\n",
        "                           use_random_iter=False, max_tokens=10000):\n",
        "    \"\"\"Return the iterator and the vocabulary of the time machine dataset.\"\"\"\n",
        "    data_iter = SeqDataLoader(\n",
        "        batch_size, num_steps, use_random_iter, max_tokens)\n",
        "    return data_iter, data_iter.vocab"
      ],
      "metadata": {
        "id": "22gQlWKV37Hp"
      },
      "execution_count": 45,
      "outputs": []
    },
    {
      "cell_type": "markdown",
      "source": [
        "# 8.4. Recurrent Neural Networks"
      ],
      "metadata": {
        "id": "U_Ps4m7c4QSX"
      }
    },
    {
      "cell_type": "markdown",
      "source": [
        "## 8.4.2. Recurrent Neural Networks with Hidden States"
      ],
      "metadata": {
        "id": "OkRq_PxG4Wjz"
      }
    },
    {
      "cell_type": "code",
      "source": [
        "X, W_xh = torch.normal(0, 1, (3, 1)), torch.normal(0, 1, (1, 4))\n",
        "H, W_hh = torch.normal(0, 1, (3, 4)), torch.normal(0, 1, (4, 4))\n",
        "torch.matmul(X, W_xh) + torch.matmul(H, W_hh)"
      ],
      "metadata": {
        "colab": {
          "base_uri": "https://localhost:8080/"
        },
        "id": "vK7BlXJr3-Iy",
        "outputId": "6a5aa964-97c6-42ab-e03e-40d27b275699"
      },
      "execution_count": 46,
      "outputs": [
        {
          "output_type": "execute_result",
          "data": {
            "text/plain": [
              "tensor([[ 7.6610e-01, -3.4244e+00, -1.3808e+00,  2.3389e+00],\n",
              "        [-2.0023e+00, -5.5606e-01,  3.7894e-01, -2.3490e+00],\n",
              "        [-1.1784e-03,  5.7040e-01, -1.2219e+00,  2.3410e+00]])"
            ]
          },
          "metadata": {},
          "execution_count": 46
        }
      ]
    },
    {
      "cell_type": "code",
      "source": [
        "torch.matmul(torch.cat((X, H), 1), torch.cat((W_xh, W_hh), 0))"
      ],
      "metadata": {
        "colab": {
          "base_uri": "https://localhost:8080/"
        },
        "id": "LCrBH1584aiz",
        "outputId": "0244a4b2-c62f-47c4-e5f8-1aba45addf2f"
      },
      "execution_count": 47,
      "outputs": [
        {
          "output_type": "execute_result",
          "data": {
            "text/plain": [
              "tensor([[ 7.6610e-01, -3.4244e+00, -1.3808e+00,  2.3389e+00],\n",
              "        [-2.0023e+00, -5.5606e-01,  3.7894e-01, -2.3490e+00],\n",
              "        [-1.1784e-03,  5.7040e-01, -1.2219e+00,  2.3410e+00]])"
            ]
          },
          "metadata": {},
          "execution_count": 47
        }
      ]
    },
    {
      "cell_type": "markdown",
      "source": [
        "# 8.5. Implementation of Recurrent Neural Networks from Scratch\n",
        "\n"
      ],
      "metadata": {
        "id": "0UWaV37l4qTM"
      }
    },
    {
      "cell_type": "code",
      "source": [
        "from torch.nn import functional as F\n",
        "import math\n",
        "\n",
        "batch_size, num_steps = 32, 35\n",
        "train_iter, vocab = d2l.load_data_time_machine(batch_size, num_steps)"
      ],
      "metadata": {
        "id": "L3oBH7rW4iH8"
      },
      "execution_count": 68,
      "outputs": []
    },
    {
      "cell_type": "markdown",
      "source": [
        "## 8.5.1. One-Hot Encoding"
      ],
      "metadata": {
        "id": "ch8458G64yIJ"
      }
    },
    {
      "cell_type": "code",
      "source": [
        "F.one_hot(torch.tensor([0, 2]), len(vocab))"
      ],
      "metadata": {
        "colab": {
          "base_uri": "https://localhost:8080/"
        },
        "id": "SLxPSK254u6v",
        "outputId": "f6d7ac06-719e-4488-bfa0-f61db3b3b665"
      },
      "execution_count": 51,
      "outputs": [
        {
          "output_type": "execute_result",
          "data": {
            "text/plain": [
              "tensor([[1, 0, 0, 0, 0, 0, 0, 0, 0, 0, 0, 0, 0, 0, 0, 0, 0, 0, 0, 0, 0, 0, 0, 0,\n",
              "         0, 0, 0, 0],\n",
              "        [0, 0, 1, 0, 0, 0, 0, 0, 0, 0, 0, 0, 0, 0, 0, 0, 0, 0, 0, 0, 0, 0, 0, 0,\n",
              "         0, 0, 0, 0]])"
            ]
          },
          "metadata": {},
          "execution_count": 51
        }
      ]
    },
    {
      "cell_type": "code",
      "source": [
        "X = torch.arange(10).reshape((2, 5))\n",
        "F.one_hot(X.T, 28).shape"
      ],
      "metadata": {
        "colab": {
          "base_uri": "https://localhost:8080/"
        },
        "id": "rvPvEcHF5QzD",
        "outputId": "20ae5a52-0f36-4e18-f15e-0dc145fcd3d6"
      },
      "execution_count": 52,
      "outputs": [
        {
          "output_type": "execute_result",
          "data": {
            "text/plain": [
              "torch.Size([5, 2, 28])"
            ]
          },
          "metadata": {},
          "execution_count": 52
        }
      ]
    },
    {
      "cell_type": "markdown",
      "source": [
        "## 8.5.2. Initializing the Model Parameters"
      ],
      "metadata": {
        "id": "6V0Ct5d15wwA"
      }
    },
    {
      "cell_type": "code",
      "source": [
        "def get_params(vocab_size, num_hiddens, device):\n",
        "    num_inputs = num_outputs = vocab_size\n",
        "\n",
        "    def normal(shape):\n",
        "        return torch.randn(size=shape, device=device) * 0.01\n",
        "\n",
        "    # Hidden layer parameters\n",
        "    W_xh = normal((num_inputs, num_hiddens))\n",
        "    W_hh = normal((num_hiddens, num_hiddens))\n",
        "    b_h = torch.zeros(num_hiddens, device=device)\n",
        "    # Output layer parameters\n",
        "    W_hq = normal((num_hiddens, num_outputs))\n",
        "    b_q = torch.zeros(num_outputs, device=device)\n",
        "    # Attach gradients\n",
        "    params = [W_xh, W_hh, b_h, W_hq, b_q]\n",
        "    for param in params:\n",
        "        param.requires_grad_(True)\n",
        "    return params"
      ],
      "metadata": {
        "id": "UjAxLahJ5ufW"
      },
      "execution_count": 53,
      "outputs": []
    },
    {
      "cell_type": "markdown",
      "source": [
        "## 8.5.3. RNN Model"
      ],
      "metadata": {
        "id": "Hk2bZWVS50td"
      }
    },
    {
      "cell_type": "code",
      "source": [
        "def init_rnn_state(batch_size, num_hiddens, device):\n",
        "    return (torch.zeros((batch_size, num_hiddens), device=device), )"
      ],
      "metadata": {
        "id": "LN4c37155zOU"
      },
      "execution_count": 54,
      "outputs": []
    },
    {
      "cell_type": "code",
      "source": [
        "def rnn(inputs, state, params):\n",
        "    # Here `inputs` shape: (`num_steps`, `batch_size`, `vocab_size`)\n",
        "    W_xh, W_hh, b_h, W_hq, b_q = params\n",
        "    H, = state\n",
        "    outputs = []\n",
        "    # Shape of `X`: (`batch_size`, `vocab_size`)\n",
        "    for X in inputs:\n",
        "        H = torch.tanh(torch.mm(X, W_xh) + torch.mm(H, W_hh) + b_h)\n",
        "        Y = torch.mm(H, W_hq) + b_q\n",
        "        outputs.append(Y)\n",
        "    return torch.cat(outputs, dim=0), (H,)"
      ],
      "metadata": {
        "id": "c0qLn-x855QT"
      },
      "execution_count": 55,
      "outputs": []
    },
    {
      "cell_type": "code",
      "source": [
        "class RNNModelScratch:\n",
        "    \"\"\"A RNN Model implemented from scratch.\"\"\"\n",
        "    def __init__(self, vocab_size, num_hiddens, device,\n",
        "                 get_params, init_state, forward_fn):\n",
        "        self.vocab_size, self.num_hiddens = vocab_size, num_hiddens\n",
        "        self.params = get_params(vocab_size, num_hiddens, device)\n",
        "        self.init_state, self.forward_fn = init_state, forward_fn\n",
        "\n",
        "    def __call__(self, X, state):\n",
        "        X = F.one_hot(X.T, self.vocab_size).type(torch.float32)\n",
        "        return self.forward_fn(X, state, self.params)\n",
        "\n",
        "    def begin_state(self, batch_size, device):\n",
        "        return self.init_state(batch_size, self.num_hiddens, device)"
      ],
      "metadata": {
        "id": "tCVKtHe756mt"
      },
      "execution_count": 57,
      "outputs": []
    },
    {
      "cell_type": "code",
      "source": [
        "num_hiddens = 512\n",
        "net = RNNModelScratch(len(vocab), num_hiddens, d2l.try_gpu(), get_params,\n",
        "                      init_rnn_state, rnn)\n",
        "state = net.begin_state(X.shape[0], d2l.try_gpu())\n",
        "Y, new_state = net(X.to(d2l.try_gpu()), state)\n",
        "Y.shape, len(new_state), new_state[0].shape"
      ],
      "metadata": {
        "colab": {
          "base_uri": "https://localhost:8080/"
        },
        "id": "yLk-ecsx58tB",
        "outputId": "4ed66bef-0dbc-444a-8366-c6a7d82a91aa"
      },
      "execution_count": 58,
      "outputs": [
        {
          "output_type": "execute_result",
          "data": {
            "text/plain": [
              "(torch.Size([10, 28]), 1, torch.Size([2, 512]))"
            ]
          },
          "metadata": {},
          "execution_count": 58
        }
      ]
    },
    {
      "cell_type": "markdown",
      "source": [
        "## 8.5.4. Prediction"
      ],
      "metadata": {
        "id": "AcaYNBSz6B40"
      }
    },
    {
      "cell_type": "code",
      "source": [
        "def predict_ch8(prefix, num_preds, net, vocab, device):\n",
        "    \"\"\"Generate new characters following the `prefix`.\"\"\"\n",
        "    state = net.begin_state(batch_size=1, device=device)\n",
        "    outputs = [vocab[prefix[0]]]\n",
        "    get_input = lambda: torch.tensor([outputs[-1]], device=device).reshape((1, 1))\n",
        "    for y in prefix[1:]:  # Warm-up period\n",
        "        _, state = net(get_input(), state)\n",
        "        outputs.append(vocab[y])\n",
        "    for _ in range(num_preds):  # Predict `num_preds` steps\n",
        "        y, state = net(get_input(), state)\n",
        "        outputs.append(int(y.argmax(dim=1).reshape(1)))\n",
        "    return ''.join([vocab.idx_to_token[i] for i in outputs])"
      ],
      "metadata": {
        "id": "2VZ6V1pD5_XE"
      },
      "execution_count": 60,
      "outputs": []
    },
    {
      "cell_type": "code",
      "source": [
        "predict_ch8('time traveller ', 10, net, vocab, d2l.try_gpu())"
      ],
      "metadata": {
        "colab": {
          "base_uri": "https://localhost:8080/",
          "height": 35
        },
        "id": "4abo_Mc46GDY",
        "outputId": "e30ef701-53a7-455d-da23-0d6cc149d35d"
      },
      "execution_count": 61,
      "outputs": [
        {
          "output_type": "execute_result",
          "data": {
            "text/plain": [
              "'time traveller oams tfams'"
            ],
            "application/vnd.google.colaboratory.intrinsic+json": {
              "type": "string"
            }
          },
          "metadata": {},
          "execution_count": 61
        }
      ]
    },
    {
      "cell_type": "markdown",
      "source": [
        "## 8.5.5. Gradient Clipping"
      ],
      "metadata": {
        "id": "sQbW-_ZB6QQ9"
      }
    },
    {
      "cell_type": "code",
      "source": [
        "def grad_clipping(net, theta):\n",
        "    \"\"\"Clip the gradient.\"\"\"\n",
        "    if isinstance(net, nn.Module):\n",
        "        params = [p for p in net.parameters() if p.requires_grad]\n",
        "    else:\n",
        "        params = net.params\n",
        "    norm = torch.sqrt(sum(torch.sum((p.grad ** 2)) for p in params))\n",
        "    if norm > theta:\n",
        "        for param in params:\n",
        "            param.grad[:] *= theta / norm"
      ],
      "metadata": {
        "id": "19rdyY-16MSZ"
      },
      "execution_count": 63,
      "outputs": []
    },
    {
      "cell_type": "markdown",
      "source": [
        "## 8.5.6. Training"
      ],
      "metadata": {
        "id": "LYV6nLgE6Zwp"
      }
    },
    {
      "cell_type": "code",
      "source": [
        "def train_epoch_ch8(net, train_iter, loss, updater, device, use_random_iter):\n",
        "    \"\"\"Train a net within one epoch (defined in Chapter 8).\"\"\"\n",
        "    state, timer = None, d2l.Timer()\n",
        "    metric = d2l.Accumulator(2)  # Sum of training loss, no. of tokens\n",
        "    for X, Y in train_iter:\n",
        "        if state is None or use_random_iter:\n",
        "            # Initialize `state` when either it is the first iteration or\n",
        "            # using random sampling\n",
        "            state = net.begin_state(batch_size=X.shape[0], device=device)\n",
        "        else:\n",
        "            if isinstance(net, nn.Module) and not isinstance(state, tuple):\n",
        "                # `state` is a tensor for `nn.GRU`\n",
        "                state.detach_()\n",
        "            else:\n",
        "                # `state` is a tuple of tensors for `nn.LSTM` and\n",
        "                # for our custom scratch implementation\n",
        "                for s in state:\n",
        "                    s.detach_()\n",
        "        y = Y.T.reshape(-1)\n",
        "        X, y = X.to(device), y.to(device)\n",
        "        y_hat, state = net(X, state)\n",
        "        l = loss(y_hat, y.long()).mean()\n",
        "        if isinstance(updater, torch.optim.Optimizer):\n",
        "            updater.zero_grad()\n",
        "            l.backward()\n",
        "            grad_clipping(net, 1)\n",
        "            updater.step()\n",
        "        else:\n",
        "            l.backward()\n",
        "            grad_clipping(net, 1)\n",
        "            # Since the `mean` function has been invoked\n",
        "            updater(batch_size=1)\n",
        "        metric.add(l * y.numel(), y.numel())\n",
        "    return math.exp(metric[0] / metric[1]), metric[1] / timer.stop()"
      ],
      "metadata": {
        "id": "g3KAj3Da6Sz-"
      },
      "execution_count": 70,
      "outputs": []
    },
    {
      "cell_type": "code",
      "source": [
        "def train_ch8(net, train_iter, vocab, lr, num_epochs, device,\n",
        "              use_random_iter=False):\n",
        "    \"\"\"Train a model (defined in Chapter 8).\"\"\"\n",
        "    loss = nn.CrossEntropyLoss()\n",
        "    animator = d2l.Animator(xlabel='epoch', ylabel='perplexity',\n",
        "                            legend=['train'], xlim=[10, num_epochs])\n",
        "    # Initialize\n",
        "    if isinstance(net, nn.Module):\n",
        "        updater = torch.optim.SGD(net.parameters(), lr)\n",
        "    else:\n",
        "        updater = lambda batch_size: d2l.sgd(net.params, lr, batch_size)\n",
        "    predict = lambda prefix: predict_ch8(prefix, 50, net, vocab, device)\n",
        "    # Train and predict\n",
        "    for epoch in range(num_epochs):\n",
        "        ppl, speed = train_epoch_ch8(\n",
        "            net, train_iter, loss, updater, device, use_random_iter)\n",
        "        if (epoch + 1) % 10 == 0:\n",
        "            print(predict('time traveller'))\n",
        "            animator.add(epoch + 1, [ppl])\n",
        "    print(f'perplexity {ppl:.1f}, {speed:.1f} tokens/sec on {str(device)}')\n",
        "    print(predict('time traveller'))\n",
        "    print(predict('traveller'))"
      ],
      "metadata": {
        "id": "oFzHvgre6cYO"
      },
      "execution_count": 71,
      "outputs": []
    },
    {
      "cell_type": "code",
      "source": [
        "num_epochs, lr = 500, 1\n",
        "train_ch8(net, train_iter, vocab, lr, num_epochs, d2l.try_gpu())"
      ],
      "metadata": {
        "colab": {
          "base_uri": "https://localhost:8080/",
          "height": 314
        },
        "id": "Xf6B1PgT6g-d",
        "outputId": "611b83b6-c20a-4996-a401-a5a4a6b0bfce"
      },
      "execution_count": 69,
      "outputs": [
        {
          "output_type": "stream",
          "name": "stdout",
          "text": [
            "perplexity 1.0, 18334.3 tokens/sec on cpu\n",
            "time travelleryou can show black is white by argument said filby\n",
            "travelleryou can show black is white by argument said filby\n"
          ]
        },
        {
          "output_type": "display_data",
          "data": {
            "text/plain": [
              "<Figure size 252x180 with 1 Axes>"
            ],
            "image/svg+xml": "<?xml version=\"1.0\" encoding=\"utf-8\" standalone=\"no\"?>\n<!DOCTYPE svg PUBLIC \"-//W3C//DTD SVG 1.1//EN\"\n  \"http://www.w3.org/Graphics/SVG/1.1/DTD/svg11.dtd\">\n<svg xmlns:xlink=\"http://www.w3.org/1999/xlink\" width=\"262.1875pt\" height=\"180.65625pt\" viewBox=\"0 0 262.1875 180.65625\" xmlns=\"http://www.w3.org/2000/svg\" version=\"1.1\">\n <metadata>\n  <rdf:RDF xmlns:dc=\"http://purl.org/dc/elements/1.1/\" xmlns:cc=\"http://creativecommons.org/ns#\" xmlns:rdf=\"http://www.w3.org/1999/02/22-rdf-syntax-ns#\">\n   <cc:Work>\n    <dc:type rdf:resource=\"http://purl.org/dc/dcmitype/StillImage\"/>\n    <dc:date>2022-04-30T14:45:04.019582</dc:date>\n    <dc:format>image/svg+xml</dc:format>\n    <dc:creator>\n     <cc:Agent>\n      <dc:title>Matplotlib v3.5.1, https://matplotlib.org/</dc:title>\n     </cc:Agent>\n    </dc:creator>\n   </cc:Work>\n  </rdf:RDF>\n </metadata>\n <defs>\n  <style type=\"text/css\">*{stroke-linejoin: round; stroke-linecap: butt}</style>\n </defs>\n <g id=\"figure_1\">\n  <g id=\"patch_1\">\n   <path d=\"M 0 180.65625 \nL 262.1875 180.65625 \nL 262.1875 0 \nL 0 0 \nL 0 180.65625 \nz\n\" style=\"fill: none\"/>\n  </g>\n  <g id=\"axes_1\">\n   <g id=\"patch_2\">\n    <path d=\"M 50.14375 143.1 \nL 245.44375 143.1 \nL 245.44375 7.2 \nL 50.14375 7.2 \nz\n\" style=\"fill: #ffffff\"/>\n   </g>\n   <g id=\"matplotlib.axis_1\">\n    <g id=\"xtick_1\">\n     <g id=\"line2d_1\">\n      <path d=\"M 86.015179 143.1 \nL 86.015179 7.2 \n\" clip-path=\"url(#p1d926aa5e1)\" style=\"fill: none; stroke: #b0b0b0; stroke-width: 0.8; stroke-linecap: square\"/>\n     </g>\n     <g id=\"line2d_2\">\n      <defs>\n       <path id=\"ma52bfbad5b\" d=\"M 0 0 \nL 0 3.5 \n\" style=\"stroke: #000000; stroke-width: 0.8\"/>\n      </defs>\n      <g>\n       <use xlink:href=\"#ma52bfbad5b\" x=\"86.015179\" y=\"143.1\" style=\"stroke: #000000; stroke-width: 0.8\"/>\n      </g>\n     </g>\n     <g id=\"text_1\">\n      <!-- 100 -->\n      <g transform=\"translate(76.471429 157.698438)scale(0.1 -0.1)\">\n       <defs>\n        <path id=\"DejaVuSans-31\" d=\"M 794 531 \nL 1825 531 \nL 1825 4091 \nL 703 3866 \nL 703 4441 \nL 1819 4666 \nL 2450 4666 \nL 2450 531 \nL 3481 531 \nL 3481 0 \nL 794 0 \nL 794 531 \nz\n\" transform=\"scale(0.015625)\"/>\n        <path id=\"DejaVuSans-30\" d=\"M 2034 4250 \nQ 1547 4250 1301 3770 \nQ 1056 3291 1056 2328 \nQ 1056 1369 1301 889 \nQ 1547 409 2034 409 \nQ 2525 409 2770 889 \nQ 3016 1369 3016 2328 \nQ 3016 3291 2770 3770 \nQ 2525 4250 2034 4250 \nz\nM 2034 4750 \nQ 2819 4750 3233 4129 \nQ 3647 3509 3647 2328 \nQ 3647 1150 3233 529 \nQ 2819 -91 2034 -91 \nQ 1250 -91 836 529 \nQ 422 1150 422 2328 \nQ 422 3509 836 4129 \nQ 1250 4750 2034 4750 \nz\n\" transform=\"scale(0.015625)\"/>\n       </defs>\n       <use xlink:href=\"#DejaVuSans-31\"/>\n       <use xlink:href=\"#DejaVuSans-30\" x=\"63.623047\"/>\n       <use xlink:href=\"#DejaVuSans-30\" x=\"127.246094\"/>\n      </g>\n     </g>\n    </g>\n    <g id=\"xtick_2\">\n     <g id=\"line2d_3\">\n      <path d=\"M 125.872321 143.1 \nL 125.872321 7.2 \n\" clip-path=\"url(#p1d926aa5e1)\" style=\"fill: none; stroke: #b0b0b0; stroke-width: 0.8; stroke-linecap: square\"/>\n     </g>\n     <g id=\"line2d_4\">\n      <g>\n       <use xlink:href=\"#ma52bfbad5b\" x=\"125.872321\" y=\"143.1\" style=\"stroke: #000000; stroke-width: 0.8\"/>\n      </g>\n     </g>\n     <g id=\"text_2\">\n      <!-- 200 -->\n      <g transform=\"translate(116.328571 157.698438)scale(0.1 -0.1)\">\n       <defs>\n        <path id=\"DejaVuSans-32\" d=\"M 1228 531 \nL 3431 531 \nL 3431 0 \nL 469 0 \nL 469 531 \nQ 828 903 1448 1529 \nQ 2069 2156 2228 2338 \nQ 2531 2678 2651 2914 \nQ 2772 3150 2772 3378 \nQ 2772 3750 2511 3984 \nQ 2250 4219 1831 4219 \nQ 1534 4219 1204 4116 \nQ 875 4013 500 3803 \nL 500 4441 \nQ 881 4594 1212 4672 \nQ 1544 4750 1819 4750 \nQ 2544 4750 2975 4387 \nQ 3406 4025 3406 3419 \nQ 3406 3131 3298 2873 \nQ 3191 2616 2906 2266 \nQ 2828 2175 2409 1742 \nQ 1991 1309 1228 531 \nz\n\" transform=\"scale(0.015625)\"/>\n       </defs>\n       <use xlink:href=\"#DejaVuSans-32\"/>\n       <use xlink:href=\"#DejaVuSans-30\" x=\"63.623047\"/>\n       <use xlink:href=\"#DejaVuSans-30\" x=\"127.246094\"/>\n      </g>\n     </g>\n    </g>\n    <g id=\"xtick_3\">\n     <g id=\"line2d_5\">\n      <path d=\"M 165.729464 143.1 \nL 165.729464 7.2 \n\" clip-path=\"url(#p1d926aa5e1)\" style=\"fill: none; stroke: #b0b0b0; stroke-width: 0.8; stroke-linecap: square\"/>\n     </g>\n     <g id=\"line2d_6\">\n      <g>\n       <use xlink:href=\"#ma52bfbad5b\" x=\"165.729464\" y=\"143.1\" style=\"stroke: #000000; stroke-width: 0.8\"/>\n      </g>\n     </g>\n     <g id=\"text_3\">\n      <!-- 300 -->\n      <g transform=\"translate(156.185714 157.698438)scale(0.1 -0.1)\">\n       <defs>\n        <path id=\"DejaVuSans-33\" d=\"M 2597 2516 \nQ 3050 2419 3304 2112 \nQ 3559 1806 3559 1356 \nQ 3559 666 3084 287 \nQ 2609 -91 1734 -91 \nQ 1441 -91 1130 -33 \nQ 819 25 488 141 \nL 488 750 \nQ 750 597 1062 519 \nQ 1375 441 1716 441 \nQ 2309 441 2620 675 \nQ 2931 909 2931 1356 \nQ 2931 1769 2642 2001 \nQ 2353 2234 1838 2234 \nL 1294 2234 \nL 1294 2753 \nL 1863 2753 \nQ 2328 2753 2575 2939 \nQ 2822 3125 2822 3475 \nQ 2822 3834 2567 4026 \nQ 2313 4219 1838 4219 \nQ 1578 4219 1281 4162 \nQ 984 4106 628 3988 \nL 628 4550 \nQ 988 4650 1302 4700 \nQ 1616 4750 1894 4750 \nQ 2613 4750 3031 4423 \nQ 3450 4097 3450 3541 \nQ 3450 3153 3228 2886 \nQ 3006 2619 2597 2516 \nz\n\" transform=\"scale(0.015625)\"/>\n       </defs>\n       <use xlink:href=\"#DejaVuSans-33\"/>\n       <use xlink:href=\"#DejaVuSans-30\" x=\"63.623047\"/>\n       <use xlink:href=\"#DejaVuSans-30\" x=\"127.246094\"/>\n      </g>\n     </g>\n    </g>\n    <g id=\"xtick_4\">\n     <g id=\"line2d_7\">\n      <path d=\"M 205.586607 143.1 \nL 205.586607 7.2 \n\" clip-path=\"url(#p1d926aa5e1)\" style=\"fill: none; stroke: #b0b0b0; stroke-width: 0.8; stroke-linecap: square\"/>\n     </g>\n     <g id=\"line2d_8\">\n      <g>\n       <use xlink:href=\"#ma52bfbad5b\" x=\"205.586607\" y=\"143.1\" style=\"stroke: #000000; stroke-width: 0.8\"/>\n      </g>\n     </g>\n     <g id=\"text_4\">\n      <!-- 400 -->\n      <g transform=\"translate(196.042857 157.698438)scale(0.1 -0.1)\">\n       <defs>\n        <path id=\"DejaVuSans-34\" d=\"M 2419 4116 \nL 825 1625 \nL 2419 1625 \nL 2419 4116 \nz\nM 2253 4666 \nL 3047 4666 \nL 3047 1625 \nL 3713 1625 \nL 3713 1100 \nL 3047 1100 \nL 3047 0 \nL 2419 0 \nL 2419 1100 \nL 313 1100 \nL 313 1709 \nL 2253 4666 \nz\n\" transform=\"scale(0.015625)\"/>\n       </defs>\n       <use xlink:href=\"#DejaVuSans-34\"/>\n       <use xlink:href=\"#DejaVuSans-30\" x=\"63.623047\"/>\n       <use xlink:href=\"#DejaVuSans-30\" x=\"127.246094\"/>\n      </g>\n     </g>\n    </g>\n    <g id=\"xtick_5\">\n     <g id=\"line2d_9\">\n      <path d=\"M 245.44375 143.1 \nL 245.44375 7.2 \n\" clip-path=\"url(#p1d926aa5e1)\" style=\"fill: none; stroke: #b0b0b0; stroke-width: 0.8; stroke-linecap: square\"/>\n     </g>\n     <g id=\"line2d_10\">\n      <g>\n       <use xlink:href=\"#ma52bfbad5b\" x=\"245.44375\" y=\"143.1\" style=\"stroke: #000000; stroke-width: 0.8\"/>\n      </g>\n     </g>\n     <g id=\"text_5\">\n      <!-- 500 -->\n      <g transform=\"translate(235.9 157.698438)scale(0.1 -0.1)\">\n       <defs>\n        <path id=\"DejaVuSans-35\" d=\"M 691 4666 \nL 3169 4666 \nL 3169 4134 \nL 1269 4134 \nL 1269 2991 \nQ 1406 3038 1543 3061 \nQ 1681 3084 1819 3084 \nQ 2600 3084 3056 2656 \nQ 3513 2228 3513 1497 \nQ 3513 744 3044 326 \nQ 2575 -91 1722 -91 \nQ 1428 -91 1123 -41 \nQ 819 9 494 109 \nL 494 744 \nQ 775 591 1075 516 \nQ 1375 441 1709 441 \nQ 2250 441 2565 725 \nQ 2881 1009 2881 1497 \nQ 2881 1984 2565 2268 \nQ 2250 2553 1709 2553 \nQ 1456 2553 1204 2497 \nQ 953 2441 691 2322 \nL 691 4666 \nz\n\" transform=\"scale(0.015625)\"/>\n       </defs>\n       <use xlink:href=\"#DejaVuSans-35\"/>\n       <use xlink:href=\"#DejaVuSans-30\" x=\"63.623047\"/>\n       <use xlink:href=\"#DejaVuSans-30\" x=\"127.246094\"/>\n      </g>\n     </g>\n    </g>\n    <g id=\"text_6\">\n     <!-- epoch -->\n     <g transform=\"translate(132.565625 171.376563)scale(0.1 -0.1)\">\n      <defs>\n       <path id=\"DejaVuSans-65\" d=\"M 3597 1894 \nL 3597 1613 \nL 953 1613 \nQ 991 1019 1311 708 \nQ 1631 397 2203 397 \nQ 2534 397 2845 478 \nQ 3156 559 3463 722 \nL 3463 178 \nQ 3153 47 2828 -22 \nQ 2503 -91 2169 -91 \nQ 1331 -91 842 396 \nQ 353 884 353 1716 \nQ 353 2575 817 3079 \nQ 1281 3584 2069 3584 \nQ 2775 3584 3186 3129 \nQ 3597 2675 3597 1894 \nz\nM 3022 2063 \nQ 3016 2534 2758 2815 \nQ 2500 3097 2075 3097 \nQ 1594 3097 1305 2825 \nQ 1016 2553 972 2059 \nL 3022 2063 \nz\n\" transform=\"scale(0.015625)\"/>\n       <path id=\"DejaVuSans-70\" d=\"M 1159 525 \nL 1159 -1331 \nL 581 -1331 \nL 581 3500 \nL 1159 3500 \nL 1159 2969 \nQ 1341 3281 1617 3432 \nQ 1894 3584 2278 3584 \nQ 2916 3584 3314 3078 \nQ 3713 2572 3713 1747 \nQ 3713 922 3314 415 \nQ 2916 -91 2278 -91 \nQ 1894 -91 1617 61 \nQ 1341 213 1159 525 \nz\nM 3116 1747 \nQ 3116 2381 2855 2742 \nQ 2594 3103 2138 3103 \nQ 1681 3103 1420 2742 \nQ 1159 2381 1159 1747 \nQ 1159 1113 1420 752 \nQ 1681 391 2138 391 \nQ 2594 391 2855 752 \nQ 3116 1113 3116 1747 \nz\n\" transform=\"scale(0.015625)\"/>\n       <path id=\"DejaVuSans-6f\" d=\"M 1959 3097 \nQ 1497 3097 1228 2736 \nQ 959 2375 959 1747 \nQ 959 1119 1226 758 \nQ 1494 397 1959 397 \nQ 2419 397 2687 759 \nQ 2956 1122 2956 1747 \nQ 2956 2369 2687 2733 \nQ 2419 3097 1959 3097 \nz\nM 1959 3584 \nQ 2709 3584 3137 3096 \nQ 3566 2609 3566 1747 \nQ 3566 888 3137 398 \nQ 2709 -91 1959 -91 \nQ 1206 -91 779 398 \nQ 353 888 353 1747 \nQ 353 2609 779 3096 \nQ 1206 3584 1959 3584 \nz\n\" transform=\"scale(0.015625)\"/>\n       <path id=\"DejaVuSans-63\" d=\"M 3122 3366 \nL 3122 2828 \nQ 2878 2963 2633 3030 \nQ 2388 3097 2138 3097 \nQ 1578 3097 1268 2742 \nQ 959 2388 959 1747 \nQ 959 1106 1268 751 \nQ 1578 397 2138 397 \nQ 2388 397 2633 464 \nQ 2878 531 3122 666 \nL 3122 134 \nQ 2881 22 2623 -34 \nQ 2366 -91 2075 -91 \nQ 1284 -91 818 406 \nQ 353 903 353 1747 \nQ 353 2603 823 3093 \nQ 1294 3584 2113 3584 \nQ 2378 3584 2631 3529 \nQ 2884 3475 3122 3366 \nz\n\" transform=\"scale(0.015625)\"/>\n       <path id=\"DejaVuSans-68\" d=\"M 3513 2113 \nL 3513 0 \nL 2938 0 \nL 2938 2094 \nQ 2938 2591 2744 2837 \nQ 2550 3084 2163 3084 \nQ 1697 3084 1428 2787 \nQ 1159 2491 1159 1978 \nL 1159 0 \nL 581 0 \nL 581 4863 \nL 1159 4863 \nL 1159 2956 \nQ 1366 3272 1645 3428 \nQ 1925 3584 2291 3584 \nQ 2894 3584 3203 3211 \nQ 3513 2838 3513 2113 \nz\n\" transform=\"scale(0.015625)\"/>\n      </defs>\n      <use xlink:href=\"#DejaVuSans-65\"/>\n      <use xlink:href=\"#DejaVuSans-70\" x=\"61.523438\"/>\n      <use xlink:href=\"#DejaVuSans-6f\" x=\"125\"/>\n      <use xlink:href=\"#DejaVuSans-63\" x=\"186.181641\"/>\n      <use xlink:href=\"#DejaVuSans-68\" x=\"241.162109\"/>\n     </g>\n    </g>\n   </g>\n   <g id=\"matplotlib.axis_2\">\n    <g id=\"ytick_1\">\n     <g id=\"line2d_11\">\n      <path d=\"M 50.14375 121.656296 \nL 245.44375 121.656296 \n\" clip-path=\"url(#p1d926aa5e1)\" style=\"fill: none; stroke: #b0b0b0; stroke-width: 0.8; stroke-linecap: square\"/>\n     </g>\n     <g id=\"line2d_12\">\n      <defs>\n       <path id=\"mecf783b635\" d=\"M 0 0 \nL -3.5 0 \n\" style=\"stroke: #000000; stroke-width: 0.8\"/>\n      </defs>\n      <g>\n       <use xlink:href=\"#mecf783b635\" x=\"50.14375\" y=\"121.656296\" style=\"stroke: #000000; stroke-width: 0.8\"/>\n      </g>\n     </g>\n     <g id=\"text_7\">\n      <!-- 2.5 -->\n      <g transform=\"translate(27.240625 125.455515)scale(0.1 -0.1)\">\n       <defs>\n        <path id=\"DejaVuSans-2e\" d=\"M 684 794 \nL 1344 794 \nL 1344 0 \nL 684 0 \nL 684 794 \nz\n\" transform=\"scale(0.015625)\"/>\n       </defs>\n       <use xlink:href=\"#DejaVuSans-32\"/>\n       <use xlink:href=\"#DejaVuSans-2e\" x=\"63.623047\"/>\n       <use xlink:href=\"#DejaVuSans-35\" x=\"95.410156\"/>\n      </g>\n     </g>\n    </g>\n    <g id=\"ytick_2\">\n     <g id=\"line2d_13\">\n      <path d=\"M 50.14375 95.787632 \nL 245.44375 95.787632 \n\" clip-path=\"url(#p1d926aa5e1)\" style=\"fill: none; stroke: #b0b0b0; stroke-width: 0.8; stroke-linecap: square\"/>\n     </g>\n     <g id=\"line2d_14\">\n      <g>\n       <use xlink:href=\"#mecf783b635\" x=\"50.14375\" y=\"95.787632\" style=\"stroke: #000000; stroke-width: 0.8\"/>\n      </g>\n     </g>\n     <g id=\"text_8\">\n      <!-- 5.0 -->\n      <g transform=\"translate(27.240625 99.586851)scale(0.1 -0.1)\">\n       <use xlink:href=\"#DejaVuSans-35\"/>\n       <use xlink:href=\"#DejaVuSans-2e\" x=\"63.623047\"/>\n       <use xlink:href=\"#DejaVuSans-30\" x=\"95.410156\"/>\n      </g>\n     </g>\n    </g>\n    <g id=\"ytick_3\">\n     <g id=\"line2d_15\">\n      <path d=\"M 50.14375 69.918969 \nL 245.44375 69.918969 \n\" clip-path=\"url(#p1d926aa5e1)\" style=\"fill: none; stroke: #b0b0b0; stroke-width: 0.8; stroke-linecap: square\"/>\n     </g>\n     <g id=\"line2d_16\">\n      <g>\n       <use xlink:href=\"#mecf783b635\" x=\"50.14375\" y=\"69.918969\" style=\"stroke: #000000; stroke-width: 0.8\"/>\n      </g>\n     </g>\n     <g id=\"text_9\">\n      <!-- 7.5 -->\n      <g transform=\"translate(27.240625 73.718187)scale(0.1 -0.1)\">\n       <defs>\n        <path id=\"DejaVuSans-37\" d=\"M 525 4666 \nL 3525 4666 \nL 3525 4397 \nL 1831 0 \nL 1172 0 \nL 2766 4134 \nL 525 4134 \nL 525 4666 \nz\n\" transform=\"scale(0.015625)\"/>\n       </defs>\n       <use xlink:href=\"#DejaVuSans-37\"/>\n       <use xlink:href=\"#DejaVuSans-2e\" x=\"63.623047\"/>\n       <use xlink:href=\"#DejaVuSans-35\" x=\"95.410156\"/>\n      </g>\n     </g>\n    </g>\n    <g id=\"ytick_4\">\n     <g id=\"line2d_17\">\n      <path d=\"M 50.14375 44.050305 \nL 245.44375 44.050305 \n\" clip-path=\"url(#p1d926aa5e1)\" style=\"fill: none; stroke: #b0b0b0; stroke-width: 0.8; stroke-linecap: square\"/>\n     </g>\n     <g id=\"line2d_18\">\n      <g>\n       <use xlink:href=\"#mecf783b635\" x=\"50.14375\" y=\"44.050305\" style=\"stroke: #000000; stroke-width: 0.8\"/>\n      </g>\n     </g>\n     <g id=\"text_10\">\n      <!-- 10.0 -->\n      <g transform=\"translate(20.878125 47.849524)scale(0.1 -0.1)\">\n       <use xlink:href=\"#DejaVuSans-31\"/>\n       <use xlink:href=\"#DejaVuSans-30\" x=\"63.623047\"/>\n       <use xlink:href=\"#DejaVuSans-2e\" x=\"127.246094\"/>\n       <use xlink:href=\"#DejaVuSans-30\" x=\"159.033203\"/>\n      </g>\n     </g>\n    </g>\n    <g id=\"ytick_5\">\n     <g id=\"line2d_19\">\n      <path d=\"M 50.14375 18.181642 \nL 245.44375 18.181642 \n\" clip-path=\"url(#p1d926aa5e1)\" style=\"fill: none; stroke: #b0b0b0; stroke-width: 0.8; stroke-linecap: square\"/>\n     </g>\n     <g id=\"line2d_20\">\n      <g>\n       <use xlink:href=\"#mecf783b635\" x=\"50.14375\" y=\"18.181642\" style=\"stroke: #000000; stroke-width: 0.8\"/>\n      </g>\n     </g>\n     <g id=\"text_11\">\n      <!-- 12.5 -->\n      <g transform=\"translate(20.878125 21.98086)scale(0.1 -0.1)\">\n       <use xlink:href=\"#DejaVuSans-31\"/>\n       <use xlink:href=\"#DejaVuSans-32\" x=\"63.623047\"/>\n       <use xlink:href=\"#DejaVuSans-2e\" x=\"127.246094\"/>\n       <use xlink:href=\"#DejaVuSans-35\" x=\"159.033203\"/>\n      </g>\n     </g>\n    </g>\n    <g id=\"text_12\">\n     <!-- perplexity -->\n     <g transform=\"translate(14.798437 100.276562)rotate(-90)scale(0.1 -0.1)\">\n      <defs>\n       <path id=\"DejaVuSans-72\" d=\"M 2631 2963 \nQ 2534 3019 2420 3045 \nQ 2306 3072 2169 3072 \nQ 1681 3072 1420 2755 \nQ 1159 2438 1159 1844 \nL 1159 0 \nL 581 0 \nL 581 3500 \nL 1159 3500 \nL 1159 2956 \nQ 1341 3275 1631 3429 \nQ 1922 3584 2338 3584 \nQ 2397 3584 2469 3576 \nQ 2541 3569 2628 3553 \nL 2631 2963 \nz\n\" transform=\"scale(0.015625)\"/>\n       <path id=\"DejaVuSans-6c\" d=\"M 603 4863 \nL 1178 4863 \nL 1178 0 \nL 603 0 \nL 603 4863 \nz\n\" transform=\"scale(0.015625)\"/>\n       <path id=\"DejaVuSans-78\" d=\"M 3513 3500 \nL 2247 1797 \nL 3578 0 \nL 2900 0 \nL 1881 1375 \nL 863 0 \nL 184 0 \nL 1544 1831 \nL 300 3500 \nL 978 3500 \nL 1906 2253 \nL 2834 3500 \nL 3513 3500 \nz\n\" transform=\"scale(0.015625)\"/>\n       <path id=\"DejaVuSans-69\" d=\"M 603 3500 \nL 1178 3500 \nL 1178 0 \nL 603 0 \nL 603 3500 \nz\nM 603 4863 \nL 1178 4863 \nL 1178 4134 \nL 603 4134 \nL 603 4863 \nz\n\" transform=\"scale(0.015625)\"/>\n       <path id=\"DejaVuSans-74\" d=\"M 1172 4494 \nL 1172 3500 \nL 2356 3500 \nL 2356 3053 \nL 1172 3053 \nL 1172 1153 \nQ 1172 725 1289 603 \nQ 1406 481 1766 481 \nL 2356 481 \nL 2356 0 \nL 1766 0 \nQ 1100 0 847 248 \nQ 594 497 594 1153 \nL 594 3053 \nL 172 3053 \nL 172 3500 \nL 594 3500 \nL 594 4494 \nL 1172 4494 \nz\n\" transform=\"scale(0.015625)\"/>\n       <path id=\"DejaVuSans-79\" d=\"M 2059 -325 \nQ 1816 -950 1584 -1140 \nQ 1353 -1331 966 -1331 \nL 506 -1331 \nL 506 -850 \nL 844 -850 \nQ 1081 -850 1212 -737 \nQ 1344 -625 1503 -206 \nL 1606 56 \nL 191 3500 \nL 800 3500 \nL 1894 763 \nL 2988 3500 \nL 3597 3500 \nL 2059 -325 \nz\n\" transform=\"scale(0.015625)\"/>\n      </defs>\n      <use xlink:href=\"#DejaVuSans-70\"/>\n      <use xlink:href=\"#DejaVuSans-65\" x=\"63.476562\"/>\n      <use xlink:href=\"#DejaVuSans-72\" x=\"125\"/>\n      <use xlink:href=\"#DejaVuSans-70\" x=\"166.113281\"/>\n      <use xlink:href=\"#DejaVuSans-6c\" x=\"229.589844\"/>\n      <use xlink:href=\"#DejaVuSans-65\" x=\"257.373047\"/>\n      <use xlink:href=\"#DejaVuSans-78\" x=\"317.146484\"/>\n      <use xlink:href=\"#DejaVuSans-69\" x=\"376.326172\"/>\n      <use xlink:href=\"#DejaVuSans-74\" x=\"404.109375\"/>\n      <use xlink:href=\"#DejaVuSans-79\" x=\"443.318359\"/>\n     </g>\n    </g>\n   </g>\n   <g id=\"line2d_21\">\n    <path d=\"M 50.14375 13.377273 \nL 54.129464 39.222578 \nL 58.115179 49.547634 \nL 62.100893 54.171102 \nL 66.086607 59.562342 \nL 70.072321 61.988247 \nL 74.058036 65.189524 \nL 78.04375 66.661939 \nL 82.029464 69.189134 \nL 86.015179 70.987579 \nL 90.000893 72.776584 \nL 93.986607 73.690092 \nL 97.972321 78.89395 \nL 101.958036 77.896257 \nL 105.94375 86.047082 \nL 109.929464 89.902707 \nL 113.915179 96.593616 \nL 117.900893 103.287469 \nL 121.886607 109.980888 \nL 125.872321 114.625422 \nL 129.858036 119.577211 \nL 133.84375 123.81812 \nL 137.829464 127.109338 \nL 141.815179 129.555228 \nL 145.800893 131.539005 \nL 149.786607 132.182104 \nL 153.772321 132.778536 \nL 157.758036 133.771289 \nL 161.74375 133.612178 \nL 165.729464 133.859287 \nL 169.715179 134.703452 \nL 173.700893 135.715669 \nL 177.686607 136.001189 \nL 181.672321 136.450829 \nL 185.658036 136.57072 \nL 189.64375 136.646206 \nL 193.629464 136.490197 \nL 197.615179 135.436873 \nL 201.600893 135.372019 \nL 205.586607 135.794551 \nL 209.572321 136.260108 \nL 213.558036 136.672907 \nL 217.54375 136.703382 \nL 221.529464 136.713447 \nL 225.515179 136.771241 \nL 229.500893 136.73322 \nL 233.486607 136.794781 \nL 237.472321 136.922727 \nL 241.458036 136.691972 \nL 245.44375 136.771404 \n\" clip-path=\"url(#p1d926aa5e1)\" style=\"fill: none; stroke: #1f77b4; stroke-width: 1.5; stroke-linecap: square\"/>\n   </g>\n   <g id=\"patch_3\">\n    <path d=\"M 50.14375 143.1 \nL 50.14375 7.2 \n\" style=\"fill: none; stroke: #000000; stroke-width: 0.8; stroke-linejoin: miter; stroke-linecap: square\"/>\n   </g>\n   <g id=\"patch_4\">\n    <path d=\"M 245.44375 143.1 \nL 245.44375 7.2 \n\" style=\"fill: none; stroke: #000000; stroke-width: 0.8; stroke-linejoin: miter; stroke-linecap: square\"/>\n   </g>\n   <g id=\"patch_5\">\n    <path d=\"M 50.14375 143.1 \nL 245.44375 143.1 \n\" style=\"fill: none; stroke: #000000; stroke-width: 0.8; stroke-linejoin: miter; stroke-linecap: square\"/>\n   </g>\n   <g id=\"patch_6\">\n    <path d=\"M 50.14375 7.2 \nL 245.44375 7.2 \n\" style=\"fill: none; stroke: #000000; stroke-width: 0.8; stroke-linejoin: miter; stroke-linecap: square\"/>\n   </g>\n   <g id=\"legend_1\">\n    <g id=\"patch_7\">\n     <path d=\"M 183.16875 29.878125 \nL 238.44375 29.878125 \nQ 240.44375 29.878125 240.44375 27.878125 \nL 240.44375 14.2 \nQ 240.44375 12.2 238.44375 12.2 \nL 183.16875 12.2 \nQ 181.16875 12.2 181.16875 14.2 \nL 181.16875 27.878125 \nQ 181.16875 29.878125 183.16875 29.878125 \nz\n\" style=\"fill: #ffffff; opacity: 0.8; stroke: #cccccc; stroke-linejoin: miter\"/>\n    </g>\n    <g id=\"line2d_22\">\n     <path d=\"M 185.16875 20.298437 \nL 195.16875 20.298437 \nL 205.16875 20.298437 \n\" style=\"fill: none; stroke: #1f77b4; stroke-width: 1.5; stroke-linecap: square\"/>\n    </g>\n    <g id=\"text_13\">\n     <!-- train -->\n     <g transform=\"translate(213.16875 23.798437)scale(0.1 -0.1)\">\n      <defs>\n       <path id=\"DejaVuSans-61\" d=\"M 2194 1759 \nQ 1497 1759 1228 1600 \nQ 959 1441 959 1056 \nQ 959 750 1161 570 \nQ 1363 391 1709 391 \nQ 2188 391 2477 730 \nQ 2766 1069 2766 1631 \nL 2766 1759 \nL 2194 1759 \nz\nM 3341 1997 \nL 3341 0 \nL 2766 0 \nL 2766 531 \nQ 2569 213 2275 61 \nQ 1981 -91 1556 -91 \nQ 1019 -91 701 211 \nQ 384 513 384 1019 \nQ 384 1609 779 1909 \nQ 1175 2209 1959 2209 \nL 2766 2209 \nL 2766 2266 \nQ 2766 2663 2505 2880 \nQ 2244 3097 1772 3097 \nQ 1472 3097 1187 3025 \nQ 903 2953 641 2809 \nL 641 3341 \nQ 956 3463 1253 3523 \nQ 1550 3584 1831 3584 \nQ 2591 3584 2966 3190 \nQ 3341 2797 3341 1997 \nz\n\" transform=\"scale(0.015625)\"/>\n       <path id=\"DejaVuSans-6e\" d=\"M 3513 2113 \nL 3513 0 \nL 2938 0 \nL 2938 2094 \nQ 2938 2591 2744 2837 \nQ 2550 3084 2163 3084 \nQ 1697 3084 1428 2787 \nQ 1159 2491 1159 1978 \nL 1159 0 \nL 581 0 \nL 581 3500 \nL 1159 3500 \nL 1159 2956 \nQ 1366 3272 1645 3428 \nQ 1925 3584 2291 3584 \nQ 2894 3584 3203 3211 \nQ 3513 2838 3513 2113 \nz\n\" transform=\"scale(0.015625)\"/>\n      </defs>\n      <use xlink:href=\"#DejaVuSans-74\"/>\n      <use xlink:href=\"#DejaVuSans-72\" x=\"39.208984\"/>\n      <use xlink:href=\"#DejaVuSans-61\" x=\"80.322266\"/>\n      <use xlink:href=\"#DejaVuSans-69\" x=\"141.601562\"/>\n      <use xlink:href=\"#DejaVuSans-6e\" x=\"169.384766\"/>\n     </g>\n    </g>\n   </g>\n  </g>\n </g>\n <defs>\n  <clipPath id=\"p1d926aa5e1\">\n   <rect x=\"50.14375\" y=\"7.2\" width=\"195.3\" height=\"135.9\"/>\n  </clipPath>\n </defs>\n</svg>\n"
          },
          "metadata": {
            "needs_background": "light"
          }
        }
      ]
    },
    {
      "cell_type": "code",
      "source": [
        "net = RNNModelScratch(len(vocab), num_hiddens, d2l.try_gpu(), get_params,\n",
        "                      init_rnn_state, rnn)\n",
        "train_ch8(net, train_iter, vocab, lr, num_epochs, d2l.try_gpu(),\n",
        "          use_random_iter=True)"
      ],
      "metadata": {
        "colab": {
          "base_uri": "https://localhost:8080/",
          "height": 314
        },
        "id": "59X5PXyp6kNd",
        "outputId": "e6d10c3c-fbeb-4bb5-f2b0-548f6fef0637"
      },
      "execution_count": 72,
      "outputs": [
        {
          "output_type": "stream",
          "name": "stdout",
          "text": [
            "perplexity 1.5, 18284.1 tokens/sec on cpu\n",
            "time travellerit s against reason said filbywhat be model of whi\n",
            "travellerit s against reason said filbywhat be moceldit cem\n"
          ]
        },
        {
          "output_type": "display_data",
          "data": {
            "text/plain": [
              "<Figure size 252x180 with 1 Axes>"
            ],
            "image/svg+xml": "<?xml version=\"1.0\" encoding=\"utf-8\" standalone=\"no\"?>\n<!DOCTYPE svg PUBLIC \"-//W3C//DTD SVG 1.1//EN\"\n  \"http://www.w3.org/Graphics/SVG/1.1/DTD/svg11.dtd\">\n<svg xmlns:xlink=\"http://www.w3.org/1999/xlink\" width=\"262.1875pt\" height=\"180.65625pt\" viewBox=\"0 0 262.1875 180.65625\" xmlns=\"http://www.w3.org/2000/svg\" version=\"1.1\">\n <metadata>\n  <rdf:RDF xmlns:dc=\"http://purl.org/dc/elements/1.1/\" xmlns:cc=\"http://creativecommons.org/ns#\" xmlns:rdf=\"http://www.w3.org/1999/02/22-rdf-syntax-ns#\">\n   <cc:Work>\n    <dc:type rdf:resource=\"http://purl.org/dc/dcmitype/StillImage\"/>\n    <dc:date>2022-04-30T14:49:16.291366</dc:date>\n    <dc:format>image/svg+xml</dc:format>\n    <dc:creator>\n     <cc:Agent>\n      <dc:title>Matplotlib v3.5.1, https://matplotlib.org/</dc:title>\n     </cc:Agent>\n    </dc:creator>\n   </cc:Work>\n  </rdf:RDF>\n </metadata>\n <defs>\n  <style type=\"text/css\">*{stroke-linejoin: round; stroke-linecap: butt}</style>\n </defs>\n <g id=\"figure_1\">\n  <g id=\"patch_1\">\n   <path d=\"M 0 180.65625 \nL 262.1875 180.65625 \nL 262.1875 0 \nL 0 0 \nL 0 180.65625 \nz\n\" style=\"fill: none\"/>\n  </g>\n  <g id=\"axes_1\">\n   <g id=\"patch_2\">\n    <path d=\"M 50.14375 143.1 \nL 245.44375 143.1 \nL 245.44375 7.2 \nL 50.14375 7.2 \nz\n\" style=\"fill: #ffffff\"/>\n   </g>\n   <g id=\"matplotlib.axis_1\">\n    <g id=\"xtick_1\">\n     <g id=\"line2d_1\">\n      <path d=\"M 86.015179 143.1 \nL 86.015179 7.2 \n\" clip-path=\"url(#p79db871aff)\" style=\"fill: none; stroke: #b0b0b0; stroke-width: 0.8; stroke-linecap: square\"/>\n     </g>\n     <g id=\"line2d_2\">\n      <defs>\n       <path id=\"m0a52343087\" d=\"M 0 0 \nL 0 3.5 \n\" style=\"stroke: #000000; stroke-width: 0.8\"/>\n      </defs>\n      <g>\n       <use xlink:href=\"#m0a52343087\" x=\"86.015179\" y=\"143.1\" style=\"stroke: #000000; stroke-width: 0.8\"/>\n      </g>\n     </g>\n     <g id=\"text_1\">\n      <!-- 100 -->\n      <g transform=\"translate(76.471429 157.698438)scale(0.1 -0.1)\">\n       <defs>\n        <path id=\"DejaVuSans-31\" d=\"M 794 531 \nL 1825 531 \nL 1825 4091 \nL 703 3866 \nL 703 4441 \nL 1819 4666 \nL 2450 4666 \nL 2450 531 \nL 3481 531 \nL 3481 0 \nL 794 0 \nL 794 531 \nz\n\" transform=\"scale(0.015625)\"/>\n        <path id=\"DejaVuSans-30\" d=\"M 2034 4250 \nQ 1547 4250 1301 3770 \nQ 1056 3291 1056 2328 \nQ 1056 1369 1301 889 \nQ 1547 409 2034 409 \nQ 2525 409 2770 889 \nQ 3016 1369 3016 2328 \nQ 3016 3291 2770 3770 \nQ 2525 4250 2034 4250 \nz\nM 2034 4750 \nQ 2819 4750 3233 4129 \nQ 3647 3509 3647 2328 \nQ 3647 1150 3233 529 \nQ 2819 -91 2034 -91 \nQ 1250 -91 836 529 \nQ 422 1150 422 2328 \nQ 422 3509 836 4129 \nQ 1250 4750 2034 4750 \nz\n\" transform=\"scale(0.015625)\"/>\n       </defs>\n       <use xlink:href=\"#DejaVuSans-31\"/>\n       <use xlink:href=\"#DejaVuSans-30\" x=\"63.623047\"/>\n       <use xlink:href=\"#DejaVuSans-30\" x=\"127.246094\"/>\n      </g>\n     </g>\n    </g>\n    <g id=\"xtick_2\">\n     <g id=\"line2d_3\">\n      <path d=\"M 125.872321 143.1 \nL 125.872321 7.2 \n\" clip-path=\"url(#p79db871aff)\" style=\"fill: none; stroke: #b0b0b0; stroke-width: 0.8; stroke-linecap: square\"/>\n     </g>\n     <g id=\"line2d_4\">\n      <g>\n       <use xlink:href=\"#m0a52343087\" x=\"125.872321\" y=\"143.1\" style=\"stroke: #000000; stroke-width: 0.8\"/>\n      </g>\n     </g>\n     <g id=\"text_2\">\n      <!-- 200 -->\n      <g transform=\"translate(116.328571 157.698438)scale(0.1 -0.1)\">\n       <defs>\n        <path id=\"DejaVuSans-32\" d=\"M 1228 531 \nL 3431 531 \nL 3431 0 \nL 469 0 \nL 469 531 \nQ 828 903 1448 1529 \nQ 2069 2156 2228 2338 \nQ 2531 2678 2651 2914 \nQ 2772 3150 2772 3378 \nQ 2772 3750 2511 3984 \nQ 2250 4219 1831 4219 \nQ 1534 4219 1204 4116 \nQ 875 4013 500 3803 \nL 500 4441 \nQ 881 4594 1212 4672 \nQ 1544 4750 1819 4750 \nQ 2544 4750 2975 4387 \nQ 3406 4025 3406 3419 \nQ 3406 3131 3298 2873 \nQ 3191 2616 2906 2266 \nQ 2828 2175 2409 1742 \nQ 1991 1309 1228 531 \nz\n\" transform=\"scale(0.015625)\"/>\n       </defs>\n       <use xlink:href=\"#DejaVuSans-32\"/>\n       <use xlink:href=\"#DejaVuSans-30\" x=\"63.623047\"/>\n       <use xlink:href=\"#DejaVuSans-30\" x=\"127.246094\"/>\n      </g>\n     </g>\n    </g>\n    <g id=\"xtick_3\">\n     <g id=\"line2d_5\">\n      <path d=\"M 165.729464 143.1 \nL 165.729464 7.2 \n\" clip-path=\"url(#p79db871aff)\" style=\"fill: none; stroke: #b0b0b0; stroke-width: 0.8; stroke-linecap: square\"/>\n     </g>\n     <g id=\"line2d_6\">\n      <g>\n       <use xlink:href=\"#m0a52343087\" x=\"165.729464\" y=\"143.1\" style=\"stroke: #000000; stroke-width: 0.8\"/>\n      </g>\n     </g>\n     <g id=\"text_3\">\n      <!-- 300 -->\n      <g transform=\"translate(156.185714 157.698438)scale(0.1 -0.1)\">\n       <defs>\n        <path id=\"DejaVuSans-33\" d=\"M 2597 2516 \nQ 3050 2419 3304 2112 \nQ 3559 1806 3559 1356 \nQ 3559 666 3084 287 \nQ 2609 -91 1734 -91 \nQ 1441 -91 1130 -33 \nQ 819 25 488 141 \nL 488 750 \nQ 750 597 1062 519 \nQ 1375 441 1716 441 \nQ 2309 441 2620 675 \nQ 2931 909 2931 1356 \nQ 2931 1769 2642 2001 \nQ 2353 2234 1838 2234 \nL 1294 2234 \nL 1294 2753 \nL 1863 2753 \nQ 2328 2753 2575 2939 \nQ 2822 3125 2822 3475 \nQ 2822 3834 2567 4026 \nQ 2313 4219 1838 4219 \nQ 1578 4219 1281 4162 \nQ 984 4106 628 3988 \nL 628 4550 \nQ 988 4650 1302 4700 \nQ 1616 4750 1894 4750 \nQ 2613 4750 3031 4423 \nQ 3450 4097 3450 3541 \nQ 3450 3153 3228 2886 \nQ 3006 2619 2597 2516 \nz\n\" transform=\"scale(0.015625)\"/>\n       </defs>\n       <use xlink:href=\"#DejaVuSans-33\"/>\n       <use xlink:href=\"#DejaVuSans-30\" x=\"63.623047\"/>\n       <use xlink:href=\"#DejaVuSans-30\" x=\"127.246094\"/>\n      </g>\n     </g>\n    </g>\n    <g id=\"xtick_4\">\n     <g id=\"line2d_7\">\n      <path d=\"M 205.586607 143.1 \nL 205.586607 7.2 \n\" clip-path=\"url(#p79db871aff)\" style=\"fill: none; stroke: #b0b0b0; stroke-width: 0.8; stroke-linecap: square\"/>\n     </g>\n     <g id=\"line2d_8\">\n      <g>\n       <use xlink:href=\"#m0a52343087\" x=\"205.586607\" y=\"143.1\" style=\"stroke: #000000; stroke-width: 0.8\"/>\n      </g>\n     </g>\n     <g id=\"text_4\">\n      <!-- 400 -->\n      <g transform=\"translate(196.042857 157.698438)scale(0.1 -0.1)\">\n       <defs>\n        <path id=\"DejaVuSans-34\" d=\"M 2419 4116 \nL 825 1625 \nL 2419 1625 \nL 2419 4116 \nz\nM 2253 4666 \nL 3047 4666 \nL 3047 1625 \nL 3713 1625 \nL 3713 1100 \nL 3047 1100 \nL 3047 0 \nL 2419 0 \nL 2419 1100 \nL 313 1100 \nL 313 1709 \nL 2253 4666 \nz\n\" transform=\"scale(0.015625)\"/>\n       </defs>\n       <use xlink:href=\"#DejaVuSans-34\"/>\n       <use xlink:href=\"#DejaVuSans-30\" x=\"63.623047\"/>\n       <use xlink:href=\"#DejaVuSans-30\" x=\"127.246094\"/>\n      </g>\n     </g>\n    </g>\n    <g id=\"xtick_5\">\n     <g id=\"line2d_9\">\n      <path d=\"M 245.44375 143.1 \nL 245.44375 7.2 \n\" clip-path=\"url(#p79db871aff)\" style=\"fill: none; stroke: #b0b0b0; stroke-width: 0.8; stroke-linecap: square\"/>\n     </g>\n     <g id=\"line2d_10\">\n      <g>\n       <use xlink:href=\"#m0a52343087\" x=\"245.44375\" y=\"143.1\" style=\"stroke: #000000; stroke-width: 0.8\"/>\n      </g>\n     </g>\n     <g id=\"text_5\">\n      <!-- 500 -->\n      <g transform=\"translate(235.9 157.698438)scale(0.1 -0.1)\">\n       <defs>\n        <path id=\"DejaVuSans-35\" d=\"M 691 4666 \nL 3169 4666 \nL 3169 4134 \nL 1269 4134 \nL 1269 2991 \nQ 1406 3038 1543 3061 \nQ 1681 3084 1819 3084 \nQ 2600 3084 3056 2656 \nQ 3513 2228 3513 1497 \nQ 3513 744 3044 326 \nQ 2575 -91 1722 -91 \nQ 1428 -91 1123 -41 \nQ 819 9 494 109 \nL 494 744 \nQ 775 591 1075 516 \nQ 1375 441 1709 441 \nQ 2250 441 2565 725 \nQ 2881 1009 2881 1497 \nQ 2881 1984 2565 2268 \nQ 2250 2553 1709 2553 \nQ 1456 2553 1204 2497 \nQ 953 2441 691 2322 \nL 691 4666 \nz\n\" transform=\"scale(0.015625)\"/>\n       </defs>\n       <use xlink:href=\"#DejaVuSans-35\"/>\n       <use xlink:href=\"#DejaVuSans-30\" x=\"63.623047\"/>\n       <use xlink:href=\"#DejaVuSans-30\" x=\"127.246094\"/>\n      </g>\n     </g>\n    </g>\n    <g id=\"text_6\">\n     <!-- epoch -->\n     <g transform=\"translate(132.565625 171.376563)scale(0.1 -0.1)\">\n      <defs>\n       <path id=\"DejaVuSans-65\" d=\"M 3597 1894 \nL 3597 1613 \nL 953 1613 \nQ 991 1019 1311 708 \nQ 1631 397 2203 397 \nQ 2534 397 2845 478 \nQ 3156 559 3463 722 \nL 3463 178 \nQ 3153 47 2828 -22 \nQ 2503 -91 2169 -91 \nQ 1331 -91 842 396 \nQ 353 884 353 1716 \nQ 353 2575 817 3079 \nQ 1281 3584 2069 3584 \nQ 2775 3584 3186 3129 \nQ 3597 2675 3597 1894 \nz\nM 3022 2063 \nQ 3016 2534 2758 2815 \nQ 2500 3097 2075 3097 \nQ 1594 3097 1305 2825 \nQ 1016 2553 972 2059 \nL 3022 2063 \nz\n\" transform=\"scale(0.015625)\"/>\n       <path id=\"DejaVuSans-70\" d=\"M 1159 525 \nL 1159 -1331 \nL 581 -1331 \nL 581 3500 \nL 1159 3500 \nL 1159 2969 \nQ 1341 3281 1617 3432 \nQ 1894 3584 2278 3584 \nQ 2916 3584 3314 3078 \nQ 3713 2572 3713 1747 \nQ 3713 922 3314 415 \nQ 2916 -91 2278 -91 \nQ 1894 -91 1617 61 \nQ 1341 213 1159 525 \nz\nM 3116 1747 \nQ 3116 2381 2855 2742 \nQ 2594 3103 2138 3103 \nQ 1681 3103 1420 2742 \nQ 1159 2381 1159 1747 \nQ 1159 1113 1420 752 \nQ 1681 391 2138 391 \nQ 2594 391 2855 752 \nQ 3116 1113 3116 1747 \nz\n\" transform=\"scale(0.015625)\"/>\n       <path id=\"DejaVuSans-6f\" d=\"M 1959 3097 \nQ 1497 3097 1228 2736 \nQ 959 2375 959 1747 \nQ 959 1119 1226 758 \nQ 1494 397 1959 397 \nQ 2419 397 2687 759 \nQ 2956 1122 2956 1747 \nQ 2956 2369 2687 2733 \nQ 2419 3097 1959 3097 \nz\nM 1959 3584 \nQ 2709 3584 3137 3096 \nQ 3566 2609 3566 1747 \nQ 3566 888 3137 398 \nQ 2709 -91 1959 -91 \nQ 1206 -91 779 398 \nQ 353 888 353 1747 \nQ 353 2609 779 3096 \nQ 1206 3584 1959 3584 \nz\n\" transform=\"scale(0.015625)\"/>\n       <path id=\"DejaVuSans-63\" d=\"M 3122 3366 \nL 3122 2828 \nQ 2878 2963 2633 3030 \nQ 2388 3097 2138 3097 \nQ 1578 3097 1268 2742 \nQ 959 2388 959 1747 \nQ 959 1106 1268 751 \nQ 1578 397 2138 397 \nQ 2388 397 2633 464 \nQ 2878 531 3122 666 \nL 3122 134 \nQ 2881 22 2623 -34 \nQ 2366 -91 2075 -91 \nQ 1284 -91 818 406 \nQ 353 903 353 1747 \nQ 353 2603 823 3093 \nQ 1294 3584 2113 3584 \nQ 2378 3584 2631 3529 \nQ 2884 3475 3122 3366 \nz\n\" transform=\"scale(0.015625)\"/>\n       <path id=\"DejaVuSans-68\" d=\"M 3513 2113 \nL 3513 0 \nL 2938 0 \nL 2938 2094 \nQ 2938 2591 2744 2837 \nQ 2550 3084 2163 3084 \nQ 1697 3084 1428 2787 \nQ 1159 2491 1159 1978 \nL 1159 0 \nL 581 0 \nL 581 4863 \nL 1159 4863 \nL 1159 2956 \nQ 1366 3272 1645 3428 \nQ 1925 3584 2291 3584 \nQ 2894 3584 3203 3211 \nQ 3513 2838 3513 2113 \nz\n\" transform=\"scale(0.015625)\"/>\n      </defs>\n      <use xlink:href=\"#DejaVuSans-65\"/>\n      <use xlink:href=\"#DejaVuSans-70\" x=\"61.523438\"/>\n      <use xlink:href=\"#DejaVuSans-6f\" x=\"125\"/>\n      <use xlink:href=\"#DejaVuSans-63\" x=\"186.181641\"/>\n      <use xlink:href=\"#DejaVuSans-68\" x=\"241.162109\"/>\n     </g>\n    </g>\n   </g>\n   <g id=\"matplotlib.axis_2\">\n    <g id=\"ytick_1\">\n     <g id=\"line2d_11\">\n      <path d=\"M 50.14375 125.445197 \nL 245.44375 125.445197 \n\" clip-path=\"url(#p79db871aff)\" style=\"fill: none; stroke: #b0b0b0; stroke-width: 0.8; stroke-linecap: square\"/>\n     </g>\n     <g id=\"line2d_12\">\n      <defs>\n       <path id=\"m9064c2162b\" d=\"M 0 0 \nL -3.5 0 \n\" style=\"stroke: #000000; stroke-width: 0.8\"/>\n      </defs>\n      <g>\n       <use xlink:href=\"#m9064c2162b\" x=\"50.14375\" y=\"125.445197\" style=\"stroke: #000000; stroke-width: 0.8\"/>\n      </g>\n     </g>\n     <g id=\"text_7\">\n      <!-- 2.5 -->\n      <g transform=\"translate(27.240625 129.244416)scale(0.1 -0.1)\">\n       <defs>\n        <path id=\"DejaVuSans-2e\" d=\"M 684 794 \nL 1344 794 \nL 1344 0 \nL 684 0 \nL 684 794 \nz\n\" transform=\"scale(0.015625)\"/>\n       </defs>\n       <use xlink:href=\"#DejaVuSans-32\"/>\n       <use xlink:href=\"#DejaVuSans-2e\" x=\"63.623047\"/>\n       <use xlink:href=\"#DejaVuSans-35\" x=\"95.410156\"/>\n      </g>\n     </g>\n    </g>\n    <g id=\"ytick_2\">\n     <g id=\"line2d_13\">\n      <path d=\"M 50.14375 100.32671 \nL 245.44375 100.32671 \n\" clip-path=\"url(#p79db871aff)\" style=\"fill: none; stroke: #b0b0b0; stroke-width: 0.8; stroke-linecap: square\"/>\n     </g>\n     <g id=\"line2d_14\">\n      <g>\n       <use xlink:href=\"#m9064c2162b\" x=\"50.14375\" y=\"100.32671\" style=\"stroke: #000000; stroke-width: 0.8\"/>\n      </g>\n     </g>\n     <g id=\"text_8\">\n      <!-- 5.0 -->\n      <g transform=\"translate(27.240625 104.125929)scale(0.1 -0.1)\">\n       <use xlink:href=\"#DejaVuSans-35\"/>\n       <use xlink:href=\"#DejaVuSans-2e\" x=\"63.623047\"/>\n       <use xlink:href=\"#DejaVuSans-30\" x=\"95.410156\"/>\n      </g>\n     </g>\n    </g>\n    <g id=\"ytick_3\">\n     <g id=\"line2d_15\">\n      <path d=\"M 50.14375 75.208224 \nL 245.44375 75.208224 \n\" clip-path=\"url(#p79db871aff)\" style=\"fill: none; stroke: #b0b0b0; stroke-width: 0.8; stroke-linecap: square\"/>\n     </g>\n     <g id=\"line2d_16\">\n      <g>\n       <use xlink:href=\"#m9064c2162b\" x=\"50.14375\" y=\"75.208224\" style=\"stroke: #000000; stroke-width: 0.8\"/>\n      </g>\n     </g>\n     <g id=\"text_9\">\n      <!-- 7.5 -->\n      <g transform=\"translate(27.240625 79.007442)scale(0.1 -0.1)\">\n       <defs>\n        <path id=\"DejaVuSans-37\" d=\"M 525 4666 \nL 3525 4666 \nL 3525 4397 \nL 1831 0 \nL 1172 0 \nL 2766 4134 \nL 525 4134 \nL 525 4666 \nz\n\" transform=\"scale(0.015625)\"/>\n       </defs>\n       <use xlink:href=\"#DejaVuSans-37\"/>\n       <use xlink:href=\"#DejaVuSans-2e\" x=\"63.623047\"/>\n       <use xlink:href=\"#DejaVuSans-35\" x=\"95.410156\"/>\n      </g>\n     </g>\n    </g>\n    <g id=\"ytick_4\">\n     <g id=\"line2d_17\">\n      <path d=\"M 50.14375 50.089737 \nL 245.44375 50.089737 \n\" clip-path=\"url(#p79db871aff)\" style=\"fill: none; stroke: #b0b0b0; stroke-width: 0.8; stroke-linecap: square\"/>\n     </g>\n     <g id=\"line2d_18\">\n      <g>\n       <use xlink:href=\"#m9064c2162b\" x=\"50.14375\" y=\"50.089737\" style=\"stroke: #000000; stroke-width: 0.8\"/>\n      </g>\n     </g>\n     <g id=\"text_10\">\n      <!-- 10.0 -->\n      <g transform=\"translate(20.878125 53.888955)scale(0.1 -0.1)\">\n       <use xlink:href=\"#DejaVuSans-31\"/>\n       <use xlink:href=\"#DejaVuSans-30\" x=\"63.623047\"/>\n       <use xlink:href=\"#DejaVuSans-2e\" x=\"127.246094\"/>\n       <use xlink:href=\"#DejaVuSans-30\" x=\"159.033203\"/>\n      </g>\n     </g>\n    </g>\n    <g id=\"ytick_5\">\n     <g id=\"line2d_19\">\n      <path d=\"M 50.14375 24.97125 \nL 245.44375 24.97125 \n\" clip-path=\"url(#p79db871aff)\" style=\"fill: none; stroke: #b0b0b0; stroke-width: 0.8; stroke-linecap: square\"/>\n     </g>\n     <g id=\"line2d_20\">\n      <g>\n       <use xlink:href=\"#m9064c2162b\" x=\"50.14375\" y=\"24.97125\" style=\"stroke: #000000; stroke-width: 0.8\"/>\n      </g>\n     </g>\n     <g id=\"text_11\">\n      <!-- 12.5 -->\n      <g transform=\"translate(20.878125 28.770468)scale(0.1 -0.1)\">\n       <use xlink:href=\"#DejaVuSans-31\"/>\n       <use xlink:href=\"#DejaVuSans-32\" x=\"63.623047\"/>\n       <use xlink:href=\"#DejaVuSans-2e\" x=\"127.246094\"/>\n       <use xlink:href=\"#DejaVuSans-35\" x=\"159.033203\"/>\n      </g>\n     </g>\n    </g>\n    <g id=\"text_12\">\n     <!-- perplexity -->\n     <g transform=\"translate(14.798437 100.276562)rotate(-90)scale(0.1 -0.1)\">\n      <defs>\n       <path id=\"DejaVuSans-72\" d=\"M 2631 2963 \nQ 2534 3019 2420 3045 \nQ 2306 3072 2169 3072 \nQ 1681 3072 1420 2755 \nQ 1159 2438 1159 1844 \nL 1159 0 \nL 581 0 \nL 581 3500 \nL 1159 3500 \nL 1159 2956 \nQ 1341 3275 1631 3429 \nQ 1922 3584 2338 3584 \nQ 2397 3584 2469 3576 \nQ 2541 3569 2628 3553 \nL 2631 2963 \nz\n\" transform=\"scale(0.015625)\"/>\n       <path id=\"DejaVuSans-6c\" d=\"M 603 4863 \nL 1178 4863 \nL 1178 0 \nL 603 0 \nL 603 4863 \nz\n\" transform=\"scale(0.015625)\"/>\n       <path id=\"DejaVuSans-78\" d=\"M 3513 3500 \nL 2247 1797 \nL 3578 0 \nL 2900 0 \nL 1881 1375 \nL 863 0 \nL 184 0 \nL 1544 1831 \nL 300 3500 \nL 978 3500 \nL 1906 2253 \nL 2834 3500 \nL 3513 3500 \nz\n\" transform=\"scale(0.015625)\"/>\n       <path id=\"DejaVuSans-69\" d=\"M 603 3500 \nL 1178 3500 \nL 1178 0 \nL 603 0 \nL 603 3500 \nz\nM 603 4863 \nL 1178 4863 \nL 1178 4134 \nL 603 4134 \nL 603 4863 \nz\n\" transform=\"scale(0.015625)\"/>\n       <path id=\"DejaVuSans-74\" d=\"M 1172 4494 \nL 1172 3500 \nL 2356 3500 \nL 2356 3053 \nL 1172 3053 \nL 1172 1153 \nQ 1172 725 1289 603 \nQ 1406 481 1766 481 \nL 2356 481 \nL 2356 0 \nL 1766 0 \nQ 1100 0 847 248 \nQ 594 497 594 1153 \nL 594 3053 \nL 172 3053 \nL 172 3500 \nL 594 3500 \nL 594 4494 \nL 1172 4494 \nz\n\" transform=\"scale(0.015625)\"/>\n       <path id=\"DejaVuSans-79\" d=\"M 2059 -325 \nQ 1816 -950 1584 -1140 \nQ 1353 -1331 966 -1331 \nL 506 -1331 \nL 506 -850 \nL 844 -850 \nQ 1081 -850 1212 -737 \nQ 1344 -625 1503 -206 \nL 1606 56 \nL 191 3500 \nL 800 3500 \nL 1894 763 \nL 2988 3500 \nL 3597 3500 \nL 2059 -325 \nz\n\" transform=\"scale(0.015625)\"/>\n      </defs>\n      <use xlink:href=\"#DejaVuSans-70\"/>\n      <use xlink:href=\"#DejaVuSans-65\" x=\"63.476562\"/>\n      <use xlink:href=\"#DejaVuSans-72\" x=\"125\"/>\n      <use xlink:href=\"#DejaVuSans-70\" x=\"166.113281\"/>\n      <use xlink:href=\"#DejaVuSans-6c\" x=\"229.589844\"/>\n      <use xlink:href=\"#DejaVuSans-65\" x=\"257.373047\"/>\n      <use xlink:href=\"#DejaVuSans-78\" x=\"317.146484\"/>\n      <use xlink:href=\"#DejaVuSans-69\" x=\"376.326172\"/>\n      <use xlink:href=\"#DejaVuSans-74\" x=\"404.109375\"/>\n      <use xlink:href=\"#DejaVuSans-79\" x=\"443.318359\"/>\n     </g>\n    </g>\n   </g>\n   <g id=\"line2d_21\">\n    <path d=\"M 50.14375 13.377273 \nL 54.129464 43.163032 \nL 58.115179 52.908194 \nL 62.100893 60.066043 \nL 66.086607 63.015132 \nL 70.072321 66.527338 \nL 74.058036 67.317669 \nL 78.04375 70.855356 \nL 82.029464 72.25034 \nL 86.015179 73.531224 \nL 90.000893 76.245031 \nL 93.986607 77.645621 \nL 97.972321 79.817431 \nL 101.958036 83.473925 \nL 105.94375 85.872319 \nL 109.929464 88.365002 \nL 113.915179 92.71173 \nL 117.900893 96.636968 \nL 121.886607 100.542553 \nL 125.872321 107.527193 \nL 129.858036 113.531189 \nL 133.84375 117.873146 \nL 137.829464 119.117441 \nL 141.815179 123.390994 \nL 145.800893 125.082302 \nL 149.786607 127.720855 \nL 153.772321 128.309494 \nL 157.758036 130.182321 \nL 161.74375 130.390577 \nL 165.729464 131.743692 \nL 169.715179 131.65807 \nL 173.700893 132.652435 \nL 177.686607 133.018875 \nL 181.672321 132.927475 \nL 185.658036 133.347538 \nL 189.64375 133.470458 \nL 193.629464 133.40243 \nL 197.615179 136.234129 \nL 201.600893 135.268641 \nL 205.586607 135.657161 \nL 209.572321 133.62978 \nL 213.558036 133.673944 \nL 217.54375 134.679272 \nL 221.529464 136.922727 \nL 225.515179 135.668419 \nL 229.500893 136.335039 \nL 233.486607 135.596214 \nL 237.472321 136.790131 \nL 241.458036 135.640915 \nL 245.44375 135.445115 \n\" clip-path=\"url(#p79db871aff)\" style=\"fill: none; stroke: #1f77b4; stroke-width: 1.5; stroke-linecap: square\"/>\n   </g>\n   <g id=\"patch_3\">\n    <path d=\"M 50.14375 143.1 \nL 50.14375 7.2 \n\" style=\"fill: none; stroke: #000000; stroke-width: 0.8; stroke-linejoin: miter; stroke-linecap: square\"/>\n   </g>\n   <g id=\"patch_4\">\n    <path d=\"M 245.44375 143.1 \nL 245.44375 7.2 \n\" style=\"fill: none; stroke: #000000; stroke-width: 0.8; stroke-linejoin: miter; stroke-linecap: square\"/>\n   </g>\n   <g id=\"patch_5\">\n    <path d=\"M 50.14375 143.1 \nL 245.44375 143.1 \n\" style=\"fill: none; stroke: #000000; stroke-width: 0.8; stroke-linejoin: miter; stroke-linecap: square\"/>\n   </g>\n   <g id=\"patch_6\">\n    <path d=\"M 50.14375 7.2 \nL 245.44375 7.2 \n\" style=\"fill: none; stroke: #000000; stroke-width: 0.8; stroke-linejoin: miter; stroke-linecap: square\"/>\n   </g>\n   <g id=\"legend_1\">\n    <g id=\"patch_7\">\n     <path d=\"M 183.16875 29.878125 \nL 238.44375 29.878125 \nQ 240.44375 29.878125 240.44375 27.878125 \nL 240.44375 14.2 \nQ 240.44375 12.2 238.44375 12.2 \nL 183.16875 12.2 \nQ 181.16875 12.2 181.16875 14.2 \nL 181.16875 27.878125 \nQ 181.16875 29.878125 183.16875 29.878125 \nz\n\" style=\"fill: #ffffff; opacity: 0.8; stroke: #cccccc; stroke-linejoin: miter\"/>\n    </g>\n    <g id=\"line2d_22\">\n     <path d=\"M 185.16875 20.298437 \nL 195.16875 20.298437 \nL 205.16875 20.298437 \n\" style=\"fill: none; stroke: #1f77b4; stroke-width: 1.5; stroke-linecap: square\"/>\n    </g>\n    <g id=\"text_13\">\n     <!-- train -->\n     <g transform=\"translate(213.16875 23.798437)scale(0.1 -0.1)\">\n      <defs>\n       <path id=\"DejaVuSans-61\" d=\"M 2194 1759 \nQ 1497 1759 1228 1600 \nQ 959 1441 959 1056 \nQ 959 750 1161 570 \nQ 1363 391 1709 391 \nQ 2188 391 2477 730 \nQ 2766 1069 2766 1631 \nL 2766 1759 \nL 2194 1759 \nz\nM 3341 1997 \nL 3341 0 \nL 2766 0 \nL 2766 531 \nQ 2569 213 2275 61 \nQ 1981 -91 1556 -91 \nQ 1019 -91 701 211 \nQ 384 513 384 1019 \nQ 384 1609 779 1909 \nQ 1175 2209 1959 2209 \nL 2766 2209 \nL 2766 2266 \nQ 2766 2663 2505 2880 \nQ 2244 3097 1772 3097 \nQ 1472 3097 1187 3025 \nQ 903 2953 641 2809 \nL 641 3341 \nQ 956 3463 1253 3523 \nQ 1550 3584 1831 3584 \nQ 2591 3584 2966 3190 \nQ 3341 2797 3341 1997 \nz\n\" transform=\"scale(0.015625)\"/>\n       <path id=\"DejaVuSans-6e\" d=\"M 3513 2113 \nL 3513 0 \nL 2938 0 \nL 2938 2094 \nQ 2938 2591 2744 2837 \nQ 2550 3084 2163 3084 \nQ 1697 3084 1428 2787 \nQ 1159 2491 1159 1978 \nL 1159 0 \nL 581 0 \nL 581 3500 \nL 1159 3500 \nL 1159 2956 \nQ 1366 3272 1645 3428 \nQ 1925 3584 2291 3584 \nQ 2894 3584 3203 3211 \nQ 3513 2838 3513 2113 \nz\n\" transform=\"scale(0.015625)\"/>\n      </defs>\n      <use xlink:href=\"#DejaVuSans-74\"/>\n      <use xlink:href=\"#DejaVuSans-72\" x=\"39.208984\"/>\n      <use xlink:href=\"#DejaVuSans-61\" x=\"80.322266\"/>\n      <use xlink:href=\"#DejaVuSans-69\" x=\"141.601562\"/>\n      <use xlink:href=\"#DejaVuSans-6e\" x=\"169.384766\"/>\n     </g>\n    </g>\n   </g>\n  </g>\n </g>\n <defs>\n  <clipPath id=\"p79db871aff\">\n   <rect x=\"50.14375\" y=\"7.2\" width=\"195.3\" height=\"135.9\"/>\n  </clipPath>\n </defs>\n</svg>\n"
          },
          "metadata": {
            "needs_background": "light"
          }
        }
      ]
    },
    {
      "cell_type": "markdown",
      "source": [
        "# 8.6. Concise Implementation of Recurrent Neural Networks"
      ],
      "metadata": {
        "id": "JIrv8v2j69hN"
      }
    },
    {
      "cell_type": "code",
      "source": [
        "batch_size, num_steps = 32, 35\n",
        "train_iter, vocab = d2l.load_data_time_machine(batch_size, num_steps)"
      ],
      "metadata": {
        "id": "vyq_jNPs63GQ"
      },
      "execution_count": 73,
      "outputs": []
    },
    {
      "cell_type": "markdown",
      "source": [
        "## 8.6.1. Defining the Model"
      ],
      "metadata": {
        "id": "BqkZLm_17D1y"
      }
    },
    {
      "cell_type": "code",
      "source": [
        "num_hiddens = 256\n",
        "rnn_layer = nn.RNN(len(vocab), num_hiddens)"
      ],
      "metadata": {
        "id": "RvMiz6zh7BkO"
      },
      "execution_count": 74,
      "outputs": []
    },
    {
      "cell_type": "code",
      "source": [
        "state = torch.zeros((1, batch_size, num_hiddens))\n",
        "state.shape"
      ],
      "metadata": {
        "colab": {
          "base_uri": "https://localhost:8080/"
        },
        "id": "Ske2evhC7Gnx",
        "outputId": "20a96315-1117-4b3e-c087-81532d460ff5"
      },
      "execution_count": 75,
      "outputs": [
        {
          "output_type": "execute_result",
          "data": {
            "text/plain": [
              "torch.Size([1, 32, 256])"
            ]
          },
          "metadata": {},
          "execution_count": 75
        }
      ]
    },
    {
      "cell_type": "code",
      "source": [
        "X = torch.rand(size=(num_steps, batch_size, len(vocab)))\n",
        "Y, state_new = rnn_layer(X, state)\n",
        "Y.shape, state_new.shape"
      ],
      "metadata": {
        "colab": {
          "base_uri": "https://localhost:8080/"
        },
        "id": "ma91eqdI7IIf",
        "outputId": "9357e7fa-2dbf-4460-f954-38c3eafc1549"
      },
      "execution_count": 76,
      "outputs": [
        {
          "output_type": "execute_result",
          "data": {
            "text/plain": [
              "(torch.Size([35, 32, 256]), torch.Size([1, 32, 256]))"
            ]
          },
          "metadata": {},
          "execution_count": 76
        }
      ]
    },
    {
      "cell_type": "code",
      "source": [
        "class RNNModel(nn.Module):\n",
        "    \"\"\"The RNN model.\"\"\"\n",
        "    def __init__(self, rnn_layer, vocab_size, **kwargs):\n",
        "        super(RNNModel, self).__init__(**kwargs)\n",
        "        self.rnn = rnn_layer\n",
        "        self.vocab_size = vocab_size\n",
        "        self.num_hiddens = self.rnn.hidden_size\n",
        "        # If the RNN is bidirectional (to be introduced later),\n",
        "        # `num_directions` should be 2, else it should be 1.\n",
        "        if not self.rnn.bidirectional:\n",
        "            self.num_directions = 1\n",
        "            self.linear = nn.Linear(self.num_hiddens, self.vocab_size)\n",
        "        else:\n",
        "            self.num_directions = 2\n",
        "            self.linear = nn.Linear(self.num_hiddens * 2, self.vocab_size)\n",
        "\n",
        "    def forward(self, inputs, state):\n",
        "        X = F.one_hot(inputs.T.long(), self.vocab_size)\n",
        "        X = X.to(torch.float32)\n",
        "        Y, state = self.rnn(X, state)\n",
        "        # The fully connected layer will first change the shape of `Y` to\n",
        "        # (`num_steps` * `batch_size`, `num_hiddens`). Its output shape is\n",
        "        # (`num_steps` * `batch_size`, `vocab_size`).\n",
        "        output = self.linear(Y.reshape((-1, Y.shape[-1])))\n",
        "        return output, state\n",
        "\n",
        "    def begin_state(self, device, batch_size=1):\n",
        "        if not isinstance(self.rnn, nn.LSTM):\n",
        "            # `nn.GRU` takes a tensor as hidden state\n",
        "            return  torch.zeros((self.num_directions * self.rnn.num_layers,\n",
        "                                 batch_size, self.num_hiddens),\n",
        "                                device=device)\n",
        "        else:\n",
        "            # `nn.LSTM` takes a tuple of hidden states\n",
        "            return (torch.zeros((\n",
        "                self.num_directions * self.rnn.num_layers,\n",
        "                batch_size, self.num_hiddens), device=device),\n",
        "                    torch.zeros((\n",
        "                        self.num_directions * self.rnn.num_layers,\n",
        "                        batch_size, self.num_hiddens), device=device))"
      ],
      "metadata": {
        "id": "W64oaJsX7JxU"
      },
      "execution_count": 77,
      "outputs": []
    },
    {
      "cell_type": "markdown",
      "source": [
        "## 8.6.2. Training and Predicting"
      ],
      "metadata": {
        "id": "kwpBR8h07Nd7"
      }
    },
    {
      "cell_type": "code",
      "source": [
        "device = d2l.try_gpu()\n",
        "net = RNNModel(rnn_layer, vocab_size=len(vocab))\n",
        "net = net.to(device)\n",
        "d2l.predict_ch8('time traveller', 10, net, vocab, device)"
      ],
      "metadata": {
        "colab": {
          "base_uri": "https://localhost:8080/",
          "height": 35
        },
        "id": "twqhwgn87LUx",
        "outputId": "ce1c6b13-df85-4602-c2c6-33f3a913273f"
      },
      "execution_count": 78,
      "outputs": [
        {
          "output_type": "execute_result",
          "data": {
            "text/plain": [
              "'time travelleropvooooooo'"
            ],
            "application/vnd.google.colaboratory.intrinsic+json": {
              "type": "string"
            }
          },
          "metadata": {},
          "execution_count": 78
        }
      ]
    }
  ]
}