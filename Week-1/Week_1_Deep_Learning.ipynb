{
  "nbformat": 4,
  "nbformat_minor": 0,
  "metadata": {
    "colab": {
      "name": "Week_1-Deep_Learning.ipynb",
      "provenance": [],
      "authorship_tag": "ABX9TyPp6BSWCWgYIVTgoYOfh/Vc",
      "include_colab_link": true
    },
    "kernelspec": {
      "name": "python3",
      "display_name": "Python 3"
    },
    "language_info": {
      "name": "python"
    }
  },
  "cells": [
    {
      "cell_type": "markdown",
      "metadata": {
        "id": "view-in-github",
        "colab_type": "text"
      },
      "source": [
        "<a href=\"https://colab.research.google.com/github/richardenrico/Pengantar-Deep-Learning/blob/main/Week_1_Deep_Learning.ipynb\" target=\"_parent\"><img src=\"https://colab.research.google.com/assets/colab-badge.svg\" alt=\"Open In Colab\"/></a>"
      ]
    },
    {
      "cell_type": "markdown",
      "source": [
        "**Week 1 - Deep Learning**"
      ],
      "metadata": {
        "id": "_wfG0OAusqTj"
      }
    },
    {
      "cell_type": "markdown",
      "source": [
        "Richard Enrico Sulieanto\n",
        "\n",
        "H071191055"
      ],
      "metadata": {
        "id": "Kw_3eaZfsxbJ"
      }
    },
    {
      "cell_type": "markdown",
      "source": [
        "# Hello, World!"
      ],
      "metadata": {
        "id": "WTxdbyAns6EZ"
      }
    },
    {
      "cell_type": "code",
      "execution_count": null,
      "metadata": {
        "colab": {
          "base_uri": "https://localhost:8080/"
        },
        "id": "1JubudgjsXWj",
        "outputId": "3f478285-6f4e-494c-d526-f4d30e52dca0"
      },
      "outputs": [
        {
          "output_type": "stream",
          "name": "stdout",
          "text": [
            "Hello, World\n"
          ]
        }
      ],
      "source": [
        "print('Hello, World!')"
      ]
    },
    {
      "cell_type": "markdown",
      "source": [
        "# Variable and Data Type"
      ],
      "metadata": {
        "id": "DT_ITEKft2wa"
      }
    },
    {
      "cell_type": "markdown",
      "source": [
        "Variable is a value that can change, depending on conditions or on information passed to the program.\n",
        "\n",
        "Data types are the classification or categorization of data items. It represents the kind of value that tells what operations can be performed on a particular data. Since everything is an object in Python programming, data types are actually classes and variables are instance (object) of these classes."
      ],
      "metadata": {
        "id": "RmyZ7XBiuNUb"
      }
    },
    {
      "cell_type": "code",
      "source": [
        "# Numeric = can be integer, floating number or even complex numbers.\n",
        "a = 5\n",
        "print(\"Type of a: \", type(a))\n",
        "  \n",
        "b = 5.0\n",
        "print(\"\\nType of b: \", type(b))\n",
        "  \n",
        "c = 2 + 4j\n",
        "print(\"\\nType of c: \", type(c))\n",
        "\n",
        "# String = a collection of one or more characters put in a single quote, double-quote or triple quote\n",
        "String1 = 'Welcome to the Ze World'\n",
        "print(\"String with the use of Single Quotes: \") \n",
        "print(String1) \n",
        "\n",
        "# List = just like the arrays, declared in other languages which is a ordered collection of data\n",
        "List = [\"Hello\", \"World\", \"!\"] \n",
        "print(\"\\nList containing multiple values: \") \n",
        "print(List[0])  \n",
        "print(List[2]) \n",
        "\n",
        "# Tuple = just like list but tuples are immutable i.e. tuples cannot be modified after it is created\n",
        "tuples = (1, 2, 4, 5, 6)\n",
        "print(\"\\nTuple : \") \n",
        "print(tuples) \n",
        "\n",
        "# Boolean = data type with one of the two built-in values, True or False\n",
        "print(type(True))\n",
        "print(type(False))\n",
        "\n",
        "# Set =  an unordered collection of data type that is iterable, mutable and has no duplicate elements.\n",
        "set1 = set([1, 2, 'Hello', 4, 'World', 6, '!']) \n",
        "print(\"\\nSet with the use of Mixed Values\") \n",
        "print(set1) \n",
        "\n",
        "# Dictionary = n unordered collection of data values, used to store data values like a map, which \n",
        "# unlike other Data Types that hold only single value as an element, Dictionary holds key:value pair\n",
        "Dict = {'Name': 'Geeks', 1: [1, 2, 3, 4]} \n",
        "print(\"\\nDictionary with the use of Mixed Keys: \") \n",
        "print(Dict) "
      ],
      "metadata": {
        "colab": {
          "base_uri": "https://localhost:8080/"
        },
        "id": "A8RB0JnZtG5E",
        "outputId": "1befb127-1d11-48fe-e5bd-8b55bffda42e"
      },
      "execution_count": null,
      "outputs": [
        {
          "output_type": "stream",
          "name": "stdout",
          "text": [
            "Type of a:  <class 'int'>\n",
            "\n",
            "Type of b:  <class 'float'>\n",
            "\n",
            "Type of c:  <class 'complex'>\n",
            "String with the use of Single Quotes: \n",
            "Welcome to the Ze World\n",
            "\n",
            "List containing multiple values: \n",
            "Hello\n",
            "!\n",
            "\n",
            "Tuple : \n",
            "(1, 2, 4, 5, 6)\n",
            "<class 'bool'>\n",
            "<class 'bool'>\n",
            "\n",
            "Set with the use of Mixed Values\n",
            "{1, 2, 4, 6, 'World', '!', 'Hello'}\n",
            "\n",
            "Dictionary with the use of Mixed Keys: \n",
            "{'Name': 'Geeks', 1: [1, 2, 3, 4]}\n"
          ]
        }
      ]
    },
    {
      "cell_type": "markdown",
      "source": [
        "# Operators"
      ],
      "metadata": {
        "id": "1QEKEaWExhHK"
      }
    },
    {
      "cell_type": "markdown",
      "source": [
        "## Arithmetic Operators"
      ],
      "metadata": {
        "id": "e4K2jrEWx0LA"
      }
    },
    {
      "cell_type": "code",
      "source": [
        "# Examples of Arithmetic Operator\n",
        "a = 9\n",
        "b = 4\n",
        " \n",
        "# Addition of numbers\n",
        "add = a + b\n",
        " \n",
        "# Subtraction of numbers\n",
        "sub = a - b\n",
        " \n",
        "# Multiplication of number\n",
        "mul = a * b\n",
        " \n",
        "# Division(float) of number\n",
        "div1 = a / b\n",
        " \n",
        "# Division(floor) of number\n",
        "div2 = a // b\n",
        " \n",
        "# Modulo of both number\n",
        "mod = a % b\n",
        " \n",
        "# Power\n",
        "p = a ** b\n",
        " \n",
        "# print results\n",
        "print(add)\n",
        "print(sub)\n",
        "print(mul)\n",
        "print(div1)\n",
        "print(div2)\n",
        "print(mod)\n",
        "print(p)"
      ],
      "metadata": {
        "colab": {
          "base_uri": "https://localhost:8080/"
        },
        "id": "qyYXBDv-vAZv",
        "outputId": "cf87fe7e-5a6e-45e6-a28b-e9d5fde67850"
      },
      "execution_count": null,
      "outputs": [
        {
          "output_type": "stream",
          "name": "stdout",
          "text": [
            "13\n",
            "5\n",
            "36\n",
            "2.25\n",
            "2\n",
            "1\n",
            "6561\n"
          ]
        }
      ]
    },
    {
      "cell_type": "markdown",
      "source": [
        "## Comparison Operators"
      ],
      "metadata": {
        "id": "DDdokbp6x9f4"
      }
    },
    {
      "cell_type": "code",
      "source": [
        "# Examples of Relational Operators\n",
        "a = 13\n",
        "b = 33\n",
        " \n",
        "# a > b is False\n",
        "print(a > b)\n",
        " \n",
        "# a < b is True\n",
        "print(a < b)\n",
        " \n",
        "# a == b is False\n",
        "print(a == b)\n",
        " \n",
        "# a != b is True\n",
        "print(a != b)\n",
        " \n",
        "# a >= b is False\n",
        "print(a >= b)\n",
        " \n",
        "# a <= b is True\n",
        "print(a <= b)"
      ],
      "metadata": {
        "colab": {
          "base_uri": "https://localhost:8080/"
        },
        "id": "G2lu3LU1x7RL",
        "outputId": "104d6e31-c02b-4201-ee11-bd54d3d7a0fc"
      },
      "execution_count": null,
      "outputs": [
        {
          "output_type": "stream",
          "name": "stdout",
          "text": [
            "False\n",
            "True\n",
            "False\n",
            "True\n",
            "False\n",
            "True\n"
          ]
        }
      ]
    },
    {
      "cell_type": "markdown",
      "source": [
        "## Logical Operators"
      ],
      "metadata": {
        "id": "t9WEqSdRyGDE"
      }
    },
    {
      "cell_type": "code",
      "source": [
        "# Examples of Logical Operator\n",
        "a = True\n",
        "b = False\n",
        " \n",
        "# Print a and b is False\n",
        "print(a and b)\n",
        " \n",
        "# Print a or b is True\n",
        "print(a or b)\n",
        " \n",
        "# Print not a is False\n",
        "print(not a)"
      ],
      "metadata": {
        "colab": {
          "base_uri": "https://localhost:8080/"
        },
        "id": "2h7q0cQ7yFR0",
        "outputId": "678d762f-827b-4ada-96b6-bb252d8a62ab"
      },
      "execution_count": null,
      "outputs": [
        {
          "output_type": "stream",
          "name": "stdout",
          "text": [
            "False\n",
            "True\n",
            "False\n"
          ]
        }
      ]
    },
    {
      "cell_type": "markdown",
      "source": [
        "## Bitwise Operators"
      ],
      "metadata": {
        "id": "mgWGjxWJyNVY"
      }
    },
    {
      "cell_type": "code",
      "source": [
        "# Examples of Bitwise operators\n",
        "a = 10\n",
        "b = 4\n",
        " \n",
        "# Print bitwise AND operation\n",
        "print(a & b)\n",
        " \n",
        "# Print bitwise OR operation\n",
        "print(a | b)\n",
        " \n",
        "# Print bitwise NOT operation\n",
        "print(~a)\n",
        " \n",
        "# print bitwise XOR operation\n",
        "print(a ^ b)\n",
        " \n",
        "# print bitwise right shift operation\n",
        "print(a >> 2)\n",
        " \n",
        "# print bitwise left shift operation\n",
        "print(a << 2)"
      ],
      "metadata": {
        "colab": {
          "base_uri": "https://localhost:8080/"
        },
        "id": "BXJ2nYCCyMky",
        "outputId": "181cc655-ed00-4015-9561-71150d781a4f"
      },
      "execution_count": null,
      "outputs": [
        {
          "output_type": "stream",
          "name": "stdout",
          "text": [
            "0\n",
            "14\n",
            "-11\n",
            "14\n",
            "2\n",
            "40\n"
          ]
        }
      ]
    },
    {
      "cell_type": "markdown",
      "source": [
        "## Assignment Operators "
      ],
      "metadata": {
        "id": "5z9m4_ZIyTdK"
      }
    },
    {
      "cell_type": "code",
      "source": [
        "# Examples of Assignment Operators\n",
        "a = 10\n",
        "\n",
        "# Assign value\n",
        "b = a\n",
        "print(b)\n",
        "\n",
        "# Add and assign value\n",
        "b += a\n",
        "print(b)\n",
        "\n",
        "# Subtract and assign value\n",
        "b -= a\n",
        "print(b)\n",
        "\n",
        "# multiply and assign\n",
        "b *= a\n",
        "print(b)\n",
        "\n",
        "# bitwise lishift operator\n",
        "b <<= a\n",
        "print(b)"
      ],
      "metadata": {
        "colab": {
          "base_uri": "https://localhost:8080/"
        },
        "id": "6T1L2MyKySCu",
        "outputId": "3c9dedda-92c3-49cf-d6a7-9e2c21cac337"
      },
      "execution_count": null,
      "outputs": [
        {
          "output_type": "stream",
          "name": "stdout",
          "text": [
            "10\n",
            "20\n",
            "10\n",
            "100\n",
            "102400\n"
          ]
        }
      ]
    },
    {
      "cell_type": "markdown",
      "source": [
        "## Identity Operators"
      ],
      "metadata": {
        "id": "szPuR_Xrya97"
      }
    },
    {
      "cell_type": "code",
      "source": [
        "a = 10\n",
        "b = 20\n",
        "c = a\n",
        "\n",
        "print(a is not b)\n",
        "print(a is c)"
      ],
      "metadata": {
        "colab": {
          "base_uri": "https://localhost:8080/"
        },
        "id": "73v9a194yYsl",
        "outputId": "e64a35c2-0b25-4fbf-b87d-b4f16016a2dc"
      },
      "execution_count": null,
      "outputs": [
        {
          "output_type": "stream",
          "name": "stdout",
          "text": [
            "True\n",
            "True\n"
          ]
        }
      ]
    },
    {
      "cell_type": "markdown",
      "source": [
        "## Membership Operators"
      ],
      "metadata": {
        "id": "XFaPgHDMyfCK"
      }
    },
    {
      "cell_type": "code",
      "source": [
        "# Python program to illustrate\n",
        "# not 'in' operator\n",
        "x = 24\n",
        "y = 20\n",
        "list = [10, 20, 30, 40, 50]\n",
        "\n",
        "if (x not in list):\n",
        "\tprint(\"x is NOT present in given list\")\n",
        "else:\n",
        "\tprint(\"x is present in given list\")\n",
        "\n",
        "if (y in list):\n",
        "\tprint(\"y is present in given list\")\n",
        "else:\n",
        "\tprint(\"y is NOT present in given list\")"
      ],
      "metadata": {
        "colab": {
          "base_uri": "https://localhost:8080/"
        },
        "id": "tPxhodToyeQO",
        "outputId": "bb9af5b1-88b5-45d2-96ea-2651bab4edd4"
      },
      "execution_count": null,
      "outputs": [
        {
          "output_type": "stream",
          "name": "stdout",
          "text": [
            "x is NOT present in given list\n",
            "y is present in given list\n"
          ]
        }
      ]
    },
    {
      "cell_type": "markdown",
      "source": [
        "# Input/Output"
      ],
      "metadata": {
        "id": "PmQLPwG7ykng"
      }
    },
    {
      "cell_type": "code",
      "source": [
        "# Program to check input\n",
        "# type in Python\n",
        "\n",
        "num = input (\"Enter number :\")\n",
        "print(num)\n",
        "name1 = input(\"Enter name : \")\n",
        "print(name1)\n",
        "\n",
        "# Printing type of input value\n",
        "print (\"type of number\", type(num))\n",
        "print (\"type of name\", type(name1))"
      ],
      "metadata": {
        "colab": {
          "base_uri": "https://localhost:8080/"
        },
        "id": "BRRzv4HXyjJh",
        "outputId": "fb46a90b-c954-486e-eccc-bc60c51b4f7b"
      },
      "execution_count": null,
      "outputs": [
        {
          "output_type": "stream",
          "name": "stdout",
          "text": [
            "Enter number :123\n",
            "123\n",
            "Enter name : Ze World\n",
            "Ze World\n",
            "type of number <class 'str'>\n",
            "type of name <class 'str'>\n"
          ]
        }
      ]
    },
    {
      "cell_type": "markdown",
      "source": [
        "# Control Flow"
      ],
      "metadata": {
        "id": "8akEHY-LzQJl"
      }
    },
    {
      "cell_type": "markdown",
      "source": [
        "## Conditionals"
      ],
      "metadata": {
        "id": "TXxoULvMzXIw"
      }
    },
    {
      "cell_type": "code",
      "source": [
        "i = 20\n",
        "if (i == 10):\n",
        "    print(\"i is 10\")\n",
        "elif (i == 15):\n",
        "    print(\"i is 15\")\n",
        "elif (i == 20):\n",
        "    print(\"i is 20\")\n",
        "else:\n",
        "    print(\"i is not present\")"
      ],
      "metadata": {
        "id": "4iWdEwRczHCu",
        "colab": {
          "base_uri": "https://localhost:8080/"
        },
        "outputId": "003282b4-8ae3-4f21-8df4-d58a7a40bebe"
      },
      "execution_count": null,
      "outputs": [
        {
          "output_type": "stream",
          "name": "stdout",
          "text": [
            "i is 20\n"
          ]
        }
      ]
    },
    {
      "cell_type": "markdown",
      "source": [
        "## Loops"
      ],
      "metadata": {
        "id": "wyoFtjge9E1x"
      }
    },
    {
      "cell_type": "code",
      "source": [
        "# For loop\n",
        "list1= [1, 2, 3]\n",
        "\n",
        "for i in list1:\n",
        "    print(i)\n",
        "\n",
        "print()    \n",
        "\n",
        "# While\n",
        "idx= 0\n",
        "while(idx!=len(list1)):\n",
        "    print(list1[idx])\n",
        "    idx+=1\n",
        "    \n",
        "print()\n",
        "    \n",
        "# List comprehension\n",
        "print('\\n'.join([str(i) for i in list1]))"
      ],
      "metadata": {
        "colab": {
          "base_uri": "https://localhost:8080/"
        },
        "id": "7WB0UQP49ETn",
        "outputId": "fc7dadfd-766e-40d1-a2da-b7c7e6f83eea"
      },
      "execution_count": null,
      "outputs": [
        {
          "output_type": "stream",
          "name": "stdout",
          "text": [
            "1\n",
            "2\n",
            "3\n",
            "\n",
            "1\n",
            "2\n",
            "3\n",
            "\n",
            "1\n",
            "2\n",
            "3\n"
          ]
        }
      ]
    },
    {
      "cell_type": "markdown",
      "source": [
        "# Functions"
      ],
      "metadata": {
        "id": "MoZJF4Xa9YJi"
      }
    },
    {
      "cell_type": "markdown",
      "source": [
        "Python Functions is a block of related statements designed to perform a computational, logical, or evaluative task."
      ],
      "metadata": {
        "id": "3OMWciYo9eYb"
      }
    },
    {
      "cell_type": "code",
      "source": [
        "def square(x):\n",
        "  return x ** 2\n",
        "\n",
        "def multiply(a, b):\n",
        "  return a * b\n",
        "\n",
        "# Functions can be composed.\n",
        "print(square(multiply(3, 2)))\n",
        "\n",
        "# To improve code readability, it is sometimes useful to explicitly name the arguments\n",
        "print(square(multiply(a=5, b=4)))"
      ],
      "metadata": {
        "colab": {
          "base_uri": "https://localhost:8080/"
        },
        "id": "YWGf7gWt9U9F",
        "outputId": "6e6b3831-8797-4474-b324-b3bf8069f6f9"
      },
      "execution_count": null,
      "outputs": [
        {
          "output_type": "stream",
          "name": "stdout",
          "text": [
            "36\n",
            "400\n"
          ]
        }
      ]
    }
  ]
}